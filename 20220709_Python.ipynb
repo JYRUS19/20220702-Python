{
  "nbformat": 4,
  "nbformat_minor": 0,
  "metadata": {
    "colab": {
      "name": "20220709-Python.ipynb",
      "provenance": [],
      "authorship_tag": "ABX9TyMak6A6YPPQ0gGUvY6+uunc",
      "include_colab_link": true
    },
    "kernelspec": {
      "name": "python3",
      "display_name": "Python 3"
    },
    "language_info": {
      "name": "python"
    }
  },
  "cells": [
    {
      "cell_type": "markdown",
      "metadata": {
        "id": "view-in-github",
        "colab_type": "text"
      },
      "source": [
        "<a href=\"https://colab.research.google.com/github/JYRUS19/20220702-Python/blob/main/20220709_Python.ipynb\" target=\"_parent\"><img src=\"https://colab.research.google.com/assets/colab-badge.svg\" alt=\"Open In Colab\"/></a>"
      ]
    },
    {
      "cell_type": "markdown",
      "source": [
        "# 20220709"
      ],
      "metadata": {
        "id": "Kgwx2ivajLE3"
      }
    },
    {
      "cell_type": "markdown",
      "source": [
        "## 初學者需要知道的概念\n",
        "* 資料型態\n",
        "  * int ==>整數 (0, 1, 2, ...)\n",
        "  * float ==> 浮點數 (3.14, 1.1, ...)\n",
        "  * bool ==> 布林變數 (True, False)\n",
        "  * str ==> 字串 (\"dog\", 'cat',...)\n",
        "* 容器型別\n",
        "  * list ==>串列[ ]\n",
        "  * tuple ==>元組( )\n",
        "  * dict ==>字典{ }\n",
        "  * set ==>集合{ }\n",
        "* 基礎語法\n",
        "  * loops ==>迴圈\n",
        "  * functions ==>函式\n",
        "  * if statements ==>條件式\n",
        "  * exception handling ==>例外處理"
      ],
      "metadata": {
        "id": "q7gDTAQ0gZb2"
      }
    },
    {
      "cell_type": "markdown",
      "source": [
        "# loops: for, while\n",
        "\n",
        "### 基本語法 \n",
        "\n",
        "```python\n",
        "for 變數 in 資料結構:\n",
        "  程式區塊(裡面可以使用上面的變數)\n",
        "```"
      ],
      "metadata": {
        "id": "9MI1bNWTmax9"
      }
    },
    {
      "cell_type": "code",
      "source": [
        "for i in range(3):\n",
        "  print(\"程式區塊開始\")\n",
        "  print(i)\n",
        "  print(\"程式區塊結束\")"
      ],
      "metadata": {
        "colab": {
          "base_uri": "https://localhost:8080/"
        },
        "id": "3NLaMl-cnOq8",
        "outputId": "cd84ae22-a750-4ee7-adae-e5369c430b64"
      },
      "execution_count": null,
      "outputs": [
        {
          "output_type": "stream",
          "name": "stdout",
          "text": [
            "程式區塊開始\n",
            "0\n",
            "程式區塊結束\n",
            "程式區塊開始\n",
            "1\n",
            "程式區塊結束\n",
            "程式區塊開始\n",
            "2\n",
            "程式區塊結束\n"
          ]
        }
      ]
    },
    {
      "cell_type": "code",
      "source": [
        "for i in range(3):\n",
        "print(\"程式區塊開始\")\n",
        "print(i)\n",
        "print(\"程式區塊結束\")"
      ],
      "metadata": {
        "colab": {
          "base_uri": "https://localhost:8080/",
          "height": 132
        },
        "id": "MySNiHCSpRjY",
        "outputId": "8df0d60d-bd15-4846-a77b-7e20343c548b"
      },
      "execution_count": null,
      "outputs": [
        {
          "output_type": "error",
          "ename": "IndentationError",
          "evalue": "ignored",
          "traceback": [
            "\u001b[0;36m  File \u001b[0;32m\"<ipython-input-10-9e4012335ee3>\"\u001b[0;36m, line \u001b[0;32m2\u001b[0m\n\u001b[0;31m    print(\"程式區塊開始\")\u001b[0m\n\u001b[0m        ^\u001b[0m\n\u001b[0;31mIndentationError\u001b[0m\u001b[0;31m:\u001b[0m expected an indented block\n"
          ]
        }
      ]
    },
    {
      "cell_type": "markdown",
      "source": [
        "# while loops\n",
        "\n",
        "### 基本語法\n",
        " \n",
        "```python\n",
        "while 條件式:\n",
        "  程式區塊\n",
        "```"
      ],
      "metadata": {
        "id": "URplbFb9oS5k"
      }
    },
    {
      "cell_type": "code",
      "source": [
        "x = 0\n",
        "while x < 10:\n",
        "  print(x)\n",
        "  x = x + 1"
      ],
      "metadata": {
        "colab": {
          "base_uri": "https://localhost:8080/"
        },
        "id": "3OqDH6nnpcL1",
        "outputId": "5b8448f0-e524-4495-d86e-7b29e4c6919f"
      },
      "execution_count": null,
      "outputs": [
        {
          "output_type": "stream",
          "name": "stdout",
          "text": [
            "0\n",
            "1\n",
            "2\n",
            "3\n",
            "4\n",
            "5\n",
            "6\n",
            "7\n",
            "8\n",
            "9\n"
          ]
        }
      ]
    },
    {
      "cell_type": "markdown",
      "source": [
        "# 寫一個九九乘法表\n",
        "  巢狀迴圈：nested loops\n",
        "\n",
        "可以用 for 迴圈或 while 迴圈做做看！"
      ],
      "metadata": {
        "id": "9JLRr4T8pyMK"
      }
    },
    {
      "cell_type": "code",
      "source": [
        "for i in range(5):\n",
        "  print(i)"
      ],
      "metadata": {
        "colab": {
          "base_uri": "https://localhost:8080/"
        },
        "id": "WUKqKaEhq2At",
        "outputId": "95960431-74eb-456c-9853-1e11d1e4c090"
      },
      "execution_count": null,
      "outputs": [
        {
          "output_type": "stream",
          "name": "stdout",
          "text": [
            "0\n",
            "1\n",
            "2\n",
            "3\n",
            "4\n"
          ]
        }
      ]
    },
    {
      "cell_type": "code",
      "source": [
        "list(range(5))"
      ],
      "metadata": {
        "colab": {
          "base_uri": "https://localhost:8080/"
        },
        "id": "oB9hubCzrEON",
        "outputId": "ca59a691-af73-4594-cd1a-f29c0ec3d4af"
      },
      "execution_count": null,
      "outputs": [
        {
          "output_type": "execute_result",
          "data": {
            "text/plain": [
              "[0, 1, 2, 3, 4]"
            ]
          },
          "metadata": {},
          "execution_count": 13
        }
      ]
    },
    {
      "cell_type": "code",
      "source": [
        "list(range(2, 10))"
      ],
      "metadata": {
        "colab": {
          "base_uri": "https://localhost:8080/"
        },
        "id": "y7xGQbkrrGku",
        "outputId": "6184bbf7-291e-458a-cc85-9b87e5974906"
      },
      "execution_count": null,
      "outputs": [
        {
          "output_type": "execute_result",
          "data": {
            "text/plain": [
              "[2, 3, 4, 5, 6, 7, 8, 9]"
            ]
          },
          "metadata": {},
          "execution_count": 14
        }
      ]
    },
    {
      "cell_type": "code",
      "source": [
        "for i in range(2, 10):\n",
        "  print(i)"
      ],
      "metadata": {
        "colab": {
          "base_uri": "https://localhost:8080/"
        },
        "id": "cc6D_1vRrJX-",
        "outputId": "45845087-5dd0-49bc-b9b1-8754af97b50a"
      },
      "execution_count": null,
      "outputs": [
        {
          "output_type": "stream",
          "name": "stdout",
          "text": [
            "2\n",
            "3\n",
            "4\n",
            "5\n",
            "6\n",
            "7\n",
            "8\n",
            "9\n"
          ]
        }
      ]
    },
    {
      "cell_type": "code",
      "source": [
        "# hint\n",
        "for i in range(2, 10):\n",
        "  for j in range(2, 10):\n",
        "    print(i, \"x\", j)"
      ],
      "metadata": {
        "colab": {
          "base_uri": "https://localhost:8080/"
        },
        "id": "_vYgpdTXrMWm",
        "outputId": "30860416-4c35-45d3-8588-68fe0df44652"
      },
      "execution_count": null,
      "outputs": [
        {
          "output_type": "stream",
          "name": "stdout",
          "text": [
            "2 x 2\n",
            "2 x 3\n",
            "2 x 4\n",
            "2 x 5\n",
            "2 x 6\n",
            "2 x 7\n",
            "2 x 8\n",
            "2 x 9\n",
            "3 x 2\n",
            "3 x 3\n",
            "3 x 4\n",
            "3 x 5\n",
            "3 x 6\n",
            "3 x 7\n",
            "3 x 8\n",
            "3 x 9\n",
            "4 x 2\n",
            "4 x 3\n",
            "4 x 4\n",
            "4 x 5\n",
            "4 x 6\n",
            "4 x 7\n",
            "4 x 8\n",
            "4 x 9\n",
            "5 x 2\n",
            "5 x 3\n",
            "5 x 4\n",
            "5 x 5\n",
            "5 x 6\n",
            "5 x 7\n",
            "5 x 8\n",
            "5 x 9\n",
            "6 x 2\n",
            "6 x 3\n",
            "6 x 4\n",
            "6 x 5\n",
            "6 x 6\n",
            "6 x 7\n",
            "6 x 8\n",
            "6 x 9\n",
            "7 x 2\n",
            "7 x 3\n",
            "7 x 4\n",
            "7 x 5\n",
            "7 x 6\n",
            "7 x 7\n",
            "7 x 8\n",
            "7 x 9\n",
            "8 x 2\n",
            "8 x 3\n",
            "8 x 4\n",
            "8 x 5\n",
            "8 x 6\n",
            "8 x 7\n",
            "8 x 8\n",
            "8 x 9\n",
            "9 x 2\n",
            "9 x 3\n",
            "9 x 4\n",
            "9 x 5\n",
            "9 x 6\n",
            "9 x 7\n",
            "9 x 8\n",
            "9 x 9\n"
          ]
        }
      ]
    },
    {
      "cell_type": "code",
      "source": [
        "# hint\n",
        "for i in range(2, 10):\n",
        "  for j in range(2, 10):\n",
        "    print(i, \"x\", j, \"=\", i*j )\n"
      ],
      "metadata": {
        "colab": {
          "base_uri": "https://localhost:8080/"
        },
        "id": "WeZ6RPEwrM3Z",
        "outputId": "dca54a6b-8bd0-43a2-f6cd-a000218fb96a"
      },
      "execution_count": null,
      "outputs": [
        {
          "output_type": "stream",
          "name": "stdout",
          "text": [
            "2 x 2 = 4\n",
            "2 x 3 = 6\n",
            "2 x 4 = 8\n",
            "2 x 5 = 10\n",
            "2 x 6 = 12\n",
            "2 x 7 = 14\n",
            "2 x 8 = 16\n",
            "2 x 9 = 18\n",
            "3 x 2 = 6\n",
            "3 x 3 = 9\n",
            "3 x 4 = 12\n",
            "3 x 5 = 15\n",
            "3 x 6 = 18\n",
            "3 x 7 = 21\n",
            "3 x 8 = 24\n",
            "3 x 9 = 27\n",
            "4 x 2 = 8\n",
            "4 x 3 = 12\n",
            "4 x 4 = 16\n",
            "4 x 5 = 20\n",
            "4 x 6 = 24\n",
            "4 x 7 = 28\n",
            "4 x 8 = 32\n",
            "4 x 9 = 36\n",
            "5 x 2 = 10\n",
            "5 x 3 = 15\n",
            "5 x 4 = 20\n",
            "5 x 5 = 25\n",
            "5 x 6 = 30\n",
            "5 x 7 = 35\n",
            "5 x 8 = 40\n",
            "5 x 9 = 45\n",
            "6 x 2 = 12\n",
            "6 x 3 = 18\n",
            "6 x 4 = 24\n",
            "6 x 5 = 30\n",
            "6 x 6 = 36\n",
            "6 x 7 = 42\n",
            "6 x 8 = 48\n",
            "6 x 9 = 54\n",
            "7 x 2 = 14\n",
            "7 x 3 = 21\n",
            "7 x 4 = 28\n",
            "7 x 5 = 35\n",
            "7 x 6 = 42\n",
            "7 x 7 = 49\n",
            "7 x 8 = 56\n",
            "7 x 9 = 63\n",
            "8 x 2 = 16\n",
            "8 x 3 = 24\n",
            "8 x 4 = 32\n",
            "8 x 5 = 40\n",
            "8 x 6 = 48\n",
            "8 x 7 = 56\n",
            "8 x 8 = 64\n",
            "8 x 9 = 72\n",
            "9 x 2 = 18\n",
            "9 x 3 = 27\n",
            "9 x 4 = 36\n",
            "9 x 5 = 45\n",
            "9 x 6 = 54\n",
            "9 x 7 = 63\n",
            "9 x 8 = 72\n",
            "9 x 9 = 81\n"
          ]
        }
      ]
    },
    {
      "cell_type": "markdown",
      "source": [
        "# 方法二"
      ],
      "metadata": {
        "id": "P6dySWGvt-ax"
      }
    },
    {
      "cell_type": "markdown",
      "source": [
        "我想印出九九乘法表(像上面一樣)"
      ],
      "metadata": {
        "id": "3YXn974nuD9Y"
      }
    },
    {
      "cell_type": "code",
      "source": [
        "i = 2 \n",
        "j = 2\n",
        "while i < 10:\n",
        "  while j < 10:\n",
        "    print(i, \"x\", j, \"=\", i*j)\n",
        "    j = j + 1\n",
        "  i = i + 1 "
      ],
      "metadata": {
        "colab": {
          "base_uri": "https://localhost:8080/"
        },
        "id": "JKbCyOxusqpb",
        "outputId": "06858bda-4a49-4e22-a9fa-d2ce0f65a835"
      },
      "execution_count": null,
      "outputs": [
        {
          "output_type": "stream",
          "name": "stdout",
          "text": [
            "2 x 2 = 4\n",
            "2 x 3 = 6\n",
            "2 x 4 = 8\n",
            "2 x 5 = 10\n",
            "2 x 6 = 12\n",
            "2 x 7 = 14\n",
            "2 x 8 = 16\n",
            "2 x 9 = 18\n"
          ]
        }
      ]
    },
    {
      "cell_type": "code",
      "source": [
        "i = 2\n",
        "while i < 10:\n",
        "  j = 2\n",
        "  while j < 10:\n",
        "    print(i, \"x\", j, \"=\", i*j)\n",
        "    j = j + 1\n",
        "  i = i + 1"
      ],
      "metadata": {
        "colab": {
          "base_uri": "https://localhost:8080/"
        },
        "id": "9C8tNZ7s6C5O",
        "outputId": "d0d2ee2b-fc23-41ed-d98d-edb77683fa9d"
      },
      "execution_count": null,
      "outputs": [
        {
          "output_type": "stream",
          "name": "stdout",
          "text": [
            "2 x 2 = 4\n",
            "2 x 3 = 6\n",
            "2 x 4 = 8\n",
            "2 x 5 = 10\n",
            "2 x 6 = 12\n",
            "2 x 7 = 14\n",
            "2 x 8 = 16\n",
            "2 x 9 = 18\n",
            "3 x 2 = 6\n",
            "3 x 3 = 9\n",
            "3 x 4 = 12\n",
            "3 x 5 = 15\n",
            "3 x 6 = 18\n",
            "3 x 7 = 21\n",
            "3 x 8 = 24\n",
            "3 x 9 = 27\n",
            "4 x 2 = 8\n",
            "4 x 3 = 12\n",
            "4 x 4 = 16\n",
            "4 x 5 = 20\n",
            "4 x 6 = 24\n",
            "4 x 7 = 28\n",
            "4 x 8 = 32\n",
            "4 x 9 = 36\n",
            "5 x 2 = 10\n",
            "5 x 3 = 15\n",
            "5 x 4 = 20\n",
            "5 x 5 = 25\n",
            "5 x 6 = 30\n",
            "5 x 7 = 35\n",
            "5 x 8 = 40\n",
            "5 x 9 = 45\n",
            "6 x 2 = 12\n",
            "6 x 3 = 18\n",
            "6 x 4 = 24\n",
            "6 x 5 = 30\n",
            "6 x 6 = 36\n",
            "6 x 7 = 42\n",
            "6 x 8 = 48\n",
            "6 x 9 = 54\n",
            "7 x 2 = 14\n",
            "7 x 3 = 21\n",
            "7 x 4 = 28\n",
            "7 x 5 = 35\n",
            "7 x 6 = 42\n",
            "7 x 7 = 49\n",
            "7 x 8 = 56\n",
            "7 x 9 = 63\n",
            "8 x 2 = 16\n",
            "8 x 3 = 24\n",
            "8 x 4 = 32\n",
            "8 x 5 = 40\n",
            "8 x 6 = 48\n",
            "8 x 7 = 56\n",
            "8 x 8 = 64\n",
            "8 x 9 = 72\n",
            "9 x 2 = 18\n",
            "9 x 3 = 27\n",
            "9 x 4 = 36\n",
            "9 x 5 = 45\n",
            "9 x 6 = 54\n",
            "9 x 7 = 63\n",
            "9 x 8 = 72\n",
            "9 x 9 = 81\n"
          ]
        }
      ]
    },
    {
      "cell_type": "markdown",
      "source": [
        "# 條件式 (if statements)\n",
        "\n",
        "基本語法\n",
        "\n",
        "語法一:\n",
        "\n",
        "使用條件式來決定程式區塊是否被執行。\n",
        "\n",
        "```python\n",
        "if 條件式:\n",
        "  程式區塊\n",
        "```\n",
        "\n"
      ],
      "metadata": {
        "id": "XkB9cNfzuXHT"
      }
    },
    {
      "cell_type": "code",
      "source": [
        "a = 3\n",
        "b = 4\n",
        "\n",
        "if a > b:\n",
        "  print(\"a > b\")"
      ],
      "metadata": {
        "id": "DMqgDe3bvwnD"
      },
      "execution_count": null,
      "outputs": []
    },
    {
      "cell_type": "markdown",
      "source": [
        "語法二:\n",
        "\n",
        "使用條件式來決定執行程式區塊1還是程式區塊2。\n",
        "\n",
        "```python\n",
        "if 條件式:\n",
        "  程式區塊1\n",
        "else:\n",
        "  程式區塊2\n",
        "```\n"
      ],
      "metadata": {
        "id": "aerrdszryDZT"
      }
    },
    {
      "cell_type": "code",
      "source": [
        "a = 3\n",
        "b = 2\n",
        "\n",
        "if a > b:\n",
        "  print(\"a > b\")\n",
        "else:\n",
        "  print(\"a <= b\")"
      ],
      "metadata": {
        "colab": {
          "base_uri": "https://localhost:8080/"
        },
        "id": "r2pD0tTKwrRk",
        "outputId": "a467e977-9335-43b2-bb0a-b734056c3323"
      },
      "execution_count": null,
      "outputs": [
        {
          "output_type": "stream",
          "name": "stdout",
          "text": [
            "a > b\n"
          ]
        }
      ]
    },
    {
      "cell_type": "markdown",
      "source": [
        "語法三:\n",
        "\n",
        "使用條件式1跟條件式2來決定執行程式區塊1程式區塊2。\n",
        "\n",
        "```python\n",
        "if 條件式1:\n",
        "  程式區塊1\n",
        "elif 條件式2:\n",
        "  程式區塊2\n",
        "else:\n",
        "  程式區塊3\n",
        "```"
      ],
      "metadata": {
        "id": "JvsqbCemyGcY"
      }
    },
    {
      "cell_type": "code",
      "source": [
        "a = 2\n",
        "b = 2\n",
        "\n",
        "if a > b:\n",
        "  print(\"a > b\")\n",
        "elif a < b:\n",
        "  print(\"a < b\")\n",
        "else:\n",
        "  print(\"a = b\")"
      ],
      "metadata": {
        "colab": {
          "base_uri": "https://localhost:8080/"
        },
        "id": "HYX5jbWwxPJu",
        "outputId": "835fd76d-5202-4a60-e7f3-995621d51ec2"
      },
      "execution_count": null,
      "outputs": [
        {
          "output_type": "stream",
          "name": "stdout",
          "text": [
            "a = b\n"
          ]
        }
      ]
    },
    {
      "cell_type": "code",
      "source": [
        "a = 3\n",
        "b = 2"
      ],
      "metadata": {
        "id": "mzfNqx4x1OkR"
      },
      "execution_count": null,
      "outputs": []
    },
    {
      "cell_type": "code",
      "source": [
        "a == b"
      ],
      "metadata": {
        "colab": {
          "base_uri": "https://localhost:8080/"
        },
        "id": "VVk67KXo1Qkx",
        "outputId": "a3a0d316-4bf3-4c9c-be9c-1387cb83b522"
      },
      "execution_count": null,
      "outputs": [
        {
          "output_type": "execute_result",
          "data": {
            "text/plain": [
              "False"
            ]
          },
          "metadata": {},
          "execution_count": 40
        }
      ]
    },
    {
      "cell_type": "markdown",
      "source": [
        "## 練習\n",
        "\n",
        "請計算 bmi 並判斷體衛。\n",
        "\n",
        "$$ bmi = \\frac{體重(公斤)}{身高(公尺)^2} $$\n",
        "\n",
        "|條件|體位|\n",
        "|:-:|:-:|\n",
        "|bmi < 18 | 體重過重 |\n",
        "|18 <= bmi < 24 | 健康體位 |\n",
        "|bmi > 24 | 體重過重 |"
      ],
      "metadata": {
        "id": "ostj95ZsybXO"
      }
    },
    {
      "cell_type": "code",
      "source": [
        "weight = 80\n",
        "height = 1.83\n",
        "\n",
        "bmi = weight/(1.83**2)"
      ],
      "metadata": {
        "id": "O0loz7Hbz0ru"
      },
      "execution_count": null,
      "outputs": []
    },
    {
      "cell_type": "code",
      "source": [
        "bmi"
      ],
      "metadata": {
        "colab": {
          "base_uri": "https://localhost:8080/"
        },
        "id": "RToPp8Pp07PL",
        "outputId": "e20aa5a9-bb6c-4073-92d4-2889cd53be32"
      },
      "execution_count": null,
      "outputs": [
        {
          "output_type": "execute_result",
          "data": {
            "text/plain": [
              "23.888440980620498"
            ]
          },
          "metadata": {},
          "execution_count": 46
        }
      ]
    },
    {
      "cell_type": "code",
      "source": [
        "if bmi < 18:\n",
        "  print(\"體重過輕\")\n",
        "elif bmi > 24:\n",
        "  print(\"體位過重\")\n",
        "else:\n",
        "  print(\"健康體位\")"
      ],
      "metadata": {
        "colab": {
          "base_uri": "https://localhost:8080/"
        },
        "id": "JAq0V5ba19Iy",
        "outputId": "5c5a854b-ad78-4787-9aaa-0f23e179a1bd"
      },
      "execution_count": null,
      "outputs": [
        {
          "output_type": "stream",
          "name": "stdout",
          "text": [
            "健康體位\n"
          ]
        }
      ]
    },
    {
      "cell_type": "code",
      "source": [
        "def health(w, h):\n",
        "  bmi = w/(h**2)\n",
        "  if bmi < 18:\n",
        "    print(\"體重過輕\")\n",
        "  elif bmi > 24:\n",
        "    print(\"體位過重\")\n",
        "  else:\n",
        "    print(\"健康體位\")"
      ],
      "metadata": {
        "id": "h2mm8qUZ2sze"
      },
      "execution_count": null,
      "outputs": []
    },
    {
      "cell_type": "code",
      "source": [
        "health(80, 1.83)"
      ],
      "metadata": {
        "colab": {
          "base_uri": "https://localhost:8080/"
        },
        "id": "Hb7kBZ7k3HWL",
        "outputId": "10530b71-8cdb-44dd-bf25-b949b236d574"
      },
      "execution_count": null,
      "outputs": [
        {
          "output_type": "stream",
          "name": "stdout",
          "text": [
            "健康體位\n"
          ]
        }
      ]
    },
    {
      "cell_type": "code",
      "source": [
        "def health1(w, h):\n",
        "  bmi = w/(h**2)\n",
        "  if bmi < 18:\n",
        "    print(\"體重過輕\")\n",
        "  elif bmi > 24:\n",
        "    print(\"體重過重\")\n",
        "  else:\n",
        "    print(\"健康體位\")"
      ],
      "metadata": {
        "id": "sDELWHWp5jET"
      },
      "execution_count": null,
      "outputs": []
    },
    {
      "cell_type": "code",
      "source": [
        "def health2(w, h):\n",
        "  bmi = w/(h**2)\n",
        "  if bmi < 18:\n",
        "    return \"體重過輕\"\n",
        "  elif bmi > 24:\n",
        "    return \"體重過重\"\n",
        "  else:\n",
        "    return \"健康體位\""
      ],
      "metadata": {
        "id": "OscIVB_05QPa"
      },
      "execution_count": null,
      "outputs": []
    },
    {
      "cell_type": "code",
      "source": [
        "health2(80, 1.83)"
      ],
      "metadata": {
        "colab": {
          "base_uri": "https://localhost:8080/",
          "height": 35
        },
        "id": "qsW97pjJ5WTv",
        "outputId": "f6a57ac4-3f67-4ea0-e319-f2b05c45fbf3"
      },
      "execution_count": null,
      "outputs": [
        {
          "output_type": "execute_result",
          "data": {
            "text/plain": [
              "'健康體位'"
            ],
            "application/vnd.google.colaboratory.intrinsic+json": {
              "type": "string"
            }
          },
          "metadata": {},
          "execution_count": 59
        }
      ]
    },
    {
      "cell_type": "code",
      "source": [
        "x = health1(80, 1.83)\n",
        "y = health2(80, 1.83)"
      ],
      "metadata": {
        "colab": {
          "base_uri": "https://localhost:8080/"
        },
        "id": "7gY4KYgb5X1r",
        "outputId": "99a41179-3543-4040-fcaa-3bd6c7769d15"
      },
      "execution_count": null,
      "outputs": [
        {
          "output_type": "stream",
          "name": "stdout",
          "text": [
            "健康體位\n"
          ]
        }
      ]
    },
    {
      "cell_type": "code",
      "source": [
        "print(x)"
      ],
      "metadata": {
        "colab": {
          "base_uri": "https://localhost:8080/"
        },
        "id": "dFUBAqkV5n0j",
        "outputId": "8315c3d6-6ea8-451d-eac4-24ce78b58a88"
      },
      "execution_count": null,
      "outputs": [
        {
          "output_type": "stream",
          "name": "stdout",
          "text": [
            "None\n"
          ]
        }
      ]
    },
    {
      "cell_type": "code",
      "source": [
        "print(y)"
      ],
      "metadata": {
        "colab": {
          "base_uri": "https://localhost:8080/"
        },
        "id": "twJbv2SL5pbh",
        "outputId": "ebfc775a-cec8-47f4-a26c-a14a4905b168"
      },
      "execution_count": null,
      "outputs": [
        {
          "output_type": "stream",
          "name": "stdout",
          "text": [
            "健康體位\n"
          ]
        }
      ]
    },
    {
      "cell_type": "code",
      "source": [
        "# 用input 取得的資料型態為:str\n",
        "# 如果要做數值運算，需要轉型\n",
        "x = input(\"請輸入資料: \")"
      ],
      "metadata": {
        "colab": {
          "base_uri": "https://localhost:8080/"
        },
        "id": "NUAtD4gq51N6",
        "outputId": "191f4b7d-7e0c-4f4a-d933-298ae8074e57"
      },
      "execution_count": null,
      "outputs": [
        {
          "name": "stdout",
          "output_type": "stream",
          "text": [
            "請輸入資料: 123\n"
          ]
        }
      ]
    },
    {
      "cell_type": "code",
      "source": [
        "x"
      ],
      "metadata": {
        "colab": {
          "base_uri": "https://localhost:8080/",
          "height": 35
        },
        "id": "8r6kxL-N7p2t",
        "outputId": "c95a5b23-b579-4ea1-a215-f9c6ab8c89dc"
      },
      "execution_count": null,
      "outputs": [
        {
          "output_type": "execute_result",
          "data": {
            "text/plain": [
              "'123'"
            ],
            "application/vnd.google.colaboratory.intrinsic+json": {
              "type": "string"
            }
          },
          "metadata": {},
          "execution_count": 74
        }
      ]
    },
    {
      "cell_type": "code",
      "source": [
        "# 底下的float()是將str轉換成float\n",
        "w = input(\"請輸入體重(公斤): \")\n",
        "h = input(\"請輸入身高(公分: \")\n",
        "health2(float(w), float(h))"
      ],
      "metadata": {
        "colab": {
          "base_uri": "https://localhost:8080/",
          "height": 70
        },
        "id": "n4ekkbIv7rgG",
        "outputId": "41c53866-3a25-48ca-d8be-f4c7b72e406a"
      },
      "execution_count": null,
      "outputs": [
        {
          "name": "stdout",
          "output_type": "stream",
          "text": [
            "請輸入體重(公斤): 66\n",
            "請輸入身高(公分: 175\n"
          ]
        },
        {
          "output_type": "execute_result",
          "data": {
            "text/plain": [
              "'體重過輕'"
            ],
            "application/vnd.google.colaboratory.intrinsic+json": {
              "type": "string"
            }
          },
          "metadata": {},
          "execution_count": 76
        }
      ]
    },
    {
      "cell_type": "markdown",
      "source": [
        "# Gradio 使用簡介"
      ],
      "metadata": {
        "id": "ctBnRO8y_wS0"
      }
    },
    {
      "cell_type": "code",
      "source": [
        "! pip install gradio"
      ],
      "metadata": {
        "colab": {
          "base_uri": "https://localhost:8080/"
        },
        "id": "ZcibmIXT_4PP",
        "outputId": "9844f4c9-5f9c-4500-82b3-eb8fb1cd2ee7"
      },
      "execution_count": null,
      "outputs": [
        {
          "output_type": "stream",
          "name": "stdout",
          "text": [
            "Looking in indexes: https://pypi.org/simple, https://us-python.pkg.dev/colab-wheels/public/simple/\n",
            "Collecting gradio\n",
            "  Downloading gradio-3.0.24-py3-none-any.whl (5.1 MB)\n",
            "\u001b[K     |████████████████████████████████| 5.1 MB 5.4 MB/s \n",
            "\u001b[?25hRequirement already satisfied: numpy in /usr/local/lib/python3.7/dist-packages (from gradio) (1.21.6)\n",
            "Collecting aiohttp\n",
            "  Downloading aiohttp-3.8.1-cp37-cp37m-manylinux_2_5_x86_64.manylinux1_x86_64.manylinux_2_12_x86_64.manylinux2010_x86_64.whl (1.1 MB)\n",
            "\u001b[K     |████████████████████████████████| 1.1 MB 42.6 MB/s \n",
            "\u001b[?25hRequirement already satisfied: pandas in /usr/local/lib/python3.7/dist-packages (from gradio) (1.3.5)\n",
            "Collecting fastapi\n",
            "  Downloading fastapi-0.78.0-py3-none-any.whl (54 kB)\n",
            "\u001b[K     |████████████████████████████████| 54 kB 2.8 MB/s \n",
            "\u001b[?25hCollecting ffmpy\n",
            "  Downloading ffmpy-0.3.0.tar.gz (4.8 kB)\n",
            "Requirement already satisfied: pillow in /usr/local/lib/python3.7/dist-packages (from gradio) (7.1.2)\n",
            "Requirement already satisfied: Jinja2 in /usr/local/lib/python3.7/dist-packages (from gradio) (2.11.3)\n",
            "Collecting markdown-it-py[linkify,plugins]\n",
            "  Downloading markdown_it_py-2.1.0-py3-none-any.whl (84 kB)\n",
            "\u001b[K     |████████████████████████████████| 84 kB 3.2 MB/s \n",
            "\u001b[?25hCollecting pydub\n",
            "  Downloading pydub-0.25.1-py2.py3-none-any.whl (32 kB)\n",
            "Collecting fsspec\n",
            "  Downloading fsspec-2022.5.0-py3-none-any.whl (140 kB)\n",
            "\u001b[K     |████████████████████████████████| 140 kB 47.3 MB/s \n",
            "\u001b[?25hRequirement already satisfied: requests in /usr/local/lib/python3.7/dist-packages (from gradio) (2.23.0)\n",
            "Requirement already satisfied: matplotlib in /usr/local/lib/python3.7/dist-packages (from gradio) (3.2.2)\n",
            "Collecting orjson\n",
            "  Downloading orjson-3.7.7-cp37-cp37m-manylinux_2_17_x86_64.manylinux2014_x86_64.whl (272 kB)\n",
            "\u001b[K     |████████████████████████████████| 272 kB 44.6 MB/s \n",
            "\u001b[?25hRequirement already satisfied: pydantic in /usr/local/lib/python3.7/dist-packages (from gradio) (1.8.2)\n",
            "Collecting httpx\n",
            "  Downloading httpx-0.23.0-py3-none-any.whl (84 kB)\n",
            "\u001b[K     |████████████████████████████████| 84 kB 2.9 MB/s \n",
            "\u001b[?25hCollecting pycryptodome\n",
            "  Downloading pycryptodome-3.15.0-cp35-abi3-manylinux2010_x86_64.whl (2.3 MB)\n",
            "\u001b[K     |████████████████████████████████| 2.3 MB 41.6 MB/s \n",
            "\u001b[?25hCollecting python-multipart\n",
            "  Downloading python-multipart-0.0.5.tar.gz (32 kB)\n",
            "Collecting paramiko\n",
            "  Downloading paramiko-2.11.0-py2.py3-none-any.whl (212 kB)\n",
            "\u001b[K     |████████████████████████████████| 212 kB 52.0 MB/s \n",
            "\u001b[?25hCollecting uvicorn\n",
            "  Downloading uvicorn-0.18.2-py3-none-any.whl (57 kB)\n",
            "\u001b[K     |████████████████████████████████| 57 kB 5.0 MB/s \n",
            "\u001b[?25hCollecting analytics-python\n",
            "  Downloading analytics_python-1.4.0-py2.py3-none-any.whl (15 kB)\n",
            "Collecting multidict<7.0,>=4.5\n",
            "  Downloading multidict-6.0.2-cp37-cp37m-manylinux_2_17_x86_64.manylinux2014_x86_64.whl (94 kB)\n",
            "\u001b[K     |████████████████████████████████| 94 kB 3.7 MB/s \n",
            "\u001b[?25hRequirement already satisfied: charset-normalizer<3.0,>=2.0 in /usr/local/lib/python3.7/dist-packages (from aiohttp->gradio) (2.1.0)\n",
            "Collecting asynctest==0.13.0\n",
            "  Downloading asynctest-0.13.0-py3-none-any.whl (26 kB)\n",
            "Requirement already satisfied: attrs>=17.3.0 in /usr/local/lib/python3.7/dist-packages (from aiohttp->gradio) (21.4.0)\n",
            "Collecting yarl<2.0,>=1.0\n",
            "  Downloading yarl-1.7.2-cp37-cp37m-manylinux_2_5_x86_64.manylinux1_x86_64.manylinux_2_12_x86_64.manylinux2010_x86_64.whl (271 kB)\n",
            "\u001b[K     |████████████████████████████████| 271 kB 51.3 MB/s \n",
            "\u001b[?25hCollecting frozenlist>=1.1.1\n",
            "  Downloading frozenlist-1.3.0-cp37-cp37m-manylinux_2_5_x86_64.manylinux1_x86_64.manylinux_2_17_x86_64.manylinux2014_x86_64.whl (144 kB)\n",
            "\u001b[K     |████████████████████████████████| 144 kB 46.7 MB/s \n",
            "\u001b[?25hCollecting aiosignal>=1.1.2\n",
            "  Downloading aiosignal-1.2.0-py3-none-any.whl (8.2 kB)\n",
            "Collecting async-timeout<5.0,>=4.0.0a3\n",
            "  Downloading async_timeout-4.0.2-py3-none-any.whl (5.8 kB)\n",
            "Requirement already satisfied: typing-extensions>=3.7.4 in /usr/local/lib/python3.7/dist-packages (from aiohttp->gradio) (4.1.1)\n",
            "Requirement already satisfied: idna>=2.0 in /usr/local/lib/python3.7/dist-packages (from yarl<2.0,>=1.0->aiohttp->gradio) (2.10)\n",
            "Requirement already satisfied: six>=1.5 in /usr/local/lib/python3.7/dist-packages (from analytics-python->gradio) (1.15.0)\n",
            "Collecting monotonic>=1.5\n",
            "  Downloading monotonic-1.6-py2.py3-none-any.whl (8.2 kB)\n",
            "Requirement already satisfied: python-dateutil>2.1 in /usr/local/lib/python3.7/dist-packages (from analytics-python->gradio) (2.8.2)\n",
            "Collecting backoff==1.10.0\n",
            "  Downloading backoff-1.10.0-py2.py3-none-any.whl (31 kB)\n",
            "Requirement already satisfied: certifi>=2017.4.17 in /usr/local/lib/python3.7/dist-packages (from requests->gradio) (2022.6.15)\n",
            "Requirement already satisfied: chardet<4,>=3.0.2 in /usr/local/lib/python3.7/dist-packages (from requests->gradio) (3.0.4)\n",
            "Requirement already satisfied: urllib3!=1.25.0,!=1.25.1,<1.26,>=1.21.1 in /usr/local/lib/python3.7/dist-packages (from requests->gradio) (1.24.3)\n",
            "Collecting starlette==0.19.1\n",
            "  Downloading starlette-0.19.1-py3-none-any.whl (63 kB)\n",
            "\u001b[K     |████████████████████████████████| 63 kB 2.0 MB/s \n",
            "\u001b[?25hCollecting anyio<5,>=3.4.0\n",
            "  Downloading anyio-3.6.1-py3-none-any.whl (80 kB)\n",
            "\u001b[K     |████████████████████████████████| 80 kB 9.7 MB/s \n",
            "\u001b[?25hCollecting sniffio>=1.1\n",
            "  Downloading sniffio-1.2.0-py3-none-any.whl (10 kB)\n",
            "Collecting httpcore<0.16.0,>=0.15.0\n",
            "  Downloading httpcore-0.15.0-py3-none-any.whl (68 kB)\n",
            "\u001b[K     |████████████████████████████████| 68 kB 7.2 MB/s \n",
            "\u001b[?25hCollecting rfc3986[idna2008]<2,>=1.3\n",
            "  Downloading rfc3986-1.5.0-py2.py3-none-any.whl (31 kB)\n",
            "Collecting h11<0.13,>=0.11\n",
            "  Downloading h11-0.12.0-py3-none-any.whl (54 kB)\n",
            "\u001b[K     |████████████████████████████████| 54 kB 3.0 MB/s \n",
            "\u001b[?25hRequirement already satisfied: MarkupSafe>=0.23 in /usr/local/lib/python3.7/dist-packages (from Jinja2->gradio) (2.0.1)\n",
            "Collecting mdurl~=0.1\n",
            "  Downloading mdurl-0.1.1-py3-none-any.whl (10 kB)\n",
            "Collecting linkify-it-py~=1.0\n",
            "  Downloading linkify_it_py-1.0.3-py3-none-any.whl (19 kB)\n",
            "Collecting mdit-py-plugins\n",
            "  Downloading mdit_py_plugins-0.3.0-py3-none-any.whl (43 kB)\n",
            "\u001b[K     |████████████████████████████████| 43 kB 2.2 MB/s \n",
            "\u001b[?25hCollecting uc-micro-py\n",
            "  Downloading uc_micro_py-1.0.1-py3-none-any.whl (6.2 kB)\n",
            "Requirement already satisfied: pyparsing!=2.0.4,!=2.1.2,!=2.1.6,>=2.0.1 in /usr/local/lib/python3.7/dist-packages (from matplotlib->gradio) (3.0.9)\n",
            "Requirement already satisfied: kiwisolver>=1.0.1 in /usr/local/lib/python3.7/dist-packages (from matplotlib->gradio) (1.4.3)\n",
            "Requirement already satisfied: cycler>=0.10 in /usr/local/lib/python3.7/dist-packages (from matplotlib->gradio) (0.11.0)\n",
            "Requirement already satisfied: pytz>=2017.3 in /usr/local/lib/python3.7/dist-packages (from pandas->gradio) (2022.1)\n",
            "Collecting bcrypt>=3.1.3\n",
            "  Downloading bcrypt-3.2.2-cp36-abi3-manylinux_2_17_x86_64.manylinux2014_x86_64.manylinux_2_24_x86_64.whl (62 kB)\n",
            "\u001b[K     |████████████████████████████████| 62 kB 990 kB/s \n",
            "\u001b[?25hCollecting pynacl>=1.0.1\n",
            "  Downloading PyNaCl-1.5.0-cp36-abi3-manylinux_2_17_x86_64.manylinux2014_x86_64.manylinux_2_24_x86_64.whl (856 kB)\n",
            "\u001b[K     |████████████████████████████████| 856 kB 45.9 MB/s \n",
            "\u001b[?25hCollecting cryptography>=2.5\n",
            "  Downloading cryptography-37.0.4-cp36-abi3-manylinux_2_24_x86_64.whl (4.1 MB)\n",
            "\u001b[K     |████████████████████████████████| 4.1 MB 39.0 MB/s \n",
            "\u001b[?25hRequirement already satisfied: cffi>=1.1 in /usr/local/lib/python3.7/dist-packages (from bcrypt>=3.1.3->paramiko->gradio) (1.15.0)\n",
            "Requirement already satisfied: pycparser in /usr/local/lib/python3.7/dist-packages (from cffi>=1.1->bcrypt>=3.1.3->paramiko->gradio) (2.21)\n",
            "Requirement already satisfied: click>=7.0 in /usr/local/lib/python3.7/dist-packages (from uvicorn->gradio) (7.1.2)\n",
            "Building wheels for collected packages: ffmpy, python-multipart\n",
            "  Building wheel for ffmpy (setup.py) ... \u001b[?25l\u001b[?25hdone\n",
            "  Created wheel for ffmpy: filename=ffmpy-0.3.0-py3-none-any.whl size=4712 sha256=a4e735bce8a2d586ef9287e3348fb5985d13a1813cc9516b197a4d711ee93dfb\n",
            "  Stored in directory: /root/.cache/pip/wheels/13/e4/6c/e8059816e86796a597c6e6b0d4c880630f51a1fcfa0befd5e6\n",
            "  Building wheel for python-multipart (setup.py) ... \u001b[?25l\u001b[?25hdone\n",
            "  Created wheel for python-multipart: filename=python_multipart-0.0.5-py3-none-any.whl size=31678 sha256=0b2170df1b0fbff5f73620c8eb4c3bfec1fa10025ea5f43a763693f930f9be61\n",
            "  Stored in directory: /root/.cache/pip/wheels/2c/41/7c/bfd1c180534ffdcc0972f78c5758f89881602175d48a8bcd2c\n",
            "Successfully built ffmpy python-multipart\n",
            "Installing collected packages: sniffio, mdurl, uc-micro-py, rfc3986, multidict, markdown-it-py, h11, frozenlist, anyio, yarl, starlette, pynacl, monotonic, mdit-py-plugins, linkify-it-py, httpcore, cryptography, bcrypt, backoff, asynctest, async-timeout, aiosignal, uvicorn, python-multipart, pydub, pycryptodome, paramiko, orjson, httpx, fsspec, ffmpy, fastapi, analytics-python, aiohttp, gradio\n",
            "Successfully installed aiohttp-3.8.1 aiosignal-1.2.0 analytics-python-1.4.0 anyio-3.6.1 async-timeout-4.0.2 asynctest-0.13.0 backoff-1.10.0 bcrypt-3.2.2 cryptography-37.0.4 fastapi-0.78.0 ffmpy-0.3.0 frozenlist-1.3.0 fsspec-2022.5.0 gradio-3.0.24 h11-0.12.0 httpcore-0.15.0 httpx-0.23.0 linkify-it-py-1.0.3 markdown-it-py-2.1.0 mdit-py-plugins-0.3.0 mdurl-0.1.1 monotonic-1.6 multidict-6.0.2 orjson-3.7.7 paramiko-2.11.0 pycryptodome-3.15.0 pydub-0.25.1 pynacl-1.5.0 python-multipart-0.0.5 rfc3986-1.5.0 sniffio-1.2.0 starlette-0.19.1 uc-micro-py-1.0.1 uvicorn-0.18.2 yarl-1.7.2\n"
          ]
        }
      ]
    },
    {
      "cell_type": "code",
      "source": [
        "def greet(name):\n",
        "  return \"Hello \" + name + \"!\"\n",
        "\n",
        "greet(\"World\")"
      ],
      "metadata": {
        "colab": {
          "base_uri": "https://localhost:8080/",
          "height": 35
        },
        "id": "xGVZ09heASab",
        "outputId": "2fe90142-f415-43b7-e46a-70e84f5b3808"
      },
      "execution_count": null,
      "outputs": [
        {
          "output_type": "execute_result",
          "data": {
            "text/plain": [
              "'Hello World!'"
            ],
            "application/vnd.google.colaboratory.intrinsic+json": {
              "type": "string"
            }
          },
          "metadata": {},
          "execution_count": 82
        }
      ]
    },
    {
      "cell_type": "code",
      "source": [
        "import gradio"
      ],
      "metadata": {
        "id": "hsKijGU2Ad6U"
      },
      "execution_count": null,
      "outputs": []
    },
    {
      "cell_type": "code",
      "source": [
        "gradio.Interface(greet, \"text\", \"text\", title=\"雷\").launch(share=True)"
      ],
      "metadata": {
        "colab": {
          "base_uri": "https://localhost:8080/",
          "height": 643
        },
        "id": "6QaIUf-vAkw7",
        "outputId": "f4a5e3ed-f650-4426-e81e-d95cf6529b39"
      },
      "execution_count": null,
      "outputs": [
        {
          "output_type": "stream",
          "name": "stdout",
          "text": [
            "Colab notebook detected. To show errors in colab notebook, set `debug=True` in `launch()`\n",
            "Running on public URL: https://21284.gradio.app\n",
            "\n",
            "This share link expires in 72 hours. For free permanent hosting, check out Spaces (https://huggingface.co/spaces)\n"
          ]
        },
        {
          "output_type": "display_data",
          "data": {
            "text/plain": [
              "<IPython.core.display.HTML object>"
            ],
            "text/html": [
              "<div><iframe src=\"https://21284.gradio.app\" width=\"900\" height=\"500\" allow=\"autoplay; camera; microphone;\" frameborder=\"0\" allowfullscreen></iframe></div>"
            ]
          },
          "metadata": {}
        },
        {
          "output_type": "execute_result",
          "data": {
            "text/plain": [
              "(<gradio.routes.App at 0x7fd12b92ee90>,\n",
              " 'http://127.0.0.1:7867/',\n",
              " 'https://21284.gradio.app')"
            ]
          },
          "metadata": {},
          "execution_count": 99
        }
      ]
    },
    {
      "cell_type": "code",
      "source": [
        "def health2(w, h):\n",
        "  bmi = float(w)/(float(h)**2)\n",
        "  if bmi < 18:\n",
        "    return \"體重過輕\"\n",
        "  elif bmi > 24:\n",
        "    return \"體重過重\"\n",
        "  else:\n",
        "    return \"健康體位\""
      ],
      "metadata": {
        "id": "mxKG9CCzC1xW"
      },
      "execution_count": null,
      "outputs": []
    },
    {
      "cell_type": "code",
      "source": [
        "def health3(w, h):\n",
        "  bmi = float(w)/(float(h)**2)\n",
        "  if bmi < 18:\n",
        "    return bmi, \"體重過輕\"\n",
        "  elif bmi > 24:\n",
        "    return bmi, \"體重過重\"\n",
        "  else:\n",
        "    return bmi, \"健康體位\""
      ],
      "metadata": {
        "id": "HZygfjkLG7yj"
      },
      "execution_count": null,
      "outputs": []
    },
    {
      "cell_type": "code",
      "source": [
        "gradio.Interface(health3, [\"text\",\"text\"], [\"text\",\"text\"], title=\"判斷體位狀況\").launch(share=True)"
      ],
      "metadata": {
        "colab": {
          "base_uri": "https://localhost:8080/",
          "height": 643
        },
        "id": "gqoS1tmSCrHo",
        "outputId": "3aec2169-a08e-41da-a812-86847599332c"
      },
      "execution_count": null,
      "outputs": [
        {
          "output_type": "stream",
          "name": "stdout",
          "text": [
            "Colab notebook detected. To show errors in colab notebook, set `debug=True` in `launch()`\n",
            "Running on public URL: https://35558.gradio.app\n",
            "\n",
            "This share link expires in 72 hours. For free permanent hosting, check out Spaces (https://huggingface.co/spaces)\n"
          ]
        },
        {
          "output_type": "display_data",
          "data": {
            "text/plain": [
              "<IPython.core.display.HTML object>"
            ],
            "text/html": [
              "<div><iframe src=\"https://35558.gradio.app\" width=\"900\" height=\"500\" allow=\"autoplay; camera; microphone;\" frameborder=\"0\" allowfullscreen></iframe></div>"
            ]
          },
          "metadata": {}
        },
        {
          "output_type": "execute_result",
          "data": {
            "text/plain": [
              "(<gradio.routes.App at 0x7fd138805c10>,\n",
              " 'http://127.0.0.1:7865/',\n",
              " 'https://35558.gradio.app')"
            ]
          },
          "metadata": {},
          "execution_count": 95
        }
      ]
    },
    {
      "cell_type": "code",
      "source": [
        "import requests "
      ],
      "metadata": {
        "id": "M2hJKNS2HSZN"
      },
      "execution_count": null,
      "outputs": []
    },
    {
      "cell_type": "code",
      "source": [
        "def lookup(word):\n",
        "  url = f\"https://www.moedict.tw/uni/{word}\"\n",
        "  return requests.get(url).json()"
      ],
      "metadata": {
        "id": "pr5j1rNqHrC7"
      },
      "execution_count": null,
      "outputs": []
    },
    {
      "cell_type": "code",
      "source": [
        "gradio.Interface(lookup, \"text\", \"text\", title=\"萌典API使用範例\").launch(share=True)"
      ],
      "metadata": {
        "colab": {
          "base_uri": "https://localhost:8080/",
          "height": 643
        },
        "id": "qJetkXSZIOvn",
        "outputId": "76590051-7606-49a7-f39f-dbbb78ad1033"
      },
      "execution_count": null,
      "outputs": [
        {
          "output_type": "stream",
          "name": "stdout",
          "text": [
            "Colab notebook detected. To show errors in colab notebook, set `debug=True` in `launch()`\n",
            "Running on public URL: https://36973.gradio.app\n",
            "\n",
            "This share link expires in 72 hours. For free permanent hosting, check out Spaces (https://huggingface.co/spaces)\n"
          ]
        },
        {
          "output_type": "display_data",
          "data": {
            "text/plain": [
              "<IPython.core.display.HTML object>"
            ],
            "text/html": [
              "<div><iframe src=\"https://36973.gradio.app\" width=\"900\" height=\"500\" allow=\"autoplay; camera; microphone;\" frameborder=\"0\" allowfullscreen></iframe></div>"
            ]
          },
          "metadata": {}
        },
        {
          "output_type": "execute_result",
          "data": {
            "text/plain": [
              "(<gradio.routes.App at 0x7fd12da77ed0>,\n",
              " 'http://127.0.0.1:7866/',\n",
              " 'https://36973.gradio.app')"
            ]
          },
          "metadata": {},
          "execution_count": 98
        }
      ]
    },
    {
      "cell_type": "markdown",
      "source": [
        "# 爬蟲簡介\n",
        "\n"
      ],
      "metadata": {
        "id": "dfgEwE3yfO6V"
      }
    },
    {
      "cell_type": "code",
      "source": [
        "import requests"
      ],
      "metadata": {
        "id": "UwGO9OZYfTTm"
      },
      "execution_count": null,
      "outputs": []
    },
    {
      "cell_type": "code",
      "source": [
        "# 複製網址\n",
        "url = \"https://victorgau.github.io/khpy_web_intro/html_only.html\""
      ],
      "metadata": {
        "id": "TK_BKpFHfzYH"
      },
      "execution_count": null,
      "outputs": []
    },
    {
      "cell_type": "code",
      "source": [
        "r = requests.get(url)"
      ],
      "metadata": {
        "id": "FLVhulKpf7Mq"
      },
      "execution_count": null,
      "outputs": []
    },
    {
      "cell_type": "code",
      "source": [
        "print(r.text)"
      ],
      "metadata": {
        "colab": {
          "base_uri": "https://localhost:8080/"
        },
        "id": "cVmkJoJwgCtm",
        "outputId": "41037609-5d6d-4bbd-9c71-14b5e88da91a"
      },
      "execution_count": null,
      "outputs": [
        {
          "output_type": "stream",
          "name": "stdout",
          "text": [
            "<!DOCTYPE html>\n",
            "<html>\n",
            "<head>\n",
            "    <title>HTML範例</title>\n",
            "</head>\n",
            "<body>\n",
            "\n",
            "<h1>哈囉！HTML！</h1>\n",
            "\n",
            "<img src=\"ninja.jpg\" />\n",
            "\n",
            "</body>\n",
            "</html>\n"
          ]
        }
      ]
    },
    {
      "cell_type": "code",
      "source": [
        "f = open(\"index.html\",\"w\")\n",
        "f.write(r.text)\n",
        "f.close()"
      ],
      "metadata": {
        "id": "PRn6wOlOgJE9"
      },
      "execution_count": null,
      "outputs": []
    },
    {
      "cell_type": "code",
      "source": [
        ""
      ],
      "metadata": {
        "colab": {
          "base_uri": "https://localhost:8080/"
        },
        "id": "smId4B_vglwN",
        "outputId": "afc34fa7-01e9-479e-d4ff-958222c81b25"
      },
      "execution_count": null,
      "outputs": [
        {
          "output_type": "execute_result",
          "data": {
            "text/plain": [
              "200"
            ]
          },
          "metadata": {},
          "execution_count": 111
        }
      ]
    },
    {
      "cell_type": "markdown",
      "source": [
        "## json v.s. dict/list 差別"
      ],
      "metadata": {
        "id": "drcYDycOluBQ"
      }
    },
    {
      "cell_type": "code",
      "source": [
        "d = {}"
      ],
      "metadata": {
        "id": "Rx5bnsGXl14V"
      },
      "execution_count": null,
      "outputs": []
    },
    {
      "cell_type": "code",
      "source": [
        "d['cat'] = \"貓咪\""
      ],
      "metadata": {
        "id": "Oi58tz7El4bi"
      },
      "execution_count": null,
      "outputs": []
    },
    {
      "cell_type": "code",
      "source": [
        "d['dog'] = \"狗狗\""
      ],
      "metadata": {
        "id": "uRp9mOSzl93V"
      },
      "execution_count": null,
      "outputs": []
    },
    {
      "cell_type": "code",
      "source": [
        "d"
      ],
      "metadata": {
        "colab": {
          "base_uri": "https://localhost:8080/"
        },
        "id": "xUEOQ5jSmC9-",
        "outputId": "b7a60216-bd70-4d72-c3cf-ec0dd1fef9a9"
      },
      "execution_count": null,
      "outputs": [
        {
          "output_type": "execute_result",
          "data": {
            "text/plain": [
              "{'cat': '貓咪', 'dog': '狗狗'}"
            ]
          },
          "metadata": {},
          "execution_count": 116
        }
      ]
    },
    {
      "cell_type": "code",
      "source": [
        "type(d)"
      ],
      "metadata": {
        "colab": {
          "base_uri": "https://localhost:8080/"
        },
        "id": "UPfZvSoZmEoW",
        "outputId": "27ce555e-5740-43ea-9a99-78e3501165fb"
      },
      "execution_count": null,
      "outputs": [
        {
          "output_type": "execute_result",
          "data": {
            "text/plain": [
              "dict"
            ]
          },
          "metadata": {},
          "execution_count": 117
        }
      ]
    },
    {
      "cell_type": "code",
      "source": [
        "# 字串\n",
        "e = '{\"cat\": \"貓咪\", \"dog\": \"狗狗\"}'"
      ],
      "metadata": {
        "id": "THxhFHUomHHi"
      },
      "execution_count": null,
      "outputs": []
    },
    {
      "cell_type": "code",
      "source": [
        "type(e)"
      ],
      "metadata": {
        "colab": {
          "base_uri": "https://localhost:8080/"
        },
        "id": "Hqeor9lOmO0h",
        "outputId": "af9258fd-5c0d-435b-c944-6c31423b1f4d"
      },
      "execution_count": null,
      "outputs": [
        {
          "output_type": "execute_result",
          "data": {
            "text/plain": [
              "str"
            ]
          },
          "metadata": {},
          "execution_count": 124
        }
      ]
    },
    {
      "cell_type": "code",
      "source": [
        "print(e)"
      ],
      "metadata": {
        "colab": {
          "base_uri": "https://localhost:8080/"
        },
        "id": "CTroEzFDmSgR",
        "outputId": "92233795-f0bf-4799-8bd1-106a150adfe3"
      },
      "execution_count": null,
      "outputs": [
        {
          "output_type": "stream",
          "name": "stdout",
          "text": [
            "{\"cat\": \"貓咪\", \"dog\": \"狗狗\"}\n"
          ]
        }
      ]
    },
    {
      "cell_type": "code",
      "source": [
        "import json"
      ],
      "metadata": {
        "id": "YPUZb4VkmU4X"
      },
      "execution_count": null,
      "outputs": []
    },
    {
      "cell_type": "code",
      "source": [
        "f = json.loads(e)"
      ],
      "metadata": {
        "id": "LFjM77GLnDDG"
      },
      "execution_count": null,
      "outputs": []
    },
    {
      "cell_type": "code",
      "source": [
        "type(f)"
      ],
      "metadata": {
        "colab": {
          "base_uri": "https://localhost:8080/"
        },
        "id": "js7kyWaanu4X",
        "outputId": "c3a44d36-7c1c-4b9d-92a7-0e07d1b89ea8"
      },
      "execution_count": null,
      "outputs": [
        {
          "output_type": "execute_result",
          "data": {
            "text/plain": [
              "dict"
            ]
          },
          "metadata": {},
          "execution_count": 128
        }
      ]
    },
    {
      "cell_type": "code",
      "source": [
        "f"
      ],
      "metadata": {
        "colab": {
          "base_uri": "https://localhost:8080/"
        },
        "id": "Knarx_vcnyMt",
        "outputId": "089eeb79-4421-4be5-b38c-10336a7b3fc5"
      },
      "execution_count": null,
      "outputs": [
        {
          "output_type": "execute_result",
          "data": {
            "text/plain": [
              "{'cat': '貓咪', 'dog': '狗狗'}"
            ]
          },
          "metadata": {},
          "execution_count": 129
        }
      ]
    },
    {
      "cell_type": "markdown",
      "source": [
        "## 使用萌典API"
      ],
      "metadata": {
        "id": "uWaN6SUMobV1"
      }
    },
    {
      "cell_type": "code",
      "source": [
        "# 在網路上找到相關網址後貼上\n",
        "url = \"https://www.moedict.tw/uni/\""
      ],
      "metadata": {
        "id": "rtCoo8ucofoB"
      },
      "execution_count": null,
      "outputs": []
    },
    {
      "cell_type": "code",
      "source": [
        "q = \"教室\""
      ],
      "metadata": {
        "id": "3SprTMpzo7YE"
      },
      "execution_count": null,
      "outputs": []
    },
    {
      "cell_type": "code",
      "source": [
        "url + q"
      ],
      "metadata": {
        "colab": {
          "base_uri": "https://localhost:8080/",
          "height": 35
        },
        "id": "LaOLzjUJo-d5",
        "outputId": "3eb9a33b-e52b-4672-ff6e-4281b9a79863"
      },
      "execution_count": null,
      "outputs": [
        {
          "output_type": "execute_result",
          "data": {
            "text/plain": [
              "'https://www.moedict.tw/uni/教室'"
            ],
            "application/vnd.google.colaboratory.intrinsic+json": {
              "type": "string"
            }
          },
          "metadata": {},
          "execution_count": 132
        }
      ]
    },
    {
      "cell_type": "code",
      "source": [
        "r = requests.get(url+q)"
      ],
      "metadata": {
        "id": "BWhj_k03pDBE"
      },
      "execution_count": null,
      "outputs": []
    },
    {
      "cell_type": "code",
      "source": [
        "# 這是json格式文字\n",
        "print(r.text)"
      ],
      "metadata": {
        "colab": {
          "base_uri": "https://localhost:8080/"
        },
        "id": "cchvNcNWpMZD",
        "outputId": "32354bab-48ef-4c89-8912-9c2bbf2f7972"
      },
      "execution_count": null,
      "outputs": [
        {
          "output_type": "stream",
          "name": "stdout",
          "text": [
            "\t{\n",
            "\t\t\"heteronyms\": [\n",
            "\t\t\t{\n",
            "\t\t\t\t\"bopomofo\": \"ㄐㄧㄠˋ ㄕˋ\",\n",
            "\t\t\t\t\"bopomofo2\": \"jiàu shr̀\",\n",
            "\t\t\t\t\"definitions\": [\n",
            "\t\t\t\t\t{\n",
            "\t\t\t\t\t\t\"def\": \"學校裡進行教學活動的房間。\",\n",
            "\t\t\t\t\t\t\"example\": [\n",
            "\t\t\t\t\t\t\t\"如：「實驗教室」、「音樂教室」。\"\n",
            "\t\t\t\t\t\t],\n",
            "\t\t\t\t\t\t\"synonyms\": \"課堂,講堂\"\n",
            "\t\t\t\t\t}\n",
            "\t\t\t\t],\n",
            "\t\t\t\t\"pinyin\": \"jiào shì\"\n",
            "\t\t\t}\n",
            "\t\t],\n",
            "\t\t\"title\": \"教室\"\n",
            "\t}\n"
          ]
        }
      ]
    },
    {
      "cell_type": "code",
      "source": [
        "# 這樣變成字典\n",
        "data = json.loads(r.text)"
      ],
      "metadata": {
        "id": "NvFPhq1Nph4O"
      },
      "execution_count": null,
      "outputs": []
    },
    {
      "cell_type": "code",
      "source": [
        "type(data)"
      ],
      "metadata": {
        "colab": {
          "base_uri": "https://localhost:8080/"
        },
        "id": "XpS3_dmdp--g",
        "outputId": "5ac3ac45-f5b1-4e31-be9e-9e90ae232b60"
      },
      "execution_count": null,
      "outputs": [
        {
          "output_type": "execute_result",
          "data": {
            "text/plain": [
              "dict"
            ]
          },
          "metadata": {},
          "execution_count": 144
        }
      ]
    },
    {
      "cell_type": "code",
      "source": [
        "data"
      ],
      "metadata": {
        "colab": {
          "base_uri": "https://localhost:8080/"
        },
        "id": "6LNbLxSkqgKR",
        "outputId": "aca3ebf8-9adf-4d55-c589-8c3f4b1ec832"
      },
      "execution_count": null,
      "outputs": [
        {
          "output_type": "execute_result",
          "data": {
            "text/plain": [
              "{'heteronyms': [{'bopomofo': 'ㄐㄧㄠˋ ㄕˋ',\n",
              "   'bopomofo2': 'jiàu shr̀',\n",
              "   'definitions': [{'def': '學校裡進行教學活動的房間。',\n",
              "     'example': ['如：「實驗教室」、「音樂教室」。'],\n",
              "     'synonyms': '課堂,講堂'}],\n",
              "   'pinyin': 'jiào shì'}],\n",
              " 'title': '教室'}"
            ]
          },
          "metadata": {},
          "execution_count": 145
        }
      ]
    },
    {
      "cell_type": "code",
      "source": [
        "data.keys()"
      ],
      "metadata": {
        "colab": {
          "base_uri": "https://localhost:8080/"
        },
        "id": "E1arWraArCZs",
        "outputId": "0fe66707-c75b-4745-8147-6bc3e0771418"
      },
      "execution_count": null,
      "outputs": [
        {
          "output_type": "execute_result",
          "data": {
            "text/plain": [
              "dict_keys(['heteronyms', 'title'])"
            ]
          },
          "metadata": {},
          "execution_count": 146
        }
      ]
    },
    {
      "cell_type": "code",
      "source": [
        "data['heteronyms']"
      ],
      "metadata": {
        "colab": {
          "base_uri": "https://localhost:8080/"
        },
        "id": "hJwoNtv5rFgq",
        "outputId": "ec3e12e0-5e8d-4ada-f188-ae6c42920ad2"
      },
      "execution_count": null,
      "outputs": [
        {
          "output_type": "execute_result",
          "data": {
            "text/plain": [
              "[{'bopomofo': 'ㄐㄧㄠˋ ㄕˋ',\n",
              "  'bopomofo2': 'jiàu shr̀',\n",
              "  'definitions': [{'def': '學校裡進行教學活動的房間。',\n",
              "    'example': ['如：「實驗教室」、「音樂教室」。'],\n",
              "    'synonyms': '課堂,講堂'}],\n",
              "  'pinyin': 'jiào shì'}]"
            ]
          },
          "metadata": {},
          "execution_count": 147
        }
      ]
    },
    {
      "cell_type": "code",
      "source": [
        "data['heteronyms'][0]"
      ],
      "metadata": {
        "colab": {
          "base_uri": "https://localhost:8080/"
        },
        "id": "JW1bex6PrJEL",
        "outputId": "51695483-4238-44c4-8833-288a25498738"
      },
      "execution_count": null,
      "outputs": [
        {
          "output_type": "execute_result",
          "data": {
            "text/plain": [
              "{'bopomofo': 'ㄐㄧㄠˋ ㄕˋ',\n",
              " 'bopomofo2': 'jiàu shr̀',\n",
              " 'definitions': [{'def': '學校裡進行教學活動的房間。',\n",
              "   'example': ['如：「實驗教室」、「音樂教室」。'],\n",
              "   'synonyms': '課堂,講堂'}],\n",
              " 'pinyin': 'jiào shì'}"
            ]
          },
          "metadata": {},
          "execution_count": 148
        }
      ]
    },
    {
      "cell_type": "code",
      "source": [
        "data['heteronyms'][0]['definitions']"
      ],
      "metadata": {
        "colab": {
          "base_uri": "https://localhost:8080/"
        },
        "id": "SBH_MxZprSgW",
        "outputId": "cc7e65d5-0ab8-4ccf-e4a6-58828211db9a"
      },
      "execution_count": null,
      "outputs": [
        {
          "output_type": "execute_result",
          "data": {
            "text/plain": [
              "[{'def': '學校裡進行教學活動的房間。',\n",
              "  'example': ['如：「實驗教室」、「音樂教室」。'],\n",
              "  'synonyms': '課堂,講堂'}]"
            ]
          },
          "metadata": {},
          "execution_count": 149
        }
      ]
    },
    {
      "cell_type": "code",
      "source": [
        "data['heteronyms'][0]['definitions'][0]"
      ],
      "metadata": {
        "colab": {
          "base_uri": "https://localhost:8080/"
        },
        "id": "nnVihl1irUZz",
        "outputId": "7975ea18-4ff2-45b1-e88d-e87ff475f1c7"
      },
      "execution_count": null,
      "outputs": [
        {
          "output_type": "execute_result",
          "data": {
            "text/plain": [
              "{'def': '學校裡進行教學活動的房間。', 'example': ['如：「實驗教室」、「音樂教室」。'], 'synonyms': '課堂,講堂'}"
            ]
          },
          "metadata": {},
          "execution_count": 150
        }
      ]
    },
    {
      "cell_type": "code",
      "source": [
        "data['heteronyms'][0]['definitions'][0]['def']"
      ],
      "metadata": {
        "colab": {
          "base_uri": "https://localhost:8080/",
          "height": 35
        },
        "id": "c3bhtVggrWAr",
        "outputId": "14520f10-a6ff-484c-d6f0-5b2f941fbf7d"
      },
      "execution_count": null,
      "outputs": [
        {
          "output_type": "execute_result",
          "data": {
            "text/plain": [
              "'學校裡進行教學活動的房間。'"
            ],
            "application/vnd.google.colaboratory.intrinsic+json": {
              "type": "string"
            }
          },
          "metadata": {},
          "execution_count": 151
        }
      ]
    },
    {
      "cell_type": "code",
      "source": [
        "data = requests.get(url+\"森林\").json()"
      ],
      "metadata": {
        "id": "0_n88ce4rYLI"
      },
      "execution_count": null,
      "outputs": []
    },
    {
      "cell_type": "code",
      "source": [
        "data['heteronyms'][0]['definitions'][0]['def']"
      ],
      "metadata": {
        "colab": {
          "base_uri": "https://localhost:8080/",
          "height": 35
        },
        "id": "zYCAukjdrtfi",
        "outputId": "d075f1d6-302a-4d8b-922d-a1f3bf508253"
      },
      "execution_count": null,
      "outputs": [
        {
          "output_type": "execute_result",
          "data": {
            "text/plain": [
              "'樹木密生的寬廣地區。'"
            ],
            "application/vnd.google.colaboratory.intrinsic+json": {
              "type": "string"
            }
          },
          "metadata": {},
          "execution_count": 154
        }
      ]
    },
    {
      "cell_type": "code",
      "source": [
        "def lookup(word):\n",
        "  data = requests.get(url+word).json()\n",
        "  return data['heteronyms'][0]['definitions'][0]['def']"
      ],
      "metadata": {
        "id": "djATuhUGsESS"
      },
      "execution_count": null,
      "outputs": []
    },
    {
      "cell_type": "code",
      "source": [
        "lookup(\"春天\")"
      ],
      "metadata": {
        "colab": {
          "base_uri": "https://localhost:8080/",
          "height": 35
        },
        "id": "7M69uurMsthc",
        "outputId": "dff5dee6-9f40-4640-82ff-094406f91f13"
      },
      "execution_count": null,
      "outputs": [
        {
          "output_type": "execute_result",
          "data": {
            "text/plain": [
              "'春季，四季之首。'"
            ],
            "application/vnd.google.colaboratory.intrinsic+json": {
              "type": "string"
            }
          },
          "metadata": {},
          "execution_count": 157
        }
      ]
    },
    {
      "cell_type": "code",
      "source": [
        "gradio.Interface(lookup, \"text\", \"text\", title=\"大辭典\").launch(share=True)"
      ],
      "metadata": {
        "colab": {
          "base_uri": "https://localhost:8080/",
          "height": 643
        },
        "id": "K_gJPLhhtVuM",
        "outputId": "e8ef7e1d-a925-488b-d3f6-8c473d3d6dde"
      },
      "execution_count": null,
      "outputs": [
        {
          "output_type": "stream",
          "name": "stdout",
          "text": [
            "Colab notebook detected. To show errors in colab notebook, set `debug=True` in `launch()`\n",
            "Running on public URL: https://13308.gradio.app\n",
            "\n",
            "This share link expires in 72 hours. For free permanent hosting, check out Spaces (https://huggingface.co/spaces)\n"
          ]
        },
        {
          "output_type": "display_data",
          "data": {
            "text/plain": [
              "<IPython.core.display.HTML object>"
            ],
            "text/html": [
              "<div><iframe src=\"https://13308.gradio.app\" width=\"900\" height=\"500\" allow=\"autoplay; camera; microphone;\" frameborder=\"0\" allowfullscreen></iframe></div>"
            ]
          },
          "metadata": {}
        },
        {
          "output_type": "execute_result",
          "data": {
            "text/plain": [
              "(<gradio.routes.App at 0x7fd127725710>,\n",
              " 'http://127.0.0.1:7869/',\n",
              " 'https://13308.gradio.app')"
            ]
          },
          "metadata": {},
          "execution_count": 159
        }
      ]
    },
    {
      "cell_type": "markdown",
      "source": [
        "## 作業: 寫一個漢英字典\n",
        "api網址:https://www.moedict.tw/a/%E8%90%8C.json"
      ],
      "metadata": {
        "id": "aoCdyChgwRsP"
      }
    },
    {
      "cell_type": "code",
      "source": [
        "url = \"https://www.moedict.tw/a/\""
      ],
      "metadata": {
        "id": "ywsll5kWvGIF"
      },
      "execution_count": 172,
      "outputs": []
    },
    {
      "cell_type": "code",
      "source": [
        "q = \"森林\""
      ],
      "metadata": {
        "id": "AQv2ap4hwzT3"
      },
      "execution_count": 173,
      "outputs": []
    },
    {
      "cell_type": "code",
      "source": [
        "data = requests.get(url+q+\".json\").json()"
      ],
      "metadata": {
        "id": "ufUMGAu-w4dq"
      },
      "execution_count": 174,
      "outputs": []
    },
    {
      "cell_type": "code",
      "source": [
        "data"
      ],
      "metadata": {
        "colab": {
          "base_uri": "https://localhost:8080/"
        },
        "id": "AQIjkQnJxlsY",
        "outputId": "b8b138e7-4575-476d-fb96-79dd213fc749"
      },
      "execution_count": 175,
      "outputs": [
        {
          "output_type": "execute_result",
          "data": {
            "text/plain": [
              "{'Deutsch': 'Forst  (S)',\n",
              " 'English': 'forest',\n",
              " 'francais': 'forêt',\n",
              " 'h': [{'=': '562800001',\n",
              "   'b': 'ㄙㄣ\\u3000ㄌㄧㄣˊ',\n",
              "   'd': [{'e': ['`如~：「`森林~`兼具~`木材~`供應~、`水土保持~、`觀光~`休憩~`等~`功能~，`是~`重要~`的~`天然資源~`之~`一~。」'],\n",
              "     'f': '`樹木~`密~`生~`的~`寬廣~`地區~。',\n",
              "     's': '`叢林~'}],\n",
              "   'p': 'sēn lín'}],\n",
              " 't': '`森~`林~',\n",
              " 'translation': {'Deutsch': ['Forst  (S)', 'Wald  (S)'],\n",
              "  'English': ['forest', 'CL:`片~[pian4]'],\n",
              "  'francais': ['forêt']}}"
            ]
          },
          "metadata": {},
          "execution_count": 175
        }
      ]
    },
    {
      "cell_type": "markdown",
      "source": [
        "## 分析台北市YouBike站點"
      ],
      "metadata": {
        "id": "-lzdjkptzAUw"
      }
    },
    {
      "cell_type": "code",
      "source": [
        "url = \"https://tcgbusfs.blob.core.windows.net/dotapp/youbike/v2/youbike_immediate.json\""
      ],
      "metadata": {
        "id": "A1hOkW_PzG87"
      },
      "execution_count": 176,
      "outputs": []
    },
    {
      "cell_type": "code",
      "source": [
        "data = requests.get(url).json()"
      ],
      "metadata": {
        "id": "tjkbDeqVzLUt"
      },
      "execution_count": 177,
      "outputs": []
    },
    {
      "cell_type": "code",
      "source": [
        "type(data)"
      ],
      "metadata": {
        "colab": {
          "base_uri": "https://localhost:8080/"
        },
        "id": "NTD-g5Ujzl2D",
        "outputId": "8fd9da69-08c5-4135-b3ef-4bb1b5b0b7c8"
      },
      "execution_count": 179,
      "outputs": [
        {
          "output_type": "execute_result",
          "data": {
            "text/plain": [
              "list"
            ]
          },
          "metadata": {},
          "execution_count": 179
        }
      ]
    },
    {
      "cell_type": "code",
      "source": [
        "data[0]"
      ],
      "metadata": {
        "colab": {
          "base_uri": "https://localhost:8080/"
        },
        "id": "8asQfDS4zeu_",
        "outputId": "8c4f6b6f-7b25-4325-867a-1cd24d4dec91"
      },
      "execution_count": 178,
      "outputs": [
        {
          "output_type": "execute_result",
          "data": {
            "text/plain": [
              "{'act': '1',\n",
              " 'ar': '復興南路二段235號前',\n",
              " 'aren': 'No.235， Sec. 2， Fuxing S. Rd.',\n",
              " 'bemp': 29,\n",
              " 'infoDate': '2022-07-09',\n",
              " 'infoTime': '2022-07-09 15:11:04',\n",
              " 'lat': 25.02605,\n",
              " 'lng': 121.5436,\n",
              " 'mday': '2022-07-09 15:11:04',\n",
              " 'sarea': '大安區',\n",
              " 'sareaen': 'Daan Dist.',\n",
              " 'sbi': 0,\n",
              " 'sna': 'YouBike2.0_捷運科技大樓站',\n",
              " 'snaen': 'YouBike2.0_MRT Technology Bldg. Sta.',\n",
              " 'sno': '500101001',\n",
              " 'srcUpdateTime': '2022-07-09 15:11:12',\n",
              " 'tot': 29,\n",
              " 'updateTime': '2022-07-09 15:11:51'}"
            ]
          },
          "metadata": {},
          "execution_count": 178
        }
      ]
    },
    {
      "cell_type": "code",
      "source": [
        "data[1]"
      ],
      "metadata": {
        "colab": {
          "base_uri": "https://localhost:8080/"
        },
        "id": "VlyV7GXbzuwn",
        "outputId": "13ae8719-8a43-4641-95d0-1a1620d4a2e5"
      },
      "execution_count": 180,
      "outputs": [
        {
          "output_type": "execute_result",
          "data": {
            "text/plain": [
              "{'act': '1',\n",
              " 'ar': '復興南路二段273號西側',\n",
              " 'aren': 'No.273， Sec. 2， Fuxing S. Rd. (West)',\n",
              " 'bemp': 22,\n",
              " 'infoDate': '2022-07-09',\n",
              " 'infoTime': '2022-07-09 14:59:03',\n",
              " 'lat': 25.02565,\n",
              " 'lng': 121.54357,\n",
              " 'mday': '2022-07-09 14:59:03',\n",
              " 'sarea': '大安區',\n",
              " 'sareaen': 'Daan Dist.',\n",
              " 'sbi': 0,\n",
              " 'sna': 'YouBike2.0_復興南路二段273號前',\n",
              " 'snaen': 'YouBike2.0_No.273， Sec. 2， Fuxing S. Rd.',\n",
              " 'sno': '500101002',\n",
              " 'srcUpdateTime': '2022-07-09 15:11:12',\n",
              " 'tot': 22,\n",
              " 'updateTime': '2022-07-09 15:11:51'}"
            ]
          },
          "metadata": {},
          "execution_count": 180
        }
      ]
    },
    {
      "cell_type": "markdown",
      "source": [
        "## BeautifulSoup使用簡介"
      ],
      "metadata": {
        "id": "2mVbWxVp0jTx"
      }
    },
    {
      "cell_type": "markdown",
      "source": [
        "### 範例一\n"
      ],
      "metadata": {
        "id": "XtjiFMEV3kRG"
      }
    },
    {
      "cell_type": "code",
      "source": [
        "# 如果要使用多行文字,要使用三個\"\"\"\n",
        "page = \"\"\"<!DOCTYPE html>\n",
        "<html>\n",
        "<head>\n",
        "    <title>HTML範例</title>\n",
        "</head>\n",
        "<body>\n",
        "\n",
        "<h1>哈囉！HTML！</h1>\n",
        "\n",
        "<img src=\"ninja.jpg\" />\n",
        "\n",
        "</body>\n",
        "</html>\"\"\""
      ],
      "metadata": {
        "id": "utRGRv2o0rhw"
      },
      "execution_count": 182,
      "outputs": []
    },
    {
      "cell_type": "code",
      "source": [
        "from bs4 import BeautifulSoup"
      ],
      "metadata": {
        "id": "7oO4RcnU1auj"
      },
      "execution_count": 183,
      "outputs": []
    },
    {
      "cell_type": "code",
      "source": [
        "soup = BeautifulSoup(page)"
      ],
      "metadata": {
        "id": "fiIoX-0N1yBR"
      },
      "execution_count": 184,
      "outputs": []
    },
    {
      "cell_type": "code",
      "source": [
        "soup.title"
      ],
      "metadata": {
        "colab": {
          "base_uri": "https://localhost:8080/"
        },
        "id": "CBGCCbYN14uo",
        "outputId": "5efd504d-2b7b-4843-d46d-c23e223b3ea1"
      },
      "execution_count": 185,
      "outputs": [
        {
          "output_type": "execute_result",
          "data": {
            "text/plain": [
              "<title>HTML範例</title>"
            ]
          },
          "metadata": {},
          "execution_count": 185
        }
      ]
    },
    {
      "cell_type": "code",
      "source": [
        "soup.title.text"
      ],
      "metadata": {
        "colab": {
          "base_uri": "https://localhost:8080/",
          "height": 35
        },
        "id": "NyKahJXm19pR",
        "outputId": "6d231442-aec2-4b4f-bab4-8c14a5bb3c92"
      },
      "execution_count": 186,
      "outputs": [
        {
          "output_type": "execute_result",
          "data": {
            "text/plain": [
              "'HTML範例'"
            ],
            "application/vnd.google.colaboratory.intrinsic+json": {
              "type": "string"
            }
          },
          "metadata": {},
          "execution_count": 186
        }
      ]
    },
    {
      "cell_type": "code",
      "source": [
        "soup.h1.text"
      ],
      "metadata": {
        "colab": {
          "base_uri": "https://localhost:8080/",
          "height": 35
        },
        "id": "5ytpYglH2Bwq",
        "outputId": "a93447a0-78d4-4d0e-920c-b167ae674658"
      },
      "execution_count": 187,
      "outputs": [
        {
          "output_type": "execute_result",
          "data": {
            "text/plain": [
              "'哈囉！HTML！'"
            ],
            "application/vnd.google.colaboratory.intrinsic+json": {
              "type": "string"
            }
          },
          "metadata": {},
          "execution_count": 187
        }
      ]
    },
    {
      "cell_type": "markdown",
      "source": [
        "### 範例二"
      ],
      "metadata": {
        "id": "koGZqqVq3pIk"
      }
    },
    {
      "cell_type": "code",
      "source": [
        "# css 把所有p標籤選取出來的方式\n",
        "page = \"\"\"<!DOCTYPE html>\n",
        "<html>\n",
        "<head>\n",
        "    <title>這是範例一</title>\n",
        "</head>\n",
        "<body>\n",
        "\n",
        "<h1>哈囉！HTML！</h1>\n",
        "\n",
        "<div class=\"class1\">\n",
        "    <p>這是第一個p標籤內容！</p>\n",
        "    <p>這是第二個p標籤內容！</p>\n",
        "</div>\n",
        "\n",
        "<div class=\"class2\">\n",
        "    <p>這是第三個p標籤內容！</p>\n",
        "    <p>這是第四個p標籤內容！</p>\n",
        "</div>\n",
        "</body>\n",
        "</html>\"\"\""
      ],
      "metadata": {
        "id": "lODEIhMO3rjb"
      },
      "execution_count": 193,
      "outputs": []
    },
    {
      "cell_type": "code",
      "source": [
        "soup = BeautifulSoup(page)"
      ],
      "metadata": {
        "id": "zGlUOtlJ38Tl"
      },
      "execution_count": 189,
      "outputs": []
    },
    {
      "cell_type": "code",
      "source": [
        "soup.select(\"p\")"
      ],
      "metadata": {
        "colab": {
          "base_uri": "https://localhost:8080/"
        },
        "id": "vya3GPtE3_21",
        "outputId": "d9febbe1-e645-458b-8d82-5087df4662ce"
      },
      "execution_count": 192,
      "outputs": [
        {
          "output_type": "execute_result",
          "data": {
            "text/plain": [
              "[<p>這是第一個p標籤內容！</p>,\n",
              " <p>這是第二個p標籤內容！</p>,\n",
              " <p>這是第三個p標籤內容！</p>,\n",
              " <p>這是第四個p標籤內容！</p>]"
            ]
          },
          "metadata": {},
          "execution_count": 192
        }
      ]
    },
    {
      "cell_type": "markdown",
      "source": [
        "## 嘗試抓momo上面的冰箱資料"
      ],
      "metadata": {
        "id": "knI4YYVK50Vs"
      }
    },
    {
      "cell_type": "code",
      "source": [
        "url = \"https://www.momoshop.com.tw/category/LgrpCategory.jsp?l_code=2919100000&mdiv=1099600000-bt_0_996_11-&ctype=B&btType=C&sourcePageType=4\""
      ],
      "metadata": {
        "id": "cdjqToFo4PUN"
      },
      "execution_count": 209,
      "outputs": []
    },
    {
      "cell_type": "code",
      "source": [
        "headers = {\"user-agent\":\"Mozilla/5.0 (Windows NT 6.1; WOW64) AppleWebKit/537.36 (KHTML, like Gecko) Chrome/47.0.2526.111 Safari/537.36\"}"
      ],
      "metadata": {
        "id": "vZCdE-8c6F4A"
      },
      "execution_count": 210,
      "outputs": []
    },
    {
      "cell_type": "code",
      "source": [
        "r = requests.get(url, headers=headers)"
      ],
      "metadata": {
        "id": "lKDsPHco6xUQ"
      },
      "execution_count": 208,
      "outputs": []
    },
    {
      "cell_type": "code",
      "source": [
        "soup = BeautifulSoup(r.text)"
      ],
      "metadata": {
        "id": "5TybRiLs64bm"
      },
      "execution_count": 211,
      "outputs": []
    },
    {
      "cell_type": "code",
      "source": [
        "soup.select(\".btclass.bt770class li a\")"
      ],
      "metadata": {
        "colab": {
          "base_uri": "https://localhost:8080/"
        },
        "id": "vj31wjCW7NOi",
        "outputId": "494b782d-c268-4152-e71f-4ea726eeb22b"
      },
      "execution_count": 212,
      "outputs": [
        {
          "output_type": "execute_result",
          "data": {
            "text/plain": [
              "[<a href=\"https://www.momoshop.com.tw/edm/cmmedm.jsp?lpn=O0Y2mh4ttZH&amp;mdiv=2919100000-bt_2_015_02-bt_2_015_02_e1&amp;ctype=B\" id=\"bt_2_015_02_e1\"><img id=\"bt_2_015_02_e2\" lazy=\"2\" org=\"//img2.momoshop.com.tw/ecm/img/online/29/191/00/000/bt_2_015_02/bt_2_015_02_e2.gif?t=1656329330763\" src=\"/ecm/img/cmm/blank.png\"/></a>,\n",
              " <a href=\"https://www.momoshop.com.tw/edm/cmmedm.jsp?npn=1vEHimBzrGRK&amp;n=1&amp;mdiv=2919100000-bt_2_090_01-bt_2_090_01_e1&amp;ctype=B\" id=\"bt_2_090_01_e1\" title=\"momo\"> <img alt=\"momo\" height=\"80\" id=\"bt_2_090_01_e2\" lazy=\"2\" org=\"//img3.momoshop.com.tw/ecm/img/online/29/191/00/000/bt_2_090_01/bt_2_090_01_e2.jpg?t=1656579423664\" src=\"/ecm/img/cmm/blank.png\" title=\"momo\" width=\"80\"/><span class=\"prdtxt\" id=\"bt_2_090_01_e4\">歌林登記送好禮</span></a>,\n",
              " <a href=\"https://www.momoshop.com.tw/category/DgrpCategory.jsp?d_code=2919101009&amp;mdiv=2919100000-bt_2_090_01-bt_2_090_01_e5&amp;ctype=B\" id=\"bt_2_090_01_e5\" title=\"momo\"> <img alt=\"momo\" height=\"80\" id=\"bt_2_090_01_e6\" lazy=\"2\" org=\"//img3.momoshop.com.tw/ecm/img/online/29/191/00/000/bt_2_090_01/bt_2_090_01_e6.jpg?t=1656579467727\" src=\"/ecm/img/cmm/blank.png\" title=\"momo\" width=\"80\"/><span class=\"prdtxt\" id=\"bt_2_090_01_e8\">聲寶好禮送</span></a>,\n",
              " <a href=\"https://www.momoshop.com.tw/category/DgrpCategory.jsp?d_code=2919100774&amp;mdiv=2919100000-bt_2_090_01-bt_2_090_01_e9&amp;ctype=B\" id=\"bt_2_090_01_e9\" title=\"momo\"> <img alt=\"momo\" height=\"80\" id=\"bt_2_090_01_e10\" lazy=\"2\" org=\"//img3.momoshop.com.tw/ecm/img/online/29/191/00/000/bt_2_090_01/bt_2_090_01_e10.jpg?t=1656579467730\" src=\"/ecm/img/cmm/blank.png\" title=\"momo\" width=\"80\"/><span class=\"prdtxt\" id=\"bt_2_090_01_e12\">Dometic小冰箱</span></a>,\n",
              " <a href=\"https://www.momoshop.com.tw/category/DgrpCategory.jsp?d_code=2919101019&amp;mdiv=2919100000-bt_2_090_01-bt_2_090_01_e13&amp;ctype=B\" id=\"bt_2_090_01_e13\" title=\"momo\"> <img alt=\"momo\" height=\"80\" id=\"bt_2_090_01_e14\" lazy=\"2\" org=\"//img3.momoshop.com.tw/ecm/img/online/29/191/00/000/bt_2_090_01/bt_2_090_01_e14.jpg?t=1656579566964\" src=\"/ecm/img/cmm/blank.png\" title=\"momo\" width=\"80\"/><span class=\"prdtxt\" id=\"bt_2_090_01_e16\">奇異冰箱送好禮</span></a>,\n",
              " <a href=\"https://www.momoshop.com.tw/edm/cmmedm.jsp?npn=1vEJraJU80HM&amp;n=1&amp;mdiv=2919100000-bt_2_090_01-bt_2_090_01_e17&amp;ctype=B\" id=\"bt_2_090_01_e17\" title=\"momo\"> <img alt=\"momo\" height=\"80\" id=\"bt_2_090_01_e18\" lazy=\"2\" org=\"//img3.momoshop.com.tw/ecm/img/online/29/191/00/000/bt_2_090_01/bt_2_090_01_e18.jpg?t=1656579566967\" src=\"/ecm/img/cmm/blank.png\" title=\"momo\" width=\"80\"/><span class=\"prdtxt\" id=\"bt_2_090_01_e20\">東元登記送好禮</span></a>,\n",
              " <a href=\"https://www.momoshop.com.tw/goods/GoodsDetail.jsp?i_code=8354972&amp;mdiv=2919100000-bt_2_090_01-bt_2_090_01_e21&amp;ctype=B\" id=\"bt_2_090_01_e21\" title=\"momo\"> <img alt=\"momo\" height=\"80\" id=\"bt_2_090_01_e22\" lazy=\"2\" org=\"//img3.momoshop.com.tw/ecm/img/online/29/191/00/000/bt_2_090_01/bt_2_090_01_e22.jpg?t=1656581968597\" src=\"/ecm/img/cmm/blank.png\" title=\"momo\" width=\"80\"/><span class=\"prdtxt\" id=\"bt_2_090_01_e24\">WINIA送$1288</span></a>,\n",
              " <a href=\"https://www.momoshop.com.tw/edm/cmmedm.jsp?npn=1vEKNoXofEa8&amp;n=1&amp;mdiv=2919100000-bt_2_090_01-bt_2_090_01_e25&amp;ctype=B\" id=\"bt_2_090_01_e25\" title=\"momo\"> <img alt=\"momo\" height=\"80\" id=\"bt_2_090_01_e26\" lazy=\"2\" org=\"//img3.momoshop.com.tw/ecm/img/online/29/191/00/000/bt_2_090_01/bt_2_090_01_e26.jpg?t=1656582350715\" src=\"/ecm/img/cmm/blank.png\" title=\"momo\" width=\"80\"/><span class=\"prdtxt\" id=\"bt_2_090_01_e28\">富及第48折up券</span></a>,\n",
              " <a href=\"https://www.momoshop.com.tw/edm/cmmedm.jsp?lpn=O5gKcxH8Nng&amp;mdiv=2919100000-bt_2_090_01-bt_2_090_01_e62&amp;ctype=B\" id=\"bt_2_090_01_e62\" title=\"momo\"> <img alt=\"momo\" height=\"80\" id=\"bt_2_090_01_e63\" lazy=\"2\" org=\"//img3.momoshop.com.tw/ecm/img/online/29/191/00/000/bt_2_090_01/bt_2_090_01_e63.jpg?t=1656582771627\" src=\"/ecm/img/cmm/blank.png\" title=\"momo\" width=\"80\"/><span class=\"prdtxt\" id=\"bt_2_090_01_e64\">家電神券搶先領</span></a>,\n",
              " <a href=\"https://www.momoshop.com.tw/category/DgrpCategory.jsp?d_code=2919100953&amp;mdiv=2919100000-bt_2_090_01-bt_2_090_01_e69&amp;ctype=B\" id=\"bt_2_090_01_e69\" title=\"momo\"> <img alt=\"momo\" height=\"80\" id=\"bt_2_090_01_e70\" lazy=\"2\" org=\"//img3.momoshop.com.tw/ecm/img/online/29/191/00/000/bt_2_090_01/bt_2_090_01_e70.jpg?t=1656582969640\" src=\"/ecm/img/cmm/blank.png\" title=\"momo\" width=\"80\"/><span class=\"prdtxt\" id=\"bt_2_090_01_e71\">好多冰箱送DC扇</span></a>,\n",
              " <a href=\"/goods/GoodsDetail.jsp?i_code=9858638&amp;str_category_code=2919100576&amp;mdiv=2919100000-bt_2_106_04-bt_2_106_04_e1&amp;ctype=B\" id=\"bt_2_106_04_e1\" title=\"momo\"> <span class=\"titleName\"><img height=\"60\" id=\"bt_2_106_04_e3\" lazy=\"2\" org=\"//img2.momoshop.com.tw/ecm/img/online/29/191/00/000/bt_2_106_04/bt_2_106_04_e3.jpg?t=1656386951203\" src=\"/ecm/img/cmm/blank.png\" width=\"248\"/></span>\n",
              " <div class=\"prdGoodsImgWrap\">\n",
              " <span class=\"goodsImgTag\"><img lazy=\"2\" org=\"https://img4.momoshop.com.tw/ecm/img/online/341/2022/07/06/175701357/2022070617570135701.png?t=20220706175713\" src=\"/ecm/img/cmm/blank.png\"/></span>\n",
              " <img alt=\"momo\" height=\"248\" id=\"bt_2_106_04_e2\" lazy=\"2\" org=\"//i3.momoshop.com.tw/1656607307/goodsimg/0009/858/638/9858638_L.webp\" src=\"/ecm/img/cmm/blank.png\" title=\"momo\" width=\"248\"/>\n",
              " </div> <p> <span class=\"prdName\" id=\"bt_2_106_04_e4\">【Whirlpool 惠而浦】224公升一級能效變頻上下門冰箱-極光銀(WTI2650A)</span> <span class=\"prdPrice\">$<b class=\" GDS-9858638\" id=\"bt_2_106_04_p1\">13,900</b></span> </p> <span class=\"sso_e2_alt\" id=\"bt_2_097_01_e5\" style=\"display:none;\"></span> <span class=\"sso_e2_title\" id=\"bt_2_097_01_e6\" style=\"display:none;\"></span> <span class=\"sso_e1_title\" id=\"bt_2_097_01_e7\" style=\"display:none;\"></span> </a>,\n",
              " <a href=\"/goods/GoodsDetail.jsp?i_code=9216207&amp;str_category_code=2919100760&amp;mdiv=2919100000-bt_2_106_04-bt_2_106_04_e8&amp;ctype=B\" id=\"bt_2_106_04_e8\" title=\"momo\"> <span class=\"titleName\"><img height=\"60\" id=\"bt_2_106_04_e10\" lazy=\"2\" org=\"//img2.momoshop.com.tw/ecm/img/online/29/191/00/000/bt_2_106_04/bt_2_106_04_e10.jpg?t=1656386951205\" src=\"/ecm/img/cmm/blank.png\" width=\"248\"/></span> <img alt=\"momo\" height=\"248\" id=\"bt_2_106_04_e9\" lazy=\"2\" org=\"//i4.momoshop.com.tw/1655453033/goodsimg/0009/216/207/9216207_L.webp\" src=\"/ecm/img/cmm/blank.png\" title=\"momo\" width=\"248\"/> <p> <span class=\"prdName\" id=\"bt_2_106_04_e11\">【SANLUX 台灣三洋】128公升一級能效雙門定頻冰箱(SR-C125B1)</span> <span class=\"prdPrice\">$<b class=\" GDS-9216207\" id=\"bt_2_106_04_p2\">8,990</b></span> </p> <span class=\"sso_e9_alt\" id=\"bt_2_097_01_e12\" style=\"display:none;\"></span> <span class=\"sso_e9_title\" id=\"bt_2_097_01_e13\" style=\"display:none;\"></span> <span class=\"sso_e8_title\" id=\"bt_2_097_01_e14\" style=\"display:none;\"></span> </a>,\n",
              " <a href=\"/goods/GoodsDetail.jsp?i_code=8795179&amp;str_category_code=2919100754&amp;mdiv=2919100000-bt_2_106_04-bt_2_106_04_e15&amp;ctype=B\" id=\"bt_2_106_04_e15\" title=\"momo\"> <span class=\"titleName\"><img height=\"60\" id=\"bt_2_106_04_e17\" lazy=\"2\" org=\"//img2.momoshop.com.tw/ecm/img/online/29/191/00/000/bt_2_106_04/bt_2_106_04_e17.jpg?t=1656386951208\" src=\"/ecm/img/cmm/blank.png\" width=\"248\"/></span> <img alt=\"momo\" height=\"248\" id=\"bt_2_106_04_e16\" lazy=\"2\" org=\"//i1.momoshop.com.tw/1657108332/goodsimg/0008/795/179/8795179_L.webp\" src=\"/ecm/img/cmm/blank.png\" title=\"momo\" width=\"248\"/> <p> <span class=\"prdName\" id=\"bt_2_106_04_e18\">【TATUNG 大同】158L繽紛鮮獨享單門冰箱-絲絨銀(TR-A2160SLHR)</span> <span class=\"prdPrice\">$<b class=\" GDS-8795179\" id=\"bt_2_106_04_p3\">6,999</b></span> </p> <span class=\"sso_e16_alt\" id=\"bt_2_097_01_e19\" style=\"display:none;\"></span> <span class=\"sso_e16_title\" id=\"bt_2_097_01_e20\" style=\"display:none;\"></span> <span class=\"sso_e15_title\" id=\"bt_2_097_01_e21\" style=\"display:none;\"></span> </a>,\n",
              " <a href=\"/goods/GoodsDetail.jsp?i_code=8106670&amp;str_category_code=2919100609&amp;mdiv=2919100000-bt_2_106_04-bt_2_106_04_e22&amp;ctype=B\" id=\"bt_2_106_04_e22\" title=\"momo\"> <span class=\"titleName\"><img height=\"60\" id=\"bt_2_106_04_e24\" lazy=\"2\" org=\"//img2.momoshop.com.tw/ecm/img/online/29/191/00/000/bt_2_106_04/bt_2_106_04_e24.jpg?t=1656386951211\" src=\"/ecm/img/cmm/blank.png\" width=\"248\"/></span> <img alt=\"momo\" height=\"248\" id=\"bt_2_106_04_e23\" lazy=\"2\" org=\"//i2.momoshop.com.tw/1657131635/goodsimg/0008/106/670/8106670_L.webp\" src=\"/ecm/img/cmm/blank.png\" title=\"momo\" width=\"248\"/> <p> <span class=\"prdName\" id=\"bt_2_106_04_e25\">【Panasonic 國際牌】610公升 IOT智慧家電玻璃四門變頻冰箱 NR-D611XGS-N翡翠金</span> <span class=\"prdPrice\">$<b class=\" GDS-8106670\" id=\"bt_2_106_04_p4\">42,210</b></span> </p> <span class=\"sso_e23_alt\" id=\"bt_2_097_01_e26\" style=\"display:none;\"></span> <span class=\"sso_e23_title\" id=\"bt_2_097_01_e27\" style=\"display:none;\"></span> <span class=\"sso_e22_title\" id=\"bt_2_097_01_e28\" style=\"display:none;\"></span> </a>,\n",
              " <a href=\"/goods/GoodsDetail.jsp?i_code=9269168&amp;str_category_code=2919100936&amp;mdiv=2919100000-bt_2_106_02-bt_2_106_02_e1&amp;ctype=B\" id=\"bt_2_106_02_e1\" title=\"momo\"> <span class=\"titleName\"><img height=\"60\" id=\"bt_2_106_02_e3\" lazy=\"2\" org=\"//img4.momoshop.com.tw/ecm/img/online/29/191/00/000/bt_2_106_02/bt_2_106_02_e3.jpg?t=1656386829400\" src=\"/ecm/img/cmm/blank.png\" width=\"248\"/></span> <img alt=\"momo\" height=\"248\" id=\"bt_2_106_02_e2\" lazy=\"2\" org=\"//i3.momoshop.com.tw/1656593930/goodsimg/0009/269/168/9269168_L.webp\" src=\"/ecm/img/cmm/blank.png\" title=\"momo\" width=\"248\"/> <p> <span class=\"prdName\" id=\"bt_2_106_02_e4\">【TOSHIBA 東芝】409L一級能效變頻鏡面電冰箱GR-AG461TDZ(ZW)</span> <span class=\"prdPrice\">$<b class=\" GDS-9269168\" id=\"bt_2_106_02_p1\">20,900</b></span> </p> <span class=\"sso_e2_alt\" id=\"bt_2_097_01_e5\" style=\"display:none;\"></span> <span class=\"sso_e2_title\" id=\"bt_2_097_01_e6\" style=\"display:none;\"></span> <span class=\"sso_e1_title\" id=\"bt_2_097_01_e7\" style=\"display:none;\"></span> </a>,\n",
              " <a href=\"/goods/GoodsDetail.jsp?i_code=6736978&amp;str_category_code=2919100609&amp;mdiv=2919100000-bt_2_106_02-bt_2_106_02_e8&amp;ctype=B\" id=\"bt_2_106_02_e8\" title=\"momo\"> <span class=\"titleName\"><img height=\"60\" id=\"bt_2_106_02_e10\" lazy=\"2\" org=\"//img4.momoshop.com.tw/ecm/img/online/29/191/00/000/bt_2_106_02/bt_2_106_02_e10.jpg?t=1656386829402\" src=\"/ecm/img/cmm/blank.png\" width=\"248\"/></span>\n",
              " <div class=\"prdGoodsImgWrap\">\n",
              " <span class=\"goodsImgTag\"><img lazy=\"2\" org=\"https://img3.momoshop.com.tw/ecm/img/online/341/2022/07/08/112227443/2022070811222744301.png?t=20220708112303\" src=\"/ecm/img/cmm/blank.png\"/></span>\n",
              " <img alt=\"momo\" height=\"248\" id=\"bt_2_106_02_e9\" lazy=\"2\" org=\"//i4.momoshop.com.tw/1656593949/goodsimg/0006/736/978/6736978_L.webp\" src=\"/ecm/img/cmm/blank.png\" title=\"momo\" width=\"248\"/>\n",
              " </div> <p> <span class=\"prdName\" id=\"bt_2_106_02_e11\">【SAMSUNG 三星】258L一級能效變頻右開雙門冰箱(RT25M4015S8/TW)</span> <span class=\"prdPrice\">$<b class=\" GDS-6736978\" id=\"bt_2_106_02_p2\">13,900</b></span> </p> <span class=\"sso_e9_alt\" id=\"bt_2_097_01_e12\" style=\"display:none;\"></span> <span class=\"sso_e9_title\" id=\"bt_2_097_01_e13\" style=\"display:none;\"></span> <span class=\"sso_e8_title\" id=\"bt_2_097_01_e14\" style=\"display:none;\"></span> </a>,\n",
              " <a href=\"/goods/GoodsDetail.jsp?i_code=9269167&amp;str_category_code=2919100924&amp;mdiv=2919100000-bt_2_106_02-bt_2_106_02_e15&amp;ctype=B\" id=\"bt_2_106_02_e15\" title=\"momo\"> <span class=\"titleName\"><img height=\"60\" id=\"bt_2_106_02_e17\" lazy=\"2\" org=\"//img4.momoshop.com.tw/ecm/img/online/29/191/00/000/bt_2_106_02/bt_2_106_02_e17.jpg?t=1656386829405\" src=\"/ecm/img/cmm/blank.png\" width=\"248\"/></span> <img alt=\"momo\" height=\"248\" id=\"bt_2_106_02_e16\" lazy=\"2\" org=\"//i1.momoshop.com.tw/1656593907/goodsimg/0009/269/167/9269167_L.webp\" src=\"/ecm/img/cmm/blank.png\" title=\"momo\" width=\"248\"/> <p> <span class=\"prdName\" id=\"bt_2_106_02_e18\">【TOSHIBA 東芝】330公升變頻雙門冰箱GR-A370TBZ(N)</span> <span class=\"prdPrice\">$<b class=\" GDS-9269167\" id=\"bt_2_106_02_p3\">17,900</b></span> </p> <span class=\"sso_e16_alt\" id=\"bt_2_097_01_e19\" style=\"display:none;\"></span> <span class=\"sso_e16_title\" id=\"bt_2_097_01_e20\" style=\"display:none;\"></span> <span class=\"sso_e15_title\" id=\"bt_2_097_01_e21\" style=\"display:none;\"></span> </a>,\n",
              " <a href=\"/goods/GoodsDetail.jsp?i_code=7986430&amp;str_category_code=2919100885&amp;mdiv=2919100000-bt_2_106_02-bt_2_106_02_e22&amp;ctype=B\" id=\"bt_2_106_02_e22\" title=\"momo\"> <span class=\"titleName\"><img height=\"60\" id=\"bt_2_106_02_e24\" lazy=\"2\" org=\"//img4.momoshop.com.tw/ecm/img/online/29/191/00/000/bt_2_106_02/bt_2_106_02_e24.jpg?t=1656386829407\" src=\"/ecm/img/cmm/blank.png\" width=\"248\"/></span> <img alt=\"momo\" height=\"248\" id=\"bt_2_106_02_e23\" lazy=\"2\" org=\"//i2.momoshop.com.tw/1656594001/goodsimg/0007/986/430/7986430_L.webp\" src=\"/ecm/img/cmm/blank.png\" title=\"momo\" width=\"248\"/> <p> <span class=\"prdName\" id=\"bt_2_106_02_e25\">【TOSHIBA 東芝】509L無邊框玻璃六門變頻電冰箱GR-ZP510TFW(UW)</span> <span class=\"prdPrice\">$<b class=\" GDS-7986430\" id=\"bt_2_106_02_p4\">62,910</b></span> </p> <span class=\"sso_e23_alt\" id=\"bt_2_097_01_e26\" style=\"display:none;\"></span> <span class=\"sso_e23_title\" id=\"bt_2_097_01_e27\" style=\"display:none;\"></span> <span class=\"sso_e22_title\" id=\"bt_2_097_01_e28\" style=\"display:none;\"></span> </a>,\n",
              " <a href=\"/goods/GoodsDetail.jsp?i_code=5875132&amp;str_category_code=2919100759&amp;mdiv=2919100000-bt_2_106_05-bt_2_106_05_e1&amp;ctype=B\" id=\"bt_2_106_05_e1\" title=\"momo\"> <span class=\"titleName\"><img height=\"60\" id=\"bt_2_106_05_e3\" lazy=\"2\" org=\"/ecm/img/online/29/191/00/000/bt_2_106_05/bt_2_106_05_e3.jpg?t=1657177591280\" src=\"/ecm/img/cmm/blank.png\" width=\"248\"/></span> <img alt=\"momo\" height=\"248\" id=\"bt_2_106_05_e2\" lazy=\"2\" org=\"//i3.momoshop.com.tw/1657109409/goodsimg/0005/875/132/5875132_L.webp\" src=\"/ecm/img/cmm/blank.png\" title=\"momo\" width=\"248\"/> <p> <span class=\"prdName\" id=\"bt_2_106_05_e4\">【HERAN 禾聯】45L二級能效定頻單門冰箱(HRE-0513)</span> <span class=\"prdPrice\">$<b class=\" GDS-5875132\" id=\"bt_2_106_05_p1\">5,090</b></span> </p> <span class=\"sso_e2_alt\" id=\"bt_2_097_01_e5\" style=\"display:none;\"></span> <span class=\"sso_e2_title\" id=\"bt_2_097_01_e6\" style=\"display:none;\"></span> <span class=\"sso_e1_title\" id=\"bt_2_097_01_e7\" style=\"display:none;\"></span> </a>,\n",
              " <a href=\"/goods/GoodsDetail.jsp?i_code=7152658&amp;str_category_code=2919100936&amp;mdiv=2919100000-bt_2_106_05-bt_2_106_05_e8&amp;ctype=B\" id=\"bt_2_106_05_e8\" title=\"momo\"> <span class=\"titleName\"><img height=\"60\" id=\"bt_2_106_05_e10\" lazy=\"2\" org=\"/ecm/img/online/29/191/00/000/bt_2_106_05/bt_2_106_05_e10.jpg?t=1657177591283\" src=\"/ecm/img/cmm/blank.png\" width=\"248\"/></span> <img alt=\"momo\" height=\"248\" id=\"bt_2_106_05_e9\" lazy=\"2\" org=\"//i4.momoshop.com.tw/1657108023/goodsimg/0007/152/658/7152658_L.webp\" src=\"/ecm/img/cmm/blank.png\" title=\"momo\" width=\"248\"/> <p> <span class=\"prdName\" id=\"bt_2_106_05_e11\">【HERAN 禾聯】344L一級能效雙效抑菌脫臭變頻雙門電冰箱-木紋棕(HRE-B3581V-B)5875133</span> <span class=\"prdPrice\">$<b class=\" GDS-7152658\" id=\"bt_2_106_05_p2\">18,900</b></span> </p> <span class=\"sso_e9_alt\" id=\"bt_2_097_01_e12\" style=\"display:none;\"></span> <span class=\"sso_e9_title\" id=\"bt_2_097_01_e13\" style=\"display:none;\"></span> <span class=\"sso_e8_title\" id=\"bt_2_097_01_e14\" style=\"display:none;\"></span> </a>,\n",
              " <a href=\"/goods/GoodsDetail.jsp?i_code=5875133&amp;str_category_code=2919100828&amp;mdiv=2919100000-bt_2_106_05-bt_2_106_05_e15&amp;ctype=B\" id=\"bt_2_106_05_e15\" title=\"momo\"> <span class=\"titleName\"><img height=\"60\" id=\"bt_2_106_05_e17\" lazy=\"2\" org=\"/ecm/img/online/29/191/00/000/bt_2_106_05/bt_2_106_05_e17.jpg?t=1657177591286\" src=\"/ecm/img/cmm/blank.png\" width=\"248\"/></span> <img alt=\"momo\" height=\"248\" id=\"bt_2_106_05_e16\" lazy=\"2\" org=\"//i1.momoshop.com.tw/1657108017/goodsimg/0005/875/133/5875133_L.webp\" src=\"/ecm/img/cmm/blank.png\" title=\"momo\" width=\"248\"/> <p> <span class=\"prdName\" id=\"bt_2_106_05_e18\">【HERAN 禾聯】67L二級能效定頻單門冰箱(HRE-0715)</span> <span class=\"prdPrice\">$<b class=\" GDS-5875133\" id=\"bt_2_106_05_p3\">5,590</b></span> </p> <span class=\"sso_e16_alt\" id=\"bt_2_097_01_e19\" style=\"display:none;\"></span> <span class=\"sso_e16_title\" id=\"bt_2_097_01_e20\" style=\"display:none;\"></span> <span class=\"sso_e15_title\" id=\"bt_2_097_01_e21\" style=\"display:none;\"></span> </a>,\n",
              " <a href=\"/goods/GoodsDetail.jsp?i_code=8593358&amp;str_category_code=2919100752&amp;mdiv=2919100000-bt_2_106_05-bt_2_106_05_e22&amp;ctype=B\" id=\"bt_2_106_05_e22\" title=\"momo\"> <span class=\"titleName\"><img height=\"60\" id=\"bt_2_106_05_e24\" lazy=\"2\" org=\"/ecm/img/online/29/191/00/000/bt_2_106_05/bt_2_106_05_e24.jpg?t=1657177591289\" src=\"/ecm/img/cmm/blank.png\" width=\"248\"/></span> <img alt=\"momo\" height=\"248\" id=\"bt_2_106_05_e23\" lazy=\"2\" org=\"//i2.momoshop.com.tw/1657109421/goodsimg/0008/593/358/8593358_L.webp\" src=\"/ecm/img/cmm/blank.png\" title=\"momo\" width=\"248\"/> <p> <span class=\"prdName\" id=\"bt_2_106_05_e25\">【HERAN 禾聯】92L 二級能效節能定頻單門冰箱(HRE-1015)</span> <span class=\"prdPrice\">$<b class=\" GDS-8593358\" id=\"bt_2_106_05_p4\">6,090</b></span> </p> <span class=\"sso_e23_alt\" id=\"bt_2_097_01_e26\" style=\"display:none;\"></span> <span class=\"sso_e23_title\" id=\"bt_2_097_01_e27\" style=\"display:none;\"></span> <span class=\"sso_e22_title\" id=\"bt_2_097_01_e28\" style=\"display:none;\"></span> </a>,\n",
              " <a href=\"/goods/GoodsDetail.jsp?i_code=6269982&amp;str_category_code=2919100921&amp;mdiv=2919100000-bt_2_092_02-bt_2_092_02_e6&amp;ctype=B\" id=\"bt_2_092_02_e6\" title=\"【TECO 東元】福利品★480公升 一級能效變頻右開雙門冰箱(R4892XHK)\"><img alt=\"【TECO 東元】福利品★480公升 一級能效變頻右開雙門冰箱(R4892XHK)\" height=\"160\" id=\"bt_2_092_02_e7\" lazy=\"1\" org=\"//i3.momoshop.com.tw/1656654157/goodsimg/0006/269/982/6269982_L.webp\" src=\"/ecm/img/cmm/blank.png\" title=\"【TECO 東元】福利品★480公升 一級能效變頻右開雙門冰箱(R4892XHK)\" width=\"160\"/> <p> <span class=\"prdName\" id=\"bt_2_092_02_e8\">【Frigidaire富及第】338L一級能效定頻雙門冰箱(FFET1222QW / FFET1226QM福利品)</span> <span class=\"prdPrice\">$<b><span class=\" GDS-6269982\" id=\"bt_2_092_02_p1\">14,900</span></b></span> <span class=\"sso_e7_alt\" id=\"bt_2_092_02_e9\" style=\"display:none;\">【TECO 東元】福利品★480公升 一級能效變頻右開雙門冰箱(R4892XHK)</span> <span class=\"sso_e7_title\" id=\"bt_2_092_02_e10\" style=\"display:none;\">【TECO 東元】福利品★480公升 一級能效變頻右開雙門冰箱(R4892XHK)</span> <span class=\"sso_e6_title\" id=\"bt_2_092_02_e131\" style=\"display:none;\">【TECO 東元】福利品★480公升 一級能效變頻右開雙門冰箱(R4892XHK)</span> </p> </a>,\n",
              " <a href=\"/goods/GoodsDetail.jsp?i_code=7649205&amp;str_category_code=2919100921&amp;mdiv=2919100000-bt_2_092_02-bt_2_092_02_e12&amp;ctype=B\" id=\"bt_2_092_02_e12\" title=\"【HERAN 禾聯】限量福利機／344L一級能效雙效抑菌脫臭變頻雙門電冰箱-木紋棕(HRE-B3581V-B)\"><img alt=\"【HERAN 禾聯】限量福利機／344L一級能效雙效抑菌脫臭變頻雙門電冰箱-木紋棕(HRE-B3581V-B)\" height=\"160\" id=\"bt_2_092_02_e13\" lazy=\"1\" org=\"//i4.momoshop.com.tw/1656654118/goodsimg/0007/649/205/7649205_L.webp\" src=\"/ecm/img/cmm/blank.png\" title=\"momo\" width=\"160\"/> <p> <span class=\"prdName\" id=\"bt_2_092_02_e14\">【Frigidaire 富及第】90L 1級省電雙門小冰箱 福利品(FRT-0904M/FRT-0906M/FRT-0908M)</span> <span class=\"prdPrice\">$<b><span class=\" GDS-7649205\" id=\"bt_2_092_02_p2\">6,999</span></b></span> <span class=\"sso_e13_alt\" id=\"bt_2_092_02_e15\" style=\"display:none;\"></span> <span class=\"sso_e13_title\" id=\"bt_2_092_02_e175\" style=\"display:none;\"></span> <span class=\"sso_e12_title\" id=\"bt_2_092_02_e132\" style=\"display:none;\"></span> </p> </a>,\n",
              " <a href=\"/goods/GoodsDetail.jsp?i_code=10193692&amp;mdiv=2919100000-bt_2_092_02-bt_2_092_02_e16&amp;ctype=B\" id=\"bt_2_092_02_e16\" title=\"【Frigidaire 富及第】90L 1級省電雙門小冰箱 福利品(FRT-0904M/FRT-0906M/FRT-0908M)\"><img alt=\"【Frigidaire 富及第】90L 1級省電雙門小冰箱 福利品(FRT-0904M/FRT-0906M/FRT-0908M)\" height=\"160\" id=\"bt_2_092_02_e17\" lazy=\"1\" org=\"//i1.momoshop.com.tw/1656654133/goodsimg/0010/193/692/10193692_L.webp\" src=\"/ecm/img/cmm/blank.png\" title=\"【Frigidaire 富及第】90L 1級省電雙門小冰箱 福利品(FRT-0904M/FRT-0906M/FRT-0908M)\" width=\"160\"/> <p> <span class=\"prdName\" id=\"bt_2_092_02_e18\">【富及第】338L1級省電冰箱-白福利品+20L美型微波爐</span> <span class=\"prdPrice\">$<b><span class=\" GDS-10193692\" id=\"bt_2_092_02_p3\">16,900</span></b></span> <span class=\"sso_e17_alt\" id=\"bt_2_092_02_e19\" style=\"display:none;\"></span> <span class=\"sso_e17_title\" id=\"bt_2_092_02_e20\" style=\"display:none;\"></span> <span class=\"sso_e16_title\" id=\"bt_2_092_02_e133\" style=\"display:none;\"></span> </p> </a>,\n",
              " <a href=\"/goods/GoodsDetail.jsp?i_code=10193694&amp;mdiv=2919100000-bt_2_092_02-bt_2_092_02_e21&amp;ctype=B\" id=\"bt_2_092_02_e21\" title=\"【Frigidaire富及第】338L一級能效定頻雙門冰箱(FFET1222QW / FFET1226QM福利品)\"><img alt=\"【Frigidaire富及第】338L一級能效定頻雙門冰箱(FFET1222QW / FFET1226QM福利品)\" height=\"160\" id=\"bt_2_092_02_e22\" lazy=\"1\" org=\"//i2.momoshop.com.tw/1656654129/goodsimg/0010/193/694/10193694_L.webp\" src=\"/ecm/img/cmm/blank.png\" title=\"【Frigidaire富及第】338L一級能效定頻雙門冰箱(FFET1222QW / FFET1226QM福利品)\" width=\"160\"/> <p> <span class=\"prdName\" id=\"bt_2_092_02_e23\">【富及第】90L1級省電冰箱-銀福利品+4.5KG自動迷你洗衣機</span> <span class=\"prdPrice\">$<b><span class=\" GDS-10193694\" id=\"bt_2_092_02_p4\">11,900</span></b></span> <span class=\"sso_e22_alt\" id=\"bt_2_092_02_e24\" style=\"display:none;\"></span> <span class=\"sso_e22_title\" id=\"bt_2_092_02_e25\" style=\"display:none;\"></span> <span class=\"sso_e21_title\" id=\"bt_2_092_02_e134\" style=\"display:none;\"></span> </p> </a>,\n",
              " <a href=\"/goods/GoodsDetail.jsp?i_code=10291069&amp;mdiv=2919100000-bt_2_092_02-bt_2_092_02_e148&amp;ctype=B\" id=\"bt_2_092_02_e148\" title=\"【Kolin歌林】福利品125公升二級能效右開雙門冰箱KR-213S03(送基本運送/安裝定位+舊機回收)\"><img alt=\"【Kolin歌林】福利品125公升二級能效右開雙門冰箱KR-213S03(送基本運送/安裝定位+舊機回收)\" height=\"160\" id=\"bt_2_092_02_e149\" lazy=\"1\" org=\"//i3.momoshop.com.tw/1657279098/goodsimg/0010/291/069/10291069_L.webp\" src=\"/ecm/img/cmm/blank.png\" title=\"【Kolin歌林】福利品125公升二級能效右開雙門冰箱KR-213S03(送基本運送/安裝定位+舊機回收)\" width=\"160\"/> <p> <span class=\"prdName\" id=\"bt_2_092_02_e150\">1+1涼爽福利組【TAIGA 大河】直立40L冷凍櫃(福利品)+空氣循環扇</span> <span class=\"prdPrice\">$<b><span class=\" GDS-10291069\" id=\"bt_2_092_02_p17\">6,460</span></b></span> <span class=\"sso_e149_alt\" id=\"bt_2_092_02_e151\" style=\"display:none;\"></span> <span class=\"sso_e149_title\" id=\"bt_2_092_02_e152\" style=\"display:none;\"></span> <span class=\"sso_e148_title\" id=\"bt_2_092_02_e153\" style=\"display:none;\"></span> </p> </a>,\n",
              " <a href=\"/goods/GoodsDetail.jsp?i_code=9838937&amp;str_category_code=2919100760&amp;mdiv=2919100000-bt_2_092_02-bt_2_092_02_e28&amp;ctype=B\" id=\"bt_2_092_02_e28\" title=\"【SANLUX 台灣三洋】102L 雙門電冰箱 福利品(SR-C102B1)\"><img alt=\"【SANLUX 台灣三洋】102L 雙門電冰箱 福利品(SR-C102B1)\" height=\"160\" id=\"bt_2_092_02_e29\" lazy=\"1\" org=\"//i4.momoshop.com.tw/1656512056/goodsimg/0009/838/937/9838937_L.webp\" src=\"/ecm/img/cmm/blank.png\" title=\"【SANLUX 台灣三洋】102L 雙門電冰箱 福利品(SR-C102B1)\" width=\"160\"/> <p> <span class=\"prdName\" id=\"bt_2_092_02_e30\">【TECO 東元】福利品★125公升雙門冰箱(R1301N)</span> <span class=\"prdPrice\">$<b><span class=\" GDS-9838937\" id=\"bt_2_092_02_p5\">8,820</span></b></span> <span class=\"sso_e29_alt\" id=\"bt_2_092_02_e31\" style=\"display:none;\"></span> <span class=\"sso_e29_title\" id=\"bt_2_092_02_e32\" style=\"display:none;\"></span> <span class=\"sso_e28_title\" id=\"bt_2_092_02_e135\" style=\"display:none;\"></span> </p> </a>,\n",
              " <a href=\"/goods/GoodsDetail.jsp?i_code=10124281&amp;str_category_code=2919100001&amp;mdiv=2919100000-bt_2_092_02-bt_2_092_02_e34&amp;ctype=B\" id=\"bt_2_092_02_e34\" title=\"【TECO 東元】福利品★101公升雙門冰箱 白色(R1011W)\"><img alt=\"【TECO 東元】福利品★101公升雙門冰箱 白色(R1011W)\" height=\"160\" id=\"bt_2_092_02_e35\" lazy=\"1\" org=\"//i1.momoshop.com.tw/1656512054/goodsimg/0010/124/281/10124281_L.webp\" src=\"/ecm/img/cmm/blank.png\" title=\"【TECO 東元】福利品★101公升雙門冰箱 白色(R1011W)\" width=\"160\"/> <p> <span class=\"prdName\" id=\"bt_2_092_02_e36\">【TECO 東元】福利品★315公升 一級能效智能變頻右開四門冰箱(R3150DTXH)</span> <span class=\"prdPrice\">$<b><span class=\" GDS-10124281\" id=\"bt_2_092_02_p6\">21,949</span></b></span> <span class=\"sso_e35_alt\" id=\"bt_2_092_02_e37\" style=\"display:none;\"></span> <span class=\"sso_e35_title\" id=\"bt_2_092_02_e38\" style=\"display:none;\"></span> <span class=\"sso_e34_title\" id=\"bt_2_092_02_e136\" style=\"display:none;\"></span> </p> </a>,\n",
              " <a href=\"/goods/GoodsDetail.jsp?i_code=9838940&amp;str_category_code=2919100001&amp;mdiv=2919100000-bt_2_092_02-bt_2_092_02_e40&amp;ctype=B\" id=\"bt_2_092_02_e40\" title=\"【Frigidaire 富及第】90L 1級省電雙門小冰箱 銀 福利品+4.5KG全自動迷你洗衣機(FRT-0908M+FAW-0451S)\"><img alt=\"【Frigidaire 富及第】90L 1級省電雙門小冰箱 銀 福利品+4.5KG全自動迷你洗衣機(FRT-0908M+FAW-0451S)\" height=\"160\" id=\"bt_2_092_02_e41\" lazy=\"1\" org=\"//i2.momoshop.com.tw/1656512055/goodsimg/0009/838/940/9838940_L.webp\" src=\"/ecm/img/cmm/blank.png\" title=\"【Frigidaire 富及第】90L 1級省電雙門小冰箱 銀 福利品+4.5KG全自動迷你洗衣機(FRT-0908M+FAW-0451S)\" width=\"160\"/> <p> <span class=\"prdName\" id=\"bt_2_092_02_e42\">【TECO 東元】福利品★480公升 一級能效變頻右開雙門冰箱(R4892XHK)</span> <span class=\"prdPrice\"><b><span class=\" GDS-9838940\" id=\"bt_2_092_02_p7\" style=\"color:#969696;font:13px/26px Helvetica\">熱銷一空</span></b></span> <span class=\"sso_e41_alt\" id=\"bt_2_092_02_e43\" style=\"display:none;\">【Frigidaire 富及第】90L 1級省電雙門小冰箱 銀 福利品+4.5KG全自動迷你洗衣機(FRT-0908M+FAW-0451S)</span> <span class=\"sso_e41_title\" id=\"bt_2_092_02_e44\" style=\"display:none;\">【Frigidaire 富及第】90L 1級省電雙門小冰箱 銀 福利品+4.5KG全自動迷你洗衣機(FRT-0908M+FAW-0451S)</span> <span class=\"sso_e40_title\" id=\"bt_2_092_02_e137\" style=\"display:none;\">【Frigidaire 富及第】90L 1級省電雙門小冰箱 銀 福利品+4.5KG全自動迷你洗衣機(FRT-0908M+FAW-0451S)</span> </p> </a>,\n",
              " <a href=\"/goods/GoodsDetail.jsp?i_code=10031087&amp;str_category_code=2919100756&amp;mdiv=2919100000-bt_2_092_02-bt_2_092_02_e46&amp;ctype=B\" id=\"bt_2_092_02_e46\" title=\"【SANLUX 台灣三洋】168L 雙門定頻電冰箱 福利品(SR-C168B)\">\n",
              " <div class=\"prdGoodsImgWrap\">\n",
              " <span class=\"goodsImgTag\"><img lazy=\"2\" org=\"https://img3.momoshop.com.tw/ecm/img/online/341/2022/06/30/102522610/2022063010252261001.png?t=20220701210349\" src=\"/ecm/img/cmm/blank.png\"/></span>\n",
              " <img alt=\"【SANLUX 台灣三洋】168L 雙門定頻電冰箱 福利品(SR-C168B)\" height=\"160\" id=\"bt_2_092_02_e47\" lazy=\"1\" org=\"//i3.momoshop.com.tw/1656512055/goodsimg/0010/031/087/10031087_L.webp\" src=\"/ecm/img/cmm/blank.png\" title=\"【SANLUX 台灣三洋】168L 雙門定頻電冰箱 福利品(SR-C168B)\" width=\"160\"/>\n",
              " </div> <p> <span class=\"prdName\" id=\"bt_2_092_02_e48\">【TECO 東元】福利品★600公升 一級能效變頻右開三門冰箱(R6171VXHK)</span> <span class=\"prdPrice\">$<b><span class=\" GDS-10031087\" id=\"bt_2_092_02_p8\">27,963</span></b></span> <span class=\"sso_e47_alt\" id=\"bt_2_092_02_e49\" style=\"display:none;\"></span> <span class=\"sso_e47_title\" id=\"bt_2_092_02_e50\" style=\"display:none;\"></span> <span class=\"sso_e46_title\" id=\"bt_2_092_02_e138\" style=\"display:none;\"></span> </p> </a>,\n",
              " <a href=\"/goods/GoodsDetail.jsp?i_code=10113453&amp;str_category_code=2919100751&amp;mdiv=2919100000-bt_2_092_02-bt_2_092_02_e155&amp;ctype=B\" id=\"bt_2_092_02_e155\" title=\"【TECO 東元】福利品★165公升 二級能效定頻右開雙門冰箱(R1801HS)\"><img alt=\"【TECO 東元】福利品★165公升 二級能效定頻右開雙門冰箱(R1801HS)\" height=\"160\" id=\"bt_2_092_02_e156\" lazy=\"1\" org=\"//i4.momoshop.com.tw/1656512054/goodsimg/0010/113/453/10113453_L.webp\" src=\"/ecm/img/cmm/blank.png\" title=\"【TECO 東元】福利品★165公升 二級能效定頻右開雙門冰箱(R1801HS)\" width=\"160\"/> <p> <span class=\"prdName\" id=\"bt_2_092_02_e157\">【TECO 東元】福利品★101公升雙門冰箱 白色(R1011W)</span> <span class=\"prdPrice\">$<b><span class=\" GDS-10113453\" id=\"bt_2_092_02_p18\">6,405</span></b></span> <span class=\"sso_e156_alt\" id=\"bt_2_092_02_e158\" style=\"display:none;\"></span> <span class=\"sso_e156_title\" id=\"bt_2_092_02_e159\" style=\"display:none;\"></span> <span class=\"sso_e155_title\" id=\"bt_2_092_02_e160\" style=\"display:none;\"></span> </p> </a>,\n",
              " <a href=\"/goods/GoodsDetail.jsp?i_code=9871700&amp;str_category_code=2919100931&amp;mdiv=2919100000-bt_2_092_02-bt_2_092_02_e51&amp;ctype=B\" id=\"bt_2_092_02_e51\" title=\"【SANLUX 台灣三洋】128公升一級能效定頻右開雙門冰箱福利品－珍珠白(SR-C128B1)\"><img alt=\"【SANLUX 台灣三洋】128公升一級能效定頻右開雙門冰箱福利品－珍珠白(SR-C128B1)\" height=\"160\" id=\"bt_2_092_02_e52\" lazy=\"1\" org=\"//i1.momoshop.com.tw/1646331964/goodsimg/0009/871/700/9871700_L.webp\" src=\"/ecm/img/cmm/blank.png\" title=\"【SANLUX 台灣三洋】128公升一級能效定頻右開雙門冰箱福利品－珍珠白(SR-C128B1)\" width=\"160\"/> <p> <span class=\"prdName\" id=\"bt_2_092_02_e53\">【SANLUX 台灣三洋】128公升一級能效定頻右開雙門冰箱福利品－珍珠白(SR-C128B1)</span> <span class=\"prdPrice\">$<b><span class=\" GDS-9871700\" id=\"bt_2_092_02_p9\">9,989</span></b></span> <span class=\"sso_e52_alt\" id=\"bt_2_092_02_e54\" style=\"display:none;\">【SANLUX 台灣三洋】128公升一級能效定頻右開雙門冰箱福利品－珍珠白(SR-C128B1)</span> <span class=\"sso_e52_title\" id=\"bt_2_092_02_e55\" style=\"display:none;\">【SANLUX 台灣三洋】128公升一級能效定頻右開雙門冰箱福利品－珍珠白(SR-C128B1)</span> <span class=\"sso_e51_title\" id=\"bt_2_092_02_e139\" style=\"display:none;\">【SANLUX 台灣三洋】128公升一級能效定頻右開雙門冰箱福利品－珍珠白(SR-C128B1)</span> </p> </a>,\n",
              " <a href=\"/goods/GoodsDetail.jsp?i_code=8993893&amp;str_category_code=2919100921&amp;mdiv=2919100000-bt_2_092_02-bt_2_092_02_e56&amp;ctype=B\" id=\"bt_2_092_02_e56\" title=\"【SANLUX 台灣三洋】168L 雙門定頻電冰箱 福利品(SR-C168B)\"><img alt=\"【SANLUX 台灣三洋】168L 雙門定頻電冰箱 福利品(SR-C168B)\" height=\"160\" id=\"bt_2_092_02_e57\" lazy=\"1\" org=\"//i2.momoshop.com.tw/1655236214/goodsimg/0008/993/893/8993893_L.webp\" src=\"/ecm/img/cmm/blank.png\" title=\"【SANLUX 台灣三洋】168L 雙門定頻電冰箱 福利品(SR-C168B)\" width=\"160\"/> <p> <span class=\"prdName\" id=\"bt_2_092_02_e58\">【SANLUX 台灣三洋】168L 雙門定頻電冰箱 福利品(SR-C168B)</span> <span class=\"prdPrice\">$<b><span class=\" GDS-8993893\" id=\"bt_2_092_02_p10\">10,669</span></b></span> <span class=\"sso_e57_alt\" id=\"bt_2_092_02_e59\" style=\"display:none;\">【SANLUX 台灣三洋】168L 雙門定頻電冰箱 福利品(SR-C168B)</span> <span class=\"sso_e57_title\" id=\"bt_2_092_02_e60\" style=\"display:none;\">【SANLUX 台灣三洋】168L 雙門定頻電冰箱 福利品(SR-C168B)</span> <span class=\"sso_e56_title\" id=\"bt_2_092_02_e140\" style=\"display:none;\">【SANLUX 台灣三洋】168L 雙門定頻電冰箱 福利品(SR-C168B)</span> </p> </a>,\n",
              " <a href=\"/goods/GoodsDetail.jsp?i_code=9336133&amp;str_category_code=2919100761&amp;mdiv=2919100000-bt_2_092_02-bt_2_092_02_e61&amp;ctype=B\" id=\"bt_2_092_02_e61\" title=\"(福利品)【Haier 海爾】266L直立單門無霜冷凍櫃HUF-300銀灰色(無霜冷凍櫃)\"><img alt=\"(福利品)【Haier 海爾】266L直立單門無霜冷凍櫃HUF-300銀灰色(無霜冷凍櫃)\" height=\"160\" id=\"bt_2_092_02_e62\" lazy=\"1\" org=\"//i3.momoshop.com.tw/1656573954/goodsimg/0009/336/133/9336133_L.webp\" src=\"/ecm/img/cmm/blank.png\" title=\"(福利品)【Haier 海爾】266L直立單門無霜冷凍櫃HUF-300銀灰色(無霜冷凍櫃)\" width=\"160\"/> <p> <span class=\"prdName\" id=\"bt_2_092_02_e63\">(福利品)【Haier 海爾】266L直立單門無霜冷凍櫃HUF-300銀灰色(無霜冷凍櫃)</span> <span class=\"prdPrice\">$<b><span class=\" GDS-9336133\" id=\"bt_2_092_02_p11\">12,900</span></b></span> <span class=\"sso_e62_alt\" id=\"bt_2_092_02_e64\" style=\"display:none;\">(福利品)【Haier 海爾】266L直立單門無霜冷凍櫃HUF-300銀灰色(無霜冷凍櫃)</span> <span class=\"sso_e62_title\" id=\"bt_2_092_02_e65\" style=\"display:none;\">(福利品)【Haier 海爾】266L直立單門無霜冷凍櫃HUF-300銀灰色(無霜冷凍櫃)</span> <span class=\"sso_e61_title\" id=\"bt_2_092_02_e141\" style=\"display:none;\">(福利品)【Haier 海爾】266L直立單門無霜冷凍櫃HUF-300銀灰色(無霜冷凍櫃)</span> </p> </a>,\n",
              " <a href=\"/goods/GoodsDetail.jsp?i_code=9336147&amp;str_category_code=2919100921&amp;mdiv=2919100000-bt_2_092_02-bt_2_092_02_e66&amp;ctype=B\" id=\"bt_2_092_02_e66\" title=\"【SANLUX 台灣三洋】128L雙門電冰箱福利品(SR-C125B1)\"><img alt=\"【SANLUX 台灣三洋】128L雙門電冰箱福利品(SR-C125B1)\" height=\"160\" id=\"bt_2_092_02_e67\" lazy=\"1\" org=\"//i4.momoshop.com.tw/1634937669/goodsimg/0009/336/147/9336147_L.webp\" src=\"/ecm/img/cmm/blank.png\" title=\"【SANLUX 台灣三洋】128L雙門電冰箱福利品(SR-C125B1)\" width=\"160\"/> <p> <span class=\"prdName\" id=\"bt_2_092_02_e68\">【SANLUX 台灣三洋】128L雙門電冰箱福利品(SR-C125B1)</span> <span class=\"prdPrice\"><b><span class=\" GDS-9336147\" id=\"bt_2_092_02_p12\" style=\"color:#969696;font:13px/26px Helvetica\">熱銷一空</span></b></span> <span class=\"sso_e67_alt\" id=\"bt_2_092_02_e69\" style=\"display:none;\">【SANLUX 台灣三洋】128L雙門電冰箱福利品(SR-C125B1)</span> <span class=\"sso_e67_title\" id=\"bt_2_092_02_e70\" style=\"display:none;\">【SANLUX 台灣三洋】128L雙門電冰箱福利品(SR-C125B1)</span> <span class=\"sso_e66_title\" id=\"bt_2_092_02_e142\" style=\"display:none;\">【SANLUX 台灣三洋】128L雙門電冰箱福利品(SR-C125B1)</span> </p> </a>,\n",
              " <a href=\"/goods/GoodsDetail.jsp?i_code=10291069&amp;mdiv=2919100000-bt_2_092_02-bt_2_092_02_e162&amp;ctype=B\" id=\"bt_2_092_02_e162\" title=\"1+1涼爽福利組【TAIGA 大河】直立40L冷凍櫃(福利品)+空氣循環扇\"><img alt=\"1+1涼爽福利組【TAIGA 大河】直立40L冷凍櫃(福利品)+空氣循環扇\" height=\"160\" id=\"bt_2_092_02_e163\" lazy=\"1\" org=\"//i1.momoshop.com.tw/1657279098/goodsimg/0010/291/069/10291069_L.webp\" src=\"/ecm/img/cmm/blank.png\" title=\"1+1涼爽福利組【TAIGA 大河】直立40L冷凍櫃(福利品)+空氣循環扇\" width=\"160\"/> <p> <span class=\"prdName\" id=\"bt_2_092_02_e164\">1+1涼爽福利組【TAIGA 大河】直立40L冷凍櫃(福利品)+空氣循環扇</span> <span class=\"prdPrice\">$<b><span class=\" GDS-10291069\" id=\"bt_2_092_02_p19\">6,460</span></b></span> <span class=\"sso_e163_alt\" id=\"bt_2_092_02_e165\" style=\"display:none;\">1+1涼爽福利組【TAIGA 大河】直立40L冷凍櫃(福利品)+空氣循環扇</span> <span class=\"sso_e163_title\" id=\"bt_2_092_02_e166\" style=\"display:none;\">1+1涼爽福利組【TAIGA 大河】直立40L冷凍櫃(福利品)+空氣循環扇</span> <span class=\"sso_e162_title\" id=\"bt_2_092_02_e167\" style=\"display:none;\">1+1涼爽福利組【TAIGA 大河】直立40L冷凍櫃(福利品)+空氣循環扇</span> </p> </a>,\n",
              " <a href=\"/goods/GoodsDetail.jsp?i_code=10291033&amp;str_category_code=2919100755&amp;mdiv=2919100000-bt_2_092_02-bt_2_092_02_e71&amp;ctype=B\" id=\"bt_2_092_02_e71\" title=\"1+1特惠組【TECO 東元】101L一級能效冰箱(R1011S)+95L冷凍櫃(RL95SW)\"><img alt=\"1+1特惠組【TECO 東元】101L一級能效冰箱(R1011S)+95L冷凍櫃(RL95SW)\" height=\"160\" id=\"bt_2_092_02_e72\" lazy=\"1\" org=\"//i2.momoshop.com.tw/1657029888/goodsimg/0010/291/033/10291033_L.webp\" src=\"/ecm/img/cmm/blank.png\" title=\"1+1特惠組【TECO 東元】101L一級能效冰箱(R1011S)+95L冷凍櫃(RL95SW)\" width=\"160\"/> <p> <span class=\"prdName\" id=\"bt_2_092_02_e73\">1+1特惠組【TECO 東元】101L一級能效冰箱(R1011S)+95L冷凍櫃(RL95SW)</span> <span class=\"prdPrice\">$<b><span class=\" GDS-10291033\" id=\"bt_2_092_02_p13\">11,360</span></b></span> <span class=\"sso_e72_alt\" id=\"bt_2_092_02_e74\" style=\"display:none;\">1+1特惠組【TECO 東元】101L一級能效冰箱(R1011S)+95L冷凍櫃(RL95SW)</span> <span class=\"sso_e72_title\" id=\"bt_2_092_02_e75\" style=\"display:none;\">1+1特惠組【TECO 東元】101L一級能效冰箱(R1011S)+95L冷凍櫃(RL95SW)</span> <span class=\"sso_e71_title\" id=\"bt_2_092_02_e143\" style=\"display:none;\">1+1特惠組【TECO 東元】101L一級能效冰箱(R1011S)+95L冷凍櫃(RL95SW)</span> </p> </a>,\n",
              " <a href=\"/goods/GoodsDetail.jsp?i_code=10298373&amp;str_category_code=2919100968&amp;mdiv=2919100000-bt_2_092_02-bt_2_092_02_e76&amp;ctype=B\" id=\"bt_2_092_02_e76\" title=\"1+1特惠組【聲寶】460L二級能效雙門冰箱(SR-M460D★退稅2000元)+Alpha S1+無線吸塵器(EC-H15UND)\"><img alt=\"1+1特惠組【聲寶】460L二級能效雙門冰箱(SR-M460D★退稅2000元)+Alpha S1+無線吸塵器(EC-H15UND)\" height=\"160\" id=\"bt_2_092_02_e77\" lazy=\"1\" org=\"//i3.momoshop.com.tw/1657265335/goodsimg/0010/298/373/10298373_L.webp\" src=\"/ecm/img/cmm/blank.png\" title=\"1+1特惠組【聲寶】460L二級能效雙門冰箱(SR-M460D★退稅2000元)+Alpha S1+無線吸塵器(EC-H15UND)\" width=\"160\"/> <p> <span class=\"prdName\" id=\"bt_2_092_02_e78\">1+1特惠組【聲寶】460L二級能效雙門冰箱(SR-M460D★退稅2000元)+Alpha S1+無線吸塵器(EC-H15UND)</span> <span class=\"prdPrice\">$<b><span class=\" GDS-10298373\" id=\"bt_2_092_02_p14\">20,705</span></b></span> <span class=\"sso_e77_alt\" id=\"bt_2_092_02_e79\" style=\"display:none;\">1+1特惠組【聲寶】460L二級能效雙門冰箱(SR-M460D★退稅2000元)+Alpha S1+無線吸塵器(EC-H15UND)</span> <span class=\"sso_e77_title\" id=\"bt_2_092_02_e80\" style=\"display:none;\">1+1特惠組【聲寶】460L二級能效雙門冰箱(SR-M460D★退稅2000元)+Alpha S1+無線吸塵器(EC-H15UND)</span> <span class=\"sso_e76_title\" id=\"bt_2_092_02_e144\" style=\"display:none;\">1+1特惠組【聲寶】460L二級能效雙門冰箱(SR-M460D★退稅2000元)+Alpha S1+無線吸塵器(EC-H15UND)</span> </p> </a>,\n",
              " <a href=\"/goods/GoodsDetail.jsp?i_code=10298404&amp;str_category_code=2919100968&amp;mdiv=2919100000-bt_2_092_02-bt_2_092_02_e81&amp;ctype=B\" id=\"bt_2_092_02_e81\" title=\"1+1特惠組【聲寶】530公升二級能效三門冰箱(SR-M530DV★退稅2000元)+Alpha S1+無線吸塵器(EC-H15UND)\"><img alt=\"1+1特惠組【聲寶】530公升二級能效三門冰箱(SR-M530DV★退稅2000元)+Alpha S1+無線吸塵器(EC-H15UND)\" height=\"160\" id=\"bt_2_092_02_e82\" lazy=\"1\" org=\"//i4.momoshop.com.tw/1657265655/goodsimg/0010/298/404/10298404_L.webp\" src=\"/ecm/img/cmm/blank.png\" title=\"1+1特惠組【聲寶】530公升二級能效三門冰箱(SR-M530DV★退稅2000元)+Alpha S1+無線吸塵器(EC-H15UND)\" width=\"160\"/> <p> <span class=\"prdName\" id=\"bt_2_092_02_e83\">1+1特惠組【聲寶】530公升二級能效三門冰箱(SR-M530DV★退稅2000元)+Alpha S1+無線吸塵器(EC-H15UND)</span> <span class=\"prdPrice\">$<b><span class=\" GDS-10298404\" id=\"bt_2_092_02_p15\">26,086</span></b></span> <span class=\"sso_e82_alt\" id=\"bt_2_092_02_e84\" style=\"display:none;\">1+1特惠組【聲寶】530公升二級能效三門冰箱(SR-M530DV★退稅2000元)+Alpha S1+無線吸塵器(EC-H15UND)</span> <span class=\"sso_e82_title\" id=\"bt_2_092_02_e85\" style=\"display:none;\">1+1特惠組【聲寶】530公升二級能效三門冰箱(SR-M530DV★退稅2000元)+Alpha S1+無線吸塵器(EC-H15UND)</span> <span class=\"sso_e81_title\" id=\"bt_2_092_02_e145\" style=\"display:none;\">1+1特惠組【聲寶】530公升二級能效三門冰箱(SR-M530DV★退稅2000元)+Alpha S1+無線吸塵器(EC-H15UND)</span> </p> </a>,\n",
              " <a href=\"/goods/GoodsDetail.jsp?i_code=10300711&amp;str_category_code=2919100968&amp;mdiv=2919100000-bt_2_092_02-bt_2_092_02_e86&amp;ctype=B\" id=\"bt_2_092_02_e86\" title=\"1+1特惠組【聲寶】205公升一級變頻雙門冰箱(SR-M20D★退稅1200元)+Alpha S1+無線吸塵器(EC-H15UND)\"><img alt=\"1+1特惠組【聲寶】205公升一級變頻雙門冰箱(SR-M20D★退稅1200元)+Alpha S1+無線吸塵器(EC-H15UND)\" height=\"160\" id=\"bt_2_092_02_e87\" lazy=\"1\" org=\"//i1.momoshop.com.tw/1657265189/goodsimg/0010/300/711/10300711_L.webp\" src=\"/ecm/img/cmm/blank.png\" title=\"1+1特惠組【聲寶】205公升一級變頻雙門冰箱(SR-M20D★退稅1200元)+Alpha S1+無線吸塵器(EC-H15UND)\" width=\"160\"/> <p> <span class=\"prdName\" id=\"bt_2_092_02_e88\">1+1特惠組【聲寶】205公升一級變頻雙門冰箱(SR-M20D★退稅1200元)+Alpha S1+無線吸塵器(EC-H15UND)</span> <span class=\"prdPrice\">$<b><span class=\" GDS-10300711\" id=\"bt_2_092_02_p16\">15,769</span></b></span> <span class=\"sso_e87_alt\" id=\"bt_2_092_02_e89\" style=\"display:none;\">1+1特惠組【聲寶】205公升一級變頻雙門冰箱(SR-M20D★退稅1200元)+Alpha S1+無線吸塵器(EC-H15UND)</span> <span class=\"sso_e87_title\" id=\"bt_2_092_02_e90\" style=\"display:none;\">1+1特惠組【聲寶】205公升一級變頻雙門冰箱(SR-M20D★退稅1200元)+Alpha S1+無線吸塵器(EC-H15UND)</span> <span class=\"sso_e86_title\" id=\"bt_2_092_02_e146\" style=\"display:none;\">1+1特惠組【聲寶】205公升一級變頻雙門冰箱(SR-M20D★退稅1200元)+Alpha S1+無線吸塵器(EC-H15UND)</span> </p> </a>,\n",
              " <a href=\"/goods/GoodsDetail.jsp?i_code=10300714&amp;str_category_code=2919100968&amp;mdiv=2919100000-bt_2_092_02-bt_2_092_02_e169&amp;ctype=B\" id=\"bt_2_092_02_e169\" title=\"1+1特惠組【聲寶】340公升一級能效雙門冰箱(SR-M34D★退稅1200元)+Alpha S1+無線吸塵器(EC-H15UND)\"><img alt=\"1+1特惠組【聲寶】340公升一級能效雙門冰箱(SR-M34D★退稅1200元)+Alpha S1+無線吸塵器(EC-H15UND)\" height=\"160\" id=\"bt_2_092_02_e170\" lazy=\"1\" org=\"//i2.momoshop.com.tw/1657308430/goodsimg/0010/300/714/10300714_L.webp\" src=\"/ecm/img/cmm/blank.png\" title=\"1+1特惠組【聲寶】340公升一級能效雙門冰箱(SR-M34D★退稅1200元)+Alpha S1+無線吸塵器(EC-H15UND)\" width=\"160\"/> <p> <span class=\"prdName\" id=\"bt_2_092_02_e171\">1+1特惠組【聲寶】340公升一級能效雙門冰箱(SR-M34D★退稅1200元)+Alpha S1+無線吸塵器(EC-H15UND)</span> <span class=\"prdPrice\">$<b><span class=\" GDS-10300714\" id=\"bt_2_092_02_p20\">18,849</span></b></span> <span class=\"sso_e170_alt\" id=\"bt_2_092_02_e172\" style=\"display:none;\">1+1特惠組【聲寶】340公升一級能效雙門冰箱(SR-M34D★退稅1200元)+Alpha S1+無線吸塵器(EC-H15UND)</span> <span class=\"sso_e170_title\" id=\"bt_2_092_02_e173\" style=\"display:none;\">1+1特惠組【聲寶】340公升一級能效雙門冰箱(SR-M34D★退稅1200元)+Alpha S1+無線吸塵器(EC-H15UND)</span> <span class=\"sso_e169_title\" id=\"bt_2_092_02_e174\" style=\"display:none;\">1+1特惠組【聲寶】340公升一級能效雙門冰箱(SR-M34D★退稅1200元)+Alpha S1+無線吸塵器(EC-H15UND)</span> </p> </a>,\n",
              " <a href=\"/goods/GoodsDetail.jsp?i_code=8526960&amp;str_category_code=2919100753&amp;mdiv=2919100000-bt_2_092_01-bt_2_092_01_e6&amp;ctype=B\" id=\"bt_2_092_01_e6\" title=\"【ZANWA 晶華】8L冷暖兩用定頻右開單門電子式行動冰箱/冷藏箱/保溫箱(CLT-08B綠色)\"><img alt=\"【ZANWA 晶華】8L冷暖兩用定頻右開單門電子式行動冰箱/冷藏箱/保溫箱(CLT-08B綠色)\" height=\"160\" id=\"bt_2_092_01_e7\" lazy=\"1\" org=\"//i3.momoshop.com.tw/1619120914/goodsimg/0008/526/960/8526960_L.webp\" src=\"/ecm/img/cmm/blank.png\" title=\"【ZANWA 晶華】8L冷暖兩用定頻右開單門電子式行動冰箱/冷藏箱/保溫箱(CLT-08B綠色)\" width=\"160\"/> <p> <span class=\"prdName\" id=\"bt_2_092_01_e8\">【ZANWA 晶華】8L冷暖兩用定頻右開單門電子式行動冰箱/冷藏箱/保溫箱(CLT-08B綠色)</span> <span class=\"prdPrice\">$<b><span class=\" GDS-8526960\" id=\"bt_2_092_01_p1\">2,108</span></b></span> <span class=\"sso_e7_alt\" id=\"bt_2_092_01_e9\" style=\"display:none;\"></span> <span class=\"sso_e7_title\" id=\"bt_2_092_01_e10\" style=\"display:none;\"></span> <span class=\"sso_e6_title\" id=\"bt_2_092_01_e131\" style=\"display:none;\"></span> </p> </a>,\n",
              " <a href=\"/goods/GoodsDetail.jsp?i_code=8037347&amp;str_category_code=2919100754&amp;mdiv=2919100000-bt_2_092_01-bt_2_092_01_e12&amp;ctype=B\" id=\"bt_2_092_01_e12\" title=\"【SONGEN松井】15L 冷暖兩用變頻右開單門電子行動冰箱/冷藏箱/保溫箱/小冰箱(CLT-15D金色)\"><img alt=\"【SONGEN松井】15L 冷暖兩用變頻右開單門電子行動冰箱/冷藏箱/保溫箱/小冰箱(CLT-15D金色)\" height=\"160\" id=\"bt_2_092_01_e13\" lazy=\"1\" org=\"//i4.momoshop.com.tw/1632846848/goodsimg/0007/039/493/7039493_L.webp\" src=\"/ecm/img/cmm/blank.png\" title=\"momo\" width=\"160\"/> <p> <span class=\"prdName\" id=\"bt_2_092_01_e14\">【Mobicool】電子式行動迷你冰箱MBF20PS 黑色款(家用/車用)</span> <span class=\"prdPrice\">$<b><span class=\" GDS-7039493\" id=\"bt_2_092_01_p2\">2,831</span></b></span> <span class=\"sso_e13_alt\" id=\"bt_2_092_01_e15\" style=\"display:none;\">【SONGEN松井】15L 冷暖兩用變頻右開單門電子行動冰箱/冷藏箱/保溫箱/小冰箱(CLT-15D金色)</span> <span class=\"sso_e13_title\" id=\"bt_2_092_01_e175\" style=\"display:none;\"></span> <span class=\"sso_e12_title\" id=\"bt_2_092_01_e132\" style=\"display:none;\">【SONGEN松井】15L 冷暖兩用變頻右開單門電子行動冰箱/冷藏箱/保溫箱/小冰箱(CLT-15D金色)</span> </p> </a>,\n",
              " <a href=\"/goods/GoodsDetail.jsp?i_code=7815138&amp;str_category_code=2919100936&amp;mdiv=2919100000-bt_2_092_01-bt_2_092_01_e16&amp;ctype=B\" id=\"bt_2_092_01_e16\" title=\"【SANSUI 山水】LG壓縮機 車用雙槽雙溫控行動冰箱55公升 小冰箱/露營用(SL-G55)\"><img alt=\"【SANSUI 山水】LG壓縮機 車用雙槽雙溫控行動冰箱55公升 小冰箱/露營用(SL-G55)\" height=\"160\" id=\"bt_2_092_01_e17\" lazy=\"1\" org=\"//i1.momoshop.com.tw/1656567719/goodsimg/0008/037/347/8037347_L.webp\" src=\"/ecm/img/cmm/blank.png\" title=\"【SANSUI 山水】LG壓縮機 車用雙槽雙溫控行動冰箱55公升 小冰箱/露營用(SL-G55)\" width=\"160\"/> <p> <span class=\"prdName\" id=\"bt_2_092_01_e18\">【SAMPO 聲寶】99公升一級能效歐風美型系列定頻右開單門冰箱(SR-C10-P)</span> <span class=\"prdPrice\">$<b><span class=\" GDS-8037347\" id=\"bt_2_092_01_p3\">4,749</span></b></span> <span class=\"sso_e17_alt\" id=\"bt_2_092_01_e19\" style=\"display:none;\">【SANSUI 山水】LG壓縮機 車用雙槽雙溫控行動冰箱55公升 小冰箱/露營用(SL-G55)</span> <span class=\"sso_e17_title\" id=\"bt_2_092_01_e20\" style=\"display:none;\">【SANSUI 山水】LG壓縮機 車用雙槽雙溫控行動冰箱55公升 小冰箱/露營用(SL-G55)</span> <span class=\"sso_e16_title\" id=\"bt_2_092_01_e133\" style=\"display:none;\">【SANSUI 山水】LG壓縮機 車用雙槽雙溫控行動冰箱55公升 小冰箱/露營用(SL-G55)</span> </p> </a>,\n",
              " <a href=\"/goods/GoodsDetail.jsp?i_code=7968736&amp;str_category_code=2919100753&amp;mdiv=2919100000-bt_2_092_01-bt_2_092_01_e21&amp;ctype=B\" id=\"bt_2_092_01_e21\" title=\"【SONGEN 松井】5L冷暖兩用定頻左開單門式電子行動冰箱/冷藏箱/保溫箱/小冰箱(CLT-05R 粉紅色)\"><img alt=\"【SONGEN 松井】5L冷暖兩用定頻左開單門式電子行動冰箱/冷藏箱/保溫箱/小冰箱(CLT-05R 粉紅色)\" height=\"160\" id=\"bt_2_092_01_e22\" lazy=\"1\" org=\"//i2.momoshop.com.tw/1632497462/goodsimg/0007/968/736/7968736_L.webp\" src=\"/ecm/img/cmm/blank.png\" title=\"【SONGEN 松井】5L冷暖兩用定頻左開單門式電子行動冰箱/冷藏箱/保溫箱/小冰箱(CLT-05R 粉紅色)\" width=\"160\"/> <p> <span class=\"prdName\" id=\"bt_2_092_01_e23\">【SONGEN 松井】5L冷暖兩用定頻左開單門式電子行動冰箱/冷藏箱/保溫箱/小冰箱(CLT-05R 粉紅色)</span> <span class=\"prdPrice\">$<b><span class=\" GDS-7968736\" id=\"bt_2_092_01_p4\">1,786</span></b></span> <span class=\"sso_e22_alt\" id=\"bt_2_092_01_e24\" style=\"display:none;\"></span> <span class=\"sso_e22_title\" id=\"bt_2_092_01_e25\" style=\"display:none;\"></span> <span class=\"sso_e21_title\" id=\"bt_2_092_01_e134\" style=\"display:none;\"></span> </p> </a>,\n",
              " <a href=\"/goods/GoodsDetail.jsp?i_code=7968737&amp;str_category_code=2919100753&amp;mdiv=2919100000-bt_2_092_01-bt_2_092_01_e148&amp;ctype=B\" id=\"bt_2_092_01_e148\" title=\"【SANSUI 山水】LG壓縮機 車用雙槽雙溫控行動冰箱35公升(SL-G35)\"><img alt=\"【SANSUI 山水】LG壓縮機 車用雙槽雙溫控行動冰箱35公升(SL-G35)\" height=\"160\" id=\"bt_2_092_01_e149\" lazy=\"1\" org=\"//i3.momoshop.com.tw/1619679062/goodsimg/0007/968/737/7968737_L.webp\" src=\"/ecm/img/cmm/blank.png\" title=\"【SANSUI 山水】LG壓縮機 車用雙槽雙溫控行動冰箱35公升(SL-G35)\" width=\"160\"/> <p> <span class=\"prdName\" id=\"bt_2_092_01_e150\">【SONGEN 松井】5L冷暖兩用定頻左開單門式電子行動冰箱/冷藏箱/保溫箱/小冰箱(CLT-05Y 海洋藍)</span> <span class=\"prdPrice\">$<b><span class=\" GDS-7968737\" id=\"bt_2_092_01_p17\">1,786</span></b></span> <span class=\"sso_e149_alt\" id=\"bt_2_092_01_e151\" style=\"display:none;\">【SANSUI 山水】LG壓縮機 車用雙槽雙溫控行動冰箱35公升(SL-G35)</span> <span class=\"sso_e149_title\" id=\"bt_2_092_01_e152\" style=\"display:none;\">【SANSUI 山水】LG壓縮機 車用雙槽雙溫控行動冰箱35公升(SL-G35)</span> <span class=\"sso_e148_title\" id=\"bt_2_092_01_e153\" style=\"display:none;\">【SANSUI 山水】LG壓縮機 車用雙槽雙溫控行動冰箱35公升(SL-G35)</span> </p> </a>,\n",
              " <a href=\"/goods/GoodsDetail.jsp?i_code=8032630&amp;str_category_code=2919100609&amp;mdiv=2919100000-bt_2_092_01-bt_2_092_01_e28&amp;ctype=B\" id=\"bt_2_092_01_e28\" title=\"【BOSCH博世】324L二級效能自選門向單門上冷藏下冷凍彩色冰箱(KGN36IJ3AD+拿鐵棕)\">\n",
              " <div class=\"prdGoodsImgWrap\">\n",
              " <span class=\"goodsImgTag\"><img lazy=\"2\" org=\"https://img1.momoshop.com.tw/ecm/img/online/341/2022/06/30/102522610/2022063010252261001.png?t=20220701210349\" src=\"/ecm/img/cmm/blank.png\"/></span>\n",
              " <img alt=\"【BOSCH博世】324L二級效能自選門向單門上冷藏下冷凍彩色冰箱(KGN36IJ3AD+拿鐵棕)\" height=\"160\" id=\"bt_2_092_01_e29\" lazy=\"1\" org=\"//i4.momoshop.com.tw/1656654394/goodsimg/0008/032/630/8032630_L.webp\" src=\"/ecm/img/cmm/blank.png\" title=\"【BOSCH博世】324L二級效能自選門向單門上冷藏下冷凍彩色冰箱(KGN36IJ3AD+拿鐵棕)\" width=\"160\"/>\n",
              " </div> <p> <span class=\"prdName\" id=\"bt_2_092_01_e30\">【BOSCH博世】324L二級效能自選門向單門上冷藏下冷凍彩色冰箱(KGN36IJ3AD+KVN36IT0</span> <span class=\"prdPrice\">$<b><span class=\" GDS-8032630\" id=\"bt_2_092_01_p5\">65,610</span></b></span> <span class=\"sso_e29_alt\" id=\"bt_2_092_01_e31\" style=\"display:none;\">【BOSCH博世】324L二級效能自選門向單門上冷藏下冷凍彩色冰箱(KGN36IJ3AD+拿鐵棕)</span> <span class=\"sso_e29_title\" id=\"bt_2_092_01_e32\" style=\"display:none;\">【BOSCH博世】324L二級效能自選門向單門上冷藏下冷凍彩色冰箱(KGN36IJ3AD+拿鐵棕)</span> <span class=\"sso_e28_title\" id=\"bt_2_092_01_e135\" style=\"display:none;\">【BOSCH博世】324L二級效能自選門向單門上冷藏下冷凍彩色冰箱(KGN36IJ3AD+拿鐵棕)</span> </p> </a>,\n",
              " <a href=\"/goods/GoodsDetail.jsp?i_code=8105291&amp;str_category_code=2919100752&amp;mdiv=2919100000-bt_2_092_01-bt_2_092_01_e34&amp;ctype=B\" id=\"bt_2_092_01_e34\" title=\"【BOSCH博世】324L二級效能自選門向單門上冷藏下冷凍彩色冰箱(KGN36IJ3AD+莓果紅)\">\n",
              " <div class=\"prdGoodsImgWrap\">\n",
              " <span class=\"goodsImgTag\"><img lazy=\"2\" org=\"https://img4.momoshop.com.tw/ecm/img/online/341/2022/06/30/102522610/2022063010252261001.png?t=20220701210349\" src=\"/ecm/img/cmm/blank.png\"/></span>\n",
              " <img alt=\"【BOSCH博世】324L二級效能自選門向單門上冷藏下冷凍彩色冰箱(KGN36IJ3AD+莓果紅)\" height=\"160\" id=\"bt_2_092_01_e35\" lazy=\"1\" org=\"//i1.momoshop.com.tw/1656654328/goodsimg/0008/105/291/8105291_L.webp\" src=\"/ecm/img/cmm/blank.png\" title=\"【BOSCH博世】324L二級效能自選門向單門上冷藏下冷凍彩色冰箱(KGN36IJ3AD+莓果紅)\" width=\"160\"/>\n",
              " </div> <p> <span class=\"prdName\" id=\"bt_2_092_01_e36\">【BOSCH博世】324L二級效能自選門向單門上冷藏下冷凍彩色冰箱(KGN36IJ3AD+KVN36IE0</span> <span class=\"prdPrice\">$<b><span class=\" GDS-8105291\" id=\"bt_2_092_01_p6\">65,610</span></b></span> <span class=\"sso_e35_alt\" id=\"bt_2_092_01_e37\" style=\"display:none;\"></span> <span class=\"sso_e35_title\" id=\"bt_2_092_01_e38\" style=\"display:none;\"></span> <span class=\"sso_e34_title\" id=\"bt_2_092_01_e136\" style=\"display:none;\"></span> </p> </a>,\n",
              " <a href=\"/goods/GoodsDetail.jsp?i_code=9295937&amp;str_category_code=2919100762&amp;mdiv=2919100000-bt_2_092_01-bt_2_092_01_e40&amp;ctype=B\" id=\"bt_2_092_01_e40\" title=\"【BOSCH 博世】324L二級效能自選門向單門上冷藏下冷凍彩色冰箱(KGN36IJ3AD 棉花糖粉)\">\n",
              " <div class=\"prdGoodsImgWrap\">\n",
              " <span class=\"goodsImgTag\"><img lazy=\"2\" org=\"https://img2.momoshop.com.tw/ecm/img/online/341/2022/06/30/102522610/2022063010252261001.png?t=20220701210349\" src=\"/ecm/img/cmm/blank.png\"/></span>\n",
              " <img alt=\"【BOSCH 博世】324L二級效能自選門向單門上冷藏下冷凍彩色冰箱(KGN36IJ3AD 棉花糖粉)\" height=\"160\" id=\"bt_2_092_01_e41\" lazy=\"1\" org=\"//i2.momoshop.com.tw/1656654310/goodsimg/0009/295/937/9295937_L.webp\" src=\"/ecm/img/cmm/blank.png\" title=\"【BOSCH 博世】324L二級效能自選門向單門上冷藏下冷凍彩色冰箱(KGN36IJ3AD 棉花糖粉)\" width=\"160\"/>\n",
              " </div> <p> <span class=\"prdName\" id=\"bt_2_092_01_e42\">【BOSCH 博世】324L二級效能自選門向單門上冷藏下冷凍彩色冰箱(KGN36IJ3AD 棉花糖粉)</span> <span class=\"prdPrice\">$<b><span class=\" GDS-9295937\" id=\"bt_2_092_01_p7\">65,610</span></b></span> <span class=\"sso_e41_alt\" id=\"bt_2_092_01_e43\" style=\"display:none;\">【BOSCH 博世】324L二級效能自選門向單門上冷藏下冷凍彩色冰箱(KGN36IJ3AD 棉花糖粉)</span> <span class=\"sso_e41_title\" id=\"bt_2_092_01_e44\" style=\"display:none;\">【BOSCH 博世】324L二級效能自選門向單門上冷藏下冷凍彩色冰箱(KGN36IJ3AD 棉花糖粉)</span> <span class=\"sso_e40_title\" id=\"bt_2_092_01_e137\" style=\"display:none;\">【BOSCH 博世】324L二級效能自選門向單門上冷藏下冷凍彩色冰箱(KGN36IJ3AD 棉花糖粉)</span> </p> </a>,\n",
              " <a href=\"/goods/GoodsDetail.jsp?i_code=9295930&amp;str_category_code=2919100750&amp;mdiv=2919100000-bt_2_092_01-bt_2_092_01_e46&amp;ctype=B\" id=\"bt_2_092_01_e46\" title=\"【SAMPO 聲寶】210公升歐風美型一級變頻雙門冰箱(SR-C21D-R)\">\n",
              " <div class=\"prdGoodsImgWrap\">\n",
              " <span class=\"goodsImgTag\"><img lazy=\"2\" org=\"https://img4.momoshop.com.tw/ecm/img/online/341/2022/06/30/102522610/2022063010252261001.png?t=20220701210349\" src=\"/ecm/img/cmm/blank.png\"/></span>\n",
              " <img alt=\"【SAMPO 聲寶】210公升歐風美型一級變頻雙門冰箱(SR-C21D-R)\" height=\"160\" id=\"bt_2_092_01_e47\" lazy=\"1\" org=\"//i3.momoshop.com.tw/1656654373/goodsimg/0009/295/930/9295930_L.webp\" src=\"/ecm/img/cmm/blank.png\" title=\"【SAMPO 聲寶】210公升歐風美型一級變頻雙門冰箱(SR-C21D-R)\" width=\"160\"/>\n",
              " </div> <p> <span class=\"prdName\" id=\"bt_2_092_01_e48\">【BOSCH 博世】324L二級效能自選門向單門上冷藏下冷凍彩色冰箱(KGN36IJ3AD+KVN36IH</span> <span class=\"prdPrice\">$<b><span class=\" GDS-9295930\" id=\"bt_2_092_01_p8\">65,610</span></b></span> <span class=\"sso_e47_alt\" id=\"bt_2_092_01_e49\" style=\"display:none;\">【SAMPO 聲寶】210公升歐風美型一級變頻雙門冰箱(SR-C21D-R)</span> <span class=\"sso_e47_title\" id=\"bt_2_092_01_e50\" style=\"display:none;\">【SAMPO 聲寶】210公升歐風美型一級變頻雙門冰箱(SR-C21D-R)</span> <span class=\"sso_e46_title\" id=\"bt_2_092_01_e138\" style=\"display:none;\">【SAMPO 聲寶】210公升歐風美型一級變頻雙門冰箱(SR-C21D-R)</span> </p> </a>,\n",
              " <a href=\"/goods/GoodsDetail.jsp?i_code=9295944&amp;str_category_code=2919100752&amp;mdiv=2919100000-bt_2_092_01-bt_2_092_01_e155&amp;ctype=B\" id=\"bt_2_092_01_e155\" title=\"【WINIA韓國煒伲雅】韓系復古小冰箱(兩色可選)\">\n",
              " <div class=\"prdGoodsImgWrap\">\n",
              " <span class=\"goodsImgTag\"><img lazy=\"2\" org=\"https://img1.momoshop.com.tw/ecm/img/online/341/2022/06/30/102522610/2022063010252261001.png?t=20220701210349\" src=\"/ecm/img/cmm/blank.png\"/></span>\n",
              " <img alt=\"【WINIA韓國煒伲雅】韓系復古小冰箱(兩色可選)\" height=\"160\" id=\"bt_2_092_01_e156\" lazy=\"1\" org=\"//i4.momoshop.com.tw/1656654233/goodsimg/0009/295/944/9295944_L.webp\" src=\"/ecm/img/cmm/blank.png\" title=\"【WINIA韓國煒伲雅】韓系復古小冰箱(兩色可選)\" width=\"160\"/>\n",
              " </div> <p> <span class=\"prdName\" id=\"bt_2_092_01_e157\">【BOSCH 博世】324L二級效能自選門向單門上冷藏下冷凍彩色冰箱(KGN36IJ3AD+KVN36IV</span> <span class=\"prdPrice\">$<b><span class=\" GDS-9295944\" id=\"bt_2_092_01_p18\">65,610</span></b></span> <span class=\"sso_e156_alt\" id=\"bt_2_092_01_e158\" style=\"display:none;\">【WINIA韓國煒伲雅】韓系復古小冰箱(兩色可選)</span> <span class=\"sso_e156_title\" id=\"bt_2_092_01_e159\" style=\"display:none;\">【WINIA韓國煒伲雅】韓系復古小冰箱(兩色可選)</span> <span class=\"sso_e155_title\" id=\"bt_2_092_01_e160\" style=\"display:none;\">【WINIA韓國煒伲雅】韓系復古小冰箱(兩色可選)</span> </p> </a>,\n",
              " <a href=\"/goods/GoodsDetail.jsp?i_code=9229765&amp;str_category_code=2919100751&amp;mdiv=2919100000-bt_2_092_01-bt_2_092_01_e51&amp;ctype=B\" id=\"bt_2_092_01_e51\" title=\"【TECO 東元】101公升 一級能效定頻右開雙門冰箱(R1011S)\"><img alt=\"【TECO 東元】101公升 一級能效定頻右開雙門冰箱(R1011S)\" height=\"160\" id=\"bt_2_092_01_e52\" lazy=\"1\" org=\"//i1.momoshop.com.tw/1657011876/goodsimg/0009/229/765/9229765_L.webp\" src=\"/ecm/img/cmm/blank.png\" title=\"【TECO 東元】101公升 一級能效定頻右開雙門冰箱(R1011S)\" width=\"160\"/> <p> <span class=\"prdName\" id=\"bt_2_092_01_e53\">【TECO 東元】101公升 一級能效定頻右開雙門冰箱(R1011S)</span> <span class=\"prdPrice\">$<b><span class=\" GDS-9229765\" id=\"bt_2_092_01_p9\">6,290</span></b></span> <span class=\"sso_e52_alt\" id=\"bt_2_092_01_e54\" style=\"display:none;\">【TECO 東元】101公升 一級能效定頻右開雙門冰箱(R1011S)</span> <span class=\"sso_e52_title\" id=\"bt_2_092_01_e55\" style=\"display:none;\">【TECO 東元】101公升 一級能效定頻右開雙門冰箱(R1011S)</span> <span class=\"sso_e51_title\" id=\"bt_2_092_01_e139\" style=\"display:none;\">【TECO 東元】101公升 一級能效定頻右開雙門冰箱(R1011S)</span> </p> </a>,\n",
              " <a href=\"/goods/GoodsDetail.jsp?i_code=9461544&amp;str_category_code=2919100939&amp;mdiv=2919100000-bt_2_092_01-bt_2_092_01_e56&amp;ctype=B\" id=\"bt_2_092_01_e56\" title=\"【Kolin 歌林】90公升一級能效定頻右開雙門小冰箱(KR-SE20918 雪亮白)\"><img alt=\"【Kolin 歌林】90公升一級能效定頻右開雙門小冰箱(KR-SE20918 雪亮白)\" height=\"160\" id=\"bt_2_092_01_e57\" lazy=\"1\" org=\"//i2.momoshop.com.tw/1656567687/goodsimg/0009/461/544/9461544_L.webp\" src=\"/ecm/img/cmm/blank.png\" title=\"【Kolin 歌林】90公升一級能效定頻右開雙門小冰箱(KR-SE20918 雪亮白)\" width=\"160\"/> <p> <span class=\"prdName\" id=\"bt_2_092_01_e58\">【Kolin 歌林】90公升一級能效定頻右開雙門小冰箱(KR-SE20918 雪亮白)</span> <span class=\"prdPrice\">$<b><span class=\" GDS-9461544\" id=\"bt_2_092_01_p10\">5,888</span></b></span> <span class=\"sso_e57_alt\" id=\"bt_2_092_01_e59\" style=\"display:none;\">【Kolin 歌林】90公升一級能效定頻右開雙門小冰箱(KR-SE20918 雪亮白)</span> <span class=\"sso_e57_title\" id=\"bt_2_092_01_e60\" style=\"display:none;\">【Kolin 歌林】90公升一級能效定頻右開雙門小冰箱(KR-SE20918 雪亮白)</span> <span class=\"sso_e56_title\" id=\"bt_2_092_01_e140\" style=\"display:none;\">【Kolin 歌林】90公升一級能效定頻右開雙門小冰箱(KR-SE20918 雪亮白)</span> </p> </a>,\n",
              " <a href=\"/goods/GoodsDetail.jsp?i_code=10054075&amp;str_category_code=2919100938&amp;mdiv=2919100000-bt_2_092_01-bt_2_092_01_e61&amp;ctype=B\" id=\"bt_2_092_01_e61\" title=\"【SAMPO 聲寶】47公升二級能效獨享系列定頻右開單門小冰箱(SR-B05)\"><img alt=\"【SAMPO 聲寶】47公升二級能效獨享系列定頻右開單門小冰箱(SR-B05)\" height=\"160\" id=\"bt_2_092_01_e62\" lazy=\"1\" org=\"//i3.momoshop.com.tw/1657302618/goodsimg/0010/054/075/10054075_L.webp\" src=\"/ecm/img/cmm/blank.png\" title=\"【SAMPO 聲寶】47公升二級能效獨享系列定頻右開單門小冰箱(SR-B05)\" width=\"160\"/> <p> <span class=\"prdName\" id=\"bt_2_092_01_e63\">【SAMPO 聲寶】47公升二級能效獨享系列定頻右開單門小冰箱(SR-B05)</span> <span class=\"prdPrice\">$<b><span class=\" GDS-10054075\" id=\"bt_2_092_01_p11\">5,020</span></b></span> <span class=\"sso_e62_alt\" id=\"bt_2_092_01_e64\" style=\"display:none;\">【SAMPO 聲寶】47公升二級能效獨享系列定頻右開單門小冰箱(SR-B05)</span> <span class=\"sso_e62_title\" id=\"bt_2_092_01_e65\" style=\"display:none;\">【SAMPO 聲寶】47公升二級能效獨享系列定頻右開單門小冰箱(SR-B05)</span> <span class=\"sso_e61_title\" id=\"bt_2_092_01_e141\" style=\"display:none;\">【SAMPO 聲寶】47公升二級能效獨享系列定頻右開單門小冰箱(SR-B05)</span> </p> </a>,\n",
              " <a href=\"/goods/GoodsDetail.jsp?i_code=5875132&amp;str_category_code=2919100759&amp;mdiv=2919100000-bt_2_092_01-bt_2_092_01_e66&amp;ctype=B\" id=\"bt_2_092_01_e66\" title=\"【HERAN 禾聯】45L二級能效定頻單門冰箱(HRE-0513)\"><img alt=\"【HERAN 禾聯】45L二級能效定頻單門冰箱(HRE-0513)\" height=\"160\" id=\"bt_2_092_01_e67\" lazy=\"1\" org=\"//i4.momoshop.com.tw/1657109409/goodsimg/0005/875/132/5875132_L.webp\" src=\"/ecm/img/cmm/blank.png\" title=\"【HERAN 禾聯】45L二級能效定頻單門冰箱(HRE-0513)\" width=\"160\"/> <p> <span class=\"prdName\" id=\"bt_2_092_01_e68\">【HERAN 禾聯】45L二級能效定頻單門冰箱(HRE-0513)</span> <span class=\"prdPrice\">$<b><span class=\" GDS-5875132\" id=\"bt_2_092_01_p12\">5,090</span></b></span> <span class=\"sso_e67_alt\" id=\"bt_2_092_01_e69\" style=\"display:none;\">【HERAN 禾聯】45L二級能效定頻單門冰箱(HRE-0513)</span> <span class=\"sso_e67_title\" id=\"bt_2_092_01_e70\" style=\"display:none;\">【HERAN 禾聯】45L二級能效定頻單門冰箱(HRE-0513)</span> <span class=\"sso_e66_title\" id=\"bt_2_092_01_e142\" style=\"display:none;\">【HERAN 禾聯】45L二級能效定頻單門冰箱(HRE-0513)</span> </p> </a>,\n",
              " <a href=\"/goods/GoodsDetail.jsp?i_code=8354972&amp;str_category_code=2919100750&amp;mdiv=2919100000-bt_2_092_01-bt_2_092_01_e162&amp;ctype=B\" id=\"bt_2_092_01_e162\" title=\"【WINIA韓國煒伲雅】120L韓系復古定頻單門小冰箱(兩色可選)\"><img alt=\"【WINIA韓國煒伲雅】120L韓系復古定頻單門小冰箱(兩色可選)\" height=\"160\" id=\"bt_2_092_01_e163\" lazy=\"1\" org=\"//i1.momoshop.com.tw/1653358099/goodsimg/0008/354/972/8354972_L.webp\" src=\"/ecm/img/cmm/blank.png\" title=\"【WINIA韓國煒伲雅】120L韓系復古定頻單門小冰箱(兩色可選)\" width=\"160\"/> <p> <span class=\"prdName\" id=\"bt_2_092_01_e164\">【WINIA韓國煒伲雅】120L韓系復古定頻單門小冰箱(兩色可選)</span> <span class=\"prdPrice\">$<b><span class=\" GDS-8354972\" id=\"bt_2_092_01_p19\">13,900</span></b></span> <span class=\"sso_e163_alt\" id=\"bt_2_092_01_e165\" style=\"display:none;\">【WINIA韓國煒伲雅】120L韓系復古定頻單門小冰箱(兩色可選)</span> <span class=\"sso_e163_title\" id=\"bt_2_092_01_e166\" style=\"display:none;\">【WINIA韓國煒伲雅】120L韓系復古定頻單門小冰箱(兩色可選)</span> <span class=\"sso_e162_title\" id=\"bt_2_092_01_e167\" style=\"display:none;\">【WINIA韓國煒伲雅】120L韓系復古定頻單門小冰箱(兩色可選)</span> </p> </a>,\n",
              " <a href=\"/goods/GoodsDetail.jsp?i_code=6736978&amp;str_category_code=2919100609&amp;mdiv=2919100000-bt_2_092_01-bt_2_092_01_e71&amp;ctype=B\" id=\"bt_2_092_01_e71\" title=\"【SAMSUNG 三星】258L一級能效變頻右開雙門冰箱(RT25M4015S8/TW)\">\n",
              " <div class=\"prdGoodsImgWrap\">\n",
              " <span class=\"goodsImgTag\"><img lazy=\"2\" org=\"https://img3.momoshop.com.tw/ecm/img/online/341/2022/07/08/112227443/2022070811222744301.png?t=20220708112303\" src=\"/ecm/img/cmm/blank.png\"/></span>\n",
              " <img alt=\"【SAMSUNG 三星】258L一級能效變頻右開雙門冰箱(RT25M4015S8/TW)\" height=\"160\" id=\"bt_2_092_01_e72\" lazy=\"1\" org=\"//i2.momoshop.com.tw/1656593949/goodsimg/0006/736/978/6736978_L.webp\" src=\"/ecm/img/cmm/blank.png\" title=\"【SAMSUNG 三星】258L一級能效變頻右開雙門冰箱(RT25M4015S8/TW)\" width=\"160\"/>\n",
              " </div> <p> <span class=\"prdName\" id=\"bt_2_092_01_e73\">【SAMSUNG 三星】258L一級能效變頻右開雙門冰箱(RT25M4015S8/TW)</span> <span class=\"prdPrice\">$<b><span class=\" GDS-6736978\" id=\"bt_2_092_01_p13\">13,900</span></b></span> <span class=\"sso_e72_alt\" id=\"bt_2_092_01_e74\" style=\"display:none;\">【SAMSUNG 三星】258L一級能效變頻右開雙門冰箱(RT25M4015S8/TW)</span> <span class=\"sso_e72_title\" id=\"bt_2_092_01_e75\" style=\"display:none;\">【SAMSUNG 三星】258L一級能效變頻右開雙門冰箱(RT25M4015S8/TW)</span> <span class=\"sso_e71_title\" id=\"bt_2_092_01_e143\" style=\"display:none;\">【SAMSUNG 三星】258L一級能效變頻右開雙門冰箱(RT25M4015S8/TW)</span> </p> </a>,\n",
              " <a href=\"/goods/GoodsDetail.jsp?i_code=9671753&amp;str_category_code=2919100755&amp;mdiv=2919100000-bt_2_092_01-bt_2_092_01_e76&amp;ctype=B\" id=\"bt_2_092_01_e76\" title=\"【TECO 東元】231公升 一級能效變頻右開雙門冰箱(R2311XHS)\"><img alt=\"【TECO 東元】231公升 一級能效變頻右開雙門冰箱(R2311XHS)\" height=\"160\" id=\"bt_2_092_01_e77\" lazy=\"1\" org=\"//i3.momoshop.com.tw/1657273406/goodsimg/0009/671/753/9671753_L.webp\" src=\"/ecm/img/cmm/blank.png\" title=\"【TECO 東元】231公升 一級能效變頻右開雙門冰箱(R2311XHS)\" width=\"160\"/> <p> <span class=\"prdName\" id=\"bt_2_092_01_e78\">【TECO 東元】231公升 一級能效變頻右開雙門冰箱(R2311XHS)</span> <span class=\"prdPrice\">$<b><span class=\" GDS-9671753\" id=\"bt_2_092_01_p14\">14,490</span></b></span> <span class=\"sso_e77_alt\" id=\"bt_2_092_01_e79\" style=\"display:none;\">【TECO 東元】231公升 一級能效變頻右開雙門冰箱(R2311XHS)</span> <span class=\"sso_e77_title\" id=\"bt_2_092_01_e80\" style=\"display:none;\">【TECO 東元】231公升 一級能效變頻右開雙門冰箱(R2311XHS)</span> <span class=\"sso_e76_title\" id=\"bt_2_092_01_e144\" style=\"display:none;\">【TECO 東元】231公升 一級能效變頻右開雙門冰箱(R2311XHS)</span> </p> </a>,\n",
              " <a href=\"/goods/GoodsDetail.jsp?i_code=9858639&amp;str_category_code=2919100576&amp;mdiv=2919100000-bt_2_092_01-bt_2_092_01_e81&amp;ctype=B\" id=\"bt_2_092_01_e81\" title=\"【Whirlpool 惠而浦】250公升一級能效變頻上下門冰箱-極光銀(WTI2920A)\">\n",
              " <div class=\"prdGoodsImgWrap\">\n",
              " <span class=\"goodsImgTag\"><img lazy=\"2\" org=\"https://img3.momoshop.com.tw/ecm/img/online/341/2022/07/06/175701357/2022070617570135701.png?t=20220706175713\" src=\"/ecm/img/cmm/blank.png\"/></span>\n",
              " <img alt=\"【Whirlpool 惠而浦】250公升一級能效變頻上下門冰箱-極光銀(WTI2920A)\" height=\"160\" id=\"bt_2_092_01_e82\" lazy=\"1\" org=\"//i4.momoshop.com.tw/1656607307/goodsimg/0009/858/639/9858639_L.webp\" src=\"/ecm/img/cmm/blank.png\" title=\"【Whirlpool 惠而浦】250公升一級能效變頻上下門冰箱-極光銀(WTI2920A)\" width=\"160\"/>\n",
              " </div> <p> <span class=\"prdName\" id=\"bt_2_092_01_e83\">【Whirlpool 惠而浦】250公升一級能效變頻上下門冰箱-極光銀(WTI2920A)</span> <span class=\"prdPrice\">$<b><span class=\" GDS-9858639\" id=\"bt_2_092_01_p15\">14,900</span></b></span> <span class=\"sso_e82_alt\" id=\"bt_2_092_01_e84\" style=\"display:none;\">【Whirlpool 惠而浦】250公升一級能效變頻上下門冰箱-極光銀(WTI2920A)</span> <span class=\"sso_e82_title\" id=\"bt_2_092_01_e85\" style=\"display:none;\">【Whirlpool 惠而浦】250公升一級能效變頻上下門冰箱-極光銀(WTI2920A)</span> <span class=\"sso_e81_title\" id=\"bt_2_092_01_e145\" style=\"display:none;\">【Whirlpool 惠而浦】250公升一級能效變頻上下門冰箱-極光銀(WTI2920A)</span> </p> </a>,\n",
              " <a href=\"/goods/GoodsDetail.jsp?i_code=9713048&amp;str_category_code=2919100751&amp;mdiv=2919100000-bt_2_092_01-bt_2_092_01_e86&amp;ctype=B\" id=\"bt_2_092_01_e86\" title=\"【LG 樂金】208公升一級能效變頻右開上下門冰箱(GN-L297SV)\"><img alt=\"【LG 樂金】208公升一級能效變頻右開上下門冰箱(GN-L297SV)\" height=\"160\" id=\"bt_2_092_01_e87\" lazy=\"1\" org=\"//i1.momoshop.com.tw/1656587371/goodsimg/0009/713/048/9713048_L.webp\" src=\"/ecm/img/cmm/blank.png\" title=\"【LG 樂金】208公升一級能效變頻右開上下門冰箱(GN-L297SV)\" width=\"160\"/> <p> <span class=\"prdName\" id=\"bt_2_092_01_e88\">【LG 樂金】208公升一級能效變頻右開上下門冰箱(GN-L297SV)</span> <span class=\"prdPrice\">$<b><span class=\" GDS-9713048\" id=\"bt_2_092_01_p16\">13,490</span></b></span> <span class=\"sso_e87_alt\" id=\"bt_2_092_01_e89\" style=\"display:none;\">【LG 樂金】208公升一級能效變頻右開上下門冰箱(GN-L297SV)</span> <span class=\"sso_e87_title\" id=\"bt_2_092_01_e90\" style=\"display:none;\">【LG 樂金】208公升一級能效變頻右開上下門冰箱(GN-L297SV)</span> <span class=\"sso_e86_title\" id=\"bt_2_092_01_e146\" style=\"display:none;\">【LG 樂金】208公升一級能效變頻右開上下門冰箱(GN-L297SV)</span> </p> </a>,\n",
              " <a href=\"/goods/GoodsDetail.jsp?i_code=9713460&amp;str_category_code=2919100762&amp;mdiv=2919100000-bt_2_092_01-bt_2_092_01_e169&amp;ctype=B\" id=\"bt_2_092_01_e169\" title=\"【LG 樂金】315公升一級能效變頻右開上下門冰箱(GN-L397SV)\">\n",
              " <div class=\"prdGoodsImgWrap\">\n",
              " <span class=\"goodsImgTag\"><img lazy=\"2\" org=\"https://img2.momoshop.com.tw/ecm/img/online/341/2022/07/06/175701357/2022070617570135701.png?t=20220706175713\" src=\"/ecm/img/cmm/blank.png\"/></span>\n",
              " <img alt=\"【LG 樂金】315公升一級能效變頻右開上下門冰箱(GN-L397SV)\" height=\"160\" id=\"bt_2_092_01_e170\" lazy=\"1\" org=\"//i2.momoshop.com.tw/1656587291/goodsimg/0009/713/460/9713460_L.webp\" src=\"/ecm/img/cmm/blank.png\" title=\"【LG 樂金】315公升一級能效變頻右開上下門冰箱(GN-L397SV)\" width=\"160\"/>\n",
              " </div> <p> <span class=\"prdName\" id=\"bt_2_092_01_e171\">【LG 樂金】315公升一級能效變頻右開上下門冰箱(GN-L397SV)</span> <span class=\"prdPrice\">$<b><span class=\" GDS-9713460\" id=\"bt_2_092_01_p20\">19,465</span></b></span> <span class=\"sso_e170_alt\" id=\"bt_2_092_01_e172\" style=\"display:none;\">【LG 樂金】315公升一級能效變頻右開上下門冰箱(GN-L397SV)</span> <span class=\"sso_e170_title\" id=\"bt_2_092_01_e173\" style=\"display:none;\">【LG 樂金】315公升一級能效變頻右開上下門冰箱(GN-L397SV)</span> <span class=\"sso_e169_title\" id=\"bt_2_092_01_e174\" style=\"display:none;\">【LG 樂金】315公升一級能效變頻右開上下門冰箱(GN-L397SV)</span> </p> </a>,\n",
              " <a href=\"/goods/GoodsDetail.jsp?i_code=6269982&amp;str_category_code=2919100921&amp;mdiv=2919100000-bt_2_106_03-bt_2_106_03_e1&amp;ctype=B\" id=\"bt_2_106_03_e1\" title=\"momo\"> <h3><img height=\"60\" id=\"bt_2_106_03_e3\" lazy=\"2\" org=\"//img1.momoshop.com.tw/ecm/img/online/29/191/00/000/bt_2_106_03/bt_2_106_03_e3.jpg?t=1656386866387\" src=\"/ecm/img/cmm/blank.png\" width=\"248\"/></h3> <img alt=\"momo\" height=\"248\" id=\"bt_2_106_03_e2\" lazy=\"2\" org=\"//i3.momoshop.com.tw/1656654157/goodsimg/0006/269/982/6269982_L.webp\" src=\"/ecm/img/cmm/blank.png\" title=\"momo\" width=\"248\"/> <p> <span class=\"prdName\" id=\"bt_2_106_03_e4\">【Frigidaire富及第】338L一級能效定頻雙門冰箱(FFET1222QW / FFET1226QM福利品)</span> <span class=\"prdPrice\">$<b class=\" GDS-6269982\" id=\"bt_2_106_03_p1\">14,900</b></span> </p> <span class=\"sso_e2_alt\" id=\"bt_2_097_01_e5\" style=\"display:none;\"></span> <span class=\"sso_e2_title\" id=\"bt_2_097_01_e6\" style=\"display:none;\"></span> <span class=\"sso_e1_title\" id=\"bt_2_097_01_e7\" style=\"display:none;\"></span> </a>,\n",
              " <a href=\"/goods/GoodsDetail.jsp?i_code=9713042&amp;str_category_code=2919100764&amp;mdiv=2919100000-bt_2_106_03-bt_2_106_03_e8&amp;ctype=B\" id=\"bt_2_106_03_e8\" title=\"momo\"> <h3><img height=\"60\" id=\"bt_2_106_03_e10\" lazy=\"2\" org=\"//img1.momoshop.com.tw/ecm/img/online/29/191/00/000/bt_2_106_03/bt_2_106_03_e10.jpg?t=1656386866390\" src=\"/ecm/img/cmm/blank.png\" width=\"248\"/></h3>\n",
              " <div class=\"prdGoodsImgWrap\">\n",
              " <span class=\"goodsImgTag\"><img lazy=\"2\" org=\"https://img1.momoshop.com.tw/ecm/img/online/341/2022/07/06/175352712/2022070617535271201.png?t=20220706175422\" src=\"/ecm/img/cmm/blank.png\"/></span>\n",
              " <img alt=\"momo\" height=\"248\" id=\"bt_2_106_03_e9\" lazy=\"2\" org=\"//i4.momoshop.com.tw/1656587123/goodsimg/0009/713/042/9713042_L.webp\" src=\"/ecm/img/cmm/blank.png\" title=\"momo\" width=\"248\"/>\n",
              " </div> <p> <span class=\"prdName\" id=\"bt_2_106_03_e11\">【Whirlpool 惠而浦】590L智能溫度控制變頻對開門冰箱(WHX620SS)</span> <span class=\"prdPrice\">$<b class=\" GDS-9713042\" id=\"bt_2_106_03_p2\">39,900</b></span> </p> <span class=\"sso_e9_alt\" id=\"bt_2_097_01_e12\" style=\"display:none;\"></span> <span class=\"sso_e9_title\" id=\"bt_2_097_01_e13\" style=\"display:none;\"></span> <span class=\"sso_e8_title\" id=\"bt_2_097_01_e14\" style=\"display:none;\"></span> </a>,\n",
              " <a href=\"/goods/GoodsDetail.jsp?i_code=7807395&amp;str_category_code=2919100752&amp;mdiv=2919100000-bt_2_106_03-bt_2_106_03_e15&amp;ctype=B\" id=\"bt_2_106_03_e15\" title=\"momo\"> <h3><img height=\"60\" id=\"bt_2_106_03_e17\" lazy=\"2\" org=\"//img1.momoshop.com.tw/ecm/img/online/29/191/00/000/bt_2_106_03/bt_2_106_03_e17.jpg?t=1656386866393\" src=\"/ecm/img/cmm/blank.png\" width=\"248\"/></h3> <img alt=\"momo\" height=\"248\" id=\"bt_2_106_03_e16\" lazy=\"2\" org=\"//i1.momoshop.com.tw/1656570887/goodsimg/0007/807/395/7807395_L.webp\" src=\"/ecm/img/cmm/blank.png\" title=\"momo\" width=\"248\"/> <p> <span class=\"prdName\" id=\"bt_2_106_03_e18\">【Kolin 歌林】125公升二級能效精緻定頻右開雙門冰箱KR-213S03-銀色(送基本安裝/舊機回收)</span> <span class=\"prdPrice\">$<b class=\" GDS-7807395\" id=\"bt_2_106_03_p3\">9,393</b></span> </p> <span class=\"sso_e16_alt\" id=\"bt_2_097_01_e19\" style=\"display:none;\"></span> <span class=\"sso_e16_title\" id=\"bt_2_097_01_e20\" style=\"display:none;\"></span> <span class=\"sso_e15_title\" id=\"bt_2_097_01_e21\" style=\"display:none;\"></span> </a>,\n",
              " <a href=\"/goods/GoodsDetail.jsp?i_code=9229765&amp;str_category_code=2919100751&amp;mdiv=2919100000-bt_2_106_03-bt_2_106_03_e22&amp;ctype=B\" id=\"bt_2_106_03_e22\" title=\"momo\"> <h3><img height=\"60\" id=\"bt_2_106_03_e24\" lazy=\"2\" org=\"//img1.momoshop.com.tw/ecm/img/online/29/191/00/000/bt_2_106_03/bt_2_106_03_e24.jpg?t=1656386866395\" src=\"/ecm/img/cmm/blank.png\" width=\"248\"/></h3> <img alt=\"momo\" height=\"248\" id=\"bt_2_106_03_e23\" lazy=\"2\" org=\"//i2.momoshop.com.tw/1657011876/goodsimg/0009/229/765/9229765_L.webp\" src=\"/ecm/img/cmm/blank.png\" title=\"momo\" width=\"248\"/> <p> <span class=\"prdName\" id=\"bt_2_106_03_e25\">【TECO 東元】101公升 一級能效定頻右開雙門冰箱(R1011S)</span> <span class=\"prdPrice\">$<b class=\" GDS-9229765\" id=\"bt_2_106_03_p4\">6,290</b></span> </p> <span class=\"sso_e23_alt\" id=\"bt_2_097_01_e26\" style=\"display:none;\"></span> <span class=\"sso_e23_title\" id=\"bt_2_097_01_e27\" style=\"display:none;\"></span> <span class=\"sso_e22_title\" id=\"bt_2_097_01_e28\" style=\"display:none;\"></span> </a>,\n",
              " <a href=\"/goods/GoodsDetail.jsp?i_code=9713048&amp;str_category_code=2919100751&amp;mdiv=2919100000-bt_2_106_01-bt_2_106_01_e1&amp;ctype=B\" id=\"bt_2_106_01_e1\" title=\"momo\"> <h3><img height=\"60\" id=\"bt_2_106_01_e3\" lazy=\"2\" org=\"//img3.momoshop.com.tw/ecm/img/online/29/191/00/000/bt_2_106_01/bt_2_106_01_e3.jpg?t=1656386908169\" src=\"/ecm/img/cmm/blank.png\" width=\"248\"/></h3> <img alt=\"momo\" height=\"248\" id=\"bt_2_106_01_e2\" lazy=\"2\" org=\"//i3.momoshop.com.tw/1656587371/goodsimg/0009/713/048/9713048_L.webp\" src=\"/ecm/img/cmm/blank.png\" title=\"momo\" width=\"248\"/> <p> <span class=\"prdName\" id=\"bt_2_106_01_e4\">【LG 樂金】208公升一級能效變頻右開上下門冰箱(GN-L297SV)</span> <span class=\"prdPrice\">$<b class=\" GDS-9713048\" id=\"bt_2_106_01_p1\">13,490</b></span> </p> <span class=\"sso_e2_alt\" id=\"bt_2_097_01_e5\" style=\"display:none;\"></span> <span class=\"sso_e2_title\" id=\"bt_2_097_01_e6\" style=\"display:none;\"></span> <span class=\"sso_e1_title\" id=\"bt_2_097_01_e7\" style=\"display:none;\"></span> </a>,\n",
              " <a href=\"/goods/GoodsDetail.jsp?i_code=9216207&amp;str_category_code=2919100760&amp;mdiv=2919100000-bt_2_106_01-bt_2_106_01_e8&amp;ctype=B\" id=\"bt_2_106_01_e8\" title=\"momo\"> <h3><img height=\"60\" id=\"bt_2_106_01_e10\" lazy=\"2\" org=\"//img3.momoshop.com.tw/ecm/img/online/29/191/00/000/bt_2_106_01/bt_2_106_01_e10.jpg?t=1656386908172\" src=\"/ecm/img/cmm/blank.png\" width=\"248\"/></h3> <img alt=\"momo\" height=\"248\" id=\"bt_2_106_01_e9\" lazy=\"2\" org=\"//i4.momoshop.com.tw/1655453033/goodsimg/0009/216/207/9216207_L.webp\" src=\"/ecm/img/cmm/blank.png\" title=\"momo\" width=\"248\"/> <p> <span class=\"prdName\" id=\"bt_2_106_01_e11\">【SANLUX 台灣三洋】128公升一級能效雙門定頻冰箱(SR-C125B1)</span> <span class=\"prdPrice\">$<b class=\" GDS-9216207\" id=\"bt_2_106_01_p2\">8,990</b></span> </p> <span class=\"sso_e9_alt\" id=\"bt_2_097_01_e12\" style=\"display:none;\"></span> <span class=\"sso_e9_title\" id=\"bt_2_097_01_e13\" style=\"display:none;\"></span> <span class=\"sso_e8_title\" id=\"bt_2_097_01_e14\" style=\"display:none;\"></span> </a>,\n",
              " <a href=\"/goods/GoodsDetail.jsp?i_code=9113924&amp;str_category_code=2919100761&amp;mdiv=2919100000-bt_2_106_01-bt_2_106_01_e15&amp;ctype=B\" id=\"bt_2_106_01_e15\" title=\"momo\"> <h3><img height=\"60\" id=\"bt_2_106_01_e17\" lazy=\"2\" org=\"//img3.momoshop.com.tw/ecm/img/online/29/191/00/000/bt_2_106_01/bt_2_106_01_e17.jpg?t=1656386908175\" src=\"/ecm/img/cmm/blank.png\" width=\"248\"/></h3>\n",
              " <div class=\"prdGoodsImgWrap\">\n",
              " <span class=\"goodsImgTag\"><img lazy=\"2\" org=\"https://img1.momoshop.com.tw/ecm/img/online/341/2022/07/07/191626267/2022070719162626701.png?t=20220707191759\" src=\"/ecm/img/cmm/blank.png\"/></span>\n",
              " <img alt=\"momo\" height=\"248\" id=\"bt_2_106_01_e16\" lazy=\"2\" org=\"//i1.momoshop.com.tw/1656595866/goodsimg/0009/113/924/9113924_L.webp\" src=\"/ecm/img/cmm/blank.png\" title=\"momo\" width=\"248\"/>\n",
              " </div> <p> <span class=\"prdName\" id=\"bt_2_106_01_e18\">【TATUNG 大同】250L變頻雙門冰箱(TR-B1255VHR)</span> <span class=\"prdPrice\">$<b class=\" GDS-9113924\" id=\"bt_2_106_01_p3\">13,618</b></span> </p> <span class=\"sso_e16_alt\" id=\"bt_2_097_01_e19\" style=\"display:none;\"></span> <span class=\"sso_e16_title\" id=\"bt_2_097_01_e20\" style=\"display:none;\"></span> <span class=\"sso_e15_title\" id=\"bt_2_097_01_e21\" style=\"display:none;\"></span> </a>,\n",
              " <a href=\"/goods/GoodsDetail.jsp?i_code=5072658&amp;str_category_code=2919100848&amp;mdiv=2919100000-bt_2_106_01-bt_2_106_01_e22&amp;ctype=B\" id=\"bt_2_106_01_e22\" title=\"momo\"> <h3><img height=\"60\" id=\"bt_2_106_01_e24\" lazy=\"2\" org=\"//img3.momoshop.com.tw/ecm/img/online/29/191/00/000/bt_2_106_01/bt_2_106_01_e24.jpg?t=1656386908178\" src=\"/ecm/img/cmm/blank.png\" width=\"248\"/></h3>\n",
              " <div class=\"prdGoodsImgWrap\">\n",
              " <span class=\"goodsImgTag\"><img lazy=\"2\" org=\"https://img2.momoshop.com.tw/ecm/img/online/341/2022/06/30/212709754/2022063021270975401.png?t=20220701085826\" src=\"/ecm/img/cmm/blank.png\"/></span>\n",
              " <img alt=\"momo\" height=\"248\" id=\"bt_2_106_01_e23\" lazy=\"2\" org=\"//i2.momoshop.com.tw/1656596759/goodsimg/0005/072/658/5072658_L.webp\" src=\"/ecm/img/cmm/blank.png\" title=\"momo\" width=\"248\"/>\n",
              " </div> <p> <span class=\"prdName\" id=\"bt_2_106_01_e25\">【HITACHI 日立】594L變頻四門對開冰箱(RG616)</span> <span class=\"prdPrice\">$<b class=\" GDS-5072658\" id=\"bt_2_106_01_p4\">35,615</b></span> </p> <span class=\"sso_e23_alt\" id=\"bt_2_097_01_e26\" style=\"display:none;\"></span> <span class=\"sso_e23_title\" id=\"bt_2_097_01_e27\" style=\"display:none;\"></span> <span class=\"sso_e22_title\" id=\"bt_2_097_01_e28\" style=\"display:none;\"></span> </a>,\n",
              " <a href=\"?mdiv=2919100000-bt_2_095_02-&amp;ctype=B\">1</a>,\n",
              " <a href=\"?mdiv=2919100000-bt_2_095_02-&amp;ctype=B\">2</a>,\n",
              " <a href=\"?mdiv=2919100000-bt_2_095_02-&amp;ctype=B\">3</a>,\n",
              " <a href=\"https://www.momoshop.com.tw/category/DgrpCategory.jsp?d_code=2919101009&amp;sourcePageType=4&amp;mdiv=2919100000-bt_2_097_05-bt_2_097_05_e6&amp;ctype=B\" id=\"bt_2_097_05_e6\" title=\"momo\"> <img alt=\"momo\" height=\"290\" id=\"bt_2_097_05_e7\" lazy=\"2\" org=\"//img4.momoshop.com.tw/ecm/img/online/29/191/00/000/bt_2_097_05/bt_2_097_05_e7.jpg?t=1654143235816\" src=\"/ecm/img/cmm/blank.png\" title=\"momo\" width=\"210\"/> <p> <span class=\"prdName\" id=\"bt_2_097_05_e8\"></span> <span class=\"prdPrice\">$<b id=\"bt_2_097_05_p1\"></b></span> <span class=\"sso_e7_alt\" id=\"bt_2_097_05_e9\" style=\"display:none;\"></span> <span class=\"sso_e7_title\" id=\"bt_2_097_05_e10\" style=\"display:none;\"></span> <span class=\"sso_e6_title\" id=\"bt_2_097_05_e11\" style=\"display:none;\"></span> </p> </a>,\n",
              " <a href=\"/goods/GoodsDetail.jsp?i_code=9084170&amp;str_category_code=2919100755&amp;mdiv=2919100000-bt_2_097_05-bt_2_097_05_e12&amp;ctype=B\" id=\"bt_2_097_05_e12\" title=\"【SAMPO 聲寶】460公升二級能效變頻右開雙門冰箱(SR-M460D)\">\n",
              " <div class=\"prdGoodsImgWrap\">\n",
              " <span class=\"goodsImgTag\"><img lazy=\"2\" org=\"https://img2.momoshop.com.tw/ecm/img/online/341/2022/06/29/215349102/2022062921534910201.png?t=20220630190254\" src=\"/ecm/img/cmm/blank.png\"/></span>\n",
              " <img alt=\"【SAMPO 聲寶】460公升二級能效變頻右開雙門冰箱(SR-M460D)\" height=\"110\" id=\"bt_2_097_05_e13\" lazy=\"2\" org=\"//i2.momoshop.com.tw/1657278468/goodsimg/0009/084/170/9084170_L.webp\" src=\"/ecm/img/cmm/blank.png\" title=\"【SAMPO 聲寶】460公升二級能效變頻右開雙門冰箱(SR-M460D)\" width=\"110\"/>\n",
              " </div> <p> <span class=\"prdName\" id=\"bt_2_097_05_e14\">【SAMPO 聲寶】460公升二級能效變頻右開雙門冰箱(SR-M460D)</span> <span class=\"prdPrice\">$<b class=\" GDS-9084170\" id=\"bt_2_097_05_p2\">17,777</b></span> <span class=\"sso_e13_alt\" id=\"bt_2_097_05_e15\" style=\"display:none;\">【SAMPO 聲寶】460公升二級能效變頻右開雙門冰箱(SR-M460D)</span> <span class=\"sso_e13_title\" id=\"bt_2_097_05_e16\" style=\"display:none;\">【SAMPO 聲寶】460公升二級能效變頻右開雙門冰箱(SR-M460D)</span> <span class=\"sso_e12_title\" id=\"bt_2_097_05_e17\" style=\"display:none;\">【SAMPO 聲寶】460公升二級能效變頻右開雙門冰箱(SR-M460D)</span> </p> </a>,\n",
              " <a href=\"/goods/GoodsDetail.jsp?i_code=7180887&amp;str_category_code=2919100609&amp;mdiv=2919100000-bt_2_097_05-bt_2_097_05_e18&amp;ctype=B\" id=\"bt_2_097_05_e18\" title=\"【SAMPO 聲寶】★MOMO獨家★530公升 時尚變頻右開三門冰箱(SR-M530DV)\">\n",
              " <div class=\"prdGoodsImgWrap\">\n",
              " <span class=\"goodsImgTag\"><img lazy=\"2\" org=\"https://img4.momoshop.com.tw/ecm/img/online/341/2022/06/29/215349102/2022062921534910201.png?t=20220630190254\" src=\"/ecm/img/cmm/blank.png\"/></span>\n",
              " <img alt=\"【SAMPO 聲寶】★MOMO獨家★530公升 時尚變頻右開三門冰箱(SR-M530DV)\" height=\"110\" id=\"bt_2_097_05_e19\" lazy=\"2\" org=\"//i3.momoshop.com.tw/1653673745/goodsimg/0007/180/887/7180887_L.webp\" src=\"/ecm/img/cmm/blank.png\" title=\"【SAMPO 聲寶】★MOMO獨家★530公升 時尚變頻右開三門冰箱(SR-M530DV)\" width=\"110\"/>\n",
              " </div> <p> <span class=\"prdName\" id=\"bt_2_097_05_e20\">【SAMPO 聲寶】★MOMO獨家★530公升 時尚變頻右開三門冰箱(SR-M530DV)</span> <span class=\"prdPrice\">$<b class=\" GDS-7180887\" id=\"bt_2_097_05_p3\">22,677</b></span> <span class=\"sso_e19_alt\" id=\"bt_2_097_05_e21\" style=\"display:none;\">【SAMPO 聲寶】★MOMO獨家★530公升 時尚變頻右開三門冰箱(SR-M530DV)</span> <span class=\"sso_e19_title\" id=\"bt_2_097_05_e22\" style=\"display:none;\">【SAMPO 聲寶】★MOMO獨家★530公升 時尚變頻右開三門冰箱(SR-M530DV)</span> <span class=\"sso_e18_title\" id=\"bt_2_097_05_e23\" style=\"display:none;\">【SAMPO 聲寶】★MOMO獨家★530公升 時尚變頻右開三門冰箱(SR-M530DV)</span> </p> </a>,\n",
              " <a href=\"/goods/GoodsDetail.jsp?i_code=10160587&amp;str_category_code=2919101009&amp;mdiv=2919100000-bt_2_097_05-bt_2_097_05_e149&amp;ctype=B\" id=\"bt_2_097_05_e149\" title=\"【SAMPO 聲寶】★MOMO獨家★205公升一級變頻右開雙門冰箱(SR-M20D)\">\n",
              " <div class=\"prdGoodsImgWrap\">\n",
              " <span class=\"goodsImgTag\"><img lazy=\"2\" org=\"https://img3.momoshop.com.tw/ecm/img/online/341/2022/06/29/215349102/2022062921534910201.png?t=20220630190254\" src=\"/ecm/img/cmm/blank.png\"/></span>\n",
              " <img alt=\"【SAMPO 聲寶】★MOMO獨家★205公升一級變頻右開雙門冰箱(SR-M20D)\" height=\"110\" id=\"bt_2_097_05_e150\" lazy=\"2\" org=\"//i4.momoshop.com.tw/1657302029/goodsimg/0010/160/587/10160587_L.webp\" src=\"/ecm/img/cmm/blank.png\" title=\"【SAMPO 聲寶】★MOMO獨家★205公升一級變頻右開雙門冰箱(SR-M20D)\" width=\"110\"/>\n",
              " </div> <p> <span class=\"prdName\" id=\"bt_2_097_05_e151\">【SAMPO 聲寶】★MOMO獨家★205公升一級變頻右開雙門冰箱(SR-M20D)</span> <span class=\"prdPrice\">$<b class=\" GDS-10160587\" id=\"bt_2_097_05_p25\">13,900</b></span> <span class=\"sso_e150_alt\" id=\"bt_2_097_05_e152\" style=\"display:none;\">【SAMPO 聲寶】★MOMO獨家★205公升一級變頻右開雙門冰箱(SR-M20D)</span> <span class=\"sso_e150_title\" id=\"bt_2_097_05_e153\" style=\"display:none;\">【SAMPO 聲寶】★MOMO獨家★205公升一級變頻右開雙門冰箱(SR-M20D)</span> <span class=\"sso_e149_title\" id=\"bt_2_097_05_e154\" style=\"display:none;\">【SAMPO 聲寶】★MOMO獨家★205公升一級變頻右開雙門冰箱(SR-M20D)</span> </p> </a>,\n",
              " <a href=\"/goods/GoodsDetail.jsp?i_code=10160574&amp;str_category_code=2919100751&amp;mdiv=2919100000-bt_2_097_05-bt_2_097_05_e155&amp;ctype=B\" id=\"bt_2_097_05_e155\" title=\"【SAMPO 聲寶】★MOMO獨家★340公升一級變頻右開雙門冰箱(SR-M34D)\">\n",
              " <div class=\"prdGoodsImgWrap\">\n",
              " <span class=\"goodsImgTag\"><img lazy=\"2\" org=\"https://img1.momoshop.com.tw/ecm/img/online/341/2022/06/29/215349102/2022062921534910201.png?t=20220630190254\" src=\"/ecm/img/cmm/blank.png\"/></span>\n",
              " <img alt=\"【SAMPO 聲寶】★MOMO獨家★340公升一級變頻右開雙門冰箱(SR-M34D)\" height=\"110\" id=\"bt_2_097_05_e156\" lazy=\"2\" org=\"//i1.momoshop.com.tw/1657302029/goodsimg/0010/160/574/10160574_L.webp\" src=\"/ecm/img/cmm/blank.png\" title=\"【SAMPO 聲寶】★MOMO獨家★340公升一級變頻右開雙門冰箱(SR-M34D)\" width=\"110\"/>\n",
              " </div> <p> <span class=\"prdName\" id=\"bt_2_097_05_e157\">【SAMPO 聲寶】★MOMO獨家★340公升一級變頻右開雙門冰箱(SR-M34D)</span> <span class=\"prdPrice\">$<b class=\" GDS-10160574\" id=\"bt_2_097_05_p26\">17,900</b></span> <span class=\"sso_e156_alt\" id=\"bt_2_097_05_e158\" style=\"display:none;\">【SAMPO 聲寶】★MOMO獨家★340公升一級變頻右開雙門冰箱(SR-M34D)</span> <span class=\"sso_e156_title\" id=\"bt_2_097_05_e159\" style=\"display:none;\">【SAMPO 聲寶】★MOMO獨家★340公升一級變頻右開雙門冰箱(SR-M34D)</span> <span class=\"sso_e155_title\" id=\"bt_2_097_05_e160\" style=\"display:none;\">【SAMPO 聲寶】★MOMO獨家★340公升一級變頻右開雙門冰箱(SR-M34D)</span> </p> </a>,\n",
              " <a href=\"https://www.momoshop.com.tw/category/DgrpCategory.jsp?d_code=2919100049&amp;p_orderType=6&amp;showType=chessboardType&amp;mdiv=2919100000-bt_2_097_05-bt_2_097_05_e24&amp;ctype=B\" id=\"bt_2_097_05_e24\" title=\"momo\"> <img alt=\"momo\" height=\"290\" id=\"bt_2_097_05_e25\" lazy=\"2\" org=\"//img2.momoshop.com.tw/ecm/img/online/29/191/00/000/bt_2_097_05/bt_2_097_05_e25.jpg?t=1654482429059\" src=\"/ecm/img/cmm/blank.png\" title=\"momo\" width=\"210\"/> <p> <span class=\"prdName\" id=\"bt_2_097_05_e26\"></span> <span class=\"prdPrice\">$<b id=\"bt_2_097_05_p4\"></b></span> <span class=\"sso_e25_alt\" id=\"bt_2_097_05_e27\" style=\"display:none;\"></span> <span class=\"sso_e25_title\" id=\"bt_2_097_05_e28\" style=\"display:none;\"></span> <span class=\"sso_e24_title\" id=\"bt_2_097_05_e29\" style=\"display:none;\"></span> </p> </a>,\n",
              " <a href=\"/goods/GoodsDetail.jsp?i_code=7649205&amp;str_category_code=2919100921&amp;mdiv=2919100000-bt_2_097_05-bt_2_097_05_e30&amp;ctype=B\" id=\"bt_2_097_05_e30\" title=\"【Frigidaire 富及第】90L 1級省電雙門小冰箱 福利品(FRT-0904M/FRT-0906M/FRT-0908M)\"> <img alt=\"【Frigidaire 富及第】90L 1級省電雙門小冰箱 福利品(FRT-0904M/FRT-0906M/FRT-0908M)\" height=\"110\" id=\"bt_2_097_05_e31\" lazy=\"2\" org=\"//i2.momoshop.com.tw/1656654118/goodsimg/0007/649/205/7649205_L.webp\" src=\"/ecm/img/cmm/blank.png\" title=\"【Frigidaire 富及第】90L 1級省電雙門小冰箱 福利品(FRT-0904M/FRT-0906M/FRT-0908M)\" width=\"110\"/> <p> <span class=\"prdName\" id=\"bt_2_097_05_e32\">【Frigidaire 富及第】90L 1級省電雙門小冰箱 福利品(FRT-0904M/FRT-0906M/FRT-0908M)</span> <span class=\"prdPrice\">$<b class=\" GDS-7649205\" id=\"bt_2_097_05_p5\">6,999</b></span> <span class=\"sso_e31_alt\" id=\"bt_2_097_05_e33\" style=\"display:none;\">【Frigidaire 富及第】90L 1級省電雙門小冰箱 福利品(FRT-0904M/FRT-0906M/FRT-0908M)</span> <span class=\"sso_e31_title\" id=\"bt_2_097_05_e34\" style=\"display:none;\">【Frigidaire 富及第】90L 1級省電雙門小冰箱 福利品(FRT-0904M/FRT-0906M/FRT-0908M)</span> <span class=\"sso_e30_title\" id=\"bt_2_097_05_e35\" style=\"display:none;\">【Frigidaire 富及第】90L 1級省電雙門小冰箱 福利品(FRT-0904M/FRT-0906M/FRT-0908M)</span> </p> </a>,\n",
              " <a href=\"/goods/GoodsDetail.jsp?i_code=10193694&amp;str_category_code=2919100755&amp;mdiv=2919100000-bt_2_097_05-bt_2_097_05_e36&amp;ctype=B\" id=\"bt_2_097_05_e36\" title=\"【Frigidaire 富及第】90L 1級省電雙門小冰箱 銀 福利品+4.5KG全自動迷你洗衣機(FRT-0908M+FAW-0451S)\"> <img alt=\"【Frigidaire 富及第】90L 1級省電雙門小冰箱 銀 福利品+4.5KG全自動迷你洗衣機(FRT-0908M+FAW-0451S)\" height=\"110\" id=\"bt_2_097_05_e37\" lazy=\"2\" org=\"//i3.momoshop.com.tw/1656654129/goodsimg/0010/193/694/10193694_L.webp\" src=\"/ecm/img/cmm/blank.png\" title=\"【Frigidaire 富及第】90L 1級省電雙門小冰箱 銀 福利品+4.5KG全自動迷你洗衣機(FRT-0908M+FAW-0451S)\" width=\"110\"/> <p> <span class=\"prdName\" id=\"bt_2_097_05_e38\">【Frigidaire 富及第】90L 1級省電雙門小冰箱 銀 福利品+4.5KG全自動迷你洗衣機(FRT-0908M+FAW-0451S)</span> <span class=\"prdPrice\">$<b class=\" GDS-10193694\" id=\"bt_2_097_05_p6\">11,900</b></span> <span class=\"sso_e37_alt\" id=\"bt_2_097_05_e39\" style=\"display:none;\">【Frigidaire 富及第】90L 1級省電雙門小冰箱 銀 福利品+4.5KG全自動迷你洗衣機(FRT-0908M+FAW-0451S)</span> <span class=\"sso_e37_title\" id=\"bt_2_097_05_e40\" style=\"display:none;\">【Frigidaire 富及第】90L 1級省電雙門小冰箱 銀 福利品+4.5KG全自動迷你洗衣機(FRT-0908M+FAW-0451S)</span> <span class=\"sso_e36_title\" id=\"bt_2_097_05_e41\" style=\"display:none;\">【Frigidaire 富及第】90L 1級省電雙門小冰箱 銀 福利品+4.5KG全自動迷你洗衣機(FRT-0908M+FAW-0451S)</span> </p> </a>,\n",
              " <a href=\"/goods/GoodsDetail.jsp?i_code=6269982&amp;str_category_code=2919100921&amp;mdiv=2919100000-bt_2_097_05-bt_2_097_05_e161&amp;ctype=B\" id=\"bt_2_097_05_e161\" title=\"【Frigidaire富及第】338L一級能效定頻雙門冰箱(FFET1222QW / FFET1226QM福利品)\"> <img alt=\"【Frigidaire富及第】338L一級能效定頻雙門冰箱(FFET1222QW / FFET1226QM福利品)\" height=\"110\" id=\"bt_2_097_05_e162\" lazy=\"2\" org=\"//i4.momoshop.com.tw/1656654157/goodsimg/0006/269/982/6269982_L.webp\" src=\"/ecm/img/cmm/blank.png\" title=\"【Frigidaire富及第】338L一級能效定頻雙門冰箱(FFET1222QW / FFET1226QM福利品)\" width=\"110\"/> <p> <span class=\"prdName\" id=\"bt_2_097_05_e163\">【Frigidaire富及第】338L一級能效定頻雙門冰箱(FFET1222QW / FFET1226QM福利品)</span> <span class=\"prdPrice\">$<b class=\" GDS-6269982\" id=\"bt_2_097_05_p27\">14,900</b></span> <span class=\"sso_e162_alt\" id=\"bt_2_097_05_e164\" style=\"display:none;\">【Frigidaire富及第】338L一級能效定頻雙門冰箱(FFET1222QW / FFET1226QM福利品)</span> <span class=\"sso_e162_title\" id=\"bt_2_097_05_e165\" style=\"display:none;\">【Frigidaire富及第】338L一級能效定頻雙門冰箱(FFET1222QW / FFET1226QM福利品)</span> <span class=\"sso_e161_title\" id=\"bt_2_097_05_e166\" style=\"display:none;\">【Frigidaire富及第】338L一級能效定頻雙門冰箱(FFET1222QW / FFET1226QM福利品)</span> </p> </a>,\n",
              " <a href=\"/goods/GoodsDetail.jsp?i_code=10193697&amp;str_category_code=2919100762&amp;mdiv=2919100000-bt_2_097_05-bt_2_097_05_e167&amp;ctype=B\" id=\"bt_2_097_05_e167\" title=\"【Frigidaire 富及第】338L 1級省電 新美式雙門冰箱 質感銀 福利品+20L 美型微波爐(FFET1226QM+FKM-2024MB)\"> <img alt=\"【Frigidaire 富及第】338L 1級省電 新美式雙門冰箱 質感銀 福利品+20L 美型微波爐(FFET1226QM+FKM-2024MB)\" height=\"110\" id=\"bt_2_097_05_e168\" lazy=\"2\" org=\"//i1.momoshop.com.tw/1656654142/goodsimg/0010/193/697/10193697_L.webp\" src=\"/ecm/img/cmm/blank.png\" title=\"【Frigidaire 富及第】338L 1級省電 新美式雙門冰箱 質感銀 福利品+20L 美型微波爐(FFET1226QM+FKM-2024MB)\" width=\"110\"/> <p> <span class=\"prdName\" id=\"bt_2_097_05_e169\">【Frigidaire 富及第】338L 1級省電 新美式雙門冰箱 質感銀 福利品+20L 美型微波爐(FFET1226QM+FKM-2024MB)</span> <span class=\"prdPrice\">$<b class=\" GDS-10193697\" id=\"bt_2_097_05_p28\">16,900</b></span> <span class=\"sso_e168_alt\" id=\"bt_2_097_05_e170\" style=\"display:none;\">【Frigidaire 富及第】338L 1級省電 新美式雙門冰箱 質感銀 福利品+20L 美型微波爐(FFET1226QM+FKM-2024MB)</span> <span class=\"sso_e168_title\" id=\"bt_2_097_05_e171\" style=\"display:none;\">【Frigidaire 富及第】338L 1級省電 新美式雙門冰箱 質感銀 福利品+20L 美型微波爐(FFET1226QM+FKM-2024MB)</span> <span class=\"sso_e167_title\" id=\"bt_2_097_05_e172\" style=\"display:none;\">【Frigidaire 富及第】338L 1級省電 新美式雙門冰箱 質感銀 福利品+20L 美型微波爐(FFET1226QM+FKM-2024MB)</span> </p> </a>,\n",
              " <a href=\"?mdiv=2919100000-bt_2_097_05-bt_2_097_05_e42&amp;ctype=B\" id=\"bt_2_097_05_e42\" title=\"momo\"> <img alt=\"momo\" height=\"290\" id=\"bt_2_097_05_e43\" lazy=\"2\" org=\"\" src=\"/ecm/img/cmm/blank.png\" title=\"momo\" width=\"210\"/> <p> <span class=\"prdName\" id=\"bt_2_097_05_e44\"></span> <span class=\"prdPrice\">$<b id=\"bt_2_097_05_p7\"></b></span> <span class=\"sso_e43_alt\" id=\"bt_2_097_05_e45\" style=\"display:none;\"></span> <span class=\"sso_e43_title\" id=\"bt_2_097_05_e46\" style=\"display:none;\"></span> <span class=\"sso_e42_title\" id=\"bt_2_097_05_e47\" style=\"display:none;\"></span> </p> </a>,\n",
              " <a href=\"?mdiv=2919100000-bt_2_097_05-bt_2_097_05_e48&amp;ctype=B\" id=\"bt_2_097_05_e48\" title=\"momo\"> <img alt=\"momo\" height=\"110\" id=\"bt_2_097_05_e49\" lazy=\"2\" org=\"\" src=\"/ecm/img/cmm/blank.png\" title=\"momo\" width=\"110\"/> <p> <span class=\"prdName\" id=\"bt_2_097_05_e50\"></span> <span class=\"prdPrice\">$<b id=\"bt_2_097_05_p8\"></b></span> <span class=\"sso_e49_alt\" id=\"bt_2_097_05_e51\" style=\"display:none;\"></span> <span class=\"sso_e49_title\" id=\"bt_2_097_05_e52\" style=\"display:none;\"></span> <span class=\"sso_e48_title\" id=\"bt_2_097_05_e53\" style=\"display:none;\"></span> </p> </a>,\n",
              " <a href=\"?mdiv=2919100000-bt_2_097_05-bt_2_097_05_e54&amp;ctype=B\" id=\"bt_2_097_05_e54\" title=\"momo\"> <img alt=\"momo\" height=\"110\" id=\"bt_2_097_05_e55\" lazy=\"2\" org=\"\" src=\"/ecm/img/cmm/blank.png\" title=\"momo\" width=\"110\"/> <p> <span class=\"prdName\" id=\"bt_2_097_05_e56\"></span> <span class=\"prdPrice\">$<b id=\"bt_2_097_05_p9\"></b></span> <span class=\"sso_e55_alt\" id=\"bt_2_097_05_e57\" style=\"display:none;\"></span> <span class=\"sso_e55_title\" id=\"bt_2_097_05_e58\" style=\"display:none;\"></span> <span class=\"sso_e54_title\" id=\"bt_2_097_05_e59\" style=\"display:none;\"></span> </p> </a>,\n",
              " <a href=\"?mdiv=2919100000-bt_2_097_05-bt_2_097_05_e173&amp;ctype=B\" id=\"bt_2_097_05_e173\" title=\"momo\"> <img alt=\"momo\" height=\"110\" id=\"bt_2_097_05_e174\" lazy=\"2\" org=\"\" src=\"/ecm/img/cmm/blank.png\" title=\"momo\" width=\"110\"/> <p> <span class=\"prdName\" id=\"bt_2_097_05_e175\"></span> <span class=\"prdPrice\">$<b id=\"bt_2_097_05_p29\"></b></span> <span class=\"sso_e174_alt\" id=\"bt_2_097_05_e176\" style=\"display:none;\"></span> <span class=\"sso_e174_title\" id=\"bt_2_097_05_e177\" style=\"display:none;\"></span> <span class=\"sso_e173_title\" id=\"bt_2_097_05_e178\" style=\"display:none;\"></span> </p> </a>,\n",
              " <a href=\"?mdiv=2919100000-bt_2_097_05-bt_2_097_05_e179&amp;ctype=B\" id=\"bt_2_097_05_e179\" title=\"momo\"> <img alt=\"momo\" height=\"110\" id=\"bt_2_097_05_e180\" lazy=\"2\" org=\"\" src=\"/ecm/img/cmm/blank.png\" title=\"momo\" width=\"110\"/> <p> <span class=\"prdName\" id=\"bt_2_097_05_e181\"></span> <span class=\"prdPrice\">$<b id=\"bt_2_097_05_p30\"></b></span> <span class=\"sso_e180_alt\" id=\"bt_2_097_05_e182\" style=\"display:none;\"></span> <span class=\"sso_e180_title\" id=\"bt_2_097_05_e183\" style=\"display:none;\"></span> <span class=\"sso_e179_title\" id=\"bt_2_097_05_e184\" style=\"display:none;\"></span> </p> </a>,\n",
              " <a href=\"?mdiv=2919100000-bt_2_097_05-bt_2_097_05_e60&amp;ctype=B\" id=\"bt_2_097_05_e60\" title=\"momo\"> <img alt=\"momo\" height=\"290\" id=\"bt_2_097_05_e61\" lazy=\"2\" org=\"\" src=\"/ecm/img/cmm/blank.png\" title=\"momo\" width=\"210\"/> <p> <span class=\"prdName\" id=\"bt_2_097_05_e62\"></span> <span class=\"prdPrice\">$<b id=\"bt_2_097_05_p10\"></b></span> <span class=\"sso_e61_alt\" id=\"bt_2_097_05_e63\" style=\"display:none;\"></span> <span class=\"sso_e61_title\" id=\"bt_2_097_05_e64\" style=\"display:none;\"></span> <span class=\"sso_e60_title\" id=\"bt_2_097_05_e65\" style=\"display:none;\"></span> </p> </a>,\n",
              " <a href=\"?mdiv=2919100000-bt_2_097_05-bt_2_097_05_e66&amp;ctype=B\" id=\"bt_2_097_05_e66\" title=\"momo\"> <img alt=\"momo\" height=\"110\" id=\"bt_2_097_05_e67\" lazy=\"2\" org=\"\" src=\"/ecm/img/cmm/blank.png\" title=\"momo\" width=\"110\"/> <p> <span class=\"prdName\" id=\"bt_2_097_05_e68\"></span> <span class=\"prdPrice\">$<b id=\"bt_2_097_05_p11\"></b></span> <span class=\"sso_e67_alt\" id=\"bt_2_097_05_e69\" style=\"display:none;\"></span> <span class=\"sso_e67_title\" id=\"bt_2_097_05_e70\" style=\"display:none;\"></span> <span class=\"sso_e66_title\" id=\"bt_2_097_05_e71\" style=\"display:none;\"></span> </p> </a>,\n",
              " <a href=\"?mdiv=2919100000-bt_2_097_05-bt_2_097_05_e72&amp;ctype=B\" id=\"bt_2_097_05_e72\" title=\"momo\"> <img alt=\"momo\" height=\"110\" id=\"bt_2_097_05_e73\" lazy=\"2\" org=\"\" src=\"/ecm/img/cmm/blank.png\" title=\"momo\" width=\"110\"/> <p> <span class=\"prdName\" id=\"bt_2_097_05_e74\"></span> <span class=\"prdPrice\">$<b id=\"bt_2_097_05_p12\"></b></span> <span class=\"sso_e73_alt\" id=\"bt_2_097_05_e75\" style=\"display:none;\"></span> <span class=\"sso_e73_title\" id=\"bt_2_097_05_e76\" style=\"display:none;\"></span> <span class=\"sso_e72_title\" id=\"bt_2_097_05_e77\" style=\"display:none;\"></span> </p> </a>,\n",
              " <a href=\"?mdiv=2919100000-bt_2_097_05-bt_2_097_05_e185&amp;ctype=B\" id=\"bt_2_097_05_e185\" title=\"momo\"> <img alt=\"momo\" height=\"110\" id=\"bt_2_097_05_e186\" lazy=\"2\" org=\"\" src=\"/ecm/img/cmm/blank.png\" title=\"momo\" width=\"110\"/> <p> <span class=\"prdName\" id=\"bt_2_097_05_e187\"></span> <span class=\"prdPrice\">$<b id=\"bt_2_097_05_p31\"></b></span> <span class=\"sso_e186_alt\" id=\"bt_2_097_05_e188\" style=\"display:none;\"></span> <span class=\"sso_e186_title\" id=\"bt_2_097_05_e189\" style=\"display:none;\"></span> <span class=\"sso_e185_title\" id=\"bt_2_097_05_e190\" style=\"display:none;\"></span> </p> </a>,\n",
              " <a href=\"?mdiv=2919100000-bt_2_097_05-bt_2_097_05_e191&amp;ctype=B\" id=\"bt_2_097_05_e191\" title=\"momo\"> <img alt=\"momo\" height=\"110\" id=\"bt_2_097_05_e192\" lazy=\"2\" org=\"\" src=\"/ecm/img/cmm/blank.png\" title=\"momo\" width=\"110\"/> <p> <span class=\"prdName\" id=\"bt_2_097_05_e193\"></span> <span class=\"prdPrice\">$<b id=\"bt_2_097_05_p32\"></b></span> <span class=\"sso_e192_alt\" id=\"bt_2_097_05_e194\" style=\"display:none;\"></span> <span class=\"sso_e192_title\" id=\"bt_2_097_05_e195\" style=\"display:none;\"></span> <span class=\"sso_e191_title\" id=\"bt_2_097_05_e196\" style=\"display:none;\"></span> </p> </a>,\n",
              " <a href=\"?mdiv=2919100000-bt_2_097_05-bt_2_097_05_e78&amp;ctype=B\" id=\"bt_2_097_05_e78\" title=\"momo\"> <img alt=\"momo\" height=\"290\" id=\"bt_2_097_05_e79\" lazy=\"2\" org=\"\" src=\"/ecm/img/cmm/blank.png\" title=\"momo\" width=\"210\"/> <p> <span class=\"prdName\" id=\"bt_2_097_05_e80\"></span> <span class=\"prdPrice\">$<b id=\"bt_2_097_05_p13\"></b></span> <span class=\"sso_e79_alt\" id=\"bt_2_097_05_e81\" style=\"display:none;\"></span> <span class=\"sso_e79_title\" id=\"bt_2_097_05_e82\" style=\"display:none;\"></span> <span class=\"sso_e78_title\" id=\"bt_2_097_05_e83\" style=\"display:none;\"></span> </p> </a>,\n",
              " <a href=\"?mdiv=2919100000-bt_2_097_05-bt_2_097_05_e84&amp;ctype=B\" id=\"bt_2_097_05_e84\" title=\"momo\"> <img alt=\"momo\" height=\"110\" id=\"bt_2_097_05_e85\" lazy=\"2\" org=\"\" src=\"/ecm/img/cmm/blank.png\" title=\"momo\" width=\"110\"/> <p> <span class=\"prdName\" id=\"bt_2_097_05_e86\"></span> <span class=\"prdPrice\">$<b id=\"bt_2_097_05_p14\"></b></span> <span class=\"sso_e85_alt\" id=\"bt_2_097_05_e87\" style=\"display:none;\"></span> <span class=\"sso_e85_title\" id=\"bt_2_097_05_e88\" style=\"display:none;\"></span> <span class=\"sso_e84_title\" id=\"bt_2_097_05_e89\" style=\"display:none;\"></span> </p> </a>,\n",
              " <a href=\"?mdiv=2919100000-bt_2_097_05-bt_2_097_05_e90&amp;ctype=B\" id=\"bt_2_097_05_e90\" title=\"momo\"> <img alt=\"momo\" height=\"110\" id=\"bt_2_097_05_e91\" lazy=\"2\" org=\"\" src=\"/ecm/img/cmm/blank.png\" title=\"momo\" width=\"110\"/> <p> <span class=\"prdName\" id=\"bt_2_097_05_e92\"></span> <span class=\"prdPrice\">$<b id=\"bt_2_097_05_p15\"></b></span> <span class=\"sso_e91_alt\" id=\"bt_2_097_05_e93\" style=\"display:none;\"></span> <span class=\"sso_e91_title\" id=\"bt_2_097_05_e94\" style=\"display:none;\"></span> <span class=\"sso_e90_title\" id=\"bt_2_097_05_e95\" style=\"display:none;\"></span> </p> </a>,\n",
              " <a href=\"?mdiv=2919100000-bt_2_097_05-bt_2_097_05_e197&amp;ctype=B\" id=\"bt_2_097_05_e197\" title=\"momo\"> <img alt=\"momo\" height=\"110\" id=\"bt_2_097_05_e198\" lazy=\"2\" org=\"\" src=\"/ecm/img/cmm/blank.png\" title=\"momo\" width=\"110\"/> <p> <span class=\"prdName\" id=\"bt_2_097_05_e199\"></span> <span class=\"prdPrice\">$<b id=\"bt_2_097_05_p33\"></b></span> <span class=\"sso_e198_alt\" id=\"bt_2_097_05_e200\" style=\"display:none;\"></span> <span class=\"sso_e198_title\" id=\"bt_2_097_05_e201\" style=\"display:none;\"></span> <span class=\"sso_e197_title\" id=\"bt_2_097_05_e202\" style=\"display:none;\"></span> </p> </a>,\n",
              " <a href=\"?mdiv=2919100000-bt_2_097_05-bt_2_097_05_e203&amp;ctype=B\" id=\"bt_2_097_05_e203\" title=\"momo\"> <img alt=\"momo\" height=\"110\" id=\"bt_2_097_05_e204\" lazy=\"2\" org=\"\" src=\"/ecm/img/cmm/blank.png\" title=\"momo\" width=\"110\"/> <p> <span class=\"prdName\" id=\"bt_2_097_05_e205\"></span> <span class=\"prdPrice\">$<b id=\"bt_2_097_05_p34\"></b></span> <span class=\"sso_e204_alt\" id=\"bt_2_097_05_e206\" style=\"display:none;\"></span> <span class=\"sso_e204_title\" id=\"bt_2_097_05_e207\" style=\"display:none;\"></span> <span class=\"sso_e203_title\" id=\"bt_2_097_05_e208\" style=\"display:none;\"></span> </p> </a>,\n",
              " <a href=\"?mdiv=2919100000-bt_2_097_05-bt_2_097_05_e96&amp;ctype=B\" id=\"bt_2_097_05_e96\" title=\"momo\"> <img alt=\"momo\" height=\"290\" id=\"bt_2_097_05_e97\" lazy=\"2\" org=\"\" src=\"/ecm/img/cmm/blank.png\" title=\"momo\" width=\"210\"/> <p> <span class=\"prdName\" id=\"bt_2_097_05_e98\"></span> <span class=\"prdPrice\">$<b id=\"bt_2_097_05_p16\"></b></span> <span class=\"sso_e61_alt\" id=\"bt_2_097_05_e99\" style=\"display:none;\"></span> <span class=\"sso_e61_title\" id=\"bt_2_097_05_e100\" style=\"display:none;\"></span> <span class=\"sso_e60_title\" id=\"bt_2_097_05_e101\" style=\"display:none;\"></span> </p> </a>,\n",
              " <a href=\"?mdiv=2919100000-bt_2_097_05-bt_2_097_05_e102&amp;ctype=B\" id=\"bt_2_097_05_e102\" title=\"momo\"> <img alt=\"momo\" height=\"110\" id=\"bt_2_097_05_e103\" lazy=\"2\" org=\"\" src=\"/ecm/img/cmm/blank.png\" title=\"momo\" width=\"110\"/> <p> <span class=\"prdName\" id=\"bt_2_097_05_e104\"></span> <span class=\"prdPrice\">$<b id=\"bt_2_097_05_p17\"></b></span> <span class=\"sso_e103_alt\" id=\"bt_2_097_05_e105\" style=\"display:none;\"></span> <span class=\"sso_e103_title\" id=\"bt_2_097_05_e106\" style=\"display:none;\"></span> <span class=\"sso_e102_title\" id=\"bt_2_097_05_e107\" style=\"display:none;\"></span> </p> </a>,\n",
              " <a href=\"?mdiv=2919100000-bt_2_097_05-bt_2_097_05_e108&amp;ctype=B\" id=\"bt_2_097_05_e108\" title=\"momo\"> <img alt=\"momo\" height=\"110\" id=\"bt_2_097_05_e109\" lazy=\"2\" org=\"\" src=\"/ecm/img/cmm/blank.png\" title=\"momo\" width=\"110\"/> <p> <span class=\"prdName\" id=\"bt_2_097_05_e110\"></span> <span class=\"prdPrice\">$<b id=\"bt_2_097_05_p18\"></b></span> <span class=\"sso_e109_alt\" id=\"bt_2_097_05_e111\" style=\"display:none;\"></span> <span class=\"sso_e109_title\" id=\"bt_2_097_05_e112\" style=\"display:none;\"></span> <span class=\"sso_e108_title\" id=\"bt_2_097_05_e113\" style=\"display:none;\"></span> </p> </a>,\n",
              " <a href=\"?mdiv=2919100000-bt_2_097_05-bt_2_097_05_e209&amp;ctype=B\" id=\"bt_2_097_05_e209\" title=\"momo\"> <img alt=\"momo\" height=\"110\" id=\"bt_2_097_05_e210\" lazy=\"2\" org=\"\" src=\"/ecm/img/cmm/blank.png\" title=\"momo\" width=\"110\"/> <p> <span class=\"prdName\" id=\"bt_2_097_05_e211\"></span> <span class=\"prdPrice\">$<b id=\"bt_2_097_05_p35\"></b></span> <span class=\"sso_e210_alt\" id=\"bt_2_097_05_e212\" style=\"display:none;\"></span> <span class=\"sso_e210_title\" id=\"bt_2_097_05_e213\" style=\"display:none;\"></span> <span class=\"sso_e209_title\" id=\"bt_2_097_05_e214\" style=\"display:none;\"></span> </p> </a>,\n",
              " <a href=\"?mdiv=2919100000-bt_2_097_05-bt_2_097_05_e215&amp;ctype=B\" id=\"bt_2_097_05_e215\" title=\"momo\"> <img alt=\"momo\" height=\"110\" id=\"bt_2_097_05_e216\" lazy=\"2\" org=\"\" src=\"/ecm/img/cmm/blank.png\" title=\"momo\" width=\"110\"/> <p> <span class=\"prdName\" id=\"bt_2_097_05_e217\"></span> <span class=\"prdPrice\">$<b id=\"bt_2_097_05_p36\"></b></span> <span class=\"sso_e216_alt\" id=\"bt_2_097_05_e218\" style=\"display:none;\"></span> <span class=\"sso_e216_title\" id=\"bt_2_097_05_e219\" style=\"display:none;\"></span> <span class=\"sso_e215_title\" id=\"bt_2_097_05_e220\" style=\"display:none;\"></span> </p> </a>,\n",
              " <a href=\"?mdiv=2919100000-bt_2_097_05-bt_2_097_05_e114&amp;ctype=B\" id=\"bt_2_097_05_e114\" title=\"momo\"> <img alt=\"momo\" height=\"290\" id=\"bt_2_097_05_e115\" lazy=\"2\" org=\"\" src=\"/ecm/img/cmm/blank.png\" title=\"momo\" width=\"210\"/> <p> <span class=\"prdName\" id=\"bt_2_097_05_e116\"></span> <span class=\"prdPrice\">$<b id=\"bt_2_097_05_p19\"></b></span> <span class=\"sso_e115_alt\" id=\"bt_2_097_05_e117\" style=\"display:none;\"></span> <span class=\"sso_e115_title\" id=\"bt_2_097_05_e118\" style=\"display:none;\"></span> <span class=\"sso_e114_title\" id=\"bt_2_097_05_e119\" style=\"display:none;\"></span> </p> </a>,\n",
              " <a href=\"?mdiv=2919100000-bt_2_097_05-bt_2_097_05_e120&amp;ctype=B\" id=\"bt_2_097_05_e120\" title=\"momo\"> <img alt=\"momo\" height=\"110\" id=\"bt_2_097_05_e121\" lazy=\"2\" org=\"\" src=\"/ecm/img/cmm/blank.png\" title=\"momo\" width=\"110\"/> <p> <span class=\"prdName\" id=\"bt_2_097_05_e122\"></span> <span class=\"prdPrice\">$<b id=\"bt_2_097_05_p20\"></b></span> <span class=\"sso_e85_alt\" id=\"bt_2_097_05_e123\" style=\"display:none;\"></span> <span class=\"sso_e85_title\" id=\"bt_2_097_05_e124\" style=\"display:none;\"></span> <span class=\"sso_e84_title\" id=\"bt_2_097_05_e125\" style=\"display:none;\"></span> </p> </a>,\n",
              " <a href=\"?mdiv=2919100000-bt_2_097_05-bt_2_097_05_e126&amp;ctype=B\" id=\"bt_2_097_05_e126\" title=\"momo\"> <img alt=\"momo\" height=\"110\" id=\"bt_2_097_05_e127\" lazy=\"2\" org=\"\" src=\"/ecm/img/cmm/blank.png\" title=\"momo\" width=\"110\"/> <p> <span class=\"prdName\" id=\"bt_2_097_05_e128\"></span> <span class=\"prdPrice\">$<b id=\"bt_2_097_05_p21\"></b></span> <span class=\"sso_e127_alt\" id=\"bt_2_097_05_e129\" style=\"display:none;\"></span> <span class=\"sso_e127_title\" id=\"bt_2_097_05_e130\" style=\"display:none;\"></span> <span class=\"sso_e126_title\" id=\"bt_2_097_05_e245\" style=\"display:none;\"></span> </p> </a>,\n",
              " <a href=\"?mdiv=2919100000-bt_2_097_05-bt_2_097_05_e221&amp;ctype=B\" id=\"bt_2_097_05_e221\" title=\"momo\"> <img alt=\"momo\" height=\"110\" id=\"bt_2_097_05_e222\" lazy=\"2\" org=\"\" src=\"/ecm/img/cmm/blank.png\" title=\"momo\" width=\"110\"/> <p> <span class=\"prdName\" id=\"bt_2_097_05_e223\"></span> <span class=\"prdPrice\">$<b id=\"bt_2_097_05_p37\"></b></span> <span class=\"sso_e222_alt\" id=\"bt_2_097_05_e224\" style=\"display:none;\"></span> <span class=\"sso_e222_title\" id=\"bt_2_097_05_e225\" style=\"display:none;\"></span> <span class=\"sso_e221_title\" id=\"bt_2_097_05_e226\" style=\"display:none;\"></span> </p> </a>,\n",
              " <a href=\"?mdiv=2919100000-bt_2_097_05-bt_2_097_05_e227&amp;ctype=B\" id=\"bt_2_097_05_e227\" title=\"momo\"> <img alt=\"momo\" height=\"110\" id=\"bt_2_097_05_e228\" lazy=\"2\" org=\"\" src=\"/ecm/img/cmm/blank.png\" title=\"momo\" width=\"110\"/> <p> <span class=\"prdName\" id=\"bt_2_097_05_e229\"></span> <span class=\"prdPrice\">$<b id=\"bt_2_097_05_p38\"></b></span> <span class=\"sso_e228_alt\" id=\"bt_2_097_05_e230\" style=\"display:none;\"></span> <span class=\"sso_e228_title\" id=\"bt_2_097_05_e231\" style=\"display:none;\"></span> <span class=\"sso_e227_title\" id=\"bt_2_097_05_e232\" style=\"display:none;\"></span> </p> </a>,\n",
              " <a href=\"?mdiv=2919100000-bt_2_097_05-bt_2_097_05_e131&amp;ctype=B\" id=\"bt_2_097_05_e131\" title=\"momo\"> <img alt=\"momo\" height=\"290\" id=\"bt_2_097_05_e132\" lazy=\"2\" org=\"\" src=\"/ecm/img/cmm/blank.png\" title=\"momo\" width=\"210\"/> <p> <span class=\"prdName\" id=\"bt_2_097_05_e133\"></span> <span class=\"prdPrice\">$<b id=\"bt_2_097_05_p22\"></b></span> <span class=\"sso_e132_alt\" id=\"bt_2_097_05_e134\" style=\"display:none;\"></span> <span class=\"sso_e132_title\" id=\"bt_2_097_05_e135\" style=\"display:none;\"></span> <span class=\"sso_e131_title\" id=\"bt_2_097_05_e136\" style=\"display:none;\"></span> </p> </a>,\n",
              " <a href=\"?mdiv=2919100000-bt_2_097_05-bt_2_097_05_e137&amp;ctype=B\" id=\"bt_2_097_05_e137\" title=\"momo\"> <img alt=\"momo\" height=\"110\" id=\"bt_2_097_05_e138\" lazy=\"2\" org=\"\" src=\"/ecm/img/cmm/blank.png\" title=\"momo\" width=\"110\"/> <p> <span class=\"prdName\" id=\"bt_2_097_05_e139\"></span> <span class=\"prdPrice\">$<b id=\"bt_2_097_05_p23\"></b></span> <span class=\"sso_e138_alt\" id=\"bt_2_097_05_e140\" style=\"display:none;\"></span> <span class=\"sso_e138_title\" id=\"bt_2_097_05_e141\" style=\"display:none;\"></span> <span class=\"sso_e137_title\" id=\"bt_2_097_05_e142\" style=\"display:none;\"></span> </p> </a>,\n",
              " <a href=\"?mdiv=2919100000-bt_2_097_05-bt_2_097_05_e143&amp;ctype=B\" id=\"bt_2_097_05_e143\" title=\"momo\"> <img alt=\"momo\" height=\"110\" id=\"bt_2_097_05_e144\" lazy=\"2\" org=\"\" src=\"/ecm/img/cmm/blank.png\" title=\"momo\" width=\"110\"/> <p> <span class=\"prdName\" id=\"bt_2_097_05_e145\"></span> <span class=\"prdPrice\">$<b id=\"bt_2_097_05_p24\"></b></span> <span class=\"sso_e144_alt\" id=\"bt_2_097_05_e146\" style=\"display:none;\"></span> <span class=\"sso_e144_title\" id=\"bt_2_097_05_e147\" style=\"display:none;\"></span> <span class=\"sso_e143_title\" id=\"bt_2_097_05_e148\" style=\"display:none;\"></span> </p> </a>,\n",
              " <a href=\"?mdiv=2919100000-bt_2_097_05-bt_2_097_05_e233&amp;ctype=B\" id=\"bt_2_097_05_e233\" title=\"momo\"> <img alt=\"momo\" height=\"110\" id=\"bt_2_097_05_e234\" lazy=\"2\" org=\"\" src=\"/ecm/img/cmm/blank.png\" title=\"momo\" width=\"110\"/> <p> <span class=\"prdName\" id=\"bt_2_097_05_e235\"></span> <span class=\"prdPrice\">$<b id=\"bt_2_097_05_p39\"></b></span> <span class=\"sso_e234_alt\" id=\"bt_2_097_05_e236\" style=\"display:none;\"></span> <span class=\"sso_e234_title\" id=\"bt_2_097_05_e237\" style=\"display:none;\"></span> <span class=\"sso_e233_title\" id=\"bt_2_097_05_e238\" style=\"display:none;\"></span> </p> </a>,\n",
              " <a href=\"?mdiv=2919100000-bt_2_097_05-bt_2_097_05_e239&amp;ctype=B\" id=\"bt_2_097_05_e239\" title=\"momo\"> <img alt=\"momo\" height=\"110\" id=\"bt_2_097_05_e240\" lazy=\"2\" org=\"\" src=\"/ecm/img/cmm/blank.png\" title=\"momo\" width=\"110\"/> <p> <span class=\"prdName\" id=\"bt_2_097_05_e241\"></span> <span class=\"prdPrice\">$<b id=\"bt_2_097_05_p40\"></b></span> <span class=\"sso_e240_alt\" id=\"bt_2_097_05_e242\" style=\"display:none;\"></span> <span class=\"sso_e240_title\" id=\"bt_2_097_05_e243\" style=\"display:none;\"></span> <span class=\"sso_e239_title\" id=\"bt_2_097_05_e244\" style=\"display:none;\"></span> </p> </a>,\n",
              " <a href=\"https://www.momoshop.com.tw/category/DgrpCategory.jsp?d_code=2919100001&amp;sourcePageType=4&amp;mdiv=2919100000-bt_2_097_03-bt_2_097_03_e6&amp;ctype=B\" id=\"bt_2_097_03_e6\" title=\"【TECO 東元】101公升 一級能效定頻右開雙門冰箱(R1011S)\"> <img alt=\"【TECO 東元】101公升 一級能效定頻右開雙門冰箱(R1011S)\" height=\"290\" id=\"bt_2_097_03_e7\" lazy=\"2\" org=\"//img3.momoshop.com.tw/ecm/img/online/29/191/00/000/bt_2_097_03/bt_2_097_03_e7.jpg?t=1653997013090\" src=\"/ecm/img/cmm/blank.png\" title=\"【TECO 東元】101公升 一級能效定頻右開雙門冰箱(R1011S)\" width=\"210\"/> <p> <span class=\"prdName\" id=\"bt_2_097_03_e8\">【TECO 東元】101公升 一級能效定頻右開雙門冰箱(R1011S)</span> <span class=\"prdPrice\">$<b class=\" GDS-9229765\" id=\"bt_2_097_03_p1\">6,290</b></span> <span class=\"sso_e7_alt\" id=\"bt_2_097_03_e9\" style=\"display:none;\">【TECO 東元】101公升 一級能效定頻右開雙門冰箱(R1011S)</span> <span class=\"sso_e7_title\" id=\"bt_2_097_03_e10\" style=\"display:none;\">【TECO 東元】101公升 一級能效定頻右開雙門冰箱(R1011S)</span> <span class=\"sso_e6_title\" id=\"bt_2_097_03_e11\" style=\"display:none;\">【TECO 東元】101公升 一級能效定頻右開雙門冰箱(R1011S)</span> </p> </a>,\n",
              " <a href=\"/goods/GoodsDetail.jsp?i_code=9671753&amp;str_category_code=2919100755&amp;mdiv=2919100000-bt_2_097_03-bt_2_097_03_e12&amp;ctype=B\" id=\"bt_2_097_03_e12\" title=\"【TECO 東元】231公升 一級能效變頻右開雙門冰箱(R2311XHS)\"> <img alt=\"【TECO 東元】231公升 一級能效變頻右開雙門冰箱(R2311XHS)\" height=\"110\" id=\"bt_2_097_03_e13\" lazy=\"2\" org=\"//i2.momoshop.com.tw/1657273406/goodsimg/0009/671/753/9671753_L.webp\" src=\"/ecm/img/cmm/blank.png\" title=\"【TECO 東元】231公升 一級能效變頻右開雙門冰箱(R2311XHS)\" width=\"110\"/> <p> <span class=\"prdName\" id=\"bt_2_097_03_e14\">【TECO 東元】231公升 一級能效變頻右開雙門冰箱(R2311XHS)</span> <span class=\"prdPrice\">$<b class=\" GDS-9671753\" id=\"bt_2_097_03_p2\">14,490</b></span> <span class=\"sso_e13_alt\" id=\"bt_2_097_03_e15\" style=\"display:none;\">【TECO 東元】231公升 一級能效變頻右開雙門冰箱(R2311XHS)</span> <span class=\"sso_e13_title\" id=\"bt_2_097_03_e16\" style=\"display:none;\">【TECO 東元】231公升 一級能效變頻右開雙門冰箱(R2311XHS)</span> <span class=\"sso_e12_title\" id=\"bt_2_097_03_e17\" style=\"display:none;\">【TECO 東元】231公升 一級能效變頻右開雙門冰箱(R2311XHS)</span> </p> </a>,\n",
              " <a href=\"/goods/GoodsDetail.jsp?i_code=9229765&amp;str_category_code=2919100751&amp;mdiv=2919100000-bt_2_097_03-bt_2_097_03_e18&amp;ctype=B\" id=\"bt_2_097_03_e18\" title=\"【TECO 東元】101公升 一級能效定頻右開雙門冰箱(R1011S)\"> <img alt=\"【TECO 東元】101公升 一級能效定頻右開雙門冰箱(R1011S)\" height=\"110\" id=\"bt_2_097_03_e19\" lazy=\"2\" org=\"//i3.momoshop.com.tw/1657011876/goodsimg/0009/229/765/9229765_L.webp\" src=\"/ecm/img/cmm/blank.png\" title=\"【TECO 東元】101公升 一級能效定頻右開雙門冰箱(R1011S)\" width=\"110\"/> <p> <span class=\"prdName\" id=\"bt_2_097_03_e20\">【TECO 東元】101公升 一級能效定頻右開雙門冰箱(R1011S)</span> <span class=\"prdPrice\">$<b class=\" GDS-9229765\" id=\"bt_2_097_03_p3\">6,290</b></span> <span class=\"sso_e19_alt\" id=\"bt_2_097_03_e21\" style=\"display:none;\">【TECO 東元】101公升 一級能效定頻右開雙門冰箱(R1011S)</span> <span class=\"sso_e19_title\" id=\"bt_2_097_03_e22\" style=\"display:none;\">【TECO 東元】101公升 一級能效定頻右開雙門冰箱(R1011S)</span> <span class=\"sso_e18_title\" id=\"bt_2_097_03_e23\" style=\"display:none;\">【TECO 東元】101公升 一級能效定頻右開雙門冰箱(R1011S)</span> </p> </a>,\n",
              " <a href=\"/goods/GoodsDetail.jsp?i_code=8457070&amp;str_category_code=2919100929&amp;mdiv=2919100000-bt_2_097_03-bt_2_097_03_e149&amp;ctype=B\" id=\"bt_2_097_03_e149\" title=\"【TECO 東元】315公升 一級能效智能變頻右開四門冰箱(R3150DTXH)\"> <img alt=\"【TECO 東元】315公升 一級能效智能變頻右開四門冰箱(R3150DTXH)\" height=\"110\" id=\"bt_2_097_03_e150\" lazy=\"2\" org=\"//i4.momoshop.com.tw/1657273481/goodsimg/0008/457/070/8457070_L.webp\" src=\"/ecm/img/cmm/blank.png\" title=\"【TECO 東元】315公升 一級能效智能變頻右開四門冰箱(R3150DTXH)\" width=\"110\"/> <p> <span class=\"prdName\" id=\"bt_2_097_03_e151\">【TECO 東元】315公升 一級能效智能變頻右開四門冰箱(R3150DTXH)</span> <span class=\"prdPrice\">$<b class=\" GDS-8457070\" id=\"bt_2_097_03_p25\">22,900</b></span> <span class=\"sso_e150_alt\" id=\"bt_2_097_03_e152\" style=\"display:none;\">【TECO 東元】315公升 一級能效智能變頻右開四門冰箱(R3150DTXH)</span> <span class=\"sso_e150_title\" id=\"bt_2_097_03_e153\" style=\"display:none;\">【TECO 東元】315公升 一級能效智能變頻右開四門冰箱(R3150DTXH)</span> <span class=\"sso_e149_title\" id=\"bt_2_097_03_e154\" style=\"display:none;\">【TECO 東元】315公升 一級能效智能變頻右開四門冰箱(R3150DTXH)</span> </p> </a>,\n",
              " <a href=\"/goods/GoodsDetail.jsp?i_code=9977907&amp;str_category_code=2919100001&amp;mdiv=2919100000-bt_2_097_03-bt_2_097_03_e155&amp;ctype=B\" id=\"bt_2_097_03_e155\" title=\"【TECO 東元】86公升 一級能效定頻右開雙門復古式冰箱(R1086B)\"> <img alt=\"【TECO 東元】86公升 一級能效定頻右開雙門復古式冰箱(R1086B)\" height=\"110\" id=\"bt_2_097_03_e156\" lazy=\"2\" org=\"//i1.momoshop.com.tw/1657251325/goodsimg/0009/977/907/9977907_L.webp\" src=\"/ecm/img/cmm/blank.png\" title=\"【TECO 東元】86公升 一級能效定頻右開雙門復古式冰箱(R1086B)\" width=\"110\"/> <p> <span class=\"prdName\" id=\"bt_2_097_03_e157\">【TECO 東元】86公升 一級能效定頻右開雙門復古式冰箱(R1086B)</span> <span class=\"prdPrice\">$<b class=\" GDS-9977907\" id=\"bt_2_097_03_p26\">9,900</b></span> <span class=\"sso_e156_alt\" id=\"bt_2_097_03_e158\" style=\"display:none;\">【TECO 東元】86公升 一級能效定頻右開雙門復古式冰箱(R1086B)</span> <span class=\"sso_e156_title\" id=\"bt_2_097_03_e159\" style=\"display:none;\">【TECO 東元】86公升 一級能效定頻右開雙門復古式冰箱(R1086B)</span> <span class=\"sso_e155_title\" id=\"bt_2_097_03_e160\" style=\"display:none;\">【TECO 東元】86公升 一級能效定頻右開雙門復古式冰箱(R1086B)</span> </p> </a>,\n",
              " <a href=\"https://www.momoshop.com.tw/category/DgrpCategory.jsp?d_code=2919101004&amp;mdiv=2919100000-bt_2_097_03-bt_2_097_03_e24&amp;ctype=B\" id=\"bt_2_097_03_e24\" title=\"【HITACHI 日立】483L一級能效日製變頻右開五門冰箱(RS49HJ)\"> <img alt=\"【HITACHI 日立】483L一級能效日製變頻右開五門冰箱(RS49HJ)\" height=\"290\" id=\"bt_2_097_03_e25\" lazy=\"2\" org=\"//img3.momoshop.com.tw/ecm/img/online/29/191/00/000/bt_2_097_03/bt_2_097_03_e25.jpg?t=1654003692879\" src=\"/ecm/img/cmm/blank.png\" title=\"【HITACHI 日立】483L一級能效日製變頻右開五門冰箱(RS49HJ)\" width=\"210\"/> <p> <span class=\"prdName\" id=\"bt_2_097_03_e26\">日立冰箱</span> <span class=\"prdPrice\"><b class=\" GDS-5847509\" id=\"bt_2_097_03_p4\" style=\"color:#969696;font:13px/26px Helvetica\">熱銷一空</b></span> <span class=\"sso_e25_alt\" id=\"bt_2_097_03_e27\" style=\"display:none;\">【HITACHI 日立】483L一級能效日製變頻右開五門冰箱(RS49HJ)</span> <span class=\"sso_e25_title\" id=\"bt_2_097_03_e28\" style=\"display:none;\">【HITACHI 日立】483L一級能效日製變頻右開五門冰箱(RS49HJ)</span> <span class=\"sso_e24_title\" id=\"bt_2_097_03_e29\" style=\"display:none;\">【HITACHI 日立】483L一級能效日製變頻右開五門冰箱(RS49HJ)</span> </p> </a>,\n",
              " <a href=\"/goods/GoodsDetail.jsp?i_code=8161847&amp;str_category_code=2919100758&amp;mdiv=2919100000-bt_2_097_03-bt_2_097_03_e30&amp;ctype=B\" id=\"bt_2_097_03_e30\" title=\"【HITACHI 日立】407L一級能效日製變頻右開五門冰箱(RS42NJ-SN)\">\n",
              " <div class=\"prdGoodsImgWrap\">\n",
              " <span class=\"goodsImgTag\"><img lazy=\"2\" org=\"https://img3.momoshop.com.tw/ecm/img/online/341/2022/06/30/212709754/2022063021270975401.png?t=20220701085826\" src=\"/ecm/img/cmm/blank.png\"/></span>\n",
              " <img alt=\"【HITACHI 日立】407L一級能效日製變頻右開五門冰箱(RS42NJ-SN)\" height=\"110\" id=\"bt_2_097_03_e31\" lazy=\"2\" org=\"//i2.momoshop.com.tw/1656596681/goodsimg/0008/161/847/8161847_L.webp\" src=\"/ecm/img/cmm/blank.png\" title=\"【HITACHI 日立】407L一級能效日製變頻右開五門冰箱(RS42NJ-SN)\" width=\"110\"/>\n",
              " </div> <p> <span class=\"prdName\" id=\"bt_2_097_03_e32\">【HITACHI 日立】407L一級能效日製變頻右開五門冰箱(RS42NJ-SN)</span> <span class=\"prdPrice\">$<b class=\" GDS-8161847\" id=\"bt_2_097_03_p5\">43,148</b></span> <span class=\"sso_e31_alt\" id=\"bt_2_097_03_e33\" style=\"display:none;\">【HITACHI 日立】407L一級能效日製變頻右開五門冰箱(RS42NJ-SN)</span> <span class=\"sso_e31_title\" id=\"bt_2_097_03_e34\" style=\"display:none;\">【HITACHI 日立】407L一級能效日製變頻右開五門冰箱(RS42NJ-SN)</span> <span class=\"sso_e30_title\" id=\"bt_2_097_03_e35\" style=\"display:none;\">【HITACHI 日立】407L一級能效日製變頻右開五門冰箱(RS42NJ-SN)</span> </p> </a>,\n",
              " <a href=\"/goods/GoodsDetail.jsp?i_code=9937198&amp;str_category_code=2919100755&amp;mdiv=2919100000-bt_2_097_03-bt_2_097_03_e36&amp;ctype=B\" id=\"bt_2_097_03_e36\" title=\"【HITACHI 日立】417L 一級能效變頻雙門右開冰箱(RVX429-BSL)\">\n",
              " <div class=\"prdGoodsImgWrap\">\n",
              " <span class=\"goodsImgTag\"><img lazy=\"2\" org=\"https://img3.momoshop.com.tw/ecm/img/online/341/2022/06/30/212709754/2022063021270975401.png?t=20220701085826\" src=\"/ecm/img/cmm/blank.png\"/></span>\n",
              " <img alt=\"【HITACHI 日立】417L 一級能效變頻雙門右開冰箱(RVX429-BSL)\" height=\"110\" id=\"bt_2_097_03_e37\" lazy=\"2\" org=\"//i3.momoshop.com.tw/1656596737/goodsimg/0009/937/198/9937198_L.webp\" src=\"/ecm/img/cmm/blank.png\" title=\"【HITACHI 日立】417L 一級能效變頻雙門右開冰箱(RVX429-BSL)\" width=\"110\"/>\n",
              " </div> <p> <span class=\"prdName\" id=\"bt_2_097_03_e38\">【HITACHI 日立】417L 一級能效變頻雙門右開冰箱(RVX429-BSL)</span> <span class=\"prdPrice\">$<b class=\" GDS-9937198\" id=\"bt_2_097_03_p6\">21,988</b></span> <span class=\"sso_e37_alt\" id=\"bt_2_097_03_e39\" style=\"display:none;\">【HITACHI 日立】417L 一級能效變頻雙門右開冰箱(RVX429-BSL)</span> <span class=\"sso_e37_title\" id=\"bt_2_097_03_e40\" style=\"display:none;\">【HITACHI 日立】417L 一級能效變頻雙門右開冰箱(RVX429-BSL)</span> <span class=\"sso_e36_title\" id=\"bt_2_097_03_e41\" style=\"display:none;\">【HITACHI 日立】417L 一級能效變頻雙門右開冰箱(RVX429-BSL)</span> </p> </a>,\n",
              " <a href=\"/goods/GoodsDetail.jsp?i_code=8145340&amp;str_category_code=2919100848&amp;mdiv=2919100000-bt_2_097_03-bt_2_097_03_e161&amp;ctype=B\" id=\"bt_2_097_03_e161\" title=\"【HITACHI 日立】313L一級能效變頻右開雙門冰箱(RBX330-XGR)\">\n",
              " <div class=\"prdGoodsImgWrap\">\n",
              " <span class=\"goodsImgTag\"><img lazy=\"2\" org=\"https://img3.momoshop.com.tw/ecm/img/online/341/2022/06/30/212709754/2022063021270975401.png?t=20220701085826\" src=\"/ecm/img/cmm/blank.png\"/></span>\n",
              " <img alt=\"【HITACHI 日立】313L一級能效變頻右開雙門冰箱(RBX330-XGR)\" height=\"110\" id=\"bt_2_097_03_e162\" lazy=\"2\" org=\"//i4.momoshop.com.tw/1656596810/goodsimg/0008/145/340/8145340_L.webp\" src=\"/ecm/img/cmm/blank.png\" title=\"【HITACHI 日立】313L一級能效變頻右開雙門冰箱(RBX330-XGR)\" width=\"110\"/>\n",
              " </div> <p> <span class=\"prdName\" id=\"bt_2_097_03_e163\">【HITACHI 日立】313L一級能效變頻右開雙門冰箱(RBX330-XGR)</span> <span class=\"prdPrice\">$<b class=\" GDS-8145340\" id=\"bt_2_097_03_p27\">23,828</b></span> <span class=\"sso_e162_alt\" id=\"bt_2_097_03_e164\" style=\"display:none;\">【HITACHI 日立】313L一級能效變頻右開雙門冰箱(RBX330-XGR)</span> <span class=\"sso_e162_title\" id=\"bt_2_097_03_e165\" style=\"display:none;\">【HITACHI 日立】313L一級能效變頻右開雙門冰箱(RBX330-XGR)</span> <span class=\"sso_e161_title\" id=\"bt_2_097_03_e166\" style=\"display:none;\">【HITACHI 日立】313L一級能效變頻右開雙門冰箱(RBX330-XGR)</span> </p> </a>,\n",
              " <a href=\"/goods/GoodsDetail.jsp?i_code=8100595&amp;str_category_code=2919100751&amp;mdiv=2919100000-bt_2_097_03-bt_2_097_03_e167&amp;ctype=B\" id=\"bt_2_097_03_e167\" title=\"【HITACHI 日立】394L一級能效變頻三門右開冰箱(RV41C-CNX)\">\n",
              " <div class=\"prdGoodsImgWrap\">\n",
              " <span class=\"goodsImgTag\"><img lazy=\"2\" org=\"https://img4.momoshop.com.tw/ecm/img/online/341/2022/06/30/213313908/2022063021331390801.png?t=20220630213515\" src=\"/ecm/img/cmm/blank.png\"/></span>\n",
              " <img alt=\"【HITACHI 日立】394L一級能效變頻三門右開冰箱(RV41C-CNX)\" height=\"110\" id=\"bt_2_097_03_e168\" lazy=\"2\" org=\"//i1.momoshop.com.tw/1656596115/goodsimg/0008/100/595/8100595_L.webp\" src=\"/ecm/img/cmm/blank.png\" title=\"【HITACHI 日立】394L一級能效變頻三門右開冰箱(RV41C-CNX)\" width=\"110\"/>\n",
              " </div> <p> <span class=\"prdName\" id=\"bt_2_097_03_e169\">【HITACHI 日立】394L一級能效變頻三門右開冰箱(RV41C-CNX)</span> <span class=\"prdPrice\">$<b class=\" GDS-8100595\" id=\"bt_2_097_03_p28\">31,188</b></span> <span class=\"sso_e168_alt\" id=\"bt_2_097_03_e170\" style=\"display:none;\">【HITACHI 日立】394L一級能效變頻三門右開冰箱(RV41C-CNX)</span> <span class=\"sso_e168_title\" id=\"bt_2_097_03_e171\" style=\"display:none;\">【HITACHI 日立】394L一級能效變頻三門右開冰箱(RV41C-CNX)</span> <span class=\"sso_e167_title\" id=\"bt_2_097_03_e172\" style=\"display:none;\">【HITACHI 日立】394L一級能效變頻三門右開冰箱(RV41C-CNX)</span> </p> </a>,\n",
              " <a href=\"?mdiv=2919100000-bt_2_097_03-bt_2_097_03_e42&amp;ctype=B\" id=\"bt_2_097_03_e42\" title=\"momo\"> <img alt=\"momo\" height=\"290\" id=\"bt_2_097_03_e43\" lazy=\"2\" org=\"\" src=\"/ecm/img/cmm/blank.png\" title=\"momo\" width=\"210\"/> <p> <span class=\"prdName\" id=\"bt_2_097_03_e44\"></span> <span class=\"prdPrice\">$<b id=\"bt_2_097_03_p7\"></b></span> <span class=\"sso_e43_alt\" id=\"bt_2_097_03_e45\" style=\"display:none;\"></span> <span class=\"sso_e43_title\" id=\"bt_2_097_03_e46\" style=\"display:none;\"></span> <span class=\"sso_e42_title\" id=\"bt_2_097_03_e47\" style=\"display:none;\"></span> </p> </a>,\n",
              " <a href=\"?mdiv=2919100000-bt_2_097_03-bt_2_097_03_e48&amp;ctype=B\" id=\"bt_2_097_03_e48\" title=\"momo\"> <img alt=\"momo\" height=\"110\" id=\"bt_2_097_03_e49\" lazy=\"2\" org=\"\" src=\"/ecm/img/cmm/blank.png\" title=\"momo\" width=\"110\"/> <p> <span class=\"prdName\" id=\"bt_2_097_03_e50\"></span> <span class=\"prdPrice\">$<b id=\"bt_2_097_03_p8\"></b></span> <span class=\"sso_e49_alt\" id=\"bt_2_097_03_e51\" style=\"display:none;\"></span> <span class=\"sso_e49_title\" id=\"bt_2_097_03_e52\" style=\"display:none;\"></span> <span class=\"sso_e48_title\" id=\"bt_2_097_03_e53\" style=\"display:none;\"></span> </p> </a>,\n",
              " <a href=\"?mdiv=2919100000-bt_2_097_03-bt_2_097_03_e54&amp;ctype=B\" id=\"bt_2_097_03_e54\" title=\"momo\"> <img alt=\"momo\" height=\"110\" id=\"bt_2_097_03_e55\" lazy=\"2\" org=\"\" src=\"/ecm/img/cmm/blank.png\" title=\"momo\" width=\"110\"/> <p> <span class=\"prdName\" id=\"bt_2_097_03_e56\"></span> <span class=\"prdPrice\">$<b id=\"bt_2_097_03_p9\"></b></span> <span class=\"sso_e55_alt\" id=\"bt_2_097_03_e57\" style=\"display:none;\"></span> <span class=\"sso_e55_title\" id=\"bt_2_097_03_e58\" style=\"display:none;\"></span> <span class=\"sso_e54_title\" id=\"bt_2_097_03_e59\" style=\"display:none;\"></span> </p> </a>,\n",
              " <a href=\"?mdiv=2919100000-bt_2_097_03-bt_2_097_03_e173&amp;ctype=B\" id=\"bt_2_097_03_e173\" title=\"momo\"> <img alt=\"momo\" height=\"110\" id=\"bt_2_097_03_e174\" lazy=\"2\" org=\"\" src=\"/ecm/img/cmm/blank.png\" title=\"momo\" width=\"110\"/> <p> <span class=\"prdName\" id=\"bt_2_097_03_e175\"></span> <span class=\"prdPrice\">$<b id=\"bt_2_097_03_p29\"></b></span> <span class=\"sso_e174_alt\" id=\"bt_2_097_03_e176\" style=\"display:none;\"></span> <span class=\"sso_e174_title\" id=\"bt_2_097_03_e177\" style=\"display:none;\"></span> <span class=\"sso_e173_title\" id=\"bt_2_097_03_e178\" style=\"display:none;\"></span> </p> </a>,\n",
              " <a href=\"?mdiv=2919100000-bt_2_097_03-bt_2_097_03_e179&amp;ctype=B\" id=\"bt_2_097_03_e179\" title=\"momo\"> <img alt=\"momo\" height=\"110\" id=\"bt_2_097_03_e180\" lazy=\"2\" org=\"\" src=\"/ecm/img/cmm/blank.png\" title=\"momo\" width=\"110\"/> <p> <span class=\"prdName\" id=\"bt_2_097_03_e181\"></span> <span class=\"prdPrice\">$<b id=\"bt_2_097_03_p30\"></b></span> <span class=\"sso_e180_alt\" id=\"bt_2_097_03_e182\" style=\"display:none;\"></span> <span class=\"sso_e180_title\" id=\"bt_2_097_03_e183\" style=\"display:none;\"></span> <span class=\"sso_e179_title\" id=\"bt_2_097_03_e184\" style=\"display:none;\"></span> </p> </a>,\n",
              " <a href=\"?mdiv=2919100000-bt_2_097_03-bt_2_097_03_e60&amp;ctype=B\" id=\"bt_2_097_03_e60\" title=\"momo\"> <img alt=\"momo\" height=\"290\" id=\"bt_2_097_03_e61\" lazy=\"2\" org=\"\" src=\"/ecm/img/cmm/blank.png\" title=\"momo\" width=\"210\"/> <p> <span class=\"prdName\" id=\"bt_2_097_03_e62\"></span> <span class=\"prdPrice\">$<b id=\"bt_2_097_03_p10\"></b></span> <span class=\"sso_e61_alt\" id=\"bt_2_097_03_e63\" style=\"display:none;\"></span> <span class=\"sso_e61_title\" id=\"bt_2_097_03_e64\" style=\"display:none;\"></span> <span class=\"sso_e60_title\" id=\"bt_2_097_03_e65\" style=\"display:none;\"></span> </p> </a>,\n",
              " <a href=\"?mdiv=2919100000-bt_2_097_03-bt_2_097_03_e66&amp;ctype=B\" id=\"bt_2_097_03_e66\" title=\"momo\"> <img alt=\"momo\" height=\"110\" id=\"bt_2_097_03_e67\" lazy=\"2\" org=\"\" src=\"/ecm/img/cmm/blank.png\" title=\"momo\" width=\"110\"/> <p> <span class=\"prdName\" id=\"bt_2_097_03_e68\"></span> <span class=\"prdPrice\">$<b id=\"bt_2_097_03_p11\"></b></span> <span class=\"sso_e67_alt\" id=\"bt_2_097_03_e69\" style=\"display:none;\"></span> <span class=\"sso_e67_title\" id=\"bt_2_097_03_e70\" style=\"display:none;\"></span> <span class=\"sso_e66_title\" id=\"bt_2_097_03_e71\" style=\"display:none;\"></span> </p> </a>,\n",
              " <a href=\"?mdiv=2919100000-bt_2_097_03-bt_2_097_03_e72&amp;ctype=B\" id=\"bt_2_097_03_e72\" title=\"momo\"> <img alt=\"momo\" height=\"110\" id=\"bt_2_097_03_e73\" lazy=\"2\" org=\"\" src=\"/ecm/img/cmm/blank.png\" title=\"momo\" width=\"110\"/> <p> <span class=\"prdName\" id=\"bt_2_097_03_e74\"></span> <span class=\"prdPrice\">$<b id=\"bt_2_097_03_p12\"></b></span> <span class=\"sso_e73_alt\" id=\"bt_2_097_03_e75\" style=\"display:none;\"></span> <span class=\"sso_e73_title\" id=\"bt_2_097_03_e76\" style=\"display:none;\"></span> <span class=\"sso_e72_title\" id=\"bt_2_097_03_e77\" style=\"display:none;\"></span> </p> </a>,\n",
              " <a href=\"?mdiv=2919100000-bt_2_097_03-bt_2_097_03_e185&amp;ctype=B\" id=\"bt_2_097_03_e185\" title=\"momo\"> <img alt=\"momo\" height=\"110\" id=\"bt_2_097_03_e186\" lazy=\"2\" org=\"\" src=\"/ecm/img/cmm/blank.png\" title=\"momo\" width=\"110\"/> <p> <span class=\"prdName\" id=\"bt_2_097_03_e187\"></span> <span class=\"prdPrice\">$<b id=\"bt_2_097_03_p31\"></b></span> <span class=\"sso_e186_alt\" id=\"bt_2_097_03_e188\" style=\"display:none;\"></span> <span class=\"sso_e186_title\" id=\"bt_2_097_03_e189\" style=\"display:none;\"></span> <span class=\"sso_e185_title\" id=\"bt_2_097_03_e190\" style=\"display:none;\"></span> </p> </a>,\n",
              " <a href=\"?mdiv=2919100000-bt_2_097_03-bt_2_097_03_e191&amp;ctype=B\" id=\"bt_2_097_03_e191\" title=\"momo\"> <img alt=\"momo\" height=\"110\" id=\"bt_2_097_03_e192\" lazy=\"2\" org=\"\" src=\"/ecm/img/cmm/blank.png\" title=\"momo\" width=\"110\"/> <p> <span class=\"prdName\" id=\"bt_2_097_03_e193\"></span> <span class=\"prdPrice\">$<b id=\"bt_2_097_03_p32\"></b></span> <span class=\"sso_e192_alt\" id=\"bt_2_097_03_e194\" style=\"display:none;\"></span> <span class=\"sso_e192_title\" id=\"bt_2_097_03_e195\" style=\"display:none;\"></span> <span class=\"sso_e191_title\" id=\"bt_2_097_03_e196\" style=\"display:none;\"></span> </p> </a>,\n",
              " <a href=\"?mdiv=2919100000-bt_2_097_03-bt_2_097_03_e78&amp;ctype=B\" id=\"bt_2_097_03_e78\" title=\"momo\"> <img alt=\"momo\" height=\"290\" id=\"bt_2_097_03_e79\" lazy=\"2\" org=\"\" src=\"/ecm/img/cmm/blank.png\" title=\"momo\" width=\"210\"/> <p> <span class=\"prdName\" id=\"bt_2_097_03_e80\"></span> <span class=\"prdPrice\">$<b id=\"bt_2_097_03_p13\"></b></span> <span class=\"sso_e79_alt\" id=\"bt_2_097_03_e81\" style=\"display:none;\"></span> <span class=\"sso_e79_title\" id=\"bt_2_097_03_e82\" style=\"display:none;\"></span> <span class=\"sso_e78_title\" id=\"bt_2_097_03_e83\" style=\"display:none;\"></span> </p> </a>,\n",
              " <a href=\"?mdiv=2919100000-bt_2_097_03-bt_2_097_03_e84&amp;ctype=B\" id=\"bt_2_097_03_e84\" title=\"momo\"> <img alt=\"momo\" height=\"110\" id=\"bt_2_097_03_e85\" lazy=\"2\" org=\"\" src=\"/ecm/img/cmm/blank.png\" title=\"momo\" width=\"110\"/> <p> <span class=\"prdName\" id=\"bt_2_097_03_e86\"></span> <span class=\"prdPrice\">$<b id=\"bt_2_097_03_p14\"></b></span> <span class=\"sso_e85_alt\" id=\"bt_2_097_03_e87\" style=\"display:none;\"></span> <span class=\"sso_e85_title\" id=\"bt_2_097_03_e88\" style=\"display:none;\"></span> <span class=\"sso_e84_title\" id=\"bt_2_097_03_e89\" style=\"display:none;\"></span> </p> </a>,\n",
              " <a href=\"?mdiv=2919100000-bt_2_097_03-bt_2_097_03_e90&amp;ctype=B\" id=\"bt_2_097_03_e90\" title=\"momo\"> <img alt=\"momo\" height=\"110\" id=\"bt_2_097_03_e91\" lazy=\"2\" org=\"\" src=\"/ecm/img/cmm/blank.png\" title=\"momo\" width=\"110\"/> <p> <span class=\"prdName\" id=\"bt_2_097_03_e92\"></span> <span class=\"prdPrice\">$<b id=\"bt_2_097_03_p15\"></b></span> <span class=\"sso_e91_alt\" id=\"bt_2_097_03_e93\" style=\"display:none;\"></span> <span class=\"sso_e91_title\" id=\"bt_2_097_03_e94\" style=\"display:none;\"></span> <span class=\"sso_e90_title\" id=\"bt_2_097_03_e95\" style=\"display:none;\"></span> </p> </a>,\n",
              " <a href=\"?mdiv=2919100000-bt_2_097_03-bt_2_097_03_e197&amp;ctype=B\" id=\"bt_2_097_03_e197\" title=\"momo\"> <img alt=\"momo\" height=\"110\" id=\"bt_2_097_03_e198\" lazy=\"2\" org=\"\" src=\"/ecm/img/cmm/blank.png\" title=\"momo\" width=\"110\"/> <p> <span class=\"prdName\" id=\"bt_2_097_03_e199\"></span> <span class=\"prdPrice\">$<b id=\"bt_2_097_03_p33\"></b></span> <span class=\"sso_e198_alt\" id=\"bt_2_097_03_e200\" style=\"display:none;\"></span> <span class=\"sso_e198_title\" id=\"bt_2_097_03_e201\" style=\"display:none;\"></span> <span class=\"sso_e197_title\" id=\"bt_2_097_03_e202\" style=\"display:none;\"></span> </p> </a>,\n",
              " <a href=\"?mdiv=2919100000-bt_2_097_03-bt_2_097_03_e203&amp;ctype=B\" id=\"bt_2_097_03_e203\" title=\"momo\"> <img alt=\"momo\" height=\"110\" id=\"bt_2_097_03_e204\" lazy=\"2\" org=\"\" src=\"/ecm/img/cmm/blank.png\" title=\"momo\" width=\"110\"/> <p> <span class=\"prdName\" id=\"bt_2_097_03_e205\"></span> <span class=\"prdPrice\">$<b id=\"bt_2_097_03_p34\"></b></span> <span class=\"sso_e204_alt\" id=\"bt_2_097_03_e206\" style=\"display:none;\"></span> <span class=\"sso_e204_title\" id=\"bt_2_097_03_e207\" style=\"display:none;\"></span> <span class=\"sso_e203_title\" id=\"bt_2_097_03_e208\" style=\"display:none;\"></span> </p> </a>,\n",
              " <a href=\"?mdiv=2919100000-bt_2_097_03-bt_2_097_03_e96&amp;ctype=B\" id=\"bt_2_097_03_e96\" title=\"momo\"> <img alt=\"momo\" height=\"290\" id=\"bt_2_097_03_e97\" lazy=\"2\" org=\"\" src=\"/ecm/img/cmm/blank.png\" title=\"momo\" width=\"210\"/> <p> <span class=\"prdName\" id=\"bt_2_097_03_e98\"></span> <span class=\"prdPrice\">$<b id=\"bt_2_097_03_p16\"></b></span> <span class=\"sso_e61_alt\" id=\"bt_2_097_03_e99\" style=\"display:none;\"></span> <span class=\"sso_e61_title\" id=\"bt_2_097_03_e100\" style=\"display:none;\"></span> <span class=\"sso_e60_title\" id=\"bt_2_097_03_e101\" style=\"display:none;\"></span> </p> </a>,\n",
              " <a href=\"?mdiv=2919100000-bt_2_097_03-bt_2_097_03_e102&amp;ctype=B\" id=\"bt_2_097_03_e102\" title=\"momo\"> <img alt=\"momo\" height=\"110\" id=\"bt_2_097_03_e103\" lazy=\"2\" org=\"\" src=\"/ecm/img/cmm/blank.png\" title=\"momo\" width=\"110\"/> <p> <span class=\"prdName\" id=\"bt_2_097_03_e104\"></span> <span class=\"prdPrice\">$<b id=\"bt_2_097_03_p17\"></b></span> <span class=\"sso_e103_alt\" id=\"bt_2_097_03_e105\" style=\"display:none;\"></span> <span class=\"sso_e103_title\" id=\"bt_2_097_03_e106\" style=\"display:none;\"></span> <span class=\"sso_e102_title\" id=\"bt_2_097_03_e107\" style=\"display:none;\"></span> </p> </a>,\n",
              " <a href=\"?mdiv=2919100000-bt_2_097_03-bt_2_097_03_e108&amp;ctype=B\" id=\"bt_2_097_03_e108\" title=\"momo\"> <img alt=\"momo\" height=\"110\" id=\"bt_2_097_03_e109\" lazy=\"2\" org=\"\" src=\"/ecm/img/cmm/blank.png\" title=\"momo\" width=\"110\"/> <p> <span class=\"prdName\" id=\"bt_2_097_03_e110\"></span> <span class=\"prdPrice\">$<b id=\"bt_2_097_03_p18\"></b></span> <span class=\"sso_e109_alt\" id=\"bt_2_097_03_e111\" style=\"display:none;\"></span> <span class=\"sso_e109_title\" id=\"bt_2_097_03_e112\" style=\"display:none;\"></span> <span class=\"sso_e108_title\" id=\"bt_2_097_03_e113\" style=\"display:none;\"></span> </p> </a>,\n",
              " <a href=\"?mdiv=2919100000-bt_2_097_03-bt_2_097_03_e209&amp;ctype=B\" id=\"bt_2_097_03_e209\" title=\"momo\"> <img alt=\"momo\" height=\"110\" id=\"bt_2_097_03_e210\" lazy=\"2\" org=\"\" src=\"/ecm/img/cmm/blank.png\" title=\"momo\" width=\"110\"/> <p> <span class=\"prdName\" id=\"bt_2_097_03_e211\"></span> <span class=\"prdPrice\">$<b id=\"bt_2_097_03_p35\"></b></span> <span class=\"sso_e210_alt\" id=\"bt_2_097_03_e212\" style=\"display:none;\"></span> <span class=\"sso_e210_title\" id=\"bt_2_097_03_e213\" style=\"display:none;\"></span> <span class=\"sso_e209_title\" id=\"bt_2_097_03_e214\" style=\"display:none;\"></span> </p> </a>,\n",
              " <a href=\"?mdiv=2919100000-bt_2_097_03-bt_2_097_03_e215&amp;ctype=B\" id=\"bt_2_097_03_e215\" title=\"momo\"> <img alt=\"momo\" height=\"110\" id=\"bt_2_097_03_e216\" lazy=\"2\" org=\"\" src=\"/ecm/img/cmm/blank.png\" title=\"momo\" width=\"110\"/> <p> <span class=\"prdName\" id=\"bt_2_097_03_e217\"></span> <span class=\"prdPrice\">$<b id=\"bt_2_097_03_p36\"></b></span> <span class=\"sso_e216_alt\" id=\"bt_2_097_03_e218\" style=\"display:none;\"></span> <span class=\"sso_e216_title\" id=\"bt_2_097_03_e219\" style=\"display:none;\"></span> <span class=\"sso_e215_title\" id=\"bt_2_097_03_e220\" style=\"display:none;\"></span> </p> </a>,\n",
              " <a href=\"?mdiv=2919100000-bt_2_097_03-bt_2_097_03_e114&amp;ctype=B\" id=\"bt_2_097_03_e114\" title=\"momo\"> <img alt=\"momo\" height=\"290\" id=\"bt_2_097_03_e115\" lazy=\"2\" org=\"\" src=\"/ecm/img/cmm/blank.png\" title=\"momo\" width=\"210\"/> <p> <span class=\"prdName\" id=\"bt_2_097_03_e116\"></span> <span class=\"prdPrice\">$<b id=\"bt_2_097_03_p19\"></b></span> <span class=\"sso_e115_alt\" id=\"bt_2_097_03_e117\" style=\"display:none;\"></span> <span class=\"sso_e115_title\" id=\"bt_2_097_03_e118\" style=\"display:none;\"></span> <span class=\"sso_e114_title\" id=\"bt_2_097_03_e119\" style=\"display:none;\"></span> </p> </a>,\n",
              " <a href=\"?mdiv=2919100000-bt_2_097_03-bt_2_097_03_e120&amp;ctype=B\" id=\"bt_2_097_03_e120\" title=\"momo\"> <img alt=\"momo\" height=\"110\" id=\"bt_2_097_03_e121\" lazy=\"2\" org=\"\" src=\"/ecm/img/cmm/blank.png\" title=\"momo\" width=\"110\"/> <p> <span class=\"prdName\" id=\"bt_2_097_03_e122\"></span> <span class=\"prdPrice\">$<b id=\"bt_2_097_03_p20\"></b></span> <span class=\"sso_e85_alt\" id=\"bt_2_097_03_e123\" style=\"display:none;\"></span> <span class=\"sso_e85_title\" id=\"bt_2_097_03_e124\" style=\"display:none;\"></span> <span class=\"sso_e84_title\" id=\"bt_2_097_03_e125\" style=\"display:none;\"></span> </p> </a>,\n",
              " <a href=\"?mdiv=2919100000-bt_2_097_03-bt_2_097_03_e126&amp;ctype=B\" id=\"bt_2_097_03_e126\" title=\"momo\"> <img alt=\"momo\" height=\"110\" id=\"bt_2_097_03_e127\" lazy=\"2\" org=\"\" src=\"/ecm/img/cmm/blank.png\" title=\"momo\" width=\"110\"/> <p> <span class=\"prdName\" id=\"bt_2_097_03_e128\"></span> <span class=\"prdPrice\">$<b id=\"bt_2_097_03_p21\"></b></span> <span class=\"sso_e127_alt\" id=\"bt_2_097_03_e129\" style=\"display:none;\"></span> <span class=\"sso_e127_title\" id=\"bt_2_097_03_e130\" style=\"display:none;\"></span> <span class=\"sso_e126_title\" id=\"bt_2_097_03_e245\" style=\"display:none;\"></span> </p> </a>,\n",
              " <a href=\"?mdiv=2919100000-bt_2_097_03-bt_2_097_03_e221&amp;ctype=B\" id=\"bt_2_097_03_e221\" title=\"momo\"> <img alt=\"momo\" height=\"110\" id=\"bt_2_097_03_e222\" lazy=\"2\" org=\"\" src=\"/ecm/img/cmm/blank.png\" title=\"momo\" width=\"110\"/> <p> <span class=\"prdName\" id=\"bt_2_097_03_e223\"></span> <span class=\"prdPrice\">$<b id=\"bt_2_097_03_p37\"></b></span> <span class=\"sso_e222_alt\" id=\"bt_2_097_03_e224\" style=\"display:none;\"></span> <span class=\"sso_e222_title\" id=\"bt_2_097_03_e225\" style=\"display:none;\"></span> <span class=\"sso_e221_title\" id=\"bt_2_097_03_e226\" style=\"display:none;\"></span> </p> </a>,\n",
              " <a href=\"?mdiv=2919100000-bt_2_097_03-bt_2_097_03_e227&amp;ctype=B\" id=\"bt_2_097_03_e227\" title=\"momo\"> <img alt=\"momo\" height=\"110\" id=\"bt_2_097_03_e228\" lazy=\"2\" org=\"\" src=\"/ecm/img/cmm/blank.png\" title=\"momo\" width=\"110\"/> <p> <span class=\"prdName\" id=\"bt_2_097_03_e229\"></span> <span class=\"prdPrice\">$<b id=\"bt_2_097_03_p38\"></b></span> <span class=\"sso_e228_alt\" id=\"bt_2_097_03_e230\" style=\"display:none;\"></span> <span class=\"sso_e228_title\" id=\"bt_2_097_03_e231\" style=\"display:none;\"></span> <span class=\"sso_e227_title\" id=\"bt_2_097_03_e232\" style=\"display:none;\"></span> </p> </a>,\n",
              " <a href=\"?mdiv=2919100000-bt_2_097_03-bt_2_097_03_e131&amp;ctype=B\" id=\"bt_2_097_03_e131\" title=\"momo\"> <img alt=\"momo\" height=\"290\" id=\"bt_2_097_03_e132\" lazy=\"2\" org=\"\" src=\"/ecm/img/cmm/blank.png\" title=\"momo\" width=\"210\"/> <p> <span class=\"prdName\" id=\"bt_2_097_03_e133\"></span> <span class=\"prdPrice\">$<b id=\"bt_2_097_03_p22\"></b></span> <span class=\"sso_e132_alt\" id=\"bt_2_097_03_e134\" style=\"display:none;\"></span> <span class=\"sso_e132_title\" id=\"bt_2_097_03_e135\" style=\"display:none;\"></span> <span class=\"sso_e131_title\" id=\"bt_2_097_03_e136\" style=\"display:none;\"></span> </p> </a>,\n",
              " <a href=\"?mdiv=2919100000-bt_2_097_03-bt_2_097_03_e137&amp;ctype=B\" id=\"bt_2_097_03_e137\" title=\"momo\"> <img alt=\"momo\" height=\"110\" id=\"bt_2_097_03_e138\" lazy=\"2\" org=\"\" src=\"/ecm/img/cmm/blank.png\" title=\"momo\" width=\"110\"/> <p> <span class=\"prdName\" id=\"bt_2_097_03_e139\"></span> <span class=\"prdPrice\">$<b id=\"bt_2_097_03_p23\"></b></span> <span class=\"sso_e138_alt\" id=\"bt_2_097_03_e140\" style=\"display:none;\"></span> <span class=\"sso_e138_title\" id=\"bt_2_097_03_e141\" style=\"display:none;\"></span> <span class=\"sso_e137_title\" id=\"bt_2_097_03_e142\" style=\"display:none;\"></span> </p> </a>,\n",
              " <a href=\"?mdiv=2919100000-bt_2_097_03-bt_2_097_03_e143&amp;ctype=B\" id=\"bt_2_097_03_e143\" title=\"momo\"> <img alt=\"momo\" height=\"110\" id=\"bt_2_097_03_e144\" lazy=\"2\" org=\"\" src=\"/ecm/img/cmm/blank.png\" title=\"momo\" width=\"110\"/> <p> <span class=\"prdName\" id=\"bt_2_097_03_e145\"></span> <span class=\"prdPrice\">$<b id=\"bt_2_097_03_p24\"></b></span> <span class=\"sso_e144_alt\" id=\"bt_2_097_03_e146\" style=\"display:none;\"></span> <span class=\"sso_e144_title\" id=\"bt_2_097_03_e147\" style=\"display:none;\"></span> <span class=\"sso_e143_title\" id=\"bt_2_097_03_e148\" style=\"display:none;\"></span> </p> </a>,\n",
              " <a href=\"?mdiv=2919100000-bt_2_097_03-bt_2_097_03_e233&amp;ctype=B\" id=\"bt_2_097_03_e233\" title=\"momo\"> <img alt=\"momo\" height=\"110\" id=\"bt_2_097_03_e234\" lazy=\"2\" org=\"\" src=\"/ecm/img/cmm/blank.png\" title=\"momo\" width=\"110\"/> <p> <span class=\"prdName\" id=\"bt_2_097_03_e235\"></span> <span class=\"prdPrice\">$<b id=\"bt_2_097_03_p39\"></b></span> <span class=\"sso_e234_alt\" id=\"bt_2_097_03_e236\" style=\"display:none;\"></span> <span class=\"sso_e234_title\" id=\"bt_2_097_03_e237\" style=\"display:none;\"></span> <span class=\"sso_e233_title\" id=\"bt_2_097_03_e238\" style=\"display:none;\"></span> </p> </a>,\n",
              " <a href=\"?mdiv=2919100000-bt_2_097_03-bt_2_097_03_e239&amp;ctype=B\" id=\"bt_2_097_03_e239\" title=\"momo\"> <img alt=\"momo\" height=\"110\" id=\"bt_2_097_03_e240\" lazy=\"2\" org=\"\" src=\"/ecm/img/cmm/blank.png\" title=\"momo\" width=\"110\"/> <p> <span class=\"prdName\" id=\"bt_2_097_03_e241\"></span> <span class=\"prdPrice\">$<b id=\"bt_2_097_03_p40\"></b></span> <span class=\"sso_e240_alt\" id=\"bt_2_097_03_e242\" style=\"display:none;\"></span> <span class=\"sso_e240_title\" id=\"bt_2_097_03_e243\" style=\"display:none;\"></span> <span class=\"sso_e239_title\" id=\"bt_2_097_03_e244\" style=\"display:none;\"></span> </p> </a>,\n",
              " <a href=\"https://www.momoshop.com.tw/category/DgrpCategory.jsp?d_code=2919101006&amp;mdiv=2919100000-bt_2_097_02-bt_2_097_02_e6&amp;ctype=B\" id=\"bt_2_097_02_e6\" title=\"momo\"> <img alt=\"momo\" height=\"290\" id=\"bt_2_097_02_e7\" lazy=\"2\" org=\"//img4.momoshop.com.tw/ecm/img/online/29/191/00/000/bt_2_097_02/bt_2_097_02_e7.jpg?t=1656641582216\" src=\"/ecm/img/cmm/blank.png\" title=\"momo\" width=\"210\"/> <p> <span class=\"prdName\" id=\"bt_2_097_02_e8\">LG 樂金</span> <span class=\"prdPrice\">$<b id=\"bt_2_097_02_p1\"></b></span> <span class=\"sso_e7_alt\" id=\"bt_2_097_02_e9\" style=\"display:none;\"></span> <span class=\"sso_e7_title\" id=\"bt_2_097_02_e10\" style=\"display:none;\"></span> <span class=\"sso_e6_title\" id=\"bt_2_097_02_e11\" style=\"display:none;\"></span> </p> </a>,\n",
              " <a href=\"/goods/GoodsDetail.jsp?i_code=9178315&amp;str_category_code=2919100936&amp;mdiv=2919100000-bt_2_097_02-bt_2_097_02_e12&amp;ctype=B\" id=\"bt_2_097_02_e12\" title=\"【LG 樂金】393公升二級能效鏡面變頻右開上下門冰箱(GN-BL430GB)\">\n",
              " <div class=\"prdGoodsImgWrap\">\n",
              " <span class=\"goodsImgTag\"><img lazy=\"2\" org=\"https://img3.momoshop.com.tw/ecm/img/online/341/2022/07/06/175701357/2022070617570135701.png?t=20220706175713\" src=\"/ecm/img/cmm/blank.png\"/></span>\n",
              " <img alt=\"【LG 樂金】393公升二級能效鏡面變頻右開上下門冰箱(GN-BL430GB)\" height=\"110\" id=\"bt_2_097_02_e13\" lazy=\"2\" org=\"//i2.momoshop.com.tw/1656587414/goodsimg/0009/178/315/9178315_L.webp\" src=\"/ecm/img/cmm/blank.png\" title=\"【LG 樂金】393公升二級能效鏡面變頻右開上下門冰箱(GN-BL430GB)\" width=\"110\"/>\n",
              " </div> <p> <span class=\"prdName\" id=\"bt_2_097_02_e14\">【LG 樂金】393公升二級能效鏡面變頻右開上下門冰箱(GN-BL430GB)</span> <span class=\"prdPrice\">$<b class=\" GDS-9178315\" id=\"bt_2_097_02_p2\">19,888</b></span> <span class=\"sso_e13_alt\" id=\"bt_2_097_02_e15\" style=\"display:none;\">【LG 樂金】393公升二級能效鏡面變頻右開上下門冰箱(GN-BL430GB)</span> <span class=\"sso_e13_title\" id=\"bt_2_097_02_e16\" style=\"display:none;\">【LG 樂金】393公升二級能效鏡面變頻右開上下門冰箱(GN-BL430GB)</span> <span class=\"sso_e12_title\" id=\"bt_2_097_02_e17\" style=\"display:none;\">【LG 樂金】393公升二級能效鏡面變頻右開上下門冰箱(GN-BL430GB)</span> </p> </a>,\n",
              " <a href=\"/goods/GoodsDetail.jsp?i_code=9713463&amp;str_category_code=2919100827&amp;mdiv=2919100000-bt_2_097_02-bt_2_097_02_e18&amp;ctype=B\" id=\"bt_2_097_02_e18\" title=\"【LG 樂金】761公升WiFi敲敲看門中門變頻對開冰箱(GR-QPL88SV)\">\n",
              " <div class=\"prdGoodsImgWrap\">\n",
              " <span class=\"goodsImgTag\"><img lazy=\"2\" org=\"https://img2.momoshop.com.tw/ecm/img/online/341/2022/07/06/175352712/2022070617535271201.png?t=20220706175422\" src=\"/ecm/img/cmm/blank.png\"/></span>\n",
              " <img alt=\"【LG 樂金】761公升WiFi敲敲看門中門變頻對開冰箱(GR-QPL88SV)\" height=\"110\" id=\"bt_2_097_02_e19\" lazy=\"2\" org=\"//i3.momoshop.com.tw/1656587293/goodsimg/0009/713/463/9713463_L.webp\" src=\"/ecm/img/cmm/blank.png\" title=\"【LG 樂金】761公升WiFi敲敲看門中門變頻對開冰箱(GR-QPL88SV)\" width=\"110\"/>\n",
              " </div> <p> <span class=\"prdName\" id=\"bt_2_097_02_e20\">761公升WiFi敲敲看門中門變頻對開冰箱(GR-QPL88SV)</span> <span class=\"prdPrice\">$<b class=\" GDS-9713463\" id=\"bt_2_097_02_p3\">74,712</b></span> <span class=\"sso_e19_alt\" id=\"bt_2_097_02_e21\" style=\"display:none;\">【LG 樂金】761公升WiFi敲敲看門中門變頻對開冰箱(GR-QPL88SV)</span> <span class=\"sso_e19_title\" id=\"bt_2_097_02_e22\" style=\"display:none;\">【LG 樂金】761公升WiFi敲敲看門中門變頻對開冰箱(GR-QPL88SV)</span> <span class=\"sso_e18_title\" id=\"bt_2_097_02_e23\" style=\"display:none;\">【LG 樂金】761公升WiFi敲敲看門中門變頻對開冰箱(GR-QPL88SV)</span> </p> </a>,\n",
              " <a href=\"/goods/GoodsDetail.jsp?i_code=10155035&amp;str_category_code=2919100755&amp;mdiv=2919100000-bt_2_097_02-bt_2_097_02_e149&amp;ctype=B\" id=\"bt_2_097_02_e149\" title=\"【LG 樂金】335公升一級能效變頻右開上下門冰箱(GN-L332BS)\">\n",
              " <div class=\"prdGoodsImgWrap\">\n",
              " <span class=\"goodsImgTag\"><img lazy=\"2\" org=\"https://img1.momoshop.com.tw/ecm/img/online/341/2022/07/06/175701357/2022070617570135701.png?t=20220706175713\" src=\"/ecm/img/cmm/blank.png\"/></span>\n",
              " <img alt=\"【LG 樂金】335公升一級能效變頻右開上下門冰箱(GN-L332BS)\" height=\"110\" id=\"bt_2_097_02_e150\" lazy=\"2\" org=\"//i4.momoshop.com.tw/1656587405/goodsimg/0010/155/035/10155035_L.webp\" src=\"/ecm/img/cmm/blank.png\" title=\"【LG 樂金】335公升一級能效變頻右開上下門冰箱(GN-L332BS)\" width=\"110\"/>\n",
              " </div> <p> <span class=\"prdName\" id=\"bt_2_097_02_e151\">2022新機上市【LG 樂金】335公升一級能效變頻右開上下門冰箱(GN-L332BS)</span> <span class=\"prdPrice\">$<b class=\" GDS-10155035\" id=\"bt_2_097_02_p25\">23,310</b></span> <span class=\"sso_e150_alt\" id=\"bt_2_097_02_e152\" style=\"display:none;\">【LG 樂金】335公升一級能效變頻右開上下門冰箱(GN-L332BS)</span> <span class=\"sso_e150_title\" id=\"bt_2_097_02_e153\" style=\"display:none;\">【LG 樂金】335公升一級能效變頻右開上下門冰箱(GN-L332BS)</span> <span class=\"sso_e149_title\" id=\"bt_2_097_02_e154\" style=\"display:none;\">【LG 樂金】335公升一級能效變頻右開上下門冰箱(GN-L332BS)</span> </p> </a>,\n",
              " <a href=\"/goods/GoodsDetail.jsp?i_code=9823513&amp;str_category_code=2919100749&amp;mdiv=2919100000-bt_2_097_02-bt_2_097_02_e155&amp;ctype=B\" id=\"bt_2_097_02_e155\" title=\"【LG 樂金】525公升WiFi 變頻右開上下門冰箱(GN-DL567SV)\">\n",
              " <div class=\"prdGoodsImgWrap\">\n",
              " <span class=\"goodsImgTag\"><img lazy=\"2\" org=\"https://img4.momoshop.com.tw/ecm/img/online/341/2022/07/06/175701357/2022070617570135701.png?t=20220706175713\" src=\"/ecm/img/cmm/blank.png\"/></span>\n",
              " <img alt=\"【LG 樂金】525公升WiFi 變頻右開上下門冰箱(GN-DL567SV)\" height=\"110\" id=\"bt_2_097_02_e156\" lazy=\"2\" org=\"//i1.momoshop.com.tw/1656587200/goodsimg/0009/823/513/9823513_L.webp\" src=\"/ecm/img/cmm/blank.png\" title=\"【LG 樂金】525公升WiFi 變頻右開上下門冰箱(GN-DL567SV)\" width=\"110\"/>\n",
              " </div> <p> <span class=\"prdName\" id=\"bt_2_097_02_e157\">【LG 樂金】525公升WiFi 變頻右開上下門冰箱(GN-DL567SV)</span> <span class=\"prdPrice\">$<b class=\" GDS-9823513\" id=\"bt_2_097_02_p26\">22,941</b></span> <span class=\"sso_e156_alt\" id=\"bt_2_097_02_e158\" style=\"display:none;\">【LG 樂金】525公升WiFi 變頻右開上下門冰箱(GN-DL567SV)</span> <span class=\"sso_e156_title\" id=\"bt_2_097_02_e159\" style=\"display:none;\">【LG 樂金】525公升WiFi 變頻右開上下門冰箱(GN-DL567SV)</span> <span class=\"sso_e155_title\" id=\"bt_2_097_02_e160\" style=\"display:none;\">【LG 樂金】525公升WiFi 變頻右開上下門冰箱(GN-DL567SV)</span> </p> </a>,\n",
              " <a href=\"https://www.momoshop.com.tw/category/DgrpCategory.jsp?d_code=2142200011&amp;mdiv=2919100000-bt_2_097_02-bt_2_097_02_e24&amp;ctype=B\" id=\"bt_2_097_02_e24\" title=\"momo\"> <img alt=\"momo\" height=\"290\" id=\"bt_2_097_02_e25\" lazy=\"2\" org=\"//img4.momoshop.com.tw/ecm/img/online/29/191/00/000/bt_2_097_02/bt_2_097_02_e25.jpg?t=1656641582219\" src=\"/ecm/img/cmm/blank.png\" title=\"momo\" width=\"210\"/> <p> <span class=\"prdName\" id=\"bt_2_097_02_e26\">Whirlpool 惠而浦</span> <span class=\"prdPrice\">$<b id=\"bt_2_097_02_p4\"></b></span> <span class=\"sso_e25_alt\" id=\"bt_2_097_02_e27\" style=\"display:none;\"></span> <span class=\"sso_e25_title\" id=\"bt_2_097_02_e28\" style=\"display:none;\"></span> <span class=\"sso_e24_title\" id=\"bt_2_097_02_e29\" style=\"display:none;\"></span> </p> </a>,\n",
              " <a href=\"/goods/GoodsDetail.jsp?i_code=9713036&amp;str_category_code=2919100945&amp;mdiv=2919100000-bt_2_097_02-bt_2_097_02_e30&amp;ctype=B\" id=\"bt_2_097_02_e30\" title=\"【Whirlpool 惠而浦】533L無框強化玻璃層板定頻上下門冰箱(8WRT19FZDW)\">\n",
              " <div class=\"prdGoodsImgWrap\">\n",
              " <span class=\"goodsImgTag\"><img lazy=\"2\" org=\"https://img4.momoshop.com.tw/ecm/img/online/341/2022/07/06/175701357/2022070617570135701.png?t=20220706175713\" src=\"/ecm/img/cmm/blank.png\"/></span>\n",
              " <img alt=\"【Whirlpool 惠而浦】533L無框強化玻璃層板定頻上下門冰箱(8WRT19FZDW)\" height=\"110\" id=\"bt_2_097_02_e31\" lazy=\"2\" org=\"//i2.momoshop.com.tw/1656587193/goodsimg/0009/713/036/9713036_L.webp\" src=\"/ecm/img/cmm/blank.png\" title=\"【Whirlpool 惠而浦】533L無框強化玻璃層板定頻上下門冰箱(8WRT19FZDW)\" width=\"110\"/>\n",
              " </div> <p> <span class=\"prdName\" id=\"bt_2_097_02_e32\">533L無框強化玻璃層板定頻上下門冰箱(8WRT19FZDW)</span> <span class=\"prdPrice\">$<b class=\" GDS-9713036\" id=\"bt_2_097_02_p5\">27,368</b></span> <span class=\"sso_e31_alt\" id=\"bt_2_097_02_e33\" style=\"display:none;\">【Whirlpool 惠而浦】533L無框強化玻璃層板定頻上下門冰箱(8WRT19FZDW)</span> <span class=\"sso_e31_title\" id=\"bt_2_097_02_e34\" style=\"display:none;\">【Whirlpool 惠而浦】533L無框強化玻璃層板定頻上下門冰箱(8WRT19FZDW)</span> <span class=\"sso_e30_title\" id=\"bt_2_097_02_e35\" style=\"display:none;\">【Whirlpool 惠而浦】533L無框強化玻璃層板定頻上下門冰箱(8WRT19FZDW)</span> </p> </a>,\n",
              " <a href=\"/goods/GoodsDetail.jsp?i_code=9713042&amp;str_category_code=2919100945&amp;mdiv=2919100000-bt_2_097_02-bt_2_097_02_e36&amp;ctype=B\" id=\"bt_2_097_02_e36\" title=\"【Whirlpool 惠而浦】590L智能溫度控制變頻對開門冰箱(WHX620SS)\">\n",
              " <div class=\"prdGoodsImgWrap\">\n",
              " <span class=\"goodsImgTag\"><img lazy=\"2\" org=\"https://img1.momoshop.com.tw/ecm/img/online/341/2022/07/06/175352712/2022070617535271201.png?t=20220706175422\" src=\"/ecm/img/cmm/blank.png\"/></span>\n",
              " <img alt=\"【Whirlpool 惠而浦】590L智能溫度控制變頻對開門冰箱(WHX620SS)\" height=\"110\" id=\"bt_2_097_02_e37\" lazy=\"2\" org=\"//i3.momoshop.com.tw/1656587123/goodsimg/0009/713/042/9713042_L.webp\" src=\"/ecm/img/cmm/blank.png\" title=\"【Whirlpool 惠而浦】590L智能溫度控制變頻對開門冰箱(WHX620SS)\" width=\"110\"/>\n",
              " </div> <p> <span class=\"prdName\" id=\"bt_2_097_02_e38\">590L智能溫度控制變頻對開門冰箱(WHX620SS)</span> <span class=\"prdPrice\">$<b class=\" GDS-9713042\" id=\"bt_2_097_02_p6\">39,900</b></span> <span class=\"sso_e37_alt\" id=\"bt_2_097_02_e39\" style=\"display:none;\">【Whirlpool 惠而浦】590L智能溫度控制變頻對開門冰箱(WHX620SS)</span> <span class=\"sso_e37_title\" id=\"bt_2_097_02_e40\" style=\"display:none;\">【Whirlpool 惠而浦】590L智能溫度控制變頻對開門冰箱(WHX620SS)</span> <span class=\"sso_e36_title\" id=\"bt_2_097_02_e41\" style=\"display:none;\">【Whirlpool 惠而浦】590L智能溫度控制變頻對開門冰箱(WHX620SS)</span> </p> </a>,\n",
              " <a href=\"/goods/GoodsDetail.jsp?i_code=9713044&amp;str_category_code=2919100945&amp;mdiv=2919100000-bt_2_097_02-bt_2_097_02_e161&amp;ctype=B\" id=\"bt_2_097_02_e161\" title=\"【Whirlpool 惠而浦】570L一級能效變頻右開上下門冰箱(WRT571S)\">\n",
              " <div class=\"prdGoodsImgWrap\">\n",
              " <span class=\"goodsImgTag\"><img lazy=\"2\" org=\"https://img1.momoshop.com.tw/ecm/img/online/341/2022/07/06/175701357/2022070617570135701.png?t=20220706175713\" src=\"/ecm/img/cmm/blank.png\"/></span>\n",
              " <img alt=\"【Whirlpool 惠而浦】570L一級能效變頻右開上下門冰箱(WRT571S)\" height=\"110\" id=\"bt_2_097_02_e162\" lazy=\"2\" org=\"//i4.momoshop.com.tw/1656587178/goodsimg/0009/713/044/9713044_L.webp\" src=\"/ecm/img/cmm/blank.png\" title=\"【Whirlpool 惠而浦】570L一級能效變頻右開上下門冰箱(WRT571S)\" width=\"110\"/>\n",
              " </div> <p> <span class=\"prdName\" id=\"bt_2_097_02_e163\">570L一級能效變頻右開上下門冰箱(WRT571S)</span> <span class=\"prdPrice\">$<b class=\" GDS-9713044\" id=\"bt_2_097_02_p27\">26,274</b></span> <span class=\"sso_e162_alt\" id=\"bt_2_097_02_e164\" style=\"display:none;\">【Whirlpool 惠而浦】570L一級能效變頻右開上下門冰箱(WRT571S)</span> <span class=\"sso_e162_title\" id=\"bt_2_097_02_e165\" style=\"display:none;\">【Whirlpool 惠而浦】570L一級能效變頻右開上下門冰箱(WRT571S)</span> <span class=\"sso_e161_title\" id=\"bt_2_097_02_e166\" style=\"display:none;\">【Whirlpool 惠而浦】570L一級能效變頻右開上下門冰箱(WRT571S)</span> </p> </a>,\n",
              " <a href=\"/goods/GoodsDetail.jsp?i_code=9913150&amp;str_category_code=2919100576&amp;mdiv=2919100000-bt_2_097_02-bt_2_097_02_e167&amp;ctype=B\" id=\"bt_2_097_02_e167\" title=\"【Whirlpool 惠而浦】430公升一級能效變頻上下門冰箱-極光銀(WTI5000A)\">\n",
              " <div class=\"prdGoodsImgWrap\">\n",
              " <span class=\"goodsImgTag\"><img lazy=\"2\" org=\"https://img4.momoshop.com.tw/ecm/img/online/341/2022/07/06/175701357/2022070617570135701.png?t=20220706175713\" src=\"/ecm/img/cmm/blank.png\"/></span>\n",
              " <img alt=\"【Whirlpool 惠而浦】430公升一級能效變頻上下門冰箱-極光銀(WTI5000A)\" height=\"110\" id=\"bt_2_097_02_e168\" lazy=\"2\" org=\"//i1.momoshop.com.tw/1656607307/goodsimg/0009/913/150/9913150_L.webp\" src=\"/ecm/img/cmm/blank.png\" title=\"【Whirlpool 惠而浦】430公升一級能效變頻上下門冰箱-極光銀(WTI5000A)\" width=\"110\"/>\n",
              " </div> <p> <span class=\"prdName\" id=\"bt_2_097_02_e169\">【Whirlpool 惠而浦】430公升一級能效變頻上下門冰箱-極光銀(WTI5000A)</span> <span class=\"prdPrice\">$<b class=\" GDS-9913150\" id=\"bt_2_097_02_p28\">22,900</b></span> <span class=\"sso_e168_alt\" id=\"bt_2_097_02_e170\" style=\"display:none;\">【Whirlpool 惠而浦】430公升一級能效變頻上下門冰箱-極光銀(WTI5000A)</span> <span class=\"sso_e168_title\" id=\"bt_2_097_02_e171\" style=\"display:none;\">【Whirlpool 惠而浦】430公升一級能效變頻上下門冰箱-極光銀(WTI5000A)</span> <span class=\"sso_e167_title\" id=\"bt_2_097_02_e172\" style=\"display:none;\">【Whirlpool 惠而浦】430公升一級能效變頻上下門冰箱-極光銀(WTI5000A)</span> </p> </a>,\n",
              " <a href=\"?mdiv=2919100000-bt_2_097_02-bt_2_097_02_e42&amp;ctype=B\" id=\"bt_2_097_02_e42\" title=\"momo\"> <img alt=\"momo\" height=\"290\" id=\"bt_2_097_02_e43\" lazy=\"2\" org=\"\" src=\"/ecm/img/cmm/blank.png\" title=\"momo\" width=\"210\"/> <p> <span class=\"prdName\" id=\"bt_2_097_02_e44\"></span> <span class=\"prdPrice\">$<b id=\"bt_2_097_02_p7\"></b></span> <span class=\"sso_e43_alt\" id=\"bt_2_097_02_e45\" style=\"display:none;\"></span> <span class=\"sso_e43_title\" id=\"bt_2_097_02_e46\" style=\"display:none;\"></span> <span class=\"sso_e42_title\" id=\"bt_2_097_02_e47\" style=\"display:none;\"></span> </p> </a>,\n",
              " <a href=\"?mdiv=2919100000-bt_2_097_02-bt_2_097_02_e48&amp;ctype=B\" id=\"bt_2_097_02_e48\" title=\"momo\"> <img alt=\"momo\" height=\"110\" id=\"bt_2_097_02_e49\" lazy=\"2\" org=\"\" src=\"/ecm/img/cmm/blank.png\" title=\"momo\" width=\"110\"/> <p> <span class=\"prdName\" id=\"bt_2_097_02_e50\"></span> <span class=\"prdPrice\">$<b id=\"bt_2_097_02_p8\"></b></span> <span class=\"sso_e49_alt\" id=\"bt_2_097_02_e51\" style=\"display:none;\"></span> <span class=\"sso_e49_title\" id=\"bt_2_097_02_e52\" style=\"display:none;\"></span> <span class=\"sso_e48_title\" id=\"bt_2_097_02_e53\" style=\"display:none;\"></span> </p> </a>,\n",
              " <a href=\"?mdiv=2919100000-bt_2_097_02-bt_2_097_02_e54&amp;ctype=B\" id=\"bt_2_097_02_e54\" title=\"momo\"> <img alt=\"momo\" height=\"110\" id=\"bt_2_097_02_e55\" lazy=\"2\" org=\"\" src=\"/ecm/img/cmm/blank.png\" title=\"momo\" width=\"110\"/> <p> <span class=\"prdName\" id=\"bt_2_097_02_e56\"></span> <span class=\"prdPrice\">$<b id=\"bt_2_097_02_p9\"></b></span> <span class=\"sso_e55_alt\" id=\"bt_2_097_02_e57\" style=\"display:none;\"></span> <span class=\"sso_e55_title\" id=\"bt_2_097_02_e58\" style=\"display:none;\"></span> <span class=\"sso_e54_title\" id=\"bt_2_097_02_e59\" style=\"display:none;\"></span> </p> </a>,\n",
              " <a href=\"?mdiv=2919100000-bt_2_097_02-bt_2_097_02_e173&amp;ctype=B\" id=\"bt_2_097_02_e173\" title=\"momo\"> <img alt=\"momo\" height=\"110\" id=\"bt_2_097_02_e174\" lazy=\"2\" org=\"\" src=\"/ecm/img/cmm/blank.png\" title=\"momo\" width=\"110\"/> <p> <span class=\"prdName\" id=\"bt_2_097_02_e175\"></span> <span class=\"prdPrice\">$<b id=\"bt_2_097_02_p29\"></b></span> <span class=\"sso_e174_alt\" id=\"bt_2_097_02_e176\" style=\"display:none;\"></span> <span class=\"sso_e174_title\" id=\"bt_2_097_02_e177\" style=\"display:none;\"></span> <span class=\"sso_e173_title\" id=\"bt_2_097_02_e178\" style=\"display:none;\"></span> </p> </a>,\n",
              " <a href=\"?mdiv=2919100000-bt_2_097_02-bt_2_097_02_e179&amp;ctype=B\" id=\"bt_2_097_02_e179\" title=\"momo\"> <img alt=\"momo\" height=\"110\" id=\"bt_2_097_02_e180\" lazy=\"2\" org=\"\" src=\"/ecm/img/cmm/blank.png\" title=\"momo\" width=\"110\"/> <p> <span class=\"prdName\" id=\"bt_2_097_02_e181\"></span> <span class=\"prdPrice\">$<b id=\"bt_2_097_02_p30\"></b></span> <span class=\"sso_e180_alt\" id=\"bt_2_097_02_e182\" style=\"display:none;\"></span> <span class=\"sso_e180_title\" id=\"bt_2_097_02_e183\" style=\"display:none;\"></span> <span class=\"sso_e179_title\" id=\"bt_2_097_02_e184\" style=\"display:none;\"></span> </p> </a>,\n",
              " <a href=\"?mdiv=2919100000-bt_2_097_02-bt_2_097_02_e60&amp;ctype=B\" id=\"bt_2_097_02_e60\" title=\"momo\"> <img alt=\"momo\" height=\"290\" id=\"bt_2_097_02_e61\" lazy=\"2\" org=\"\" src=\"/ecm/img/cmm/blank.png\" title=\"momo\" width=\"210\"/> <p> <span class=\"prdName\" id=\"bt_2_097_02_e62\"></span> <span class=\"prdPrice\">$<b id=\"bt_2_097_02_p10\"></b></span> <span class=\"sso_e61_alt\" id=\"bt_2_097_02_e63\" style=\"display:none;\"></span> <span class=\"sso_e61_title\" id=\"bt_2_097_02_e64\" style=\"display:none;\"></span> <span class=\"sso_e60_title\" id=\"bt_2_097_02_e65\" style=\"display:none;\"></span> </p> </a>,\n",
              " <a href=\"?mdiv=2919100000-bt_2_097_02-bt_2_097_02_e66&amp;ctype=B\" id=\"bt_2_097_02_e66\" title=\"momo\"> <img alt=\"momo\" height=\"110\" id=\"bt_2_097_02_e67\" lazy=\"2\" org=\"\" src=\"/ecm/img/cmm/blank.png\" title=\"momo\" width=\"110\"/> <p> <span class=\"prdName\" id=\"bt_2_097_02_e68\"></span> <span class=\"prdPrice\">$<b id=\"bt_2_097_02_p11\"></b></span> <span class=\"sso_e67_alt\" id=\"bt_2_097_02_e69\" style=\"display:none;\"></span> <span class=\"sso_e67_title\" id=\"bt_2_097_02_e70\" style=\"display:none;\"></span> <span class=\"sso_e66_title\" id=\"bt_2_097_02_e71\" style=\"display:none;\"></span> </p> </a>,\n",
              " <a href=\"?mdiv=2919100000-bt_2_097_02-bt_2_097_02_e72&amp;ctype=B\" id=\"bt_2_097_02_e72\" title=\"momo\"> <img alt=\"momo\" height=\"110\" id=\"bt_2_097_02_e73\" lazy=\"2\" org=\"\" src=\"/ecm/img/cmm/blank.png\" title=\"momo\" width=\"110\"/> <p> <span class=\"prdName\" id=\"bt_2_097_02_e74\"></span> <span class=\"prdPrice\">$<b id=\"bt_2_097_02_p12\"></b></span> <span class=\"sso_e73_alt\" id=\"bt_2_097_02_e75\" style=\"display:none;\"></span> <span class=\"sso_e73_title\" id=\"bt_2_097_02_e76\" style=\"display:none;\"></span> <span class=\"sso_e72_title\" id=\"bt_2_097_02_e77\" style=\"display:none;\"></span> </p> </a>,\n",
              " <a href=\"?mdiv=2919100000-bt_2_097_02-bt_2_097_02_e185&amp;ctype=B\" id=\"bt_2_097_02_e185\" title=\"momo\"> <img alt=\"momo\" height=\"110\" id=\"bt_2_097_02_e186\" lazy=\"2\" org=\"\" src=\"/ecm/img/cmm/blank.png\" title=\"momo\" width=\"110\"/> <p> <span class=\"prdName\" id=\"bt_2_097_02_e187\"></span> <span class=\"prdPrice\">$<b id=\"bt_2_097_02_p31\"></b></span> <span class=\"sso_e186_alt\" id=\"bt_2_097_02_e188\" style=\"display:none;\"></span> <span class=\"sso_e186_title\" id=\"bt_2_097_02_e189\" style=\"display:none;\"></span> <span class=\"sso_e185_title\" id=\"bt_2_097_02_e190\" style=\"display:none;\"></span> </p> </a>,\n",
              " <a href=\"?mdiv=2919100000-bt_2_097_02-bt_2_097_02_e191&amp;ctype=B\" id=\"bt_2_097_02_e191\" title=\"momo\"> <img alt=\"momo\" height=\"110\" id=\"bt_2_097_02_e192\" lazy=\"2\" org=\"\" src=\"/ecm/img/cmm/blank.png\" title=\"momo\" width=\"110\"/> <p> <span class=\"prdName\" id=\"bt_2_097_02_e193\"></span> <span class=\"prdPrice\">$<b id=\"bt_2_097_02_p32\"></b></span> <span class=\"sso_e192_alt\" id=\"bt_2_097_02_e194\" style=\"display:none;\"></span> <span class=\"sso_e192_title\" id=\"bt_2_097_02_e195\" style=\"display:none;\"></span> <span class=\"sso_e191_title\" id=\"bt_2_097_02_e196\" style=\"display:none;\"></span> </p> </a>,\n",
              " <a href=\"?mdiv=2919100000-bt_2_097_02-bt_2_097_02_e78&amp;ctype=B\" id=\"bt_2_097_02_e78\" title=\"momo\"> <img alt=\"momo\" height=\"290\" id=\"bt_2_097_02_e79\" lazy=\"2\" org=\"\" src=\"/ecm/img/cmm/blank.png\" title=\"momo\" width=\"210\"/> <p> <span class=\"prdName\" id=\"bt_2_097_02_e80\"></span> <span class=\"prdPrice\">$<b id=\"bt_2_097_02_p13\"></b></span> <span class=\"sso_e79_alt\" id=\"bt_2_097_02_e81\" style=\"display:none;\"></span> <span class=\"sso_e79_title\" id=\"bt_2_097_02_e82\" style=\"display:none;\"></span> <span class=\"sso_e78_title\" id=\"bt_2_097_02_e83\" style=\"display:none;\"></span> </p> </a>,\n",
              " <a href=\"?mdiv=2919100000-bt_2_097_02-bt_2_097_02_e84&amp;ctype=B\" id=\"bt_2_097_02_e84\" title=\"momo\"> <img alt=\"momo\" height=\"110\" id=\"bt_2_097_02_e85\" lazy=\"2\" org=\"\" src=\"/ecm/img/cmm/blank.png\" title=\"momo\" width=\"110\"/> <p> <span class=\"prdName\" id=\"bt_2_097_02_e86\"></span> <span class=\"prdPrice\">$<b id=\"bt_2_097_02_p14\"></b></span> <span class=\"sso_e85_alt\" id=\"bt_2_097_02_e87\" style=\"display:none;\"></span> <span class=\"sso_e85_title\" id=\"bt_2_097_02_e88\" style=\"display:none;\"></span> <span class=\"sso_e84_title\" id=\"bt_2_097_02_e89\" style=\"display:none;\"></span> </p> </a>,\n",
              " <a href=\"?mdiv=2919100000-bt_2_097_02-bt_2_097_02_e90&amp;ctype=B\" id=\"bt_2_097_02_e90\" title=\"momo\"> <img alt=\"momo\" height=\"110\" id=\"bt_2_097_02_e91\" lazy=\"2\" org=\"\" src=\"/ecm/img/cmm/blank.png\" title=\"momo\" width=\"110\"/> <p> <span class=\"prdName\" id=\"bt_2_097_02_e92\"></span> <span class=\"prdPrice\">$<b id=\"bt_2_097_02_p15\"></b></span> <span class=\"sso_e91_alt\" id=\"bt_2_097_02_e93\" style=\"display:none;\"></span> <span class=\"sso_e91_title\" id=\"bt_2_097_02_e94\" style=\"display:none;\"></span> <span class=\"sso_e90_title\" id=\"bt_2_097_02_e95\" style=\"display:none;\"></span> </p> </a>,\n",
              " <a href=\"?mdiv=2919100000-bt_2_097_02-bt_2_097_02_e197&amp;ctype=B\" id=\"bt_2_097_02_e197\" title=\"momo\"> <img alt=\"momo\" height=\"110\" id=\"bt_2_097_02_e198\" lazy=\"2\" org=\"\" src=\"/ecm/img/cmm/blank.png\" title=\"momo\" width=\"110\"/> <p> <span class=\"prdName\" id=\"bt_2_097_02_e199\"></span> <span class=\"prdPrice\">$<b id=\"bt_2_097_02_p33\"></b></span> <span class=\"sso_e198_alt\" id=\"bt_2_097_02_e200\" style=\"display:none;\"></span> <span class=\"sso_e198_title\" id=\"bt_2_097_02_e201\" style=\"display:none;\"></span> <span class=\"sso_e197_title\" id=\"bt_2_097_02_e202\" style=\"display:none;\"></span> </p> </a>,\n",
              " <a href=\"?mdiv=2919100000-bt_2_097_02-bt_2_097_02_e203&amp;ctype=B\" id=\"bt_2_097_02_e203\" title=\"momo\"> <img alt=\"momo\" height=\"110\" id=\"bt_2_097_02_e204\" lazy=\"2\" org=\"\" src=\"/ecm/img/cmm/blank.png\" title=\"momo\" width=\"110\"/> <p> <span class=\"prdName\" id=\"bt_2_097_02_e205\"></span> <span class=\"prdPrice\">$<b id=\"bt_2_097_02_p34\"></b></span> <span class=\"sso_e204_alt\" id=\"bt_2_097_02_e206\" style=\"display:none;\"></span> <span class=\"sso_e204_title\" id=\"bt_2_097_02_e207\" style=\"display:none;\"></span> <span class=\"sso_e203_title\" id=\"bt_2_097_02_e208\" style=\"display:none;\"></span> </p> </a>,\n",
              " <a href=\"?mdiv=2919100000-bt_2_097_02-bt_2_097_02_e96&amp;ctype=B\" id=\"bt_2_097_02_e96\" title=\"momo\"> <img alt=\"momo\" height=\"290\" id=\"bt_2_097_02_e97\" lazy=\"2\" org=\"\" src=\"/ecm/img/cmm/blank.png\" title=\"momo\" width=\"210\"/> <p> <span class=\"prdName\" id=\"bt_2_097_02_e98\"></span> <span class=\"prdPrice\">$<b id=\"bt_2_097_02_p16\"></b></span> <span class=\"sso_e61_alt\" id=\"bt_2_097_02_e99\" style=\"display:none;\"></span> <span class=\"sso_e61_title\" id=\"bt_2_097_02_e100\" style=\"display:none;\"></span> <span class=\"sso_e60_title\" id=\"bt_2_097_02_e101\" style=\"display:none;\"></span> </p> </a>,\n",
              " <a href=\"?mdiv=2919100000-bt_2_097_02-bt_2_097_02_e102&amp;ctype=B\" id=\"bt_2_097_02_e102\" title=\"momo\"> <img alt=\"momo\" height=\"110\" id=\"bt_2_097_02_e103\" lazy=\"2\" org=\"\" src=\"/ecm/img/cmm/blank.png\" title=\"momo\" width=\"110\"/> <p> <span class=\"prdName\" id=\"bt_2_097_02_e104\"></span> <span class=\"prdPrice\">$<b id=\"bt_2_097_02_p17\"></b></span> <span class=\"sso_e103_alt\" id=\"bt_2_097_02_e105\" style=\"display:none;\"></span> <span class=\"sso_e103_title\" id=\"bt_2_097_02_e106\" style=\"display:none;\"></span> <span class=\"sso_e102_title\" id=\"bt_2_097_02_e107\" style=\"display:none;\"></span> </p> </a>,\n",
              " <a href=\"?mdiv=2919100000-bt_2_097_02-bt_2_097_02_e108&amp;ctype=B\" id=\"bt_2_097_02_e108\" title=\"momo\"> <img alt=\"momo\" height=\"110\" id=\"bt_2_097_02_e109\" lazy=\"2\" org=\"\" src=\"/ecm/img/cmm/blank.png\" title=\"momo\" width=\"110\"/> <p> <span class=\"prdName\" id=\"bt_2_097_02_e110\"></span> <span class=\"prdPrice\">$<b id=\"bt_2_097_02_p18\"></b></span> <span class=\"sso_e109_alt\" id=\"bt_2_097_02_e111\" style=\"display:none;\"></span> <span class=\"sso_e109_title\" id=\"bt_2_097_02_e112\" style=\"display:none;\"></span> <span class=\"sso_e108_title\" id=\"bt_2_097_02_e113\" style=\"display:none;\"></span> </p> </a>,\n",
              " <a href=\"?mdiv=2919100000-bt_2_097_02-bt_2_097_02_e209&amp;ctype=B\" id=\"bt_2_097_02_e209\" title=\"momo\"> <img alt=\"momo\" height=\"110\" id=\"bt_2_097_02_e210\" lazy=\"2\" org=\"\" src=\"/ecm/img/cmm/blank.png\" title=\"momo\" width=\"110\"/> <p> <span class=\"prdName\" id=\"bt_2_097_02_e211\"></span> <span class=\"prdPrice\">$<b id=\"bt_2_097_02_p35\"></b></span> <span class=\"sso_e210_alt\" id=\"bt_2_097_02_e212\" style=\"display:none;\"></span> <span class=\"sso_e210_title\" id=\"bt_2_097_02_e213\" style=\"display:none;\"></span> <span class=\"sso_e209_title\" id=\"bt_2_097_02_e214\" style=\"display:none;\"></span> </p> </a>,\n",
              " <a href=\"?mdiv=2919100000-bt_2_097_02-bt_2_097_02_e215&amp;ctype=B\" id=\"bt_2_097_02_e215\" title=\"momo\"> <img alt=\"momo\" height=\"110\" id=\"bt_2_097_02_e216\" lazy=\"2\" org=\"\" src=\"/ecm/img/cmm/blank.png\" title=\"momo\" width=\"110\"/> <p> <span class=\"prdName\" id=\"bt_2_097_02_e217\"></span> <span class=\"prdPrice\">$<b id=\"bt_2_097_02_p36\"></b></span> <span class=\"sso_e216_alt\" id=\"bt_2_097_02_e218\" style=\"display:none;\"></span> <span class=\"sso_e216_title\" id=\"bt_2_097_02_e219\" style=\"display:none;\"></span> <span class=\"sso_e215_title\" id=\"bt_2_097_02_e220\" style=\"display:none;\"></span> </p> </a>,\n",
              " <a href=\"?mdiv=2919100000-bt_2_097_02-bt_2_097_02_e114&amp;ctype=B\" id=\"bt_2_097_02_e114\" title=\"momo\"> <img alt=\"momo\" height=\"290\" id=\"bt_2_097_02_e115\" lazy=\"2\" org=\"\" src=\"/ecm/img/cmm/blank.png\" title=\"momo\" width=\"210\"/> <p> <span class=\"prdName\" id=\"bt_2_097_02_e116\"></span> <span class=\"prdPrice\">$<b id=\"bt_2_097_02_p19\"></b></span> <span class=\"sso_e115_alt\" id=\"bt_2_097_02_e117\" style=\"display:none;\"></span> <span class=\"sso_e115_title\" id=\"bt_2_097_02_e118\" style=\"display:none;\"></span> <span class=\"sso_e114_title\" id=\"bt_2_097_02_e119\" style=\"display:none;\"></span> </p> </a>,\n",
              " <a href=\"?mdiv=2919100000-bt_2_097_02-bt_2_097_02_e120&amp;ctype=B\" id=\"bt_2_097_02_e120\" title=\"momo\"> <img alt=\"momo\" height=\"110\" id=\"bt_2_097_02_e121\" lazy=\"2\" org=\"\" src=\"/ecm/img/cmm/blank.png\" title=\"momo\" width=\"110\"/> <p> <span class=\"prdName\" id=\"bt_2_097_02_e122\"></span> <span class=\"prdPrice\">$<b id=\"bt_2_097_02_p20\"></b></span> <span class=\"sso_e85_alt\" id=\"bt_2_097_02_e123\" style=\"display:none;\"></span> <span class=\"sso_e85_title\" id=\"bt_2_097_02_e124\" style=\"display:none;\"></span> <span class=\"sso_e84_title\" id=\"bt_2_097_02_e125\" style=\"display:none;\"></span> </p> </a>,\n",
              " <a href=\"?mdiv=2919100000-bt_2_097_02-bt_2_097_02_e126&amp;ctype=B\" id=\"bt_2_097_02_e126\" title=\"momo\"> <img alt=\"momo\" height=\"110\" id=\"bt_2_097_02_e127\" lazy=\"2\" org=\"\" src=\"/ecm/img/cmm/blank.png\" title=\"momo\" width=\"110\"/> <p> <span class=\"prdName\" id=\"bt_2_097_02_e128\"></span> <span class=\"prdPrice\">$<b id=\"bt_2_097_02_p21\"></b></span> <span class=\"sso_e127_alt\" id=\"bt_2_097_02_e129\" style=\"display:none;\"></span> <span class=\"sso_e127_title\" id=\"bt_2_097_02_e130\" style=\"display:none;\"></span> <span class=\"sso_e126_title\" id=\"bt_2_097_02_e245\" style=\"display:none;\"></span> </p> </a>,\n",
              " <a href=\"?mdiv=2919100000-bt_2_097_02-bt_2_097_02_e221&amp;ctype=B\" id=\"bt_2_097_02_e221\" title=\"momo\"> <img alt=\"momo\" height=\"110\" id=\"bt_2_097_02_e222\" lazy=\"2\" org=\"\" src=\"/ecm/img/cmm/blank.png\" title=\"momo\" width=\"110\"/> <p> <span class=\"prdName\" id=\"bt_2_097_02_e223\"></span> <span class=\"prdPrice\">$<b id=\"bt_2_097_02_p37\"></b></span> <span class=\"sso_e222_alt\" id=\"bt_2_097_02_e224\" style=\"display:none;\"></span> <span class=\"sso_e222_title\" id=\"bt_2_097_02_e225\" style=\"display:none;\"></span> <span class=\"sso_e221_title\" id=\"bt_2_097_02_e226\" style=\"display:none;\"></span> </p> </a>,\n",
              " <a href=\"?mdiv=2919100000-bt_2_097_02-bt_2_097_02_e227&amp;ctype=B\" id=\"bt_2_097_02_e227\" title=\"momo\"> <img alt=\"momo\" height=\"110\" id=\"bt_2_097_02_e228\" lazy=\"2\" org=\"\" src=\"/ecm/img/cmm/blank.png\" title=\"momo\" width=\"110\"/> <p> <span class=\"prdName\" id=\"bt_2_097_02_e229\"></span> <span class=\"prdPrice\">$<b id=\"bt_2_097_02_p38\"></b></span> <span class=\"sso_e228_alt\" id=\"bt_2_097_02_e230\" style=\"display:none;\"></span> <span class=\"sso_e228_title\" id=\"bt_2_097_02_e231\" style=\"display:none;\"></span> <span class=\"sso_e227_title\" id=\"bt_2_097_02_e232\" style=\"display:none;\"></span> </p> </a>,\n",
              " <a href=\"?mdiv=2919100000-bt_2_097_02-bt_2_097_02_e131&amp;ctype=B\" id=\"bt_2_097_02_e131\" title=\"momo\"> <img alt=\"momo\" height=\"290\" id=\"bt_2_097_02_e132\" lazy=\"2\" org=\"\" src=\"/ecm/img/cmm/blank.png\" title=\"momo\" width=\"210\"/> <p> <span class=\"prdName\" id=\"bt_2_097_02_e133\"></span> <span class=\"prdPrice\">$<b id=\"bt_2_097_02_p22\"></b></span> <span class=\"sso_e132_alt\" id=\"bt_2_097_02_e134\" style=\"display:none;\"></span> <span class=\"sso_e132_title\" id=\"bt_2_097_02_e135\" style=\"display:none;\"></span> <span class=\"sso_e131_title\" id=\"bt_2_097_02_e136\" style=\"display:none;\"></span> </p> </a>,\n",
              " <a href=\"?mdiv=2919100000-bt_2_097_02-bt_2_097_02_e137&amp;ctype=B\" id=\"bt_2_097_02_e137\" title=\"momo\"> <img alt=\"momo\" height=\"110\" id=\"bt_2_097_02_e138\" lazy=\"2\" org=\"\" src=\"/ecm/img/cmm/blank.png\" title=\"momo\" width=\"110\"/> <p> <span class=\"prdName\" id=\"bt_2_097_02_e139\"></span> <span class=\"prdPrice\">$<b id=\"bt_2_097_02_p23\"></b></span> <span class=\"sso_e138_alt\" id=\"bt_2_097_02_e140\" style=\"display:none;\"></span> <span class=\"sso_e138_title\" id=\"bt_2_097_02_e141\" style=\"display:none;\"></span> <span class=\"sso_e137_title\" id=\"bt_2_097_02_e142\" style=\"display:none;\"></span> </p> </a>,\n",
              " <a href=\"?mdiv=2919100000-bt_2_097_02-bt_2_097_02_e143&amp;ctype=B\" id=\"bt_2_097_02_e143\" title=\"momo\"> <img alt=\"momo\" height=\"110\" id=\"bt_2_097_02_e144\" lazy=\"2\" org=\"\" src=\"/ecm/img/cmm/blank.png\" title=\"momo\" width=\"110\"/> <p> <span class=\"prdName\" id=\"bt_2_097_02_e145\"></span> <span class=\"prdPrice\">$<b id=\"bt_2_097_02_p24\"></b></span> <span class=\"sso_e144_alt\" id=\"bt_2_097_02_e146\" style=\"display:none;\"></span> <span class=\"sso_e144_title\" id=\"bt_2_097_02_e147\" style=\"display:none;\"></span> <span class=\"sso_e143_title\" id=\"bt_2_097_02_e148\" style=\"display:none;\"></span> </p> </a>,\n",
              " <a href=\"?mdiv=2919100000-bt_2_097_02-bt_2_097_02_e233&amp;ctype=B\" id=\"bt_2_097_02_e233\" title=\"momo\"> <img alt=\"momo\" height=\"110\" id=\"bt_2_097_02_e234\" lazy=\"2\" org=\"\" src=\"/ecm/img/cmm/blank.png\" title=\"momo\" width=\"110\"/> <p> <span class=\"prdName\" id=\"bt_2_097_02_e235\"></span> <span class=\"prdPrice\">$<b id=\"bt_2_097_02_p39\"></b></span> <span class=\"sso_e234_alt\" id=\"bt_2_097_02_e236\" style=\"display:none;\"></span> <span class=\"sso_e234_title\" id=\"bt_2_097_02_e237\" style=\"display:none;\"></span> <span class=\"sso_e233_title\" id=\"bt_2_097_02_e238\" style=\"display:none;\"></span> </p> </a>,\n",
              " <a href=\"?mdiv=2919100000-bt_2_097_02-bt_2_097_02_e239&amp;ctype=B\" id=\"bt_2_097_02_e239\" title=\"momo\"> <img alt=\"momo\" height=\"110\" id=\"bt_2_097_02_e240\" lazy=\"2\" org=\"\" src=\"/ecm/img/cmm/blank.png\" title=\"momo\" width=\"110\"/> <p> <span class=\"prdName\" id=\"bt_2_097_02_e241\"></span> <span class=\"prdPrice\">$<b id=\"bt_2_097_02_p40\"></b></span> <span class=\"sso_e240_alt\" id=\"bt_2_097_02_e242\" style=\"display:none;\"></span> <span class=\"sso_e240_title\" id=\"bt_2_097_02_e243\" style=\"display:none;\"></span> <span class=\"sso_e239_title\" id=\"bt_2_097_02_e244\" style=\"display:none;\"></span> </p> </a>,\n",
              " <a href=\"https://www.momoshop.com.tw/category/DgrpCategory.jsp?d_code=2919100677&amp;p_orderType=6&amp;showType=chessboardType&amp;mdiv=2919100000-bt_2_097_04-bt_2_097_04_e6&amp;ctype=B\" id=\"bt_2_097_04_e6\" title=\"momo\"> <img alt=\"momo\" height=\"290\" id=\"bt_2_097_04_e7\" lazy=\"2\" org=\"//img1.momoshop.com.tw/ecm/img/online/29/191/00/000/bt_2_097_04/bt_2_097_04_e7.jpg?t=1656495343480\" src=\"/ecm/img/cmm/blank.png\" title=\"momo\" width=\"210\"/> <p> <span class=\"prdName\" id=\"bt_2_097_04_e8\"></span> <span class=\"prdPrice\">$<b id=\"bt_2_097_04_p1\"></b></span> <span class=\"sso_e7_alt\" id=\"bt_2_097_04_e9\" style=\"display:none;\"></span> <span class=\"sso_e7_title\" id=\"bt_2_097_04_e10\" style=\"display:none;\"></span> <span class=\"sso_e6_title\" id=\"bt_2_097_04_e11\" style=\"display:none;\"></span> </p> </a>,\n",
              " <a href=\"/goods/GoodsDetail.jsp?i_code=8313687&amp;str_category_code=2919100749&amp;mdiv=2919100000-bt_2_097_04-bt_2_097_04_e12&amp;ctype=B\" id=\"bt_2_097_04_e12\" title=\"【Kolin歌林】485公升一級能效變頻右開雙門冰箱KR-248V03-燦銀灰(送基本運送安裝+舊機回收)\"> <img alt=\"【Kolin歌林】485公升一級能效變頻右開雙門冰箱KR-248V03-燦銀灰(送基本運送安裝+舊機回收)\" height=\"110\" id=\"bt_2_097_04_e13\" lazy=\"2\" org=\"//i2.momoshop.com.tw/1656570859/goodsimg/0008/313/687/8313687_L.webp\" src=\"/ecm/img/cmm/blank.png\" title=\"【Kolin歌林】485公升一級能效變頻右開雙門冰箱KR-248V03-燦銀灰(送基本運送安裝+舊機回收)\" width=\"110\"/> <p> <span class=\"prdName\" id=\"bt_2_097_04_e14\">【Kolin歌林】485公升一級能效變頻右開雙門冰箱KR-248V03-燦銀灰(送基本運送安裝+舊機回收)</span> <span class=\"prdPrice\">$<b class=\" GDS-8313687\" id=\"bt_2_097_04_p2\">22,726</b></span> <span class=\"sso_e13_alt\" id=\"bt_2_097_04_e15\" style=\"display:none;\">【Kolin歌林】485公升一級能效變頻右開雙門冰箱KR-248V03-燦銀灰(送基本運送安裝+舊機回收)</span> <span class=\"sso_e13_title\" id=\"bt_2_097_04_e16\" style=\"display:none;\">【Kolin歌林】485公升一級能效變頻右開雙門冰箱KR-248V03-燦銀灰(送基本運送安裝+舊機回收)</span> <span class=\"sso_e12_title\" id=\"bt_2_097_04_e17\" style=\"display:none;\">【Kolin歌林】485公升一級能效變頻右開雙門冰箱KR-248V03-燦銀灰(送基本運送安裝+舊機回收)</span> </p> </a>,\n",
              " <a href=\"/goods/GoodsDetail.jsp?i_code=7807395&amp;str_category_code=2919100752&amp;mdiv=2919100000-bt_2_097_04-bt_2_097_04_e18&amp;ctype=B\" id=\"bt_2_097_04_e18\" title=\"【Kolin 歌林】125公升二級能效精緻定頻右開雙門冰箱KR-213S03-銀色(送基本安裝/舊機回收)\"> <img alt=\"【Kolin 歌林】125公升二級能效精緻定頻右開雙門冰箱KR-213S03-銀色(送基本安裝/舊機回收)\" height=\"110\" id=\"bt_2_097_04_e19\" lazy=\"2\" org=\"//i3.momoshop.com.tw/1656570887/goodsimg/0007/807/395/7807395_L.webp\" src=\"/ecm/img/cmm/blank.png\" title=\"【Kolin 歌林】125公升二級能效精緻定頻右開雙門冰箱KR-213S03-銀色(送基本安裝/舊機回收)\" width=\"110\"/> <p> <span class=\"prdName\" id=\"bt_2_097_04_e20\">【Kolin 歌林】125公升二級能效精緻定頻右開雙門冰箱KR-213S03-銀色(送基本安裝/舊機回收)</span> <span class=\"prdPrice\">$<b class=\" GDS-7807395\" id=\"bt_2_097_04_p3\">9,393</b></span> <span class=\"sso_e19_alt\" id=\"bt_2_097_04_e21\" style=\"display:none;\">【Kolin 歌林】125公升二級能效精緻定頻右開雙門冰箱KR-213S03-銀色(送基本安裝/舊機回收)</span> <span class=\"sso_e19_title\" id=\"bt_2_097_04_e22\" style=\"display:none;\">【Kolin 歌林】125公升二級能效精緻定頻右開雙門冰箱KR-213S03-銀色(送基本安裝/舊機回收)</span> <span class=\"sso_e18_title\" id=\"bt_2_097_04_e23\" style=\"display:none;\">【Kolin 歌林】125公升二級能效精緻定頻右開雙門冰箱KR-213S03-銀色(送基本安裝/舊機回收)</span> </p> </a>,\n",
              " <a href=\"/goods/GoodsDetail.jsp?i_code=10150012&amp;str_category_code=2919100764&amp;mdiv=2919100000-bt_2_097_04-bt_2_097_04_e149&amp;ctype=B\" id=\"bt_2_097_04_e149\" title=\"【Kolin 歌林】579公升一級能效精緻變頻右開雙門冰箱KR-258V03燦銀灰(基本運送/安裝+舊機回收)\"> <img alt=\"【Kolin 歌林】579公升一級能效精緻變頻右開雙門冰箱KR-258V03燦銀灰(基本運送/安裝+舊機回收)\" height=\"110\" id=\"bt_2_097_04_e150\" lazy=\"2\" org=\"//i4.momoshop.com.tw/1656570931/goodsimg/0010/150/012/10150012_L.webp\" src=\"/ecm/img/cmm/blank.png\" title=\"【Kolin 歌林】579公升一級能效精緻變頻右開雙門冰箱KR-258V03燦銀灰(基本運送/安裝+舊機回收)\" width=\"110\"/> <p> <span class=\"prdName\" id=\"bt_2_097_04_e151\">【Kolin 歌林】579公升一級能效精緻變頻右開雙門冰箱KR-258V03燦銀灰(基本運送/安裝+舊機回收)</span> <span class=\"prdPrice\">$<b class=\" GDS-10150012\" id=\"bt_2_097_04_p25\">25,555</b></span> <span class=\"sso_e150_alt\" id=\"bt_2_097_04_e152\" style=\"display:none;\">【Kolin 歌林】579公升一級能效精緻變頻右開雙門冰箱KR-258V03燦銀灰(基本運送/安裝+舊機回收)</span> <span class=\"sso_e150_title\" id=\"bt_2_097_04_e153\" style=\"display:none;\">【Kolin 歌林】579公升一級能效精緻變頻右開雙門冰箱KR-258V03燦銀灰(基本運送/安裝+舊機回收)</span> <span class=\"sso_e149_title\" id=\"bt_2_097_04_e154\" style=\"display:none;\">【Kolin 歌林】579公升一級能效精緻變頻右開雙門冰箱KR-258V03燦銀灰(基本運送/安裝+舊機回收)</span> </p> </a>,\n",
              " <a href=\"/goods/GoodsDetail.jsp?i_code=9461544&amp;str_category_code=2919100939&amp;mdiv=2919100000-bt_2_097_04-bt_2_097_04_e155&amp;ctype=B\" id=\"bt_2_097_04_e155\" title=\"【Kolin 歌林】90公升一級能效定頻右開雙門小冰箱(KR-SE20918 雪亮白)\"> <img alt=\"【Kolin 歌林】90公升一級能效定頻右開雙門小冰箱(KR-SE20918 雪亮白)\" height=\"110\" id=\"bt_2_097_04_e156\" lazy=\"2\" org=\"//i1.momoshop.com.tw/1656567687/goodsimg/0009/461/544/9461544_L.webp\" src=\"/ecm/img/cmm/blank.png\" title=\"【Kolin 歌林】90公升一級能效定頻右開雙門小冰箱(KR-SE20918 雪亮白)\" width=\"110\"/> <p> <span class=\"prdName\" id=\"bt_2_097_04_e157\">【Kolin 歌林】90公升一級能效定頻右開雙門小冰箱(KR-SE20918 雪亮白)</span> <span class=\"prdPrice\">$<b class=\" GDS-9461544\" id=\"bt_2_097_04_p26\">5,888</b></span> <span class=\"sso_e156_alt\" id=\"bt_2_097_04_e158\" style=\"display:none;\">【Kolin 歌林】90公升一級能效定頻右開雙門小冰箱(KR-SE20918 雪亮白)</span> <span class=\"sso_e156_title\" id=\"bt_2_097_04_e159\" style=\"display:none;\">【Kolin 歌林】90公升一級能效定頻右開雙門小冰箱(KR-SE20918 雪亮白)</span> <span class=\"sso_e155_title\" id=\"bt_2_097_04_e160\" style=\"display:none;\">【Kolin 歌林】90公升一級能效定頻右開雙門小冰箱(KR-SE20918 雪亮白)</span> </p> </a>,\n",
              " <a href=\"https://www.momoshop.com.tw/category/DgrpCategory.jsp?d_code=2919100435&amp;p_orderType=6&amp;showType=chessboardType&amp;mdiv=2919100000-bt_2_097_04-bt_2_097_04_e24&amp;ctype=B\" id=\"bt_2_097_04_e24\" title=\"momo\"> <img alt=\"momo\" height=\"290\" id=\"bt_2_097_04_e25\" lazy=\"2\" org=\"/ecm/img/online/29/191/00/000/bt_2_097_04/bt_2_097_04_e25.jpg?t=1654578293179\" src=\"/ecm/img/cmm/blank.png\" title=\"momo\" width=\"210\"/> <p> <span class=\"prdName\" id=\"bt_2_097_04_e26\"></span> <span class=\"prdPrice\">$<b id=\"bt_2_097_04_p4\"></b></span> <span class=\"sso_e25_alt\" id=\"bt_2_097_04_e27\" style=\"display:none;\"></span> <span class=\"sso_e25_title\" id=\"bt_2_097_04_e28\" style=\"display:none;\"></span> <span class=\"sso_e24_title\" id=\"bt_2_097_04_e29\" style=\"display:none;\"></span> </p> </a>,\n",
              " <a href=\"/goods/GoodsDetail.jsp?i_code=8238133&amp;str_category_code=2919100749&amp;mdiv=2919100000-bt_2_097_04-bt_2_097_04_e30&amp;ctype=B\" id=\"bt_2_097_04_e30\" title=\"【HERAN 禾聯】485L一級能效銀離子抑菌變頻雙門冰箱-穗香金(HRE-B4823V)\"> <img alt=\"【HERAN 禾聯】485L一級能效銀離子抑菌變頻雙門冰箱-穗香金(HRE-B4823V)\" height=\"110\" id=\"bt_2_097_04_e31\" lazy=\"2\" org=\"//i2.momoshop.com.tw/1657108026/goodsimg/0008/238/133/8238133_L.webp\" src=\"/ecm/img/cmm/blank.png\" title=\"【HERAN 禾聯】485L一級能效銀離子抑菌變頻雙門冰箱-穗香金(HRE-B4823V)\" width=\"110\"/> <p> <span class=\"prdName\" id=\"bt_2_097_04_e32\">【HERAN 禾聯】485L一級能效銀離子抑菌變頻雙門冰箱-穗香金(HRE-B4823V)</span> <span class=\"prdPrice\">$<b class=\" GDS-8238133\" id=\"bt_2_097_04_p5\">24,590</b></span> <span class=\"sso_e31_alt\" id=\"bt_2_097_04_e33\" style=\"display:none;\">【HERAN 禾聯】485L一級能效銀離子抑菌變頻雙門冰箱-穗香金(HRE-B4823V)</span> <span class=\"sso_e31_title\" id=\"bt_2_097_04_e34\" style=\"display:none;\">【HERAN 禾聯】485L一級能效銀離子抑菌變頻雙門冰箱-穗香金(HRE-B4823V)</span> <span class=\"sso_e30_title\" id=\"bt_2_097_04_e35\" style=\"display:none;\">【HERAN 禾聯】485L一級能效銀離子抑菌變頻雙門冰箱-穗香金(HRE-B4823V)</span> </p> </a>,\n",
              " <a href=\"/goods/GoodsDetail.jsp?i_code=8331940&amp;str_category_code=2919100942&amp;mdiv=2919100000-bt_2_097_04-bt_2_097_04_e36&amp;ctype=B\" id=\"bt_2_097_04_e36\" title=\"【HERAN 禾聯】100L新一級能效定頻雙門電冰箱(HRE-B1013)\"> <img alt=\"【HERAN 禾聯】100L新一級能效定頻雙門電冰箱(HRE-B1013)\" height=\"110\" id=\"bt_2_097_04_e37\" lazy=\"2\" org=\"//i3.momoshop.com.tw/1619184881/goodsimg/0008/331/940/8331940_L.webp\" src=\"/ecm/img/cmm/blank.png\" title=\"【HERAN 禾聯】100L新一級能效定頻雙門電冰箱(HRE-B1013)\" width=\"110\"/> <p> <span class=\"prdName\" id=\"bt_2_097_04_e38\">【HERAN 禾聯】100L新一級能效定頻雙門電冰箱(HRE-B1013)</span> <span class=\"prdPrice\">$<b class=\" GDS-8331940\" id=\"bt_2_097_04_p6\">7,690</b></span> <span class=\"sso_e37_alt\" id=\"bt_2_097_04_e39\" style=\"display:none;\">【HERAN 禾聯】100L新一級能效定頻雙門電冰箱(HRE-B1013)</span> <span class=\"sso_e37_title\" id=\"bt_2_097_04_e40\" style=\"display:none;\">【HERAN 禾聯】100L新一級能效定頻雙門電冰箱(HRE-B1013)</span> <span class=\"sso_e36_title\" id=\"bt_2_097_04_e41\" style=\"display:none;\">【HERAN 禾聯】100L新一級能效定頻雙門電冰箱(HRE-B1013)</span> </p> </a>,\n",
              " <a href=\"/goods/GoodsDetail.jsp?i_code=8884780&amp;str_category_code=2919100922&amp;mdiv=2919100000-bt_2_097_04-bt_2_097_04_e161&amp;ctype=B\" id=\"bt_2_097_04_e161\" title=\"【HERAN 禾聯】579L ㄧ級變頻雙門電冰箱(HRE-B5822V-G)\"> <img alt=\"【HERAN 禾聯】579L ㄧ級變頻雙門電冰箱(HRE-B5822V-G)\" height=\"110\" id=\"bt_2_097_04_e162\" lazy=\"2\" org=\"//i4.momoshop.com.tw/1649361393/goodsimg/0008/884/780/8884780_L.webp\" src=\"/ecm/img/cmm/blank.png\" title=\"【HERAN 禾聯】579L ㄧ級變頻雙門電冰箱(HRE-B5822V-G)\" width=\"110\"/> <p> <span class=\"prdName\" id=\"bt_2_097_04_e163\">【HERAN 禾聯】579L ㄧ級變頻雙門電冰箱(HRE-B5822V-G)</span> <span class=\"prdPrice\"><b class=\" GDS-8884780\" id=\"bt_2_097_04_p27\" style=\"color:#969696;font:13px/26px Helvetica\">熱銷一空</b></span> <span class=\"sso_e162_alt\" id=\"bt_2_097_04_e164\" style=\"display:none;\">【HERAN 禾聯】579L ㄧ級變頻雙門電冰箱(HRE-B5822V-G)</span> <span class=\"sso_e162_title\" id=\"bt_2_097_04_e165\" style=\"display:none;\">【HERAN 禾聯】579L ㄧ級變頻雙門電冰箱(HRE-B5822V-G)</span> <span class=\"sso_e161_title\" id=\"bt_2_097_04_e166\" style=\"display:none;\">【HERAN 禾聯】579L ㄧ級變頻雙門電冰箱(HRE-B5822V-G)</span> </p> </a>,\n",
              " <a href=\"/goods/GoodsDetail.jsp?i_code=8391751&amp;str_category_code=2919100942&amp;mdiv=2919100000-bt_2_097_04-bt_2_097_04_e167&amp;ctype=B\" id=\"bt_2_097_04_e167\" title=\"【HERAN 禾聯】50L 電子冷藏箱(HBO-0571 BL)\"> <img alt=\"【HERAN 禾聯】50L 電子冷藏箱(HBO-0571 BL)\" height=\"110\" id=\"bt_2_097_04_e168\" lazy=\"2\" org=\"//i1.momoshop.com.tw/1619528392/goodsimg/0008/391/751/8391751_L.webp\" src=\"/ecm/img/cmm/blank.png\" title=\"【HERAN 禾聯】50L 電子冷藏箱(HBO-0571 BL)\" width=\"110\"/> <p> <span class=\"prdName\" id=\"bt_2_097_04_e169\">【HERAN 禾聯】50L 電子冷藏箱(HBO-0571 BL)</span> <span class=\"prdPrice\">$<b class=\" GDS-8391751\" id=\"bt_2_097_04_p28\">5,390</b></span> <span class=\"sso_e168_alt\" id=\"bt_2_097_04_e170\" style=\"display:none;\">【HERAN 禾聯】50L 電子冷藏箱(HBO-0571 BL)</span> <span class=\"sso_e168_title\" id=\"bt_2_097_04_e171\" style=\"display:none;\">【HERAN 禾聯】50L 電子冷藏箱(HBO-0571 BL)</span> <span class=\"sso_e167_title\" id=\"bt_2_097_04_e172\" style=\"display:none;\">【HERAN 禾聯】50L 電子冷藏箱(HBO-0571 BL)</span> </p> </a>,\n",
              " <a href=\"?mdiv=2919100000-bt_2_097_04-bt_2_097_04_e42&amp;ctype=B\" id=\"bt_2_097_04_e42\" title=\"momo\"> <img alt=\"momo\" height=\"290\" id=\"bt_2_097_04_e43\" lazy=\"2\" org=\"\" src=\"/ecm/img/cmm/blank.png\" title=\"momo\" width=\"210\"/> <p> <span class=\"prdName\" id=\"bt_2_097_04_e44\"></span> <span class=\"prdPrice\">$<b id=\"bt_2_097_04_p7\"></b></span> <span class=\"sso_e43_alt\" id=\"bt_2_097_04_e45\" style=\"display:none;\"></span> <span class=\"sso_e43_title\" id=\"bt_2_097_04_e46\" style=\"display:none;\"></span> <span class=\"sso_e42_title\" id=\"bt_2_097_04_e47\" style=\"display:none;\"></span> </p> </a>,\n",
              " <a href=\"?mdiv=2919100000-bt_2_097_04-bt_2_097_04_e48&amp;ctype=B\" id=\"bt_2_097_04_e48\" title=\"momo\"> <img alt=\"momo\" height=\"110\" id=\"bt_2_097_04_e49\" lazy=\"2\" org=\"\" src=\"/ecm/img/cmm/blank.png\" title=\"momo\" width=\"110\"/> <p> <span class=\"prdName\" id=\"bt_2_097_04_e50\"></span> <span class=\"prdPrice\">$<b id=\"bt_2_097_04_p8\"></b></span> <span class=\"sso_e49_alt\" id=\"bt_2_097_04_e51\" style=\"display:none;\"></span> <span class=\"sso_e49_title\" id=\"bt_2_097_04_e52\" style=\"display:none;\"></span> <span class=\"sso_e48_title\" id=\"bt_2_097_04_e53\" style=\"display:none;\"></span> </p> </a>,\n",
              " <a href=\"?mdiv=2919100000-bt_2_097_04-bt_2_097_04_e54&amp;ctype=B\" id=\"bt_2_097_04_e54\" title=\"momo\"> <img alt=\"momo\" height=\"110\" id=\"bt_2_097_04_e55\" lazy=\"2\" org=\"\" src=\"/ecm/img/cmm/blank.png\" title=\"momo\" width=\"110\"/> <p> <span class=\"prdName\" id=\"bt_2_097_04_e56\"></span> <span class=\"prdPrice\">$<b id=\"bt_2_097_04_p9\"></b></span> <span class=\"sso_e55_alt\" id=\"bt_2_097_04_e57\" style=\"display:none;\"></span> <span class=\"sso_e55_title\" id=\"bt_2_097_04_e58\" style=\"display:none;\"></span> <span class=\"sso_e54_title\" id=\"bt_2_097_04_e59\" style=\"display:none;\"></span> </p> </a>,\n",
              " <a href=\"?mdiv=2919100000-bt_2_097_04-bt_2_097_04_e173&amp;ctype=B\" id=\"bt_2_097_04_e173\" title=\"momo\"> <img alt=\"momo\" height=\"110\" id=\"bt_2_097_04_e174\" lazy=\"2\" org=\"\" src=\"/ecm/img/cmm/blank.png\" title=\"momo\" width=\"110\"/> <p> <span class=\"prdName\" id=\"bt_2_097_04_e175\"></span> <span class=\"prdPrice\">$<b id=\"bt_2_097_04_p29\"></b></span> <span class=\"sso_e174_alt\" id=\"bt_2_097_04_e176\" style=\"display:none;\"></span> <span class=\"sso_e174_title\" id=\"bt_2_097_04_e177\" style=\"display:none;\"></span> <span class=\"sso_e173_title\" id=\"bt_2_097_04_e178\" style=\"display:none;\"></span> </p> </a>,\n",
              " <a href=\"?mdiv=2919100000-bt_2_097_04-bt_2_097_04_e179&amp;ctype=B\" id=\"bt_2_097_04_e179\" title=\"momo\"> <img alt=\"momo\" height=\"110\" id=\"bt_2_097_04_e180\" lazy=\"2\" org=\"\" src=\"/ecm/img/cmm/blank.png\" title=\"momo\" width=\"110\"/> <p> <span class=\"prdName\" id=\"bt_2_097_04_e181\"></span> <span class=\"prdPrice\">$<b id=\"bt_2_097_04_p30\"></b></span> <span class=\"sso_e180_alt\" id=\"bt_2_097_04_e182\" style=\"display:none;\"></span> <span class=\"sso_e180_title\" id=\"bt_2_097_04_e183\" style=\"display:none;\"></span> <span class=\"sso_e179_title\" id=\"bt_2_097_04_e184\" style=\"display:none;\"></span> </p> </a>,\n",
              " <a href=\"?mdiv=2919100000-bt_2_097_04-bt_2_097_04_e60&amp;ctype=B\" id=\"bt_2_097_04_e60\" title=\"momo\"> <img alt=\"momo\" height=\"290\" id=\"bt_2_097_04_e61\" lazy=\"2\" org=\"\" src=\"/ecm/img/cmm/blank.png\" title=\"momo\" width=\"210\"/> <p> <span class=\"prdName\" id=\"bt_2_097_04_e62\"></span> <span class=\"prdPrice\">$<b id=\"bt_2_097_04_p10\"></b></span> <span class=\"sso_e61_alt\" id=\"bt_2_097_04_e63\" style=\"display:none;\"></span> <span class=\"sso_e61_title\" id=\"bt_2_097_04_e64\" style=\"display:none;\"></span> <span class=\"sso_e60_title\" id=\"bt_2_097_04_e65\" style=\"display:none;\"></span> </p> </a>,\n",
              " <a href=\"?mdiv=2919100000-bt_2_097_04-bt_2_097_04_e66&amp;ctype=B\" id=\"bt_2_097_04_e66\" title=\"momo\"> <img alt=\"momo\" height=\"110\" id=\"bt_2_097_04_e67\" lazy=\"2\" org=\"\" src=\"/ecm/img/cmm/blank.png\" title=\"momo\" width=\"110\"/> <p> <span class=\"prdName\" id=\"bt_2_097_04_e68\"></span> <span class=\"prdPrice\">$<b id=\"bt_2_097_04_p11\"></b></span> <span class=\"sso_e67_alt\" id=\"bt_2_097_04_e69\" style=\"display:none;\"></span> <span class=\"sso_e67_title\" id=\"bt_2_097_04_e70\" style=\"display:none;\"></span> <span class=\"sso_e66_title\" id=\"bt_2_097_04_e71\" style=\"display:none;\"></span> </p> </a>,\n",
              " <a href=\"?mdiv=2919100000-bt_2_097_04-bt_2_097_04_e72&amp;ctype=B\" id=\"bt_2_097_04_e72\" title=\"momo\"> <img alt=\"momo\" height=\"110\" id=\"bt_2_097_04_e73\" lazy=\"2\" org=\"\" src=\"/ecm/img/cmm/blank.png\" title=\"momo\" width=\"110\"/> <p> <span class=\"prdName\" id=\"bt_2_097_04_e74\"></span> <span class=\"prdPrice\">$<b id=\"bt_2_097_04_p12\"></b></span> <span class=\"sso_e73_alt\" id=\"bt_2_097_04_e75\" style=\"display:none;\"></span> <span class=\"sso_e73_title\" id=\"bt_2_097_04_e76\" style=\"display:none;\"></span> <span class=\"sso_e72_title\" id=\"bt_2_097_04_e77\" style=\"display:none;\"></span> </p> </a>,\n",
              " <a href=\"?mdiv=2919100000-bt_2_097_04-bt_2_097_04_e185&amp;ctype=B\" id=\"bt_2_097_04_e185\" title=\"momo\"> <img alt=\"momo\" height=\"110\" id=\"bt_2_097_04_e186\" lazy=\"2\" org=\"\" src=\"/ecm/img/cmm/blank.png\" title=\"momo\" width=\"110\"/> <p> <span class=\"prdName\" id=\"bt_2_097_04_e187\"></span> <span class=\"prdPrice\">$<b id=\"bt_2_097_04_p31\"></b></span> <span class=\"sso_e186_alt\" id=\"bt_2_097_04_e188\" style=\"display:none;\"></span> <span class=\"sso_e186_title\" id=\"bt_2_097_04_e189\" style=\"display:none;\"></span> <span class=\"sso_e185_title\" id=\"bt_2_097_04_e190\" style=\"display:none;\"></span> </p> </a>,\n",
              " <a href=\"?mdiv=2919100000-bt_2_097_04-bt_2_097_04_e191&amp;ctype=B\" id=\"bt_2_097_04_e191\" title=\"momo\"> <img alt=\"momo\" height=\"110\" id=\"bt_2_097_04_e192\" lazy=\"2\" org=\"\" src=\"/ecm/img/cmm/blank.png\" title=\"momo\" width=\"110\"/> <p> <span class=\"prdName\" id=\"bt_2_097_04_e193\"></span> <span class=\"prdPrice\">$<b id=\"bt_2_097_04_p32\"></b></span> <span class=\"sso_e192_alt\" id=\"bt_2_097_04_e194\" style=\"display:none;\"></span> <span class=\"sso_e192_title\" id=\"bt_2_097_04_e195\" style=\"display:none;\"></span> <span class=\"sso_e191_title\" id=\"bt_2_097_04_e196\" style=\"display:none;\"></span> </p> </a>,\n",
              " <a href=\"?mdiv=2919100000-bt_2_097_04-bt_2_097_04_e78&amp;ctype=B\" id=\"bt_2_097_04_e78\" title=\"momo\"> <img alt=\"momo\" height=\"290\" id=\"bt_2_097_04_e79\" lazy=\"2\" org=\"\" src=\"/ecm/img/cmm/blank.png\" title=\"momo\" width=\"210\"/> <p> <span class=\"prdName\" id=\"bt_2_097_04_e80\"></span> <span class=\"prdPrice\">$<b id=\"bt_2_097_04_p13\"></b></span> <span class=\"sso_e79_alt\" id=\"bt_2_097_04_e81\" style=\"display:none;\"></span> <span class=\"sso_e79_title\" id=\"bt_2_097_04_e82\" style=\"display:none;\"></span> <span class=\"sso_e78_title\" id=\"bt_2_097_04_e83\" style=\"display:none;\"></span> </p> </a>,\n",
              " <a href=\"?mdiv=2919100000-bt_2_097_04-bt_2_097_04_e84&amp;ctype=B\" id=\"bt_2_097_04_e84\" title=\"momo\"> <img alt=\"momo\" height=\"110\" id=\"bt_2_097_04_e85\" lazy=\"2\" org=\"\" src=\"/ecm/img/cmm/blank.png\" title=\"momo\" width=\"110\"/> <p> <span class=\"prdName\" id=\"bt_2_097_04_e86\"></span> <span class=\"prdPrice\">$<b id=\"bt_2_097_04_p14\"></b></span> <span class=\"sso_e85_alt\" id=\"bt_2_097_04_e87\" style=\"display:none;\"></span> <span class=\"sso_e85_title\" id=\"bt_2_097_04_e88\" style=\"display:none;\"></span> <span class=\"sso_e84_title\" id=\"bt_2_097_04_e89\" style=\"display:none;\"></span> </p> </a>,\n",
              " <a href=\"?mdiv=2919100000-bt_2_097_04-bt_2_097_04_e90&amp;ctype=B\" id=\"bt_2_097_04_e90\" title=\"momo\"> <img alt=\"momo\" height=\"110\" id=\"bt_2_097_04_e91\" lazy=\"2\" org=\"\" src=\"/ecm/img/cmm/blank.png\" title=\"momo\" width=\"110\"/> <p> <span class=\"prdName\" id=\"bt_2_097_04_e92\"></span> <span class=\"prdPrice\">$<b id=\"bt_2_097_04_p15\"></b></span> <span class=\"sso_e91_alt\" id=\"bt_2_097_04_e93\" style=\"display:none;\"></span> <span class=\"sso_e91_title\" id=\"bt_2_097_04_e94\" style=\"display:none;\"></span> <span class=\"sso_e90_title\" id=\"bt_2_097_04_e95\" style=\"display:none;\"></span> </p> </a>,\n",
              " <a href=\"?mdiv=2919100000-bt_2_097_04-bt_2_097_04_e197&amp;ctype=B\" id=\"bt_2_097_04_e197\" title=\"momo\"> <img alt=\"momo\" height=\"110\" id=\"bt_2_097_04_e198\" lazy=\"2\" org=\"\" src=\"/ecm/img/cmm/blank.png\" title=\"momo\" width=\"110\"/> <p> <span class=\"prdName\" id=\"bt_2_097_04_e199\"></span> <span class=\"prdPrice\">$<b id=\"bt_2_097_04_p33\"></b></span> <span class=\"sso_e198_alt\" id=\"bt_2_097_04_e200\" style=\"display:none;\"></span> <span class=\"sso_e198_title\" id=\"bt_2_097_04_e201\" style=\"display:none;\"></span> <span class=\"sso_e197_title\" id=\"bt_2_097_04_e202\" style=\"display:none;\"></span> </p> </a>,\n",
              " <a href=\"?mdiv=2919100000-bt_2_097_04-bt_2_097_04_e203&amp;ctype=B\" id=\"bt_2_097_04_e203\" title=\"momo\"> <img alt=\"momo\" height=\"110\" id=\"bt_2_097_04_e204\" lazy=\"2\" org=\"\" src=\"/ecm/img/cmm/blank.png\" title=\"momo\" width=\"110\"/> <p> <span class=\"prdName\" id=\"bt_2_097_04_e205\"></span> <span class=\"prdPrice\">$<b id=\"bt_2_097_04_p34\"></b></span> <span class=\"sso_e204_alt\" id=\"bt_2_097_04_e206\" style=\"display:none;\"></span> <span class=\"sso_e204_title\" id=\"bt_2_097_04_e207\" style=\"display:none;\"></span> <span class=\"sso_e203_title\" id=\"bt_2_097_04_e208\" style=\"display:none;\"></span> </p> </a>,\n",
              " <a href=\"?mdiv=2919100000-bt_2_097_04-bt_2_097_04_e96&amp;ctype=B\" id=\"bt_2_097_04_e96\" title=\"momo\"> <img alt=\"momo\" height=\"290\" id=\"bt_2_097_04_e97\" lazy=\"2\" org=\"\" src=\"/ecm/img/cmm/blank.png\" title=\"momo\" width=\"210\"/> <p> <span class=\"prdName\" id=\"bt_2_097_04_e98\"></span> <span class=\"prdPrice\">$<b id=\"bt_2_097_04_p16\"></b></span> <span class=\"sso_e61_alt\" id=\"bt_2_097_04_e99\" style=\"display:none;\"></span> <span class=\"sso_e61_title\" id=\"bt_2_097_04_e100\" style=\"display:none;\"></span> <span class=\"sso_e60_title\" id=\"bt_2_097_04_e101\" style=\"display:none;\"></span> </p> </a>,\n",
              " <a href=\"?mdiv=2919100000-bt_2_097_04-bt_2_097_04_e102&amp;ctype=B\" id=\"bt_2_097_04_e102\" title=\"momo\"> <img alt=\"momo\" height=\"110\" id=\"bt_2_097_04_e103\" lazy=\"2\" org=\"\" src=\"/ecm/img/cmm/blank.png\" title=\"momo\" width=\"110\"/> <p> <span class=\"prdName\" id=\"bt_2_097_04_e104\"></span> <span class=\"prdPrice\">$<b id=\"bt_2_097_04_p17\"></b></span> <span class=\"sso_e103_alt\" id=\"bt_2_097_04_e105\" style=\"display:none;\"></span> <span class=\"sso_e103_title\" id=\"bt_2_097_04_e106\" style=\"display:none;\"></span> <span class=\"sso_e102_title\" id=\"bt_2_097_04_e107\" style=\"display:none;\"></span> </p> </a>,\n",
              " <a href=\"?mdiv=2919100000-bt_2_097_04-bt_2_097_04_e108&amp;ctype=B\" id=\"bt_2_097_04_e108\" title=\"momo\"> <img alt=\"momo\" height=\"110\" id=\"bt_2_097_04_e109\" lazy=\"2\" org=\"\" src=\"/ecm/img/cmm/blank.png\" title=\"momo\" width=\"110\"/> <p> <span class=\"prdName\" id=\"bt_2_097_04_e110\"></span> <span class=\"prdPrice\">$<b id=\"bt_2_097_04_p18\"></b></span> <span class=\"sso_e109_alt\" id=\"bt_2_097_04_e111\" style=\"display:none;\"></span> <span class=\"sso_e109_title\" id=\"bt_2_097_04_e112\" style=\"display:none;\"></span> <span class=\"sso_e108_title\" id=\"bt_2_097_04_e113\" style=\"display:none;\"></span> </p> </a>,\n",
              " <a href=\"?mdiv=2919100000-bt_2_097_04-bt_2_097_04_e209&amp;ctype=B\" id=\"bt_2_097_04_e209\" title=\"momo\"> <img alt=\"momo\" height=\"110\" id=\"bt_2_097_04_e210\" lazy=\"2\" org=\"\" src=\"/ecm/img/cmm/blank.png\" title=\"momo\" width=\"110\"/> <p> <span class=\"prdName\" id=\"bt_2_097_04_e211\"></span> <span class=\"prdPrice\">$<b id=\"bt_2_097_04_p35\"></b></span> <span class=\"sso_e210_alt\" id=\"bt_2_097_04_e212\" style=\"display:none;\"></span> <span class=\"sso_e210_title\" id=\"bt_2_097_04_e213\" style=\"display:none;\"></span> <span class=\"sso_e209_title\" id=\"bt_2_097_04_e214\" style=\"display:none;\"></span> </p> </a>,\n",
              " <a href=\"?mdiv=2919100000-bt_2_097_04-bt_2_097_04_e215&amp;ctype=B\" id=\"bt_2_097_04_e215\" title=\"momo\"> <img alt=\"momo\" height=\"110\" id=\"bt_2_097_04_e216\" lazy=\"2\" org=\"\" src=\"/ecm/img/cmm/blank.png\" title=\"momo\" width=\"110\"/> <p> <span class=\"prdName\" id=\"bt_2_097_04_e217\"></span> <span class=\"prdPrice\">$<b id=\"bt_2_097_04_p36\"></b></span> <span class=\"sso_e216_alt\" id=\"bt_2_097_04_e218\" style=\"display:none;\"></span> <span class=\"sso_e216_title\" id=\"bt_2_097_04_e219\" style=\"display:none;\"></span> <span class=\"sso_e215_title\" id=\"bt_2_097_04_e220\" style=\"display:none;\"></span> </p> </a>,\n",
              " <a href=\"?mdiv=2919100000-bt_2_097_04-bt_2_097_04_e114&amp;ctype=B\" id=\"bt_2_097_04_e114\" title=\"momo\"> <img alt=\"momo\" height=\"290\" id=\"bt_2_097_04_e115\" lazy=\"2\" org=\"\" src=\"/ecm/img/cmm/blank.png\" title=\"momo\" width=\"210\"/> <p> <span class=\"prdName\" id=\"bt_2_097_04_e116\"></span> <span class=\"prdPrice\">$<b id=\"bt_2_097_04_p19\"></b></span> <span class=\"sso_e115_alt\" id=\"bt_2_097_04_e117\" style=\"display:none;\"></span> <span class=\"sso_e115_title\" id=\"bt_2_097_04_e118\" style=\"display:none;\"></span> <span class=\"sso_e114_title\" id=\"bt_2_097_04_e119\" style=\"display:none;\"></span> </p> </a>,\n",
              " <a href=\"?mdiv=2919100000-bt_2_097_04-bt_2_097_04_e120&amp;ctype=B\" id=\"bt_2_097_04_e120\" title=\"momo\"> <img alt=\"momo\" height=\"110\" id=\"bt_2_097_04_e121\" lazy=\"2\" org=\"\" src=\"/ecm/img/cmm/blank.png\" title=\"momo\" width=\"110\"/> <p> <span class=\"prdName\" id=\"bt_2_097_04_e122\"></span> <span class=\"prdPrice\">$<b id=\"bt_2_097_04_p20\"></b></span> <span class=\"sso_e85_alt\" id=\"bt_2_097_04_e123\" style=\"display:none;\"></span> <span class=\"sso_e85_title\" id=\"bt_2_097_04_e124\" style=\"display:none;\"></span> <span class=\"sso_e84_title\" id=\"bt_2_097_04_e125\" style=\"display:none;\"></span> </p> </a>,\n",
              " <a href=\"?mdiv=2919100000-bt_2_097_04-bt_2_097_04_e126&amp;ctype=B\" id=\"bt_2_097_04_e126\" title=\"momo\"> <img alt=\"momo\" height=\"110\" id=\"bt_2_097_04_e127\" lazy=\"2\" org=\"\" src=\"/ecm/img/cmm/blank.png\" title=\"momo\" width=\"110\"/> <p> <span class=\"prdName\" id=\"bt_2_097_04_e128\"></span> <span class=\"prdPrice\">$<b id=\"bt_2_097_04_p21\"></b></span> <span class=\"sso_e127_alt\" id=\"bt_2_097_04_e129\" style=\"display:none;\"></span> <span class=\"sso_e127_title\" id=\"bt_2_097_04_e130\" style=\"display:none;\"></span> <span class=\"sso_e126_title\" id=\"bt_2_097_04_e245\" style=\"display:none;\"></span> </p> </a>,\n",
              " <a href=\"?mdiv=2919100000-bt_2_097_04-bt_2_097_04_e221&amp;ctype=B\" id=\"bt_2_097_04_e221\" title=\"momo\"> <img alt=\"momo\" height=\"110\" id=\"bt_2_097_04_e222\" lazy=\"2\" org=\"\" src=\"/ecm/img/cmm/blank.png\" title=\"momo\" width=\"110\"/> <p> <span class=\"prdName\" id=\"bt_2_097_04_e223\"></span> <span class=\"prdPrice\">$<b id=\"bt_2_097_04_p37\"></b></span> <span class=\"sso_e222_alt\" id=\"bt_2_097_04_e224\" style=\"display:none;\"></span> <span class=\"sso_e222_title\" id=\"bt_2_097_04_e225\" style=\"display:none;\"></span> <span class=\"sso_e221_title\" id=\"bt_2_097_04_e226\" style=\"display:none;\"></span> </p> </a>,\n",
              " <a href=\"?mdiv=2919100000-bt_2_097_04-bt_2_097_04_e227&amp;ctype=B\" id=\"bt_2_097_04_e227\" title=\"momo\"> <img alt=\"momo\" height=\"110\" id=\"bt_2_097_04_e228\" lazy=\"2\" org=\"\" src=\"/ecm/img/cmm/blank.png\" title=\"momo\" width=\"110\"/> <p> <span class=\"prdName\" id=\"bt_2_097_04_e229\"></span> <span class=\"prdPrice\">$<b id=\"bt_2_097_04_p38\"></b></span> <span class=\"sso_e228_alt\" id=\"bt_2_097_04_e230\" style=\"display:none;\"></span> <span class=\"sso_e228_title\" id=\"bt_2_097_04_e231\" style=\"display:none;\"></span> <span class=\"sso_e227_title\" id=\"bt_2_097_04_e232\" style=\"display:none;\"></span> </p> </a>,\n",
              " <a href=\"?mdiv=2919100000-bt_2_097_04-bt_2_097_04_e131&amp;ctype=B\" id=\"bt_2_097_04_e131\" title=\"momo\"> <img alt=\"momo\" height=\"290\" id=\"bt_2_097_04_e132\" lazy=\"2\" org=\"\" src=\"/ecm/img/cmm/blank.png\" title=\"momo\" width=\"210\"/> <p> <span class=\"prdName\" id=\"bt_2_097_04_e133\"></span> <span class=\"prdPrice\">$<b id=\"bt_2_097_04_p22\"></b></span> <span class=\"sso_e132_alt\" id=\"bt_2_097_04_e134\" style=\"display:none;\"></span> <span class=\"sso_e132_title\" id=\"bt_2_097_04_e135\" style=\"display:none;\"></span> <span class=\"sso_e131_title\" id=\"bt_2_097_04_e136\" style=\"display:none;\"></span> </p> </a>,\n",
              " <a href=\"?mdiv=2919100000-bt_2_097_04-bt_2_097_04_e137&amp;ctype=B\" id=\"bt_2_097_04_e137\" title=\"momo\"> <img alt=\"momo\" height=\"110\" id=\"bt_2_097_04_e138\" lazy=\"2\" org=\"\" src=\"/ecm/img/cmm/blank.png\" title=\"momo\" width=\"110\"/> <p> <span class=\"prdName\" id=\"bt_2_097_04_e139\"></span> <span class=\"prdPrice\">$<b id=\"bt_2_097_04_p23\"></b></span> <span class=\"sso_e138_alt\" id=\"bt_2_097_04_e140\" style=\"display:none;\"></span> <span class=\"sso_e138_title\" id=\"bt_2_097_04_e141\" style=\"display:none;\"></span> <span class=\"sso_e137_title\" id=\"bt_2_097_04_e142\" style=\"display:none;\"></span> </p> </a>,\n",
              " <a href=\"?mdiv=2919100000-bt_2_097_04-bt_2_097_04_e143&amp;ctype=B\" id=\"bt_2_097_04_e143\" title=\"momo\"> <img alt=\"momo\" height=\"110\" id=\"bt_2_097_04_e144\" lazy=\"2\" org=\"\" src=\"/ecm/img/cmm/blank.png\" title=\"momo\" width=\"110\"/> <p> <span class=\"prdName\" id=\"bt_2_097_04_e145\"></span> <span class=\"prdPrice\">$<b id=\"bt_2_097_04_p24\"></b></span> <span class=\"sso_e144_alt\" id=\"bt_2_097_04_e146\" style=\"display:none;\"></span> <span class=\"sso_e144_title\" id=\"bt_2_097_04_e147\" style=\"display:none;\"></span> <span class=\"sso_e143_title\" id=\"bt_2_097_04_e148\" style=\"display:none;\"></span> </p> </a>,\n",
              " <a href=\"?mdiv=2919100000-bt_2_097_04-bt_2_097_04_e233&amp;ctype=B\" id=\"bt_2_097_04_e233\" title=\"momo\"> <img alt=\"momo\" height=\"110\" id=\"bt_2_097_04_e234\" lazy=\"2\" org=\"\" src=\"/ecm/img/cmm/blank.png\" title=\"momo\" width=\"110\"/> <p> <span class=\"prdName\" id=\"bt_2_097_04_e235\"></span> <span class=\"prdPrice\">$<b id=\"bt_2_097_04_p39\"></b></span> <span class=\"sso_e234_alt\" id=\"bt_2_097_04_e236\" style=\"display:none;\"></span> <span class=\"sso_e234_title\" id=\"bt_2_097_04_e237\" style=\"display:none;\"></span> <span class=\"sso_e233_title\" id=\"bt_2_097_04_e238\" style=\"display:none;\"></span> </p> </a>,\n",
              " <a href=\"?mdiv=2919100000-bt_2_097_04-bt_2_097_04_e239&amp;ctype=B\" id=\"bt_2_097_04_e239\" title=\"momo\"> <img alt=\"momo\" height=\"110\" id=\"bt_2_097_04_e240\" lazy=\"2\" org=\"\" src=\"/ecm/img/cmm/blank.png\" title=\"momo\" width=\"110\"/> <p> <span class=\"prdName\" id=\"bt_2_097_04_e241\"></span> <span class=\"prdPrice\">$<b id=\"bt_2_097_04_p40\"></b></span> <span class=\"sso_e240_alt\" id=\"bt_2_097_04_e242\" style=\"display:none;\"></span> <span class=\"sso_e240_title\" id=\"bt_2_097_04_e243\" style=\"display:none;\"></span> <span class=\"sso_e239_title\" id=\"bt_2_097_04_e244\" style=\"display:none;\"></span> </p> </a>,\n",
              " <a href=\"https://www.momoshop.com.tw/category/DgrpCategory.jsp?d_code=2919101011&amp;p_orderType=6&amp;showType=chessboardType&amp;mdiv=2919100000-bt_2_097_01-bt_2_097_01_e6&amp;ctype=B\" id=\"bt_2_097_01_e6\" title=\"【Panasonic 國際牌】422公升一級能效變頻雙門冰箱-星耀金(NR-B420TV-S1)\"> <img alt=\"【Panasonic 國際牌】422公升一級能效變頻雙門冰箱-星耀金(NR-B420TV-S1)\" height=\"290\" id=\"bt_2_097_01_e7\" lazy=\"2\" org=\"//img3.momoshop.com.tw/ecm/img/online/29/191/00/000/bt_2_097_01/bt_2_097_01_e7.jpg?t=1653997199817\" src=\"/ecm/img/cmm/blank.png\" title=\"【Panasonic 國際牌】422公升一級能效變頻雙門冰箱-星耀金(NR-B420TV-S1)\" width=\"210\"/> <p> <span class=\"prdName\" id=\"bt_2_097_01_e8\">【Panasonic 國際牌】422公升一級能效變頻雙門冰箱-星耀金(NR-B420TV-S1)</span> <span class=\"prdPrice\">$<b class=\" GDS-9373417\" id=\"bt_2_097_01_p1\">19,900</b></span> <span class=\"sso_e7_alt\" id=\"bt_2_097_01_e9\" style=\"display:none;\">【Panasonic 國際牌】422公升一級能效變頻雙門冰箱-星耀金(NR-B420TV-S1)</span> <span class=\"sso_e7_title\" id=\"bt_2_097_01_e10\" style=\"display:none;\">【Panasonic 國際牌】422公升一級能效變頻雙門冰箱-星耀金(NR-B420TV-S1)</span> <span class=\"sso_e6_title\" id=\"bt_2_097_01_e11\" style=\"display:none;\">【Panasonic 國際牌】422公升一級能效變頻雙門冰箱-星耀金(NR-B420TV-S1)</span> </p> </a>,\n",
              " <a href=\"/goods/GoodsDetail.jsp?i_code=8141341&amp;str_category_code=2919101011&amp;mdiv=2919100000-bt_2_097_01-bt_2_097_01_e12&amp;ctype=B\" id=\"bt_2_097_01_e12\" title=\"【Panasonic 國際牌】167公升一級能效雙門變頻冰箱-星耀金(NR-B170TV-S1)\">\n",
              " <div class=\"prdGoodsImgWrap\">\n",
              " <span class=\"goodsImgTag\"><img lazy=\"2\" org=\"https://img2.momoshop.com.tw/ecm/img/online/341/2022/06/06/153249257/2022060615324925701.png?t=20220606153422\" src=\"/ecm/img/cmm/blank.png\"/></span>\n",
              " <img alt=\"【Panasonic 國際牌】167公升一級能效雙門變頻冰箱-星耀金(NR-B170TV-S1)\" height=\"110\" id=\"bt_2_097_01_e13\" lazy=\"2\" org=\"//i2.momoshop.com.tw/1657131628/goodsimg/0008/141/341/8141341_L.webp\" src=\"/ecm/img/cmm/blank.png\" title=\"【Panasonic 國際牌】167公升一級能效雙門變頻冰箱-星耀金(NR-B170TV-S1)\" width=\"110\"/>\n",
              " </div> <p> <span class=\"prdName\" id=\"bt_2_097_01_e14\">【Panasonic 國際牌】167公升一級能效雙門變頻冰箱-星耀金(NR-B170TV-S1)</span> <span class=\"prdPrice\">$<b class=\" GDS-8141341\" id=\"bt_2_097_01_p2\">12,510</b></span> <span class=\"sso_e13_alt\" id=\"bt_2_097_01_e15\" style=\"display:none;\">【Panasonic 國際牌】167公升一級能效雙門變頻冰箱-星耀金(NR-B170TV-S1)</span> <span class=\"sso_e13_title\" id=\"bt_2_097_01_e16\" style=\"display:none;\">【Panasonic 國際牌】167公升一級能效雙門變頻冰箱-星耀金(NR-B170TV-S1)</span> <span class=\"sso_e12_title\" id=\"bt_2_097_01_e17\" style=\"display:none;\">【Panasonic 國際牌】167公升一級能效雙門變頻冰箱-星耀金(NR-B170TV-S1)</span> </p> </a>,\n",
              " <a href=\"/goods/GoodsDetail.jsp?i_code=9502695&amp;str_category_code=2919101011&amp;mdiv=2919100000-bt_2_097_01-bt_2_097_01_e18&amp;ctype=B\" id=\"bt_2_097_01_e18\" title=\"【Panasonic 國際牌】台灣製580L雙門玻璃冰箱(NR-B582TG-T)\"> <img alt=\"【Panasonic 國際牌】台灣製580L雙門玻璃冰箱(NR-B582TG-T)\" height=\"110\" id=\"bt_2_097_01_e19\" lazy=\"2\" org=\"//i3.momoshop.com.tw/1657131631/goodsimg/0009/502/695/9502695_L.webp\" src=\"/ecm/img/cmm/blank.png\" title=\"【Panasonic 國際牌】台灣製580L雙門玻璃冰箱(NR-B582TG-T)\" width=\"110\"/> <p> <span class=\"prdName\" id=\"bt_2_097_01_e20\">【Panasonic 國際牌】台灣製580L雙門玻璃冰箱(NR-B582TG-T)</span> <span class=\"prdPrice\">$<b class=\" GDS-9502695\" id=\"bt_2_097_01_p3\">30,141</b></span> <span class=\"sso_e19_alt\" id=\"bt_2_097_01_e21\" style=\"display:none;\">【Panasonic 國際牌】台灣製580L雙門玻璃冰箱(NR-B582TG-T)</span> <span class=\"sso_e19_title\" id=\"bt_2_097_01_e22\" style=\"display:none;\">【Panasonic 國際牌】台灣製580L雙門玻璃冰箱(NR-B582TG-T)</span> <span class=\"sso_e18_title\" id=\"bt_2_097_01_e23\" style=\"display:none;\">【Panasonic 國際牌】台灣製580L雙門玻璃冰箱(NR-B582TG-T)</span> </p> </a>,\n",
              " <a href=\"/goods/GoodsDetail.jsp?i_code=7619651&amp;str_category_code=2919100921&amp;mdiv=2919100000-bt_2_097_01-bt_2_097_01_e149&amp;ctype=B\" id=\"bt_2_097_01_e149\" title=\"【Panasonic 國際牌】268公升一級能效雙門變頻冰箱-星耀金(NR-B270TV-S1)\">\n",
              " <div class=\"prdGoodsImgWrap\">\n",
              " <span class=\"goodsImgTag\"><img lazy=\"2\" org=\"https://img2.momoshop.com.tw/ecm/img/online/341/2022/06/06/153249257/2022060615324925701.png?t=20220606153422\" src=\"/ecm/img/cmm/blank.png\"/></span>\n",
              " <img alt=\"【Panasonic 國際牌】268公升一級能效雙門變頻冰箱-星耀金(NR-B270TV-S1)\" height=\"110\" id=\"bt_2_097_01_e150\" lazy=\"2\" org=\"//i4.momoshop.com.tw/1657131629/goodsimg/0007/619/651/7619651_L.webp\" src=\"/ecm/img/cmm/blank.png\" title=\"【Panasonic 國際牌】268公升一級能效雙門變頻冰箱-星耀金(NR-B270TV-S1)\" width=\"110\"/>\n",
              " </div> <p> <span class=\"prdName\" id=\"bt_2_097_01_e151\">【Panasonic 國際牌】268公升一級能效雙門變頻冰箱-星耀金(NR-B270TV-S1)</span> <span class=\"prdPrice\">$<b class=\" GDS-7619651\" id=\"bt_2_097_01_p25\">16,110</b></span> <span class=\"sso_e150_alt\" id=\"bt_2_097_01_e152\" style=\"display:none;\">【Panasonic 國際牌】268公升一級能效雙門變頻冰箱-星耀金(NR-B270TV-S1)</span> <span class=\"sso_e150_title\" id=\"bt_2_097_01_e153\" style=\"display:none;\">【Panasonic 國際牌】268公升一級能效雙門變頻冰箱-星耀金(NR-B270TV-S1)</span> <span class=\"sso_e149_title\" id=\"bt_2_097_01_e154\" style=\"display:none;\">【Panasonic 國際牌】268公升一級能效雙門變頻冰箱-星耀金(NR-B270TV-S1)</span> </p> </a>,\n",
              " <a href=\"/goods/GoodsDetail.jsp?i_code=8257394&amp;str_category_code=2919100921&amp;mdiv=2919100000-bt_2_097_01-bt_2_097_01_e155&amp;ctype=B\" id=\"bt_2_097_01_e155\" title=\"【Panasonic 國際牌】366公升一級能效雙門變頻冰箱-星耀金(NR-B370TV-S1)\">\n",
              " <div class=\"prdGoodsImgWrap\">\n",
              " <span class=\"goodsImgTag\"><img lazy=\"2\" org=\"https://img2.momoshop.com.tw/ecm/img/online/341/2022/06/06/153249257/2022060615324925701.png?t=20220606153422\" src=\"/ecm/img/cmm/blank.png\"/></span>\n",
              " <img alt=\"【Panasonic 國際牌】366公升一級能效雙門變頻冰箱-星耀金(NR-B370TV-S1)\" height=\"110\" id=\"bt_2_097_01_e156\" lazy=\"2\" org=\"//i1.momoshop.com.tw/1657131629/goodsimg/0008/257/394/8257394_L.webp\" src=\"/ecm/img/cmm/blank.png\" title=\"【Panasonic 國際牌】366公升一級能效雙門變頻冰箱-星耀金(NR-B370TV-S1)\" width=\"110\"/>\n",
              " </div> <p> <span class=\"prdName\" id=\"bt_2_097_01_e157\">【Panasonic 國際牌】366公升一級能效雙門變頻冰箱-星耀金(NR-B370TV-S1)</span> <span class=\"prdPrice\">$<b class=\" GDS-8257394\" id=\"bt_2_097_01_p26\">18,810</b></span> <span class=\"sso_e156_alt\" id=\"bt_2_097_01_e158\" style=\"display:none;\">【Panasonic 國際牌】366公升一級能效雙門變頻冰箱-星耀金(NR-B370TV-S1)</span> <span class=\"sso_e156_title\" id=\"bt_2_097_01_e159\" style=\"display:none;\">【Panasonic 國際牌】366公升一級能效雙門變頻冰箱-星耀金(NR-B370TV-S1)</span> <span class=\"sso_e155_title\" id=\"bt_2_097_01_e160\" style=\"display:none;\">【Panasonic 國際牌】366公升一級能效雙門變頻冰箱-星耀金(NR-B370TV-S1)</span> </p> </a>,\n",
              " <a href=\"https://www.momoshop.com.tw/category/DgrpCategory.jsp?d_code=2919101010&amp;p_orderType=6&amp;showType=chessboardType&amp;mdiv=2919100000-bt_2_097_01-bt_2_097_01_e24&amp;ctype=B\" id=\"bt_2_097_01_e24\" title=\"【SANLUX 台灣三洋】480公升一級能效雙門定頻冰箱(SR-C480B1B)\"> <img alt=\"【SANLUX 台灣三洋】480公升一級能效雙門定頻冰箱(SR-C480B1B)\" height=\"290\" id=\"bt_2_097_01_e25\" lazy=\"2\" org=\"//img3.momoshop.com.tw/ecm/img/online/29/191/00/000/bt_2_097_01/bt_2_097_01_e25.jpg?t=1653997199820\" src=\"/ecm/img/cmm/blank.png\" title=\"【SANLUX 台灣三洋】480公升一級能效雙門定頻冰箱(SR-C480B1B)\" width=\"210\"/> <p> <span class=\"prdName\" id=\"bt_2_097_01_e26\">【SANLUX 台灣三洋】480公升一級能效雙門定頻冰箱(SR-C480B1B)</span> <span class=\"prdPrice\">$<b class=\" GDS-7367073\" id=\"bt_2_097_01_p4\">19,500</b></span> <span class=\"sso_e25_alt\" id=\"bt_2_097_01_e27\" style=\"display:none;\">【SANLUX 台灣三洋】480公升一級能效雙門定頻冰箱(SR-C480B1B)</span> <span class=\"sso_e25_title\" id=\"bt_2_097_01_e28\" style=\"display:none;\">【SANLUX 台灣三洋】480公升一級能效雙門定頻冰箱(SR-C480B1B)</span> <span class=\"sso_e24_title\" id=\"bt_2_097_01_e29\" style=\"display:none;\">【SANLUX 台灣三洋】480公升一級能效雙門定頻冰箱(SR-C480B1B)</span> </p> </a>,\n",
              " <a href=\"/goods/GoodsDetail.jsp?i_code=9779801&amp;str_category_code=2919100750&amp;mdiv=2919100000-bt_2_097_01-bt_2_097_01_e30&amp;ctype=B\" id=\"bt_2_097_01_e30\" title=\"【SANLUX 台灣三洋】206公升二級能效雙門冰箱(SR-C208B)\"> <img alt=\"【SANLUX 台灣三洋】206公升二級能效雙門冰箱(SR-C208B)\" height=\"110\" id=\"bt_2_097_01_e31\" lazy=\"2\" org=\"//i2.momoshop.com.tw/1656392766/goodsimg/0009/779/801/9779801_L.webp\" src=\"/ecm/img/cmm/blank.png\" title=\"【SANLUX 台灣三洋】206公升二級能效雙門冰箱(SR-C208B)\" width=\"110\"/> <p> <span class=\"prdName\" id=\"bt_2_097_01_e32\">【SANLUX 台灣三洋】206公升二級能效雙門冰箱(SR-C208B)</span> <span class=\"prdPrice\">$<b class=\" GDS-9779801\" id=\"bt_2_097_01_p5\">12,017</b></span> <span class=\"sso_e31_alt\" id=\"bt_2_097_01_e33\" style=\"display:none;\">【SANLUX 台灣三洋】206公升二級能效雙門冰箱(SR-C208B)</span> <span class=\"sso_e31_title\" id=\"bt_2_097_01_e34\" style=\"display:none;\">【SANLUX 台灣三洋】206公升二級能效雙門冰箱(SR-C208B)</span> <span class=\"sso_e30_title\" id=\"bt_2_097_01_e35\" style=\"display:none;\">【SANLUX 台灣三洋】206公升二級能效雙門冰箱(SR-C208B)</span> </p> </a>,\n",
              " <a href=\"/goods/GoodsDetail.jsp?i_code=7060634&amp;str_category_code=2919100609&amp;mdiv=2919100000-bt_2_097_01-bt_2_097_01_e36&amp;ctype=B\" id=\"bt_2_097_01_e36\" title=\"【SANLUX 台灣三洋】◆560公升一級能效直流變頻采晶鏡面四門冰箱(SR-C560DV1)\">\n",
              " <div class=\"prdGoodsImgWrap\">\n",
              " <span class=\"goodsImgTag\"><img lazy=\"2\" org=\"https://img2.momoshop.com.tw/ecm/img/online/341/2022/07/08/133621448/2022070813362144801.png?t=20220708133834\" src=\"/ecm/img/cmm/blank.png\"/></span>\n",
              " <img alt=\"【SANLUX 台灣三洋】◆560公升一級能效直流變頻采晶鏡面四門冰箱(SR-C560DV1)\" height=\"110\" id=\"bt_2_097_01_e37\" lazy=\"2\" org=\"//i3.momoshop.com.tw/1654082429/goodsimg/0007/060/634/7060634_L.webp\" src=\"/ecm/img/cmm/blank.png\" title=\"【SANLUX 台灣三洋】◆560公升一級能效直流變頻采晶鏡面四門冰箱(SR-C560DV1)\" width=\"110\"/>\n",
              " </div> <p> <span class=\"prdName\" id=\"bt_2_097_01_e38\">【SANLUX 台灣三洋】◆560公升一級能效直流變頻采晶鏡面四門冰箱(SR-C560DV1)</span> <span class=\"prdPrice\">$<b class=\" GDS-7060634\" id=\"bt_2_097_01_p6\">31,425</b></span> <span class=\"sso_e37_alt\" id=\"bt_2_097_01_e39\" style=\"display:none;\">【SANLUX 台灣三洋】◆560公升一級能效直流變頻采晶鏡面四門冰箱(SR-C560DV1)</span> <span class=\"sso_e37_title\" id=\"bt_2_097_01_e40\" style=\"display:none;\">【SANLUX 台灣三洋】◆560公升一級能效直流變頻采晶鏡面四門冰箱(SR-C560DV1)</span> <span class=\"sso_e36_title\" id=\"bt_2_097_01_e41\" style=\"display:none;\">【SANLUX 台灣三洋】◆560公升一級能效直流變頻采晶鏡面四門冰箱(SR-C560DV1)</span> </p> </a>,\n",
              " <a href=\"/goods/GoodsDetail.jsp?i_code=9216207&amp;str_category_code=2919100760&amp;mdiv=2919100000-bt_2_097_01-bt_2_097_01_e161&amp;ctype=B\" id=\"bt_2_097_01_e161\" title=\"【SANLUX 台灣三洋】128公升一級能效雙門定頻冰箱(SR-C125B1)\"> <img alt=\"【SANLUX 台灣三洋】128公升一級能效雙門定頻冰箱(SR-C125B1)\" height=\"110\" id=\"bt_2_097_01_e162\" lazy=\"2\" org=\"//i4.momoshop.com.tw/1655453033/goodsimg/0009/216/207/9216207_L.webp\" src=\"/ecm/img/cmm/blank.png\" title=\"【SANLUX 台灣三洋】128公升一級能效雙門定頻冰箱(SR-C125B1)\" width=\"110\"/> <p> <span class=\"prdName\" id=\"bt_2_097_01_e163\">【SANLUX 台灣三洋】128公升一級能效雙門定頻冰箱(SR-C125B1)</span> <span class=\"prdPrice\">$<b class=\" GDS-9216207\" id=\"bt_2_097_01_p27\">8,990</b></span> <span class=\"sso_e162_alt\" id=\"bt_2_097_01_e164\" style=\"display:none;\">【SANLUX 台灣三洋】128公升一級能效雙門定頻冰箱(SR-C125B1)</span> <span class=\"sso_e162_title\" id=\"bt_2_097_01_e165\" style=\"display:none;\">【SANLUX 台灣三洋】128公升一級能效雙門定頻冰箱(SR-C125B1)</span> <span class=\"sso_e161_title\" id=\"bt_2_097_01_e166\" style=\"display:none;\">【SANLUX 台灣三洋】128公升一級能效雙門定頻冰箱(SR-C125B1)</span> </p> </a>,\n",
              " <a href=\"/goods/GoodsDetail.jsp?i_code=9216206&amp;str_category_code=2919100939&amp;mdiv=2919100000-bt_2_097_01-bt_2_097_01_e167&amp;ctype=B\" id=\"bt_2_097_01_e167\" title=\"【SANLUX 台灣三洋】87公升一級能效雙門冰箱(SR-C90B1)\"> <img alt=\"【SANLUX 台灣三洋】87公升一級能效雙門冰箱(SR-C90B1)\" height=\"110\" id=\"bt_2_097_01_e168\" lazy=\"2\" org=\"//i1.momoshop.com.tw/1655452927/goodsimg/0009/216/206/9216206_L.webp\" src=\"/ecm/img/cmm/blank.png\" title=\"【SANLUX 台灣三洋】87公升一級能效雙門冰箱(SR-C90B1)\" width=\"110\"/> <p> <span class=\"prdName\" id=\"bt_2_097_01_e169\">【SANLUX 台灣三洋】87公升一級能效雙門冰箱(SR-C90B1)</span> <span class=\"prdPrice\">$<b class=\" GDS-9216206\" id=\"bt_2_097_01_p28\">5,888</b></span> <span class=\"sso_e168_alt\" id=\"bt_2_097_01_e170\" style=\"display:none;\">【SANLUX 台灣三洋】87公升一級能效雙門冰箱(SR-C90B1)</span> <span class=\"sso_e168_title\" id=\"bt_2_097_01_e171\" style=\"display:none;\">【SANLUX 台灣三洋】87公升一級能效雙門冰箱(SR-C90B1)</span> <span class=\"sso_e167_title\" id=\"bt_2_097_01_e172\" style=\"display:none;\">【SANLUX 台灣三洋】87公升一級能效雙門冰箱(SR-C90B1)</span> </p> </a>,\n",
              " <a href=\"?mdiv=2919100000-bt_2_097_01-bt_2_097_01_e42&amp;ctype=B\" id=\"bt_2_097_01_e42\" title=\"momo\"> <img alt=\"momo\" height=\"290\" id=\"bt_2_097_01_e43\" lazy=\"2\" org=\"\" src=\"/ecm/img/cmm/blank.png\" title=\"momo\" width=\"210\"/> <p> <span class=\"prdName\" id=\"bt_2_097_01_e44\"></span> <span class=\"prdPrice\">$<b id=\"bt_2_097_01_p7\"></b></span> <span class=\"sso_e43_alt\" id=\"bt_2_097_01_e45\" style=\"display:none;\"></span> <span class=\"sso_e43_title\" id=\"bt_2_097_01_e46\" style=\"display:none;\"></span> <span class=\"sso_e42_title\" id=\"bt_2_097_01_e47\" style=\"display:none;\"></span> </p> </a>,\n",
              " <a href=\"?mdiv=2919100000-bt_2_097_01-bt_2_097_01_e48&amp;ctype=B\" id=\"bt_2_097_01_e48\" title=\"momo\"> <img alt=\"momo\" height=\"110\" id=\"bt_2_097_01_e49\" lazy=\"2\" org=\"\" src=\"/ecm/img/cmm/blank.png\" title=\"momo\" width=\"110\"/> <p> <span class=\"prdName\" id=\"bt_2_097_01_e50\"></span> <span class=\"prdPrice\">$<b id=\"bt_2_097_01_p8\"></b></span> <span class=\"sso_e49_alt\" id=\"bt_2_097_01_e51\" style=\"display:none;\"></span> <span class=\"sso_e49_title\" id=\"bt_2_097_01_e52\" style=\"display:none;\"></span> <span class=\"sso_e48_title\" id=\"bt_2_097_01_e53\" style=\"display:none;\"></span> </p> </a>,\n",
              " <a href=\"?mdiv=2919100000-bt_2_097_01-bt_2_097_01_e54&amp;ctype=B\" id=\"bt_2_097_01_e54\" title=\"momo\"> <img alt=\"momo\" height=\"110\" id=\"bt_2_097_01_e55\" lazy=\"2\" org=\"\" src=\"/ecm/img/cmm/blank.png\" title=\"momo\" width=\"110\"/> <p> <span class=\"prdName\" id=\"bt_2_097_01_e56\"></span> <span class=\"prdPrice\">$<b id=\"bt_2_097_01_p9\"></b></span> <span class=\"sso_e55_alt\" id=\"bt_2_097_01_e57\" style=\"display:none;\"></span> <span class=\"sso_e55_title\" id=\"bt_2_097_01_e58\" style=\"display:none;\"></span> <span class=\"sso_e54_title\" id=\"bt_2_097_01_e59\" style=\"display:none;\"></span> </p> </a>,\n",
              " <a href=\"?mdiv=2919100000-bt_2_097_01-bt_2_097_01_e173&amp;ctype=B\" id=\"bt_2_097_01_e173\" title=\"momo\"> <img alt=\"momo\" height=\"110\" id=\"bt_2_097_01_e174\" lazy=\"2\" org=\"\" src=\"/ecm/img/cmm/blank.png\" title=\"momo\" width=\"110\"/> <p> <span class=\"prdName\" id=\"bt_2_097_01_e175\"></span> <span class=\"prdPrice\">$<b id=\"bt_2_097_01_p29\"></b></span> <span class=\"sso_e174_alt\" id=\"bt_2_097_01_e176\" style=\"display:none;\"></span> <span class=\"sso_e174_title\" id=\"bt_2_097_01_e177\" style=\"display:none;\"></span> <span class=\"sso_e173_title\" id=\"bt_2_097_01_e178\" style=\"display:none;\"></span> </p> </a>,\n",
              " <a href=\"?mdiv=2919100000-bt_2_097_01-bt_2_097_01_e179&amp;ctype=B\" id=\"bt_2_097_01_e179\" title=\"momo\"> <img alt=\"momo\" height=\"110\" id=\"bt_2_097_01_e180\" lazy=\"2\" org=\"\" src=\"/ecm/img/cmm/blank.png\" title=\"momo\" width=\"110\"/> <p> <span class=\"prdName\" id=\"bt_2_097_01_e181\"></span> <span class=\"prdPrice\">$<b id=\"bt_2_097_01_p30\"></b></span> <span class=\"sso_e180_alt\" id=\"bt_2_097_01_e182\" style=\"display:none;\"></span> <span class=\"sso_e180_title\" id=\"bt_2_097_01_e183\" style=\"display:none;\"></span> <span class=\"sso_e179_title\" id=\"bt_2_097_01_e184\" style=\"display:none;\"></span> </p> </a>,\n",
              " <a href=\"?mdiv=2919100000-bt_2_097_01-bt_2_097_01_e60&amp;ctype=B\" id=\"bt_2_097_01_e60\" title=\"momo\"> <img alt=\"momo\" height=\"290\" id=\"bt_2_097_01_e61\" lazy=\"2\" org=\"\" src=\"/ecm/img/cmm/blank.png\" title=\"momo\" width=\"210\"/> <p> <span class=\"prdName\" id=\"bt_2_097_01_e62\"></span> <span class=\"prdPrice\">$<b id=\"bt_2_097_01_p10\"></b></span> <span class=\"sso_e61_alt\" id=\"bt_2_097_01_e63\" style=\"display:none;\"></span> <span class=\"sso_e61_title\" id=\"bt_2_097_01_e64\" style=\"display:none;\"></span> <span class=\"sso_e60_title\" id=\"bt_2_097_01_e65\" style=\"display:none;\"></span> </p> </a>,\n",
              " <a href=\"?mdiv=2919100000-bt_2_097_01-bt_2_097_01_e66&amp;ctype=B\" id=\"bt_2_097_01_e66\" title=\"momo\"> <img alt=\"momo\" height=\"110\" id=\"bt_2_097_01_e67\" lazy=\"2\" org=\"\" src=\"/ecm/img/cmm/blank.png\" title=\"momo\" width=\"110\"/> <p> <span class=\"prdName\" id=\"bt_2_097_01_e68\"></span> <span class=\"prdPrice\">$<b id=\"bt_2_097_01_p11\"></b></span> <span class=\"sso_e67_alt\" id=\"bt_2_097_01_e69\" style=\"display:none;\"></span> <span class=\"sso_e67_title\" id=\"bt_2_097_01_e70\" style=\"display:none;\"></span> <span class=\"sso_e66_title\" id=\"bt_2_097_01_e71\" style=\"display:none;\"></span> </p> </a>,\n",
              " <a href=\"?mdiv=2919100000-bt_2_097_01-bt_2_097_01_e72&amp;ctype=B\" id=\"bt_2_097_01_e72\" title=\"momo\"> <img alt=\"momo\" height=\"110\" id=\"bt_2_097_01_e73\" lazy=\"2\" org=\"\" src=\"/ecm/img/cmm/blank.png\" title=\"momo\" width=\"110\"/> <p> <span class=\"prdName\" id=\"bt_2_097_01_e74\"></span> <span class=\"prdPrice\">$<b id=\"bt_2_097_01_p12\"></b></span> <span class=\"sso_e73_alt\" id=\"bt_2_097_01_e75\" style=\"display:none;\"></span> <span class=\"sso_e73_title\" id=\"bt_2_097_01_e76\" style=\"display:none;\"></span> <span class=\"sso_e72_title\" id=\"bt_2_097_01_e77\" style=\"display:none;\"></span> </p> </a>,\n",
              " <a href=\"?mdiv=2919100000-bt_2_097_01-bt_2_097_01_e185&amp;ctype=B\" id=\"bt_2_097_01_e185\" title=\"momo\"> <img alt=\"momo\" height=\"110\" id=\"bt_2_097_01_e186\" lazy=\"2\" org=\"\" src=\"/ecm/img/cmm/blank.png\" title=\"momo\" width=\"110\"/> <p> <span class=\"prdName\" id=\"bt_2_097_01_e187\"></span> <span class=\"prdPrice\">$<b id=\"bt_2_097_01_p31\"></b></span> <span class=\"sso_e186_alt\" id=\"bt_2_097_01_e188\" style=\"display:none;\"></span> <span class=\"sso_e186_title\" id=\"bt_2_097_01_e189\" style=\"display:none;\"></span> <span class=\"sso_e185_title\" id=\"bt_2_097_01_e190\" style=\"display:none;\"></span> </p> </a>,\n",
              " <a href=\"?mdiv=2919100000-bt_2_097_01-bt_2_097_01_e191&amp;ctype=B\" id=\"bt_2_097_01_e191\" title=\"momo\"> <img alt=\"momo\" height=\"110\" id=\"bt_2_097_01_e192\" lazy=\"2\" org=\"\" src=\"/ecm/img/cmm/blank.png\" title=\"momo\" width=\"110\"/> <p> <span class=\"prdName\" id=\"bt_2_097_01_e193\"></span> <span class=\"prdPrice\">$<b id=\"bt_2_097_01_p32\"></b></span> <span class=\"sso_e192_alt\" id=\"bt_2_097_01_e194\" style=\"display:none;\"></span> <span class=\"sso_e192_title\" id=\"bt_2_097_01_e195\" style=\"display:none;\"></span> <span class=\"sso_e191_title\" id=\"bt_2_097_01_e196\" style=\"display:none;\"></span> </p> </a>,\n",
              " <a href=\"?mdiv=2919100000-bt_2_097_01-bt_2_097_01_e78&amp;ctype=B\" id=\"bt_2_097_01_e78\" title=\"momo\"> <img alt=\"momo\" height=\"290\" id=\"bt_2_097_01_e79\" lazy=\"2\" org=\"\" src=\"/ecm/img/cmm/blank.png\" title=\"momo\" width=\"210\"/> <p> <span class=\"prdName\" id=\"bt_2_097_01_e80\"></span> <span class=\"prdPrice\">$<b id=\"bt_2_097_01_p13\"></b></span> <span class=\"sso_e79_alt\" id=\"bt_2_097_01_e81\" style=\"display:none;\"></span> <span class=\"sso_e79_title\" id=\"bt_2_097_01_e82\" style=\"display:none;\"></span> <span class=\"sso_e78_title\" id=\"bt_2_097_01_e83\" style=\"display:none;\"></span> </p> </a>,\n",
              " <a href=\"?mdiv=2919100000-bt_2_097_01-bt_2_097_01_e84&amp;ctype=B\" id=\"bt_2_097_01_e84\" title=\"momo\"> <img alt=\"momo\" height=\"110\" id=\"bt_2_097_01_e85\" lazy=\"2\" org=\"\" src=\"/ecm/img/cmm/blank.png\" title=\"momo\" width=\"110\"/> <p> <span class=\"prdName\" id=\"bt_2_097_01_e86\"></span> <span class=\"prdPrice\">$<b id=\"bt_2_097_01_p14\"></b></span> <span class=\"sso_e85_alt\" id=\"bt_2_097_01_e87\" style=\"display:none;\"></span> <span class=\"sso_e85_title\" id=\"bt_2_097_01_e88\" style=\"display:none;\"></span> <span class=\"sso_e84_title\" id=\"bt_2_097_01_e89\" style=\"display:none;\"></span> </p> </a>,\n",
              " <a href=\"?mdiv=2919100000-bt_2_097_01-bt_2_097_01_e90&amp;ctype=B\" id=\"bt_2_097_01_e90\" title=\"momo\"> <img alt=\"momo\" height=\"110\" id=\"bt_2_097_01_e91\" lazy=\"2\" org=\"\" src=\"/ecm/img/cmm/blank.png\" title=\"momo\" width=\"110\"/> <p> <span class=\"prdName\" id=\"bt_2_097_01_e92\"></span> <span class=\"prdPrice\">$<b id=\"bt_2_097_01_p15\"></b></span> <span class=\"sso_e91_alt\" id=\"bt_2_097_01_e93\" style=\"display:none;\"></span> <span class=\"sso_e91_title\" id=\"bt_2_097_01_e94\" style=\"display:none;\"></span> <span class=\"sso_e90_title\" id=\"bt_2_097_01_e95\" style=\"display:none;\"></span> </p> </a>,\n",
              " <a href=\"?mdiv=2919100000-bt_2_097_01-bt_2_097_01_e197&amp;ctype=B\" id=\"bt_2_097_01_e197\" title=\"momo\"> <img alt=\"momo\" height=\"110\" id=\"bt_2_097_01_e198\" lazy=\"2\" org=\"\" src=\"/ecm/img/cmm/blank.png\" title=\"momo\" width=\"110\"/> <p> <span class=\"prdName\" id=\"bt_2_097_01_e199\"></span> <span class=\"prdPrice\">$<b id=\"bt_2_097_01_p33\"></b></span> <span class=\"sso_e198_alt\" id=\"bt_2_097_01_e200\" style=\"display:none;\"></span> <span class=\"sso_e198_title\" id=\"bt_2_097_01_e201\" style=\"display:none;\"></span> <span class=\"sso_e197_title\" id=\"bt_2_097_01_e202\" style=\"display:none;\"></span> </p> </a>,\n",
              " <a href=\"?mdiv=2919100000-bt_2_097_01-bt_2_097_01_e203&amp;ctype=B\" id=\"bt_2_097_01_e203\" title=\"momo\"> <img alt=\"momo\" height=\"110\" id=\"bt_2_097_01_e204\" lazy=\"2\" org=\"\" src=\"/ecm/img/cmm/blank.png\" title=\"momo\" width=\"110\"/> <p> <span class=\"prdName\" id=\"bt_2_097_01_e205\"></span> <span class=\"prdPrice\">$<b id=\"bt_2_097_01_p34\"></b></span> <span class=\"sso_e204_alt\" id=\"bt_2_097_01_e206\" style=\"display:none;\"></span> <span class=\"sso_e204_title\" id=\"bt_2_097_01_e207\" style=\"display:none;\"></span> <span class=\"sso_e203_title\" id=\"bt_2_097_01_e208\" style=\"display:none;\"></span> </p> </a>,\n",
              " <a href=\"?mdiv=2919100000-bt_2_097_01-bt_2_097_01_e96&amp;ctype=B\" id=\"bt_2_097_01_e96\" title=\"momo\"> <img alt=\"momo\" height=\"290\" id=\"bt_2_097_01_e97\" lazy=\"2\" org=\"\" src=\"/ecm/img/cmm/blank.png\" title=\"momo\" width=\"210\"/> <p> <span class=\"prdName\" id=\"bt_2_097_01_e98\"></span> <span class=\"prdPrice\">$<b id=\"bt_2_097_01_p16\"></b></span> <span class=\"sso_e61_alt\" id=\"bt_2_097_01_e99\" style=\"display:none;\"></span> <span class=\"sso_e61_title\" id=\"bt_2_097_01_e100\" style=\"display:none;\"></span> <span class=\"sso_e60_title\" id=\"bt_2_097_01_e101\" style=\"display:none;\"></span> </p> </a>,\n",
              " <a href=\"?mdiv=2919100000-bt_2_097_01-bt_2_097_01_e102&amp;ctype=B\" id=\"bt_2_097_01_e102\" title=\"momo\"> <img alt=\"momo\" height=\"110\" id=\"bt_2_097_01_e103\" lazy=\"2\" org=\"\" src=\"/ecm/img/cmm/blank.png\" title=\"momo\" width=\"110\"/> <p> <span class=\"prdName\" id=\"bt_2_097_01_e104\"></span> <span class=\"prdPrice\">$<b id=\"bt_2_097_01_p17\"></b></span> <span class=\"sso_e103_alt\" id=\"bt_2_097_01_e105\" style=\"display:none;\"></span> <span class=\"sso_e103_title\" id=\"bt_2_097_01_e106\" style=\"display:none;\"></span> <span class=\"sso_e102_title\" id=\"bt_2_097_01_e107\" style=\"display:none;\"></span> </p> </a>,\n",
              " <a href=\"?mdiv=2919100000-bt_2_097_01-bt_2_097_01_e108&amp;ctype=B\" id=\"bt_2_097_01_e108\" title=\"momo\"> <img alt=\"momo\" height=\"110\" id=\"bt_2_097_01_e109\" lazy=\"2\" org=\"\" src=\"/ecm/img/cmm/blank.png\" title=\"momo\" width=\"110\"/> <p> <span class=\"prdName\" id=\"bt_2_097_01_e110\"></span> <span class=\"prdPrice\">$<b id=\"bt_2_097_01_p18\"></b></span> <span class=\"sso_e109_alt\" id=\"bt_2_097_01_e111\" style=\"display:none;\"></span> <span class=\"sso_e109_title\" id=\"bt_2_097_01_e112\" style=\"display:none;\"></span> <span class=\"sso_e108_title\" id=\"bt_2_097_01_e113\" style=\"display:none;\"></span> </p> </a>,\n",
              " <a href=\"?mdiv=2919100000-bt_2_097_01-bt_2_097_01_e209&amp;ctype=B\" id=\"bt_2_097_01_e209\" title=\"momo\"> <img alt=\"momo\" height=\"110\" id=\"bt_2_097_01_e210\" lazy=\"2\" org=\"\" src=\"/ecm/img/cmm/blank.png\" title=\"momo\" width=\"110\"/> <p> <span class=\"prdName\" id=\"bt_2_097_01_e211\"></span> <span class=\"prdPrice\">$<b id=\"bt_2_097_01_p35\"></b></span> <span class=\"sso_e210_alt\" id=\"bt_2_097_01_e212\" style=\"display:none;\"></span> <span class=\"sso_e210_title\" id=\"bt_2_097_01_e213\" style=\"display:none;\"></span> <span class=\"sso_e209_title\" id=\"bt_2_097_01_e214\" style=\"display:none;\"></span> </p> </a>,\n",
              " <a href=\"?mdiv=2919100000-bt_2_097_01-bt_2_097_01_e215&amp;ctype=B\" id=\"bt_2_097_01_e215\" title=\"momo\"> <img alt=\"momo\" height=\"110\" id=\"bt_2_097_01_e216\" lazy=\"2\" org=\"\" src=\"/ecm/img/cmm/blank.png\" title=\"momo\" width=\"110\"/> <p> <span class=\"prdName\" id=\"bt_2_097_01_e217\"></span> <span class=\"prdPrice\">$<b id=\"bt_2_097_01_p36\"></b></span> <span class=\"sso_e216_alt\" id=\"bt_2_097_01_e218\" style=\"display:none;\"></span> <span class=\"sso_e216_title\" id=\"bt_2_097_01_e219\" style=\"display:none;\"></span> <span class=\"sso_e215_title\" id=\"bt_2_097_01_e220\" style=\"display:none;\"></span> </p> </a>,\n",
              " <a href=\"?mdiv=2919100000-bt_2_097_01-bt_2_097_01_e114&amp;ctype=B\" id=\"bt_2_097_01_e114\" title=\"momo\"> <img alt=\"momo\" height=\"290\" id=\"bt_2_097_01_e115\" lazy=\"2\" org=\"\" src=\"/ecm/img/cmm/blank.png\" title=\"momo\" width=\"210\"/> <p> <span class=\"prdName\" id=\"bt_2_097_01_e116\"></span> <span class=\"prdPrice\">$<b id=\"bt_2_097_01_p19\"></b></span> <span class=\"sso_e115_alt\" id=\"bt_2_097_01_e117\" style=\"display:none;\"></span> <span class=\"sso_e115_title\" id=\"bt_2_097_01_e118\" style=\"display:none;\"></span> <span class=\"sso_e114_title\" id=\"bt_2_097_01_e119\" style=\"display:none;\"></span> </p> </a>,\n",
              " <a href=\"?mdiv=2919100000-bt_2_097_01-bt_2_097_01_e120&amp;ctype=B\" id=\"bt_2_097_01_e120\" title=\"momo\"> <img alt=\"momo\" height=\"110\" id=\"bt_2_097_01_e121\" lazy=\"2\" org=\"\" src=\"/ecm/img/cmm/blank.png\" title=\"momo\" width=\"110\"/> <p> <span class=\"prdName\" id=\"bt_2_097_01_e122\"></span> <span class=\"prdPrice\">$<b id=\"bt_2_097_01_p20\"></b></span> <span class=\"sso_e85_alt\" id=\"bt_2_097_01_e123\" style=\"display:none;\"></span> <span class=\"sso_e85_title\" id=\"bt_2_097_01_e124\" style=\"display:none;\"></span> <span class=\"sso_e84_title\" id=\"bt_2_097_01_e125\" style=\"display:none;\"></span> </p> </a>,\n",
              " <a href=\"?mdiv=2919100000-bt_2_097_01-bt_2_097_01_e126&amp;ctype=B\" id=\"bt_2_097_01_e126\" title=\"momo\"> <img alt=\"momo\" height=\"110\" id=\"bt_2_097_01_e127\" lazy=\"2\" org=\"\" src=\"/ecm/img/cmm/blank.png\" title=\"momo\" width=\"110\"/> <p> <span class=\"prdName\" id=\"bt_2_097_01_e128\"></span> <span class=\"prdPrice\">$<b id=\"bt_2_097_01_p21\"></b></span> <span class=\"sso_e127_alt\" id=\"bt_2_097_01_e129\" style=\"display:none;\"></span> <span class=\"sso_e127_title\" id=\"bt_2_097_01_e130\" style=\"display:none;\"></span> <span class=\"sso_e126_title\" id=\"bt_2_097_01_e245\" style=\"display:none;\"></span> </p> </a>,\n",
              " <a href=\"?mdiv=2919100000-bt_2_097_01-bt_2_097_01_e221&amp;ctype=B\" id=\"bt_2_097_01_e221\" title=\"momo\"> <img alt=\"momo\" height=\"110\" id=\"bt_2_097_01_e222\" lazy=\"2\" org=\"\" src=\"/ecm/img/cmm/blank.png\" title=\"momo\" width=\"110\"/> <p> <span class=\"prdName\" id=\"bt_2_097_01_e223\"></span> <span class=\"prdPrice\">$<b id=\"bt_2_097_01_p37\"></b></span> <span class=\"sso_e222_alt\" id=\"bt_2_097_01_e224\" style=\"display:none;\"></span> <span class=\"sso_e222_title\" id=\"bt_2_097_01_e225\" style=\"display:none;\"></span> <span class=\"sso_e221_title\" id=\"bt_2_097_01_e226\" style=\"display:none;\"></span> </p> </a>,\n",
              " <a href=\"?mdiv=2919100000-bt_2_097_01-bt_2_097_01_e227&amp;ctype=B\" id=\"bt_2_097_01_e227\" title=\"momo\"> <img alt=\"momo\" height=\"110\" id=\"bt_2_097_01_e228\" lazy=\"2\" org=\"\" src=\"/ecm/img/cmm/blank.png\" title=\"momo\" width=\"110\"/> <p> <span class=\"prdName\" id=\"bt_2_097_01_e229\"></span> <span class=\"prdPrice\">$<b id=\"bt_2_097_01_p38\"></b></span> <span class=\"sso_e228_alt\" id=\"bt_2_097_01_e230\" style=\"display:none;\"></span> <span class=\"sso_e228_title\" id=\"bt_2_097_01_e231\" style=\"display:none;\"></span> <span class=\"sso_e227_title\" id=\"bt_2_097_01_e232\" style=\"display:none;\"></span> </p> </a>,\n",
              " <a href=\"?mdiv=2919100000-bt_2_097_01-bt_2_097_01_e131&amp;ctype=B\" id=\"bt_2_097_01_e131\" title=\"momo\"> <img alt=\"momo\" height=\"290\" id=\"bt_2_097_01_e132\" lazy=\"2\" org=\"\" src=\"/ecm/img/cmm/blank.png\" title=\"momo\" width=\"210\"/> <p> <span class=\"prdName\" id=\"bt_2_097_01_e133\"></span> <span class=\"prdPrice\">$<b id=\"bt_2_097_01_p22\"></b></span> <span class=\"sso_e132_alt\" id=\"bt_2_097_01_e134\" style=\"display:none;\"></span> <span class=\"sso_e132_title\" id=\"bt_2_097_01_e135\" style=\"display:none;\"></span> <span class=\"sso_e131_title\" id=\"bt_2_097_01_e136\" style=\"display:none;\"></span> </p> </a>,\n",
              " <a href=\"?mdiv=2919100000-bt_2_097_01-bt_2_097_01_e137&amp;ctype=B\" id=\"bt_2_097_01_e137\" title=\"momo\"> <img alt=\"momo\" height=\"110\" id=\"bt_2_097_01_e138\" lazy=\"2\" org=\"\" src=\"/ecm/img/cmm/blank.png\" title=\"momo\" width=\"110\"/> <p> <span class=\"prdName\" id=\"bt_2_097_01_e139\"></span> <span class=\"prdPrice\">$<b id=\"bt_2_097_01_p23\"></b></span> <span class=\"sso_e138_alt\" id=\"bt_2_097_01_e140\" style=\"display:none;\"></span> <span class=\"sso_e138_title\" id=\"bt_2_097_01_e141\" style=\"display:none;\"></span> <span class=\"sso_e137_title\" id=\"bt_2_097_01_e142\" style=\"display:none;\"></span> </p> </a>,\n",
              " <a href=\"?mdiv=2919100000-bt_2_097_01-bt_2_097_01_e143&amp;ctype=B\" id=\"bt_2_097_01_e143\" title=\"momo\"> <img alt=\"momo\" height=\"110\" id=\"bt_2_097_01_e144\" lazy=\"2\" org=\"\" src=\"/ecm/img/cmm/blank.png\" title=\"momo\" width=\"110\"/> <p> <span class=\"prdName\" id=\"bt_2_097_01_e145\"></span> <span class=\"prdPrice\">$<b id=\"bt_2_097_01_p24\"></b></span> <span class=\"sso_e144_alt\" id=\"bt_2_097_01_e146\" style=\"display:none;\"></span> <span class=\"sso_e144_title\" id=\"bt_2_097_01_e147\" style=\"display:none;\"></span> <span class=\"sso_e143_title\" id=\"bt_2_097_01_e148\" style=\"display:none;\"></span> </p> </a>,\n",
              " <a href=\"?mdiv=2919100000-bt_2_097_01-bt_2_097_01_e233&amp;ctype=B\" id=\"bt_2_097_01_e233\" title=\"momo\"> <img alt=\"momo\" height=\"110\" id=\"bt_2_097_01_e234\" lazy=\"2\" org=\"\" src=\"/ecm/img/cmm/blank.png\" title=\"momo\" width=\"110\"/> <p> <span class=\"prdName\" id=\"bt_2_097_01_e235\"></span> <span class=\"prdPrice\">$<b id=\"bt_2_097_01_p39\"></b></span> <span class=\"sso_e234_alt\" id=\"bt_2_097_01_e236\" style=\"display:none;\"></span> <span class=\"sso_e234_title\" id=\"bt_2_097_01_e237\" style=\"display:none;\"></span> <span class=\"sso_e233_title\" id=\"bt_2_097_01_e238\" style=\"display:none;\"></span> </p> </a>,\n",
              " <a href=\"?mdiv=2919100000-bt_2_097_01-bt_2_097_01_e239&amp;ctype=B\" id=\"bt_2_097_01_e239\" title=\"momo\"> <img alt=\"momo\" height=\"110\" id=\"bt_2_097_01_e240\" lazy=\"2\" org=\"\" src=\"/ecm/img/cmm/blank.png\" title=\"momo\" width=\"110\"/> <p> <span class=\"prdName\" id=\"bt_2_097_01_e241\"></span> <span class=\"prdPrice\">$<b id=\"bt_2_097_01_p40\"></b></span> <span class=\"sso_e240_alt\" id=\"bt_2_097_01_e242\" style=\"display:none;\"></span> <span class=\"sso_e240_title\" id=\"bt_2_097_01_e243\" style=\"display:none;\"></span> <span class=\"sso_e239_title\" id=\"bt_2_097_01_e244\" style=\"display:none;\"></span> </p> </a>]"
            ]
          },
          "metadata": {},
          "execution_count": 212
        }
      ]
    },
    {
      "cell_type": "code",
      "source": [
        "products[0]"
      ],
      "metadata": {
        "colab": {
          "base_uri": "https://localhost:8080/",
          "height": 167
        },
        "id": "yAd-mHlN_Qx2",
        "outputId": "7ffaa332-3e55-4f82-800a-5814e659ffe4"
      },
      "execution_count": 207,
      "outputs": [
        {
          "output_type": "error",
          "ename": "NameError",
          "evalue": "ignored",
          "traceback": [
            "\u001b[0;31m---------------------------------------------------------------------------\u001b[0m",
            "\u001b[0;31mNameError\u001b[0m                                 Traceback (most recent call last)",
            "\u001b[0;32m<ipython-input-207-686dc3f1f651>\u001b[0m in \u001b[0;36m<module>\u001b[0;34m()\u001b[0m\n\u001b[0;32m----> 1\u001b[0;31m \u001b[0mproducts\u001b[0m\u001b[0;34m[\u001b[0m\u001b[0;36m0\u001b[0m\u001b[0;34m]\u001b[0m\u001b[0;34m\u001b[0m\u001b[0;34m\u001b[0m\u001b[0m\n\u001b[0m",
            "\u001b[0;31mNameError\u001b[0m: name 'products' is not defined"
          ]
        }
      ]
    }
  ]
}