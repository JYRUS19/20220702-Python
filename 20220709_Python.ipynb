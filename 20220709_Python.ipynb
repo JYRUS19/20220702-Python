{
  "nbformat": 4,
  "nbformat_minor": 0,
  "metadata": {
    "colab": {
      "name": "20220709-Python.ipynb",
      "provenance": [],
      "authorship_tag": "ABX9TyNU7ag2SAhptQIVrBl9W1Zv",
      "include_colab_link": true
    },
    "kernelspec": {
      "name": "python3",
      "display_name": "Python 3"
    },
    "language_info": {
      "name": "python"
    }
  },
  "cells": [
    {
      "cell_type": "markdown",
      "metadata": {
        "id": "view-in-github",
        "colab_type": "text"
      },
      "source": [
        "<a href=\"https://colab.research.google.com/github/JYRUS19/20220702-Python/blob/main/20220709_Python.ipynb\" target=\"_parent\"><img src=\"https://colab.research.google.com/assets/colab-badge.svg\" alt=\"Open In Colab\"/></a>"
      ]
    },
    {
      "cell_type": "markdown",
      "source": [
        "# 20220709"
      ],
      "metadata": {
        "id": "Kgwx2ivajLE3"
      }
    },
    {
      "cell_type": "markdown",
      "source": [
        "## 初學者需要知道的概念\n",
        "* 資料型態\n",
        "  * int ==>整數 (0, 1, 2, ...)\n",
        "  * float ==> 浮點數 (3.14, 1.1, ...)\n",
        "  * bool ==> 布林變數 (True, False)\n",
        "  * str ==> 字串 (\"dog\", 'cat',...)\n",
        "* 容器型別\n",
        "  * list ==>串列[ ]\n",
        "  * tuple ==>元組( )\n",
        "  * dict ==>字典{ }\n",
        "  * set ==>集合{ }\n",
        "* 基礎語法\n",
        "  * loops ==>迴圈\n",
        "  * functions ==>涵式\n",
        "  * if statements ==>條件式\n",
        "  * exception handling ==>例外處理"
      ],
      "metadata": {
        "id": "q7gDTAQ0gZb2"
      }
    },
    {
      "cell_type": "code",
      "source": [
        ""
      ],
      "metadata": {
        "id": "gnovol0ti9nl"
      },
      "execution_count": null,
      "outputs": []
    }
  ]
}